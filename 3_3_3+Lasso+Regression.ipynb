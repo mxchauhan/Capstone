{
  "nbformat": 4,
  "nbformat_minor": 0,
  "metadata": {
    "colab": {
      "name": "3.3.3+Lasso+Regression.ipynb",
      "version": "0.3.2",
      "provenance": [],
      "include_colab_link": true
    },
    "kernelspec": {
      "display_name": "Python 3",
      "language": "python",
      "name": "python3"
    }
  },
  "cells": [
    {
      "cell_type": "markdown",
      "metadata": {
        "id": "view-in-github",
        "colab_type": "text"
      },
      "source": [
        "[View in Colaboratory](https://colab.research.google.com/github/mxchauhan/Capstone/blob/master/3_3_3+Lasso+Regression.ipynb)"
      ]
    },
    {
      "metadata": {
        "id": "Q_IDJTo_sW3G",
        "colab_type": "code",
        "colab": {}
      },
      "cell_type": "code",
      "source": [
        "import pandas as pd\n",
        "from matplotlib import pyplot as plt\n",
        "import numpy as np\n",
        "import math\n",
        "import seaborn as sns\n",
        "import sklearn\n",
        "from sklearn import linear_model\n",
        "from sklearn import preprocessing\n",
        "%matplotlib inline\n",
        "sns.set_style('white')"
      ],
      "execution_count": 0,
      "outputs": []
    },
    {
      "metadata": {
        "id": "80wlwvl7sW3Q",
        "colab_type": "text"
      },
      "cell_type": "markdown",
      "source": [
        "Ridge regression shrinks parameter estimates, but the estimates never reach exactly 0.  **LASSO** (Least Absolute Shrinkage and Selection Operator), on the other hand, is a model optimization mechanic that works by trying to force small parameter estimates to be equal to zero, effectively dropping them from the model.  This can prevent overfitting, and also works as an embedded feature selection method.  Lasso is extremely handy when you are dealing with thousands or hundreds of thousands of predictors and need to optimize processor time, or when you want to arrive at a simpler solution that is easier to interpret.\n",
        "\n",
        "The cost function to minimize for lasso is _very similar_ to the cost function minimized for ridge. Can you spot the difference?\n",
        "\n",
        "$$\\sum_{i=1}^n(y_i-(\\alpha+\\beta x_i))^2+\\lambda\\sum_{j=1}^p|\\beta_j| $$\n",
        "\n",
        "The difference is that rather than penalizing by the sum of *squared* coefficients as ridge does, lasso penalizes by the sum of the *absolute values* of the coefficients.  This means the penalty doesn't increase as swiftly with coefficient size.  Regularization based on the sum of the absolute weights is also called \"**L1 regularization**\".\n",
        "\n",
        "Why would penalizing with the sum of the absolute values of coefficients lead to a solution with zero estimates for some parameters, while penalizing with the sum of the squares of coefficients does not?  It all comes down to derivatives.\n",
        "\n",
        "We encountered derivatives briefly during an earlier assignment on the gradient descent algorithm.  You may recall that a partial derivative represents the sensitivity of one quantity to changes in another quantity.  In the case of both ordinary least squares regression and ridge regression, the derivative used to find the optimal solution is the partial derivative of the cost function relative to the coefficients in $\\beta$:\n",
        "\n",
        "$$\\frac{\\partial}{\\partial\\beta}$$\n",
        "\n",
        "Unfortunately, that won't work for lasso. While we can calculate a derivative for most of the values of $x$ in lasso, there is no derivative where $x=0$.  You can imagine this as our multi-dimensional surface made up of gradients having a big hole in it (the technical term for the hole is a \"*discontinuity*\"). If the gradient descent algorithm calculates a value that falls in the \"hole\", it has no idea where to go next.  The model \"fails to converge\". In other words, it fails to arrive at an optimal solution."
      ]
    },
    {
      "metadata": {
        "id": "Re2UJ42PsW3T",
        "colab_type": "text"
      },
      "cell_type": "markdown",
      "source": [
        "# Fitting Lasso: Coordinate Descent Algorithm\n",
        "\n",
        "Since basing modeling strategy on a surface with a hole in it is obviously not ideal, lasso regression models are optimized using a coordinate descent algorithm rather than a gradient descent algorithm.  Coordinate descent works like this:\n",
        "\n",
        "Pick some starting values for $\\beta$, often $\\beta=0$. \n",
        "\n",
        "For each feature $j$ in $\\beta$:\n",
        "* Predict the outcome using all features except for $j$.  \n",
        "* Look at how the residuals from the model using $\\beta_{-j}$ (all betas except $j$) correlate with feature $j$. This correlation is called $\\rho_j$.  \n",
        "* If the correlation falls within an area enclosing 0 defined by $\\lambda$, set $\\beta_j=0$. (called *soft threshholding*)\n",
        "* If $\\rho_j < \\frac{\\lambda}2$ set $\\beta_j$ equal to $\\rho_j + \\frac{\\lambda}2$\n",
        "* If $\\rho_j > \\frac{\\lambda}2$ set $\\beta_j$ equal to $\\rho_j - \\frac{\\lambda}2$\n",
        "\n",
        "This will iterate through all features 1 through $j$ on each cycle, then begin again.  Alternatively, the algorithm can be set to choose to exclude a feature at random each iteration, rather than cycling through all features.  Each time a feature is checked, it will shrink a bit from the previous time (unless the feature is already set to 0, in which case it will remain 0).\n",
        "\n",
        "Continue until the maximum difference between parameter estimates in the previous cycle and the current cycle is less than a pre-determined threshold $tol$.  For SKlearn, $tol$ defaults to 0.0001.\n",
        "\n",
        "To summarize: Lasso works by iteratively fitting a model to the data while excluding one of the features.  It then checks how well the model reproduces the data, and if the model fit is good enough (with \"good enough\" determined by $\\lambda$) then the excluded feature is deemed unnecessary and its $\\beta$ is set to zero, effectively excluding it from the model. Otherwise, the excluded feature's $\\beta$ is set using a combination of the correlation of the feature with the model residuals ($\\rho_j$) and $\\frac{\\lambda}2$ and a new iteration begins, using the newly-computed $\\beta$ for the previously-excluded feature and excluding a new feature.  This continues until the change in $\\beta$ is less than a pre-determined threshold.\n",
        "\n",
        "Hopefully this demonstrates how lasso can both create overfitting-protection through shrinkage and create sparsity (many parameters set to 0) through feature selection.  Let's see it at work, using the same dataset as previously."
      ]
    },
    {
      "metadata": {
        "id": "va4KnMH7sW3T",
        "colab_type": "code",
        "colab": {}
      },
      "cell_type": "code",
      "source": [
        "# Load the data again. Keep air quality data, drop the index column\n",
        "# and any missing data columns.\n",
        "df = pd.read_csv(\n",
        "    'https://vincentarelbundock.github.io/Rdatasets/csv/ISLR/Default.csv'\n",
        ").iloc[:,1:].dropna()\n",
        "\n",
        "# Recode strings to numeric.\n",
        "df['default'] = np.where(df['default']=='Yes', 1, 0)\n",
        "df['student'] = np.where(df['student']=='Yes', 1, 0)\n",
        "names = df.columns\n",
        "df = pd.DataFrame(preprocessing.scale(df), columns=names)\n",
        "\n",
        "# Define the training and test sizes.\n",
        "trainsize = int(df.shape[0] / 2)\n",
        "df_test = df.iloc[trainsize:, :].copy()\n",
        "df_train = df.iloc[:trainsize, :].copy()\n",
        "\n",
        "Y_train = df_train['income'].values.reshape(-1, 1)\n",
        "X_train = df_train.loc[:, ~(df_train.columns).isin(['income'])]\n",
        "\n",
        "# Make some new features to capture potential quadratic and cubic\n",
        "# relationships between solar radiation and day or temperature.\n",
        "df_train['balance_student'] = df_train['balance'] * df_train['student']\n",
        "df_train['balance_default'] = df_train['balance'] * df_train['default']\n",
        "df_train['student_default'] = df_train['student'] * df_train['default']\n",
        "df_train['balance_sqrt'] = (df_train['balance'] + 100) ** .5\n",
        "df_train['balance2'] = (df_train['balance'] + 100) ** 2\n",
        "df_train['balance3'] = (df_train['balance'] + 100) ** 3\n",
        "\n",
        "X_train2 = df_train.loc[:, ~(df_train.columns).isin(['income'])]\n",
        "\n",
        "# Test the simpler model with smaller coefficients.\n",
        "Y_test = df_test['income'].values.reshape(-1, 1)\n",
        "X_test = df_test.loc[:, ~(df_test.columns).isin(['income'])]\n",
        "\n",
        "# Test the more complex model with larger coefficients.\n",
        "df_test['balance_student'] = df_test['balance'] * df_test['student']\n",
        "df_test['balance_default'] = df_test['balance'] * df_test['default']\n",
        "df_test['student_default'] = df_test['student'] * df_test['default']\n",
        "df_test['balance_sqrt'] = (df_test['balance'] + 100) ** .5\n",
        "df_test['balance2'] = (df_test['balance'] + 100) ** 2\n",
        "df_test['balance3'] = (df_test['balance'] + 100) ** 3\n",
        "X_test2 = df_test.loc[:, ~(df_test.columns).isin(['income'])]\n"
      ],
      "execution_count": 0,
      "outputs": []
    },
    {
      "metadata": {
        "id": "BB1-T9_NsW3Y",
        "colab_type": "code",
        "colab": {
          "base_uri": "https://localhost:8080/",
          "height": 238
        },
        "outputId": "a39821a8-d8b3-4e9d-af21-566a3238e2f2"
      },
      "cell_type": "code",
      "source": [
        "# Small number of parameters.\n",
        "lass = linear_model.Lasso(alpha=.35)\n",
        "lassfit = lass.fit(X_train, Y_train)\n",
        "print('R² for the model with few features:')\n",
        "print(lass.score(X_train, Y_train))\n",
        "origparams = np.append(lassfit.coef_, lassfit.intercept_)\n",
        "print('\\nParameter estimates for the model with few features:')\n",
        "print(origparams)\n",
        "\n",
        "# Large number of parameters.\n",
        "lassBig = linear_model.Lasso(alpha=.35)\n",
        "lassBig.fit(X_train2, Y_train)\n",
        "print('\\nR² for the model with many features:')\n",
        "print(lassBig.score(X_train2, Y_train))\n",
        "origparams = np.append(lassBig.coef_, lassBig.intercept_)\n",
        "print('\\nParameter estimates for the model with many features:')\n",
        "print(origparams)"
      ],
      "execution_count": 4,
      "outputs": [
        {
          "output_type": "stream",
          "text": [
            "R² for the model with few features:\n",
            "0.4500625793011847\n",
            "\n",
            "Parameter estimates for the model with few features:\n",
            "[-0.         -0.40657726 -0.          0.00114596]\n",
            "\n",
            "R² for the model with many features:\n",
            "0.44363376712897085\n",
            "\n",
            "Parameter estimates for the model with many features:\n",
            "[ 0.00000000e+00 -3.89351238e-01  0.00000000e+00 -0.00000000e+00\n",
            "  0.00000000e+00 -0.00000000e+00  0.00000000e+00 -2.77688887e-04\n",
            " -7.09158792e-07  3.48711577e+00]\n"
          ],
          "name": "stdout"
        }
      ]
    },
    {
      "metadata": {
        "id": "eVt7E9CYsW3e",
        "colab_type": "text"
      },
      "cell_type": "markdown",
      "source": [
        "Checking predictive power using the test set:"
      ]
    },
    {
      "metadata": {
        "id": "gjkO8PsasW3f",
        "colab_type": "code",
        "colab": {
          "base_uri": "https://localhost:8080/",
          "height": 51
        },
        "outputId": "4ebcdcf2-cc23-4a8f-cb43-42d24879ea30"
      },
      "cell_type": "code",
      "source": [
        "print(lass.score(X_test, Y_test))\n",
        "\n",
        "print(lassBig.score(X_test2, Y_test))"
      ],
      "execution_count": 5,
      "outputs": [
        {
          "output_type": "stream",
          "text": [
            "0.44553225151184195\n",
            "0.4380466345914474\n"
          ],
          "name": "stdout"
        }
      ]
    },
    {
      "metadata": {
        "id": "pVXwbXvxsW3l",
        "colab_type": "text"
      },
      "cell_type": "markdown",
      "source": [
        "## Regularization parameter: Lasso\n",
        "\n",
        "The $\\lambda$ for lasso can var between 0 (no penalty, acts like OLS) and infinity.  If $\\lambda$ is too large, all parameters will be set to zero.  \n",
        "\n",
        "Create a plot below of how $R^2$ varies across different values of $\\lambda$ for ridge and lasso regression. Use logic and code similar to the ridge regression demonstration above, and base your plot on the X_train2 feature set.\n",
        "\n",
        "Do lasso and ridge yield the same $R^2$ for a given lambda value?\n",
        "\n",
        "Submit your work and discuss the results with your mentor."
      ]
    },
    {
      "metadata": {
        "id": "gf3vAOy0sW3n",
        "colab_type": "code",
        "colab": {
          "base_uri": "https://localhost:8080/",
          "height": 204
        },
        "outputId": "3521afce-9eb8-475d-9d57-55d40645d1a0"
      },
      "cell_type": "code",
      "source": [
        "# Your code here\n",
        "\n",
        "\n",
        "data = pd.DataFrame()\n",
        "\n",
        "data['bias'] = np.arange(0.01, 5, 0.01)\n",
        "\n",
        "R2Lass = []\n",
        "R2Ridge = []\n",
        "\n",
        "for i in data.bias:\n",
        "  lass = linear_model.Lasso(alpha=i)\n",
        "  lassfit = lass.fit(X_train2, Y_train)\n",
        "  r2Lass = lass.score(X_train2, Y_train)\n",
        "  R2Lass.append(r2Lass)\n",
        "  \n",
        "  ridge = ridgeregr = linear_model.Ridge(alpha=i, fit_intercept=False) \n",
        "  ridgeregr.fit(X_train2, Y_train)\n",
        "  r2ridge = ridgeregr.score(X_train2, Y_train)\n",
        "  R2Ridge.append(r2ridge)\n",
        "  \n",
        "data['R2Lass'] = R2Lass\n",
        "data['R2Ridge'] = R2Ridge\n",
        "  \n",
        "data.head()"
      ],
      "execution_count": 47,
      "outputs": [
        {
          "output_type": "execute_result",
          "data": {
            "text/html": [
              "<div>\n",
              "<style scoped>\n",
              "    .dataframe tbody tr th:only-of-type {\n",
              "        vertical-align: middle;\n",
              "    }\n",
              "\n",
              "    .dataframe tbody tr th {\n",
              "        vertical-align: top;\n",
              "    }\n",
              "\n",
              "    .dataframe thead th {\n",
              "        text-align: right;\n",
              "    }\n",
              "</style>\n",
              "<table border=\"1\" class=\"dataframe\">\n",
              "  <thead>\n",
              "    <tr style=\"text-align: right;\">\n",
              "      <th></th>\n",
              "      <th>bias</th>\n",
              "      <th>R2Lass</th>\n",
              "      <th>R2Ridge</th>\n",
              "    </tr>\n",
              "  </thead>\n",
              "  <tbody>\n",
              "    <tr>\n",
              "      <th>0</th>\n",
              "      <td>0.01</td>\n",
              "      <td>0.573768</td>\n",
              "      <td>0.573972</td>\n",
              "    </tr>\n",
              "    <tr>\n",
              "      <th>1</th>\n",
              "      <td>0.02</td>\n",
              "      <td>0.573374</td>\n",
              "      <td>0.573972</td>\n",
              "    </tr>\n",
              "    <tr>\n",
              "      <th>2</th>\n",
              "      <td>0.03</td>\n",
              "      <td>0.572752</td>\n",
              "      <td>0.573972</td>\n",
              "    </tr>\n",
              "    <tr>\n",
              "      <th>3</th>\n",
              "      <td>0.04</td>\n",
              "      <td>0.572009</td>\n",
              "      <td>0.573972</td>\n",
              "    </tr>\n",
              "    <tr>\n",
              "      <th>4</th>\n",
              "      <td>0.05</td>\n",
              "      <td>0.571053</td>\n",
              "      <td>0.573972</td>\n",
              "    </tr>\n",
              "  </tbody>\n",
              "</table>\n",
              "</div>"
            ],
            "text/plain": [
              "   bias    R2Lass   R2Ridge\n",
              "0  0.01  0.573768  0.573972\n",
              "1  0.02  0.573374  0.573972\n",
              "2  0.03  0.572752  0.573972\n",
              "3  0.04  0.572009  0.573972\n",
              "4  0.05  0.571053  0.573972"
            ]
          },
          "metadata": {
            "tags": []
          },
          "execution_count": 47
        }
      ]
    },
    {
      "metadata": {
        "id": "IStDada6_yyW",
        "colab_type": "code",
        "colab": {}
      },
      "cell_type": "code",
      "source": [
        "data = data.set_index(data.bias)"
      ],
      "execution_count": 0,
      "outputs": []
    },
    {
      "metadata": {
        "id": "g74FQMVE--Ir",
        "colab_type": "code",
        "colab": {
          "base_uri": "https://localhost:8080/",
          "height": 403
        },
        "outputId": "d37bbf9c-b5a6-47a5-c6f1-e0d5edda015d"
      },
      "cell_type": "code",
      "source": [
        "plt.figure(figsize=(9, 6))\n",
        "plt.plot(data.R2Lass, label='Lasso')\n",
        "plt.plot(data.R2Ridge, label='Ridge')\n",
        "plt.ylabel('R2')\n",
        "plt.xlabel('Lambda')\n",
        "plt.title(\"Lasso vs Ridge\")\n",
        "plt.legend()\n",
        "plt.show()"
      ],
      "execution_count": 46,
      "outputs": [
        {
          "output_type": "display_data",
          "data": {
            "image/png": "[encoded data removed]",
            "text/plain": [
              "<matplotlib.figure.Figure at 0x7fa19d98f2e8>"
            ]
          },
          "metadata": {
            "tags": []
          }
        }
      ]
    },
    {
      "metadata": {
        "id": "_XUNddsMsW3q",
        "colab_type": "text"
      },
      "cell_type": "markdown",
      "source": [
        "# Summary\n",
        "\n",
        "Lasso and ridge regression are both clear improvements on OLS regression.  Ridge regression is an excellent tool to use with correlated features, while lasso is an efficient method of feature selection when dealing with an unmanageably large feature space. "
      ]
    }
  ]
}