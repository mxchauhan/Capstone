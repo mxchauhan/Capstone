{
  "nbformat": 4,
  "nbformat_minor": 0,
  "metadata": {
    "colab": {
      "name": "Chocolate Bars Final.ipynb",
      "version": "0.3.2",
      "provenance": [],
      "collapsed_sections": []
    },
    "kernelspec": {
      "name": "python3",
      "display_name": "Python 3"
    }
  },
  "cells": [
    {
      "metadata": {
        "id": "G7tNcLbGT_-s",
        "colab_type": "text"
      },
      "cell_type": "markdown",
      "source": [
        "## RATING COMPARISON OF CHOCOLATE ACCORDING TO PROVENANCE"
      ]
    },
    {
      "metadata": {
        "id": "_lkxvtWoUKYf",
        "colab_type": "text"
      },
      "cell_type": "markdown",
      "source": [
        "### Author: Mansi Chauhan\n",
        "\n",
        "**Email: mxchauhan@yahoo.com**"
      ]
    },
    {
      "metadata": {
        "id": "IWJbpN7Xsik_",
        "colab_type": "text"
      },
      "cell_type": "markdown",
      "source": [
        "![alt text](data:image/jpeg;base64,/9j/4AAQSkZJRgABAQAAAQABAAD/2wCEAAkGBxMSEhUTEhIWFRUXFxgYFhcWFRgYGBcXFRgWGBcWFxgYHSggGBolGxUXITIhJSktLi4uFx8zODMtNygtLi0BCgoKDg0OGhAQGzAlICUvLS0tLSstKy0wLS8tLSstLy8tLS0tLy0tLS0tLi0tLS0tLS0tLS0tLS0tLS0tLS0tLf/AABEIALsBDQMBIgACEQEDEQH/xAAcAAABBAMBAAAAAAAAAAAAAAAHBAUGCAACAwH/xABTEAABAwEDBgQRCAcIAQUAAAABAgMRAAQSIQUHMUFRcwYTImEXIyQyMzRUcYGRkpOhsbKz0RZCUlOUwdLTFBU1VXKCwyVio7TC4fDxokNjdIPi/8QAGwEAAgMBAQEAAAAAAAAAAAAAAQIAAwQFBgf/xAA2EQACAQIEAgYIBgMBAAAAAAAAAQIDEQQSITEFURMyQWFxsSI0UoGRocHRBhVTcuHwFDPxsv/aAAwDAQACEQMRAD8AONNFr4T2JpZQ5a2ELSYKVOpBB2EE071WvOWer7Rvlj0IP30GwpB4+WOT+7rN55HxrPllk/u6zeeR8aqyVHbXhUdtC4cpab5ZZP7us3nkfGvfljk/u6zeeR8aqveO2vErO2pcmUtT8scn93WbzyPjWfLHJ/d1m88j41Va+dvprL52mpcmUtT8sMn93WfzyPjXvyvyf3dZ/PI+NVWCjtrYKO2pcmUtpk3LNntF4MPtu3YvcWtKomYmDhMHxUuoQZiDy7RuWPS5afhRfphWNNs4TWNpam3bWyhaeuSp1KVDCcQThgRXH5Y5P7us3nkfGgZnSV/aFo3sf4TNQwqO2hcaxab5ZZP7us3nkfGvPllk/u6zeeR8aqyVHbXl47aFyZS1A4ZZP7us3nkfGs+WOT+7rN55HxqqyVk6/TXt/n9NS5Mpaj5Y5P7us3nkfGs+WGT+7rP55Hxqq987TWXztqXJlLU/LDJ/d1n88j40syblmz2gqDD7bpTBVxa0qgGYmDhoNVMSo7aMWYk9Mf3LZ8bjvwo3I0GCkSsrWcEgvtAjAguIwI0g40tqq/ClXVLu9f8AQ+6PuqMCVyzX64s/dDXnEfGs/XFn7oZ86j41UsqO2vLx20Lhyltf1xZ+6GfOo+NZ+uLP3Qz51HxqpN87awOHbUuTKW2/XFn7oa86j417+t7P3Q15xHxqpHGHbWXztqXJlLb/AK3s/wBe15xHxrP1vZ/r2vOI+NVJvnbXqVnbRuTKW8s1qQ4CW1pWAYJSoKAOzCu1DbMf2taOZ1HuGT99EmiKZVa85Xb1o37nst1ZSq15x+3rTv3PZboMKIgqlybGhsBT5IKhKW0xfUDoUonBtJ7xJ1CMa2yIyldoZSsSkrEg6DrCT3yAPDSK0vKWpS1mVKJKu+dNVvV2LO8VjKd3sTTbY23b6vCpyfQBTunKyVAKvuiQOT+lNogzCgQbuoEggYgiYg0gyWyltCXVs8dfUpLaBOlIhROkCCrCQdGoCneyZNbD91TWITe5IvoPGXluAkYQlCkoSMAYmMRVM8vIsjcQZQyxCIQoqUT89bbwCR9LkkXiZwBMADbg2i0tLwcaCD9NnCO+2o3T4Cmpd+rGHi2l1F10NpJAlIEovxKUw5AKyIwhu7tqFW4JDirmCZwEzA2TrjbrM0aTjLRIE00KHcm3UqXxiLsXm1SemiYISDiFDWk4jDaDSMU4ZP5TFoSetSlDg/uuBxKBGwlK1D/qkCBVsW+0RhizE9ktO4s/vLVRfoQZiuy2ncWf3lpov1Ytit7lb86P7QtO+/os1DVVM85/7QtW+/osVG8isJXaGUL61TiQRtx0eHR4aRu2o8TRFkSgBT5IvCUtoi+oHQpRODaTqJknUIxrBlO72Jptvnu31+Fbk+gCktpeUtalr65RJV3zq8GiNURqpyyW0lCUvLZ468tSG0CcSlIvE6QOvSQCDJB0RNI9rvUZdw4DKyVJCgt0SByf0lCIVICgQbuESQQDMjRBrhb8sQiEqUpRPz3G3gEj6QukSTOAJgCTppfZ8nN8eEqag3b3JF9B4yVOAqGEJbISnQJkwTApaMmMPFtLqLrvFiQJATKb8SlMOASoiMIbI7+fNBPYss2iIi0tLwcaCD9NnDxtk3VeAprZzJhCVL4xFy7ebVJhyDilI0hYwlJxEjUZpPbgkOK4vrZ5ImYGoT84gYE6zMYUqybymrQk9aGw4OZxLiEpjYSlxQ5/BWh6K6K13iBNGLMV2R/cNe8eoOoFGLMX2V/cNe8eq1biPYMFVW4Udnc3to/zD1Wpqq/CXs7u+tH+YeosERjVS4WJLYBfUpJIBDSAOMIOgqJwbHflX93XXXIaAXbxE3EOOBJ0KU2hSkjxgGOam1xwqJUokkmSTpJOkmq3duw/YLkZQQki7Z2wnXPTF+BTkpn+WKe0PIMFLq7pIiE2UckgmSOLwIwBTGBnSMabsmMto4susqdW6CWkJIxE3QogiNKVDXtwpdZclspW6govraTBbKVG8UpBLgw+c7yAJ0bZqibiWRuI8pW1CQAEJcUcVcYhnAahLIBCjExeMSMTqQjiHNRYVtkra8Pz0Dn5VSm0ZCszi1m9CkJ5aW1IGKcDyIm/AxwiVp1VC3UgKIEETqMjwHX36am1JaAldPUUv5NcQlSlXRdKRF4EqCtCkRgpPOD6jSZNOCeXZVXtLTiLh/uuhd5HelAV49tIGxVsW9biMPGZDte075v/AC7NEmhrmQPSLTvkf5dmiVVi2K3uZVbs446ttO/X7KKsjVcs5A6stG/X6k1GSJDLxBBBggggjSCDII5wRS95KLQb6Slt44rQohKFqOlTajgkk/NMYnA6qQLrmaraLLj5kNJYdVx8tJuK6/BF8iEKKDg5HeI0HVS/J+UWyYeS0pSli4lKgokALPTFyQOVcunDEnACo9Zbe63yUOqSNETKfJMp9FOlqtIvC66ysFUcqzsEpT9JRCQD3qpnC71HUtNDzLmXnFhTUkCAhQBASEiCUJCcNOBJJ62MBMtrOTXCLygG0fTc5KfBOKu8kGnG02laEqKLS2CIF1pptBMxoKUgiMfJ56ZXXVKMqUVHaoknxnGnpqystASeuottVqQEcS1NyQpayILihIGHzUCTCeeTjSRArmTXVurEkhWwxZjR0207iz+8tNF2hLmRHTbQf/YY95aKLVOtit7lc85w6vtO+/pM1C5IMjAgyCNII0Ec9TfOcOrrTvv6TVQhdKMhe8EWg3wUtvHFaFEJQ4o6VIUcEqJ0pMCSYOqlGRUlh08feaRdV1+CL8QhRScHADzHUdVMhpTZbe63yUOqSNETyPCkyn0VXKLtZDp63JHYMotkw8lpRUtNwJUFFQAX2Regcq5GjHUBSHLmX3FBTUkC6EKAIuhOBKAE4TOBJJ0QIEzlptIkXXWVgqglTDBITrWSEgHvd/GtbTaVoSootLYIjktstoJmBAUlIIIk+TVKgr3t/fgO27Dcxk1xQvEcWj6bnIT4JxV3kg10tNpQlHEtSUkhS1kQpxSZu4fNQJMDTJk6gETzqlm8tRUdqiVHxmta0JPtK7nRIoxZjh01/cNe8eoPN0ZMyQ6Y9uWvbdpkKwt1VnhOOnOb60f5h2rTVV7hSOnOb1/37lMwRGSzWlTa0uIi8kyJxB1EEawQSDzE0pcsAclVm5WstT0xHMkf+onYRjokUhVWlI12oe4/8H3iEvJcUYCYbQsi5eJ5SQhZulREwDhJkinKx2pBTDjfTTxig02oqCoSIWttCglSiSsQcSBIimCyZRdUpCFuBSSQOnJQ4ADpMrBOjnpWuApKQixmZxuqERoBur0nYBWecLt3LIy5GcIOEDjt9E6TCyEhIhOFxMEm4SATKjJA0ARTZZcnrWL0XEa3Fm6geH5x5kyaX2t1xpN5BsyeVd6U2kq161AkaBoPzhTVaLQtw3lqUo7VEnxToqymrK0dBZb6iq22lNxLLU8WklRURBcWRF8j5oAwA1CZxNJWxXOa7s6asSsKw65kxDFp3yP8uzRIodZlx0i071HuGqItOtitmVXTOR24/vnP9NWLquucjtx/fL+6oyIhLlPDVtspKgts3C2kBKUJvIWkIlQcmTJCj4dGqvMmZEL6SoLCYMRdnUDt56WfJI/WjyD+KsFXF0E3GUrNeJ0aWAxM4qcY3T8BGt2wTg07GOvHVEcr+LwwdGFdnbXYCSeKc5RJMAAAXgRdAXAwkYV1+SR+uHkH8Ve/JI/XDyP/ANVX/l4f238y38txfseX3EDFqsyVrIbVdLQACgFw5fBKuUdF0eGY0V2bt9k6cFNEhagUQhAKUhEKAxwJOw4Eg4xBUfJE/XDyD8a9+SJ+uHkH41P8zDe15k/LcX7Hl9xpyotghPEIIJKiqVKOE8kY6DpmJ1bTSRmpB8kj9aPIPxpptlk4l0oJmIxiNIB0eGtFHE0qjywdzPiMFXoxzVI2XuC7mS6+0blj3loor0KMyfXv7pn236K9a1sYXuV5znjq20b3+k1UFcqdZ0O3bRvf6bdIOC/ApVuaU4l9Ld1ZRBQVTyUmZvD6XorPiMRToRz1HZFkIuWiGxi22aSFtm4W0puhCbyVpCApQcmTJCzP97RWq3bDPYnYkzjjGERy9kg88HRIqW9ChzutHmT+OsOadzutHmT+OuZ+bYH9Tz+xf0VTkRl612AkninOVpgAAcpBF0BcDAK0baT2e12ZK1ENqulsABSQuHLwN7E6LoPjipd0J3O60eZP46zoTud1o8yfx1FxbA/q/wDr7E6KpyIqzb7L04KaJCym5CEykBsJVrwJVJwOnHmKPKa7OQniEFJKlTKiSEiAkGcAo8rROATtNTboTud1o8yfx1nQoX3WjzJ/HRXF8CnfpPk/sR0qltgfM6aMuZMdMe3LfvHaF2XskGyWhTBWFlISbwF2bwB0SdtFLMn1726b9tyutSnGpFTjs9UZpK2jCxVYOFY6c5vHvfOVZ+qw8LOzubx33rlPIVEdMTjo1xs1xT2ldiUXAvkpvgtFtC74RypSqRBMXfDrpfwd4DPW1njm3W0i8Uwq9MiMcBoxpy6FNp+vZ/8AP4VmnVp3s5FyTXYRxpFgCgStwgY4g4mTySLvWwBjMkEzBGPrjdgjBbkmDoUIMLlIlOibmo6O/Ui6FNp+vZ/8/hWpzVWn69n/AM/w0rnT9pja8iNWZdkSXAcU3m+LK0qJiFcZMJ2kRo0TtFdGF2IoUF3gS6shSUqkN303Bo03QfATriJB0K7V9cz41/hrzoWWr61jxr/DU6Sn7RNeREMpJZBRxMmUyqVBUEkwJAGoA80xhFcmNNTM5rrX9Yx5S/wVFbVY1MvLaWQVNqKDGiUmDE6qtp1Iy0i7iSTQcMzPYLRvEe5aoh0PczXYH94j3LdEKr1sVMyq6ZyD1Y/vV/dVi6rnnIPVto3y/uqMiOXBPsSv4/uFTFhhJQkQCotOmLoklN+FXokQEzzxGuofwT7Er+P7hUgD6ou3jERE6jpHery2Imo153PaYWlKeFpqLt/WKlNDjWhdEFLRI1GUpKvHjWj8NpbgJN5AWSUhUkkgjEYREYRrrkHHLsAm7oHhwidmOisbU4BAvRpAjROsYYHvVTmVnZGjJLS72+e4pFmSWlaOMADkTjd0FMd4pV46U2uzpSOtSZLQEDFJKUqVeOu8CY069lNoUsKvcq8ZxxkgiD6DFYp1YJkqExMzjdiPFAps8EthHRm5dbv8vsdMqgBxQSUwFKEJTdiFYA4Y6KgHCDtlf8vsipw88pWKjJ8GvToqDcID1Sv+X2RWzhrvXbXL6ow8Xi44SMXz+jCnmS6+0bpn236K9CfMieXaN0z7b9FivQrY8o9yvGc/t60b3+m3UkzSdqub4+7bqN5zz1daN7/TbqSZpO1HN8fYbrg/iH1N+KNWG6xKspOqBaSCQFuXVEaYuLUADqlSQJ58MYrnlAKSm4yVX1SoY3oCI+mcElV0EbFGKcFoBEEAjYRIrmhKEkwEg64gHDHHwV4qFVJLTb5+JusILDaePWcSE3G1JSCUnl3rxUUmSQU3Y1EGkf6Q4pV0KUoD9ICSF3L3FqaCVEjSUlSk88U8XGjqRhJ0DXio+E4nbXqmmiBKUEDAYDDakbMBo5qujWjF3UdOXLQFhrOUVXWnUlSm0pbLiroTIcSCVKEykpCkrgbTT2a0SlKgQACkzOggzpnbW9Z604ytZWsMkBbOOf7Rd7zfsCp5mTPTHt037blQPOP+0Xe837Aqd5kuyP7pv23K+kcO9VpftXkcut1mFqqwcKz09zeu+9cqz9Vg4Vdnc3r3vXK2SK4hHzVdo/8A2uepNTCohmrHUA3rn+mphXEq9dmtbDGbe4X1MhUAvFIVCZSlFnacKUyIKipRMmcAdgjupa+OSzxioKFOFRSi8YUhIQOTdgSZMToxpWuxNm9KRJUFkiQb4SEhUjFJugCRqrFWNsxIxBJCryrwmL0KmcYEidQ2VHJAGu0ZRcSHmkkKcSoJbVcJm82HOmJQNIxEgAcpGGNOthtQdbQ4mYWkKg6ROo7CDh4K8ZsaEG8lMHlYySTfulRJOkm6nE44CujDCUAhIgFSlEf3lEqUeaSSfDQk00E3oC8Jz1fad+57Ro9UBOE/b9p37ntGtOC6z8BKmwYszPa7+9R7puiHQ7zMdrv71Pum6IldRbGZmVXHOR27aN8v7qsdVcM5Pb1o3yvUmpIMTzgl2JX8f3Jp8pi4JdiV/H/pFPwQdh8VeSxivXke64e7YWHgdWHiDpiBh4DeCZ79KFLGEOA8qdQ5X0vVXOzWUKSSUrJB0JjAATJBE/8AVbqsPS78nrEqnC6SowUDnGOPMaEVPKSo6eb5bHoULqYWJiCMMBIBHOIxpG46Vaef0mfWaUvWZKUpMOQbsqwu8oAmI14+iuVpYugEYg+OdkeA0KilYei4XT57HA1CuEPbK/5fZFTSoVwg7ZX/AC+yK2cK/wBz8PqjDx31deP0YUcx/X2jdM+2/RaoS5juvtO6Y9p+i1Xo1sePe5XbOf2/aN6Pdt1Js0narm+PsN1GM556vtO9Hu26k+aPtVzfn2G64P4h9TfijVhesTikr7cnrZGB1nEyknwJ9dKVLA0mtQ6n6Q8YrwkG46o6AkQ0daIwSMDPJkYadWJrUNqibmM3ok6bszO29hXB3Ka7loUEJHFC8m9OKeLvyobebYaVuWlSbpMXSB38Y9GPpFanGot18+5P6i3O1mRA0RJOH/ddaxKpEjXWGskm29RgLZyP2g73m/YFTrMh2R/dN+25UEzj/tB3vN+wmp3mP7I/umvbcr6Zw71Wl+1eRyq3WYW6q9wq7O7vXverq0NVd4U9nd3r3vV1tkVxCZms7QG8c9YqX1Ec1g6gTvHPWKltcOr134mtbDdb2EpBUQoyo4JMHlYnECTo0UlFwYgLMpQTABAuiYAjSITejTe5qeHiqOQATOswI2yAaQs5Wmzh8oIJvQiZKlJKhCThIN0kK+iZoK4RMhtKoTysTMSMCvkEXY0gAyn5oIp1s7AQCBrJPlGaStZTBS2opIC20Ln5ovibpPNppeMaDuQ8NAPhT29ad+57Ro+EUAuFPb9q37ntGteC678CupsGHMt2u/vU+6boi0Osyva9o3yfct0Ra6i2MzMqt+ck9XWjfK9SashVbs5Pb1p3yvUmowxM4JdiX/H/AKRT+l1Q0KI7xNMHBLsSv4/9Kaf22ydEeExXk8Xfp5W5nucBb/FhfkdrLarig5BK0yQSrDmkRJidtdRbxJJSZU2G1YiCEhIECMDyRrwx8HNtEYFKTh9OtikEYIT5f3UkZTSsmPKFNu7Xz/k1btCUpUkJMKKSq8QetvQBAGtWvZWnGpgcnGdOGOnThhidWoCuqUj6CfLrR1qYhIGn5wOyBjQbkFKF/wCf5OTywetTH/Xp21BeEHbK/wCX2RU3WIwqEcIe2V/y+yK3cMd6zvy+qOdxpJYZW5/RhQzGnplp3THtP0W6EeYzslq3THtP0XK9EtjyT3K550D1fad6PdN1KM0Z6ld35923UXzodv2nej3TVSjNF2q7vj7tuuF+IfU34o1YbrE4InTXN+zJWkpUMDgYJSfGmCK2W5GonvCa4LJOMrGOiK8JBPdOxvEasjC7aAlSunIKReUtd2W7km8ozjjq2UtLCogLjRjGwDCNESPTWoJB0rOjVhprFThi5q1eur5TnLd/3+oCRsWFyOVhrGOOnGZnSfQK7pEAAmefbz1wacjTfPfGiu6TP+9UTb7RgL5x/wBou95v2E1Ocx56ZaN017blQTOR+0Xe837CanWY3slo3TXtO19K4d6tS/avI5VbrMLtVb4Unqh3fPe9cq0lVa4U9sO75/3q62yK4hRzWfs9O8c9qpS9Z0qi8kGNFRbNb+z0bxz2qlDtpQkwpQHjrh1uu/E1rY4uWRIHJaSoHBQJwu94ghWMaabGMhLDISXlpWOOuhBSUJDy1KS2L6CbqElKAcME4AaKXG0EkQ6iCY60nGf+fGtUWs49OR5JwPP6P96Ck0iWOdmsLqGW2zCyhCBK4jkgXhyUjGRAIGAg6aUQ8ICQmAmNUggHwXZgbQEnbhzXalfWt96Ds1bcca7sWsQb7iNOEYYQMDOk4jxig32kFRoA8Ke3rVv3PaNH0KBEigDwpPV1q37ntGtWC67EqbBhzKdr2jfJ9y1RGocZku17Rvk+5aoj11VsZnuZVbM5J6vtO+V6k1ZOq15yj1fat8fZTQkGJvwR7Er+P/Smn2ojwfyu0y2pK5kqnAThAH3U6fKez7VeTXmsVhqsq0moux7HA4yhDDxjKauPUV484lEFxaETovKAJ7wpvyZltl51KEkyZgEQDAJjHvVEnXf0hSnFmSSceUdQjR4Y2eCjhsBKbfSaFWN4qoWVGz7yfgCLySFJOhSSCPRXkVFOC1rKLRxc9LWhRIx+aCoHlaIj005DhNZ9qvJNJXwM4TtBNoswfFKdSF6rSfmPBqEcIT1Sv+X2U0/HhLZ9qvJNRrKtqS68paZgxE4aAB91auHUKkKrck1p9jNxjE0atFKEk3f6MK2Ys9MtW7Y9p+i7QhzE9fat2x7T9F6u8tjy73K45zz/AGhat6PdN1Kc0J6ld35923UUzon+0bVvB7pqleb/AIXWaxsLbev3lOFQuovCChA0ztBrj8bozrYVxpq7utEacO0paharDUN6Jlg2u+bPxr1PD2y2jpTJXfVITeRdGAkiTzA14uPCsW3rTa9xt6WPMfMocIrOyYW4Ae+BtGs44j00pyflNp8S0sKHMZoCvul9a1uHEk6lYaI0U78C8oqZtiAlXIUCSMdABMm9oiD4Ca71X8PU1RbjJ5kvcVKv6VrBvrKh3RLsH0nfNH41nRLsH0nfNH41wPyzF/pv4FvSw5kEzjn+0Xe837CanOYw9MtO6a9p2hxwuyo3abY481NxQRF4QeSlIOHfBojZiuyWndte07X0HAxcMPTjLdJeRzqrvJsL9VZ4Unqh7fv++cq01VX4VHql/fv++crXIriFXNb+z0fxu+2alhobcAeF1js1jQ087dWFOEi4s4KUSMQmNFSHog5O7o/w3Pw1xqtOed2RqTViUAU22rLdnbICnEjZojVo2+DYaYcpcNbM6y4LM7fWlClEXVJ5KQSeuA5tGNCNay6S4tfKJkkqIOk7BsH/ADRRpUJTvfQLaRYZh9DglJCh/wA011ujYPFQdzeZfLDziHF9KSi+cb0AXZI8rUPWanny/wAnd0f4bn4aSVGcZW3JdEmNV/4Tnq61b932zRaPD/J/dH+G5+Gg9ly0pdtb7iDKFvOKSYIlKlEgwcdFasHCSk7orqPQM+ZDta0b8e5aokUN8x/a1o349y1RIrpLYzvcyq0Zy/2hat8fZRVl6AOcjg0+bW+8LhQtaljlYwAkGRGB5JpKk4xWrHpwlJ2SBya8NPNj4N2h1N9KU3TrUsJ9dbL4K2kCShIGrljlfw6zVXT0r2zIu6Co1fKxpsNqU0tLiDCkmRpjvGNR0Hv08rQw7ymnktEkktui7dJk8lQSbwwJ5pA2U1PZPWhRSbsjTCgR4xhXdjIjywCAnHQCtIPiJoTcN72JGE9sosdtbbCVBpzjHlJKL6RCW0mCbpASVKIjHQINMVOK8iPAYhI/nT8aTqsCxhd9OHj0UYSh2MMqdTtixODXRuneycFbS4kKQlJB0dMTrx2/8iuWUMgvsFPGJSLxgQoESIOMaNNRV6TllUlcDoVEruLChmG7Ja93Z/atFF+hHmKaKV2uY7HZxp53z99Fyr4u6M8k07MrbnSP9o2rep901UONEjOZwbfVbLQ8m4ULXeHKxhLaEmRGGKTUNsfBu0OpvJSm7tUsJ9dUyrU1e7RfGjUaVkM5rpY7SppaXEGFJMjT4jGMEYHmNO6+CtpAkoSBqN8cr+HbTa/k9aFFJuyNMKBHjFRVactmiOlUjumOziWHuW06lkkkqbdEQTJN1QSZGBMarw71aOWpthKuKc4x5SSi+kQltKomFAJKlEHTqikbGRXlgEBOOiVpB8RNYvIbw0hPlp+NV3hs5D9HU7IjdWA0oVYHBhd9OHjpzsnBa0uJC0JSQdHTE/HmPiqyVanFXlJIVUaj2ixpRRhzEdktO7Z9p2hhb8gP2eOMSkXjAIWDjhgY0aaKOYxspdtM/VtehTnxpqdSM9Yu4lSnKO6C9VVeFR6pf/8AkWj3zlWqqs/DHINoQ+8tTfJLrywbyOtU4pQMXp0KFNOSVrsSnFy2REzWpp1Z4P2labyWSUxM3kDDwnCvDwetMTxJiYHKRieblY+Cq+lp+0viW9DU9l/AT5It/EOBcXkkFK0/SQrBQ+/wU6/q5KgCw+3c2LIStI0kLBIEgESRMmdGimRdkWCQU4jA4g+kGKUJyM+QCGiQcRin1TNCWXe9gqMtrMXWx9DLa20LDjrgCXFJ6xKQcUgnriSMeaI0TTHNLV5IfTpbI/mT6ppP+jK0XcfBRg4rtBKE+1HMGurVOLfBm1qAIYJB13kfirjaMlPMqCXWyhRxAJTiNGo1FWpt2Ul8SOjNK7T+Aa8xva1o349y1RKobZjkEWa0T9ePctUSavWxnluZQmzi2q6XI2qHflQw9Hros0EeFtqm3ONqUCltaziRieTdB58ax42N4J8mbuH/AOy3cRwZXdbTymY2EiY1zjopTZXHnxfcUoA6IPKI1yrUnvaaVZTW3dAEEgGTIM3o+B8dN2TsoqdNxCDhsiNmJJEVzmrxzRjbvO7TjThNKcrrsX/By4ptsQAE68MPGfjTc1Z27Q9IUQEjlXZlWOA9GmvMvWB5CU3lphR0AzGuTqrlk7JwOhZEDEg6e/AJowisuZS1Y9WupyyKOi9xJ7OyhsclA8MT4ScaS2y1JjlFIGyZ9AFNtqszgGDgPfIUPiPFSjIVmbKZeLZck8lajdGOEJHJOGvHTWfosqzN3LXXUdFH7HHI2W0oWUyQkklJ2EnEffHOadcopTailGoSqdt0kH108ixWZSQFNNEDUOLMHmmkD2T7O2u+05dIEXVK5JBOgScPBVLqRcs0U0zLGd/RlsTLN9YktrcuoSmW2wSkRMFcT4zU2qC5vLSlbjl1d6G069AKlfCp1XfwGboFm318zg4+3Tyt3eQKc5NouF2Np8fJw9fjqCDK7raeUzGwkTHPjoqS8MbfftziFGA2tRIOGICboM85Bptyi42EAC6SASTIMzHP/wAmsFRJTakr3dzr4aClSi1K2gksjrr4vrUQDMQYURr5XzR3tNLA022IACdZj/UfjTbk7KKnTxaEHDZAEaASSRArMvWB5CUlS0wTEAzGkycI/wC6rcfTyvTuN0K1KnTzR9JnrbDdoewUQEDlXdKtg/3qQsMIbHJb8JInxnGoxk/JyScFkQMSDp78Ak0rtVnWBg4PDCh65HioVad2knoClUWsnHVjnbLUI5RSBsmfRFNuR8thDhTJCSSUnYScR9/j212yFZ2ymXygrvHkrUQkDVAHJNSlNisykwppogbOLIE7JrPOUIXg02JVruVmlYZcohNquI2SuY03cD7VTvN9Y0NLXdQlJLSZIESEqMe0ah72TrOhd9py6QCLqlckgmSMTA1aNlSzN5aQt1y6oKAbGvarD1GrsC300VG9tfqZMbllh5PtJ5QY4fWy7OE8qI28o4erxUZ6BOVLRxlqcB0NqWB/EXFAHxCupjlpF8jncOV5tX3Gc8IChIlogjReBPowFKWnHbQLzhIChoHXFPOfmjmFdMtJQBo0ATOsyT6qT2C3qf5LaFE7AD6ToHjFc5pZc0Y27zuU4wjO1SXghSbM02ICQIx0Se+SaRWSxJecK0uXUCAQnWeadA8Herjl2x2hKkpXACscDMRGmO/tNb5NyepMlCykYTpAJ2zt8NMovJdS1Y06sZyyqPor3EhaszaB2OedQn0qpJb1IjlBAGwkfdSC3NvpGBCtOm96CDBpdkXJrbiEqcAWsjFJUEgacLseus2TIs0mWSrRXoqJz4PZaSOllWKcATrTsx5sPFSnKNkTanExEIE7JCvViKe1cH7MoCWSIwBSIjvFHxpGMmJZWpaHSpMAKSo6AJi7ow04VS6kMznC6ZmjLN6Mid5vrIhpt1KE3QVpURJ0lCUzjzJFSyolwAevJd2BSRO3kzH/ADbUtr0eDbdGNzz2MSVeVuZlVlzj/tG1b5XqTVmqrJnFP9o2vfK9SavkURIuRXhFbGtTSjnRlCPnEg8yQfvpU3YUKEhRjVITp8qdWz4UkaInlCRB8eqcdE0r4yz/AFah4Z1nHTsjD/ulfcFHZOSkFKTxgk3pGGERBMHRjjE0httkLayg4kRqjTShLlnkchfj1+Pv+ikTiyoySSeehG99SOxrdGwVskV5XopwBfzB9lte7Y9p6jJQZzBHp1r3THtPUZqdbCS3K1Zz/wBpWveD3TdREipbnN/adr3o903UTNKx0akVuyhHziR3kg/fWhrdkpnlCRB8cYeCaDIK27EhQkKMc4Tp8qdWyuyclIuhRcAnSMMBIEnHQJkx6K4lyz/QWPDz9/ZqrAuz4chfj/3qvUY4W6yFpZQYJEaiB4J0jnpPdGwVstZVioknaa8p1sKzAnmov5hOy2rdM+05QhFFzMIenWrdNe05TIEtgz1VPhEo/pL8H/139ex1dWsqqHCE9Uv79/3q6MgQY2qWdp8ZrEPKGhSh3lEeqvDWtJZD5mKEqvCVOnvG8fTNKUWRV28l1UHRAUJ0c/PSOzXJ5cxho74n0TSkcRtWObZh3tsjxUrXIKkxSclOYQ6SVAEYnrjeMHHDrcDjJNNr15CikqMgxgTSqWRilbl4Dk4YSJjVokDx0icWVEkmSakVzI5M2/SF/TV5Rr0PKOlSj3ya5V6mmyoGZh2zEHqa078e6bom0MMw56mtO/Hum6J9WLYqe5lCrhNmictdqetAtyUBxZUEGzlV2YwvcaJ0bKKtZRABY5jHP3in7Kfzq86Bbn7xT9lP51GqsoWQbsCvQLc/eKfsp/OrOgW5+8U/ZT+dRqrKliXYFegW5+8U/ZT+dWdAtz94p+yn86jVWVLIl2BXoFufvFP2U/nV70DHP3in7KfzqNNZUsS7IPm64AqyYt5arSHuNShMBri7twrM9eqZv+ipxWVlEALeFWaVy2Wt60i2pbDqgq4bOVXYSlMXuME9bspo6Bjn7xT9lP51GmsoWDdgV6Bbn7xT9lP51Z0C3P3in7KfzqNVZUsS7Ar0C3P3in7KfzqzoFufvFP2U/nUaqypYl2BXoFufvFP2U/nVnQLc/eKfsp/Oo1VlSxLsC3QMc/eKfsp/OqYZu+AKsmLdWq0h7jEoSAGuLu3Coz16pm96KnNZRsS5lBPKeZy2OOuOC1MALcWsAoXIC1qVB8qjZWVAXAT0ErZ3XZ/IcrzoI2zuuz+Q5R3rKFkG7AR0ELZ3XZ/Icr3oI2zuuz+Q5R2rKlkS7AT0EbZ3XZ/IcrOgjbO67P5DlHasqWJdgJ6CNs7rs/kOV70ErZ3XZ/Ico61lSyJdkOzacEncmsutvOocLjgWCgEAAISmDe18mpjWVlEB//Z)![alt text](data:image/jpeg;base64,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)"
      ]
    },
    {
      "metadata": {
        "id": "kyjybWtyUZFB",
        "colab_type": "text"
      },
      "cell_type": "markdown",
      "source": [
        "This dataset shows the ratings of 1,795 chocolate bars.  Along with the ratings of each bar, the dataset includes the type of bean used to make the chocolate, the origin, the cocoa percentage , the bar name, as well as the location of company.  The ratings range from 1-5, 1 being unpleasant to 5 being elite.  Each chocolate in the dataset only represents one bar from one batch.\n",
        "\n",
        "In this analysis, we will explore the relationship between the variables, such as comparison of cocoa percentage and ratings, and also determine what characteristics of a chocolate bar contribute to a higher mean rating.\n",
        "\n",
        "Data Source: https://www.kaggle.com/rtatman/chocolate-bar-ratings"
      ]
    },
    {
      "metadata": {
        "id": "OFPFRQews-Z2",
        "colab_type": "text"
      },
      "cell_type": "markdown",
      "source": [
        "## Importing and Cleaning Data"
      ]
    },
    {
      "metadata": {
        "id": "W362dIRqP3qU",
        "colab_type": "code",
        "colab": {
          "resources": {
            "http://localhost:8080/nbextensions/google.colab/files.js": {
              "data": "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",
              "ok": true,
              "headers": [
                [
                  "content-type",
                  "application/javascript"
                ]
              ],
              "status": 200,
              "status_text": ""
            }
          },
          "base_uri": "https://localhost:8080/",
          "height": 72
        },
        "outputId": "4214bde5-cd84-42a7-e1f5-5d65f6ba7103"
      },
      "cell_type": "code",
      "source": [
        "from google.colab import files\n",
        "uploaded = files.upload()"
      ],
      "execution_count": 4,
      "outputs": [
        {
          "output_type": "display_data",
          "data": {
            "text/html": [
              "\n",
              "     <input type=\"file\" id=\"files-f9c27410-944d-47dd-a97f-0e1eb4d2964e\" name=\"files[]\" multiple disabled />\n",
              "     <output id=\"result-f9c27410-944d-47dd-a97f-0e1eb4d2964e\">\n",
              "      Upload widget is only available when the cell has been executed in the\n",
              "      current browser session. Please rerun this cell to enable.\n",
              "      </output>\n",
              "      <script src=\"/nbextensions/google.colab/files.js\"></script> "
            ],
            "text/plain": [
              "<IPython.core.display.HTML object>"
            ]
          },
          "metadata": {
            "tags": []
          }
        },
        {
          "output_type": "stream",
          "text": [
            "Saving flavors_of_cacao.csv to flavors_of_cacao.csv\n"
          ],
          "name": "stdout"
        }
      ]
    },
    {
      "metadata": {
        "id": "Cy_6KP2lSWF5",
        "colab_type": "code",
        "colab": {}
      },
      "cell_type": "code",
      "source": [
        "import pandas as pd\n",
        "import numpy as np\n",
        "import matplotlib.pyplot as plt"
      ],
      "execution_count": 0,
      "outputs": []
    },
    {
      "metadata": {
        "id": "4qeuKwCPUnm_",
        "colab_type": "text"
      },
      "cell_type": "markdown",
      "source": [
        "We rename the columns to make them easier to work with. "
      ]
    },
    {
      "metadata": {
        "id": "t4auZFQBTPkw",
        "colab_type": "code",
        "colab": {}
      },
      "cell_type": "code",
      "source": [
        "chocolate = pd.read_csv(\"flavors_of_cacao.csv\")\n",
        "chocolate.rename(columns = {'Company\\xa0\\n(Maker-if known)': 'company',\n",
        "                            'Specific Bean Origin\\nor Bar Name':'originOrBarName', \n",
        "                            'Cocoa\\nPercent': 'cocoaPercent',\n",
        "                            'Company\\nLocation': 'companyLocation',\n",
        "                            'Rating': 'rating',\n",
        "                            'Bean\\nType':'beanType',\n",
        "                            'Broad Bean\\nOrigin': 'broadOrigin'}, inplace=True)\n",
        "chocolate.rating = chocolate.rating.astype(float)\n",
        "chocolate.drop('REF', axis=1, inplace=True)\n",
        "chocolate.drop('Review\\nDate', axis=1, inplace=True)"
      ],
      "execution_count": 0,
      "outputs": []
    },
    {
      "metadata": {
        "id": "0WCWatUSZEZc",
        "colab_type": "text"
      },
      "cell_type": "markdown",
      "source": [
        "A list of the types of cocoa beans in the dataset."
      ]
    },
    {
      "metadata": {
        "id": "wKFAX0UwB7cS",
        "colab_type": "code",
        "colab": {
          "base_uri": "https://localhost:8080/",
          "height": 274
        },
        "outputId": "580a11ba-8be9-457e-b9cb-fc297eabb802"
      },
      "cell_type": "code",
      "source": [
        "chocolate.beanType.unique()"
      ],
      "execution_count": 7,
      "outputs": [
        {
          "output_type": "execute_result",
          "data": {
            "text/plain": [
              "array(['\\xa0', 'Criollo', 'Trinitario', 'Forastero (Arriba)', 'Forastero',\n",
              "       'Forastero (Nacional)', 'Criollo, Trinitario',\n",
              "       'Criollo (Porcelana)', 'Blend', 'Trinitario (85% Criollo)',\n",
              "       'Forastero (Catongo)', 'Forastero (Parazinho)',\n",
              "       'Trinitario, Criollo', 'CCN51', 'Criollo (Ocumare)', 'Nacional',\n",
              "       'Criollo (Ocumare 61)', 'Criollo (Ocumare 77)',\n",
              "       'Criollo (Ocumare 67)', 'Criollo (Wild)', 'Beniano', 'Amazon mix',\n",
              "       'Trinitario, Forastero', 'Forastero (Arriba) ASS', 'Criollo, +',\n",
              "       'Amazon', 'Amazon, ICS', 'EET', 'Blend-Forastero,Criollo',\n",
              "       'Trinitario (Scavina)', 'Criollo, Forastero', 'Matina',\n",
              "       'Forastero(Arriba, CCN)', 'Nacional (Arriba)',\n",
              "       'Forastero (Arriba) ASSS', 'Forastero, Trinitario',\n",
              "       'Forastero (Amelonado)', nan, 'Trinitario, Nacional',\n",
              "       'Trinitario (Amelonado)', 'Trinitario, TCGA', 'Criollo (Amarru)'],\n",
              "      dtype=object)"
            ]
          },
          "metadata": {
            "tags": []
          },
          "execution_count": 7
        }
      ]
    },
    {
      "metadata": {
        "id": "czI6UQL2Uu7g",
        "colab_type": "text"
      },
      "cell_type": "markdown",
      "source": [
        "We replace the space character  `\\xa0 `  ([non-breaking space](https://stackoverflow.com/a/11566398/45963)) with ` None`."
      ]
    },
    {
      "metadata": {
        "id": "x-_97XWaDs2N",
        "colab_type": "code",
        "colab": {
          "base_uri": "https://localhost:8080/",
          "height": 34
        },
        "outputId": "e09296c8-d7f2-478a-9db4-66608136f29a"
      },
      "cell_type": "code",
      "source": [
        "chocolate.loc[chocolate.beanType == '\\xa0', 'beanType'] = None\n",
        "chocolate.beanType\n",
        "chocolate.beanType.isnull().sum()"
      ],
      "execution_count": 5,
      "outputs": [
        {
          "output_type": "execute_result",
          "data": {
            "text/plain": [
              "888"
            ]
          },
          "metadata": {
            "tags": []
          },
          "execution_count": 5
        }
      ]
    },
    {
      "metadata": {
        "id": "f3jig9aQVoQu",
        "colab_type": "text"
      },
      "cell_type": "markdown",
      "source": [
        "The data has 1795 rows and 7 columns."
      ]
    },
    {
      "metadata": {
        "id": "_E7AH8wErHMu",
        "colab_type": "code",
        "colab": {
          "base_uri": "https://localhost:8080/",
          "height": 34
        },
        "outputId": "eeb57b14-dd40-4875-cd56-bfe13b3a66c6"
      },
      "cell_type": "code",
      "source": [
        "chocolate.shape"
      ],
      "execution_count": 6,
      "outputs": [
        {
          "output_type": "execute_result",
          "data": {
            "text/plain": [
              "(1795, 7)"
            ]
          },
          "metadata": {
            "tags": []
          },
          "execution_count": 6
        }
      ]
    },
    {
      "metadata": {
        "id": "Gq4b2mJaV1lD",
        "colab_type": "text"
      },
      "cell_type": "markdown",
      "source": [
        "Below is a snapshot of the dataframe once data importing and cleaning is completed."
      ]
    },
    {
      "metadata": {
        "id": "_fLnLPp8Mv2c",
        "colab_type": "code",
        "colab": {
          "base_uri": "https://localhost:8080/",
          "height": 359
        },
        "outputId": "a650477c-32a6-401d-ff5f-755476c99c60"
      },
      "cell_type": "code",
      "source": [
        "chocolate.head(10)"
      ],
      "execution_count": 8,
      "outputs": [
        {
          "output_type": "execute_result",
          "data": {
            "text/html": [
              "<div>\n",
              "<style scoped>\n",
              "    .dataframe tbody tr th:only-of-type {\n",
              "        vertical-align: middle;\n",
              "    }\n",
              "\n",
              "    .dataframe tbody tr th {\n",
              "        vertical-align: top;\n",
              "    }\n",
              "\n",
              "    .dataframe thead th {\n",
              "        text-align: right;\n",
              "    }\n",
              "</style>\n",
              "<table border=\"1\" class=\"dataframe\">\n",
              "  <thead>\n",
              "    <tr style=\"text-align: right;\">\n",
              "      <th></th>\n",
              "      <th>company</th>\n",
              "      <th>originOrBarName</th>\n",
              "      <th>cocoaPercent</th>\n",
              "      <th>companyLocation</th>\n",
              "      <th>rating</th>\n",
              "      <th>beanType</th>\n",
              "      <th>broadOrigin</th>\n",
              "    </tr>\n",
              "  </thead>\n",
              "  <tbody>\n",
              "    <tr>\n",
              "      <th>0</th>\n",
              "      <td>A. Morin</td>\n",
              "      <td>Agua Grande</td>\n",
              "      <td>63%</td>\n",
              "      <td>France</td>\n",
              "      <td>3.75</td>\n",
              "      <td>None</td>\n",
              "      <td>Sao Tome</td>\n",
              "    </tr>\n",
              "    <tr>\n",
              "      <th>1</th>\n",
              "      <td>A. Morin</td>\n",
              "      <td>Kpime</td>\n",
              "      <td>70%</td>\n",
              "      <td>France</td>\n",
              "      <td>2.75</td>\n",
              "      <td>None</td>\n",
              "      <td>Togo</td>\n",
              "    </tr>\n",
              "    <tr>\n",
              "      <th>2</th>\n",
              "      <td>A. Morin</td>\n",
              "      <td>Atsane</td>\n",
              "      <td>70%</td>\n",
              "      <td>France</td>\n",
              "      <td>3.00</td>\n",
              "      <td>None</td>\n",
              "      <td>Togo</td>\n",
              "    </tr>\n",
              "    <tr>\n",
              "      <th>3</th>\n",
              "      <td>A. Morin</td>\n",
              "      <td>Akata</td>\n",
              "      <td>70%</td>\n",
              "      <td>France</td>\n",
              "      <td>3.50</td>\n",
              "      <td>None</td>\n",
              "      <td>Togo</td>\n",
              "    </tr>\n",
              "    <tr>\n",
              "      <th>4</th>\n",
              "      <td>A. Morin</td>\n",
              "      <td>Quilla</td>\n",
              "      <td>70%</td>\n",
              "      <td>France</td>\n",
              "      <td>3.50</td>\n",
              "      <td>None</td>\n",
              "      <td>Peru</td>\n",
              "    </tr>\n",
              "    <tr>\n",
              "      <th>5</th>\n",
              "      <td>A. Morin</td>\n",
              "      <td>Carenero</td>\n",
              "      <td>70%</td>\n",
              "      <td>France</td>\n",
              "      <td>2.75</td>\n",
              "      <td>Criollo</td>\n",
              "      <td>Venezuela</td>\n",
              "    </tr>\n",
              "    <tr>\n",
              "      <th>6</th>\n",
              "      <td>A. Morin</td>\n",
              "      <td>Cuba</td>\n",
              "      <td>70%</td>\n",
              "      <td>France</td>\n",
              "      <td>3.50</td>\n",
              "      <td>None</td>\n",
              "      <td>Cuba</td>\n",
              "    </tr>\n",
              "    <tr>\n",
              "      <th>7</th>\n",
              "      <td>A. Morin</td>\n",
              "      <td>Sur del Lago</td>\n",
              "      <td>70%</td>\n",
              "      <td>France</td>\n",
              "      <td>3.50</td>\n",
              "      <td>Criollo</td>\n",
              "      <td>Venezuela</td>\n",
              "    </tr>\n",
              "    <tr>\n",
              "      <th>8</th>\n",
              "      <td>A. Morin</td>\n",
              "      <td>Puerto Cabello</td>\n",
              "      <td>70%</td>\n",
              "      <td>France</td>\n",
              "      <td>3.75</td>\n",
              "      <td>Criollo</td>\n",
              "      <td>Venezuela</td>\n",
              "    </tr>\n",
              "    <tr>\n",
              "      <th>9</th>\n",
              "      <td>A. Morin</td>\n",
              "      <td>Pablino</td>\n",
              "      <td>70%</td>\n",
              "      <td>France</td>\n",
              "      <td>4.00</td>\n",
              "      <td>None</td>\n",
              "      <td>Peru</td>\n",
              "    </tr>\n",
              "  </tbody>\n",
              "</table>\n",
              "</div>"
            ],
            "text/plain": [
              "    company originOrBarName cocoaPercent companyLocation  rating beanType  \\\n",
              "0  A. Morin     Agua Grande          63%          France    3.75     None   \n",
              "1  A. Morin           Kpime          70%          France    2.75     None   \n",
              "2  A. Morin          Atsane          70%          France    3.00     None   \n",
              "3  A. Morin           Akata          70%          France    3.50     None   \n",
              "4  A. Morin          Quilla          70%          France    3.50     None   \n",
              "5  A. Morin        Carenero          70%          France    2.75  Criollo   \n",
              "6  A. Morin            Cuba          70%          France    3.50     None   \n",
              "7  A. Morin    Sur del Lago          70%          France    3.50  Criollo   \n",
              "8  A. Morin  Puerto Cabello          70%          France    3.75  Criollo   \n",
              "9  A. Morin         Pablino          70%          France    4.00     None   \n",
              "\n",
              "  broadOrigin  \n",
              "0    Sao Tome  \n",
              "1        Togo  \n",
              "2        Togo  \n",
              "3        Togo  \n",
              "4        Peru  \n",
              "5   Venezuela  \n",
              "6        Cuba  \n",
              "7   Venezuela  \n",
              "8   Venezuela  \n",
              "9        Peru  "
            ]
          },
          "metadata": {
            "tags": []
          },
          "execution_count": 8
        }
      ]
    },
    {
      "metadata": {
        "id": "ycPgi9wWsYTN",
        "colab_type": "text"
      },
      "cell_type": "markdown",
      "source": [
        "## Chocolate Ratings Distribution"
      ]
    },
    {
      "metadata": {
        "id": "UelrCjf5WQ0W",
        "colab_type": "text"
      },
      "cell_type": "markdown",
      "source": [
        "\n",
        "\n",
        "A box plot shows rating of both 1.0 and 5.0 to be outliers in the dataset.\n"
      ]
    },
    {
      "metadata": {
        "id": "ps8Kf5DRF5zg",
        "colab_type": "code",
        "colab": {
          "base_uri": "https://localhost:8080/",
          "height": 389
        },
        "outputId": "6a1d0ec6-732c-4e0b-ba9b-34746d59b8c1"
      },
      "cell_type": "code",
      "source": [
        "x = chocolate.rating\n",
        "plt.figure(figsize = (8, 6))\n",
        "plt.ylabel('Rating')\n",
        "plt.title('Chocolate Ratings Boxplot')\n",
        "plt.boxplot(x, sym=\"k.\")\n",
        "plt.show()"
      ],
      "execution_count": 9,
      "outputs": [
        {
          "output_type": "display_data",
          "data": {
            "image/png": "[encoded data removed]",
            "text/plain": [
              "<matplotlib.figure.Figure at 0x7f5380de9a58>"
            ]
          },
          "metadata": {
            "tags": []
          }
        }
      ]
    },
    {
      "metadata": {
        "id": "GLH9jWorWq4u",
        "colab_type": "text"
      },
      "cell_type": "markdown",
      "source": [
        "A histogram provides another view of the distribution of ratings in the data. We appreciate the distribution to have [negative skew](https://en.wikipedia.org/wiki/Skewness#Introduction), meaning that a randomly sampled chocolate bar is more likely to get a rating above the mean of 3.19.  "
      ]
    },
    {
      "metadata": {
        "id": "J4KOTOOC-0e5",
        "colab_type": "code",
        "colab": {
          "base_uri": "https://localhost:8080/",
          "height": 376
        },
        "outputId": "6b738117-fcb6-40e6-cd86-236e9dc9837f"
      },
      "cell_type": "code",
      "source": [
        "plt.hist(x)\n",
        "plt.ylabel('Count')\n",
        "plt.xlabel('Rating')\n",
        "plt.title('Distribution of Chocolate Ratings')\n",
        "plt.show()"
      ],
      "execution_count": 10,
      "outputs": [
        {
          "output_type": "display_data",
          "data": {
            "image/png": "[encoded data removed]",
            "text/plain": [
              "<matplotlib.figure.Figure at 0x7f5380de9940>"
            ]
          },
          "metadata": {
            "tags": []
          }
        }
      ]
    },
    {
      "metadata": {
        "id": "XvXj-wBMYBuq",
        "colab_type": "text"
      },
      "cell_type": "markdown",
      "source": [
        "The ratings have a standard deviation  of 0.48 and a median value of 3.25. Raters seem to be generous or the chocolate quality in the dataset is high!"
      ]
    },
    {
      "metadata": {
        "id": "r-yG2uweiUZL",
        "colab_type": "code",
        "colab": {
          "base_uri": "https://localhost:8080/",
          "height": 170
        },
        "outputId": "3295dee1-9f27-4b34-8d33-28c2cc9706a0"
      },
      "cell_type": "code",
      "source": [
        "chocolate.rating.describe()"
      ],
      "execution_count": 11,
      "outputs": [
        {
          "output_type": "execute_result",
          "data": {
            "text/plain": [
              "count    1795.000000\n",
              "mean        3.185933\n",
              "std         0.478062\n",
              "min         1.000000\n",
              "25%         2.875000\n",
              "50%         3.250000\n",
              "75%         3.500000\n",
              "max         5.000000\n",
              "Name: rating, dtype: float64"
            ]
          },
          "metadata": {
            "tags": []
          },
          "execution_count": 11
        }
      ]
    },
    {
      "metadata": {
        "id": "UwVZEiHlsQcf",
        "colab_type": "text"
      },
      "cell_type": "markdown",
      "source": [
        "## Cocoa Content Comparison"
      ]
    },
    {
      "metadata": {
        "id": "87cGhQSKZ2j1",
        "colab_type": "text"
      },
      "cell_type": "markdown",
      "source": [
        "The plot below shows the unique values of cocoa percentage in the data."
      ]
    },
    {
      "metadata": {
        "id": "6k5NUIpWEkF6",
        "colab_type": "code",
        "colab": {
          "base_uri": "https://localhost:8080/",
          "height": 362
        },
        "outputId": "a7bd6813-3bcc-4608-a42d-56d8c50197d3"
      },
      "cell_type": "code",
      "source": [
        "chocolate.cocoaPercent = chocolate.cocoaPercent.astype(str)\n",
        "chocolate.cocoaPercent = chocolate.cocoaPercent.apply(lambda chocolate: chocolate.strip('%'))\n",
        "chocolate.cocoaPercent = chocolate.cocoaPercent.astype(float)\n",
        "sortedCocoaContent = np.sort(chocolate.cocoaPercent.unique())\n",
        "plt.plot(sortedCocoaContent, marker='o')\n",
        "plt.title('Cocoa Content')\n",
        "plt.show()\n"
      ],
      "execution_count": 39,
      "outputs": [
        {
          "output_type": "display_data",
          "data": {
            "image/png": "[encoded data removed]",
            "text/plain": [
              "<matplotlib.figure.Figure at 0x7f537da6b5f8>"
            ]
          },
          "metadata": {
            "tags": []
          }
        }
      ]
    },
    {
      "metadata": {
        "id": "2K5J1BYdaGuI",
        "colab_type": "text"
      },
      "cell_type": "markdown",
      "source": [
        "When comparing cocoa percent and rating we cannot find a clear correlation between the two variables."
      ]
    },
    {
      "metadata": {
        "id": "MdqdFYDppEsZ",
        "colab_type": "code",
        "colab": {
          "base_uri": "https://localhost:8080/",
          "height": 376
        },
        "outputId": "1cf584da-6d0a-4477-9ea2-e2eaccda3db7"
      },
      "cell_type": "code",
      "source": [
        "plt.scatter(y=chocolate.rating, x=chocolate.cocoaPercent)\n",
        "plt.ylabel('Rating')\n",
        "plt.xlabel('Cocoa Percent')\n",
        "plt.title('Cocoa Percent vs. Rating')\n",
        "plt.show()"
      ],
      "execution_count": 14,
      "outputs": [
        {
          "output_type": "display_data",
          "data": {
            "image/png": "[encoded data removed]",
            "text/plain": [
              "<matplotlib.figure.Figure at 0x7f537eb82b00>"
            ]
          },
          "metadata": {
            "tags": []
          }
        }
      ]
    },
    {
      "metadata": {
        "id": "WV3MvhedasEE",
        "colab_type": "text"
      },
      "cell_type": "markdown",
      "source": [
        "Despite that the scatterplot does not show a clear correlation between cocoa percent and the ratings, a relationship between the two variables is possible.  In the plot below, we compare the cocoa percentage to the mean rating."
      ]
    },
    {
      "metadata": {
        "id": "as2IsCMHrLTB",
        "colab_type": "code",
        "colab": {
          "base_uri": "https://localhost:8080/",
          "height": 376
        },
        "outputId": "33714f0b-b6d6-4666-bb31-77535e04b749"
      },
      "cell_type": "code",
      "source": [
        "cocoaPercentRating = chocolate.groupby(['cocoaPercent']).mean()\n",
        "plt.plot(cocoaPercentRating.rating)\n",
        "plt.ylabel('Rating')\n",
        "plt.xlabel('Cocoa Percent')\n",
        "plt.title('Cocoa Percent Ratings')\n",
        "plt.show()"
      ],
      "execution_count": 15,
      "outputs": [
        {
          "output_type": "display_data",
          "data": {
            "image/png": "[encoded data removed]",
            "text/plain": [
              "<matplotlib.figure.Figure at 0x7f537ec285f8>"
            ]
          },
          "metadata": {
            "tags": []
          }
        }
      ]
    },
    {
      "metadata": {
        "id": "FbOwLv-ubY-h",
        "colab_type": "text"
      },
      "cell_type": "markdown",
      "source": [
        "In the plot above, we see extreme values for a cocoa percentage of about 43 and 52.  This may be due to the lack of data for those specific percentages.  Thus, we put the cocoa percentages into bins."
      ]
    },
    {
      "metadata": {
        "id": "AGa-EQ8K07eW",
        "colab_type": "code",
        "colab": {}
      },
      "cell_type": "code",
      "source": [
        "def assignCocoaRange (row):\n",
        "  if row['cocoaPercent'] < 46.:\n",
        "    return 40\n",
        "  elif row['cocoaPercent'] > 45. and row['cocoaPercent'] < 56.:\n",
        "    return 50\n",
        "  elif row['cocoaPercent'] > 55. and row['cocoaPercent'] < 66.:\n",
        "    return 60\n",
        "  elif row['cocoaPercent'] > 65. and row['cocoaPercent'] < 76.:\n",
        "    return 70\n",
        "  elif row['cocoaPercent'] > 75. and row['cocoaPercent'] < 86.:\n",
        "    return 80\n",
        "  elif row['cocoaPercent'] > 85. and row['cocoaPercent'] < 96.:\n",
        "    return 90\n",
        "  else:\n",
        "    return 100"
      ],
      "execution_count": 0,
      "outputs": []
    },
    {
      "metadata": {
        "id": "0GLhrgtlPML4",
        "colab_type": "code",
        "colab": {
          "base_uri": "https://localhost:8080/",
          "height": 359
        },
        "outputId": "7874f5d1-346b-4097-8a6d-561ca0326fa1"
      },
      "cell_type": "code",
      "source": [
        "chocolate['cocoaRange'] = chocolate.apply(lambda chocolate: assignCocoaRange(chocolate), axis=1)\n",
        "chocolate.head(10)"
      ],
      "execution_count": 18,
      "outputs": [
        {
          "output_type": "execute_result",
          "data": {
            "text/html": [
              "<div>\n",
              "<style scoped>\n",
              "    .dataframe tbody tr th:only-of-type {\n",
              "        vertical-align: middle;\n",
              "    }\n",
              "\n",
              "    .dataframe tbody tr th {\n",
              "        vertical-align: top;\n",
              "    }\n",
              "\n",
              "    .dataframe thead th {\n",
              "        text-align: right;\n",
              "    }\n",
              "</style>\n",
              "<table border=\"1\" class=\"dataframe\">\n",
              "  <thead>\n",
              "    <tr style=\"text-align: right;\">\n",
              "      <th></th>\n",
              "      <th>company</th>\n",
              "      <th>originOrBarName</th>\n",
              "      <th>cocoaPercent</th>\n",
              "      <th>companyLocation</th>\n",
              "      <th>rating</th>\n",
              "      <th>beanType</th>\n",
              "      <th>broadOrigin</th>\n",
              "      <th>cocoaRange</th>\n",
              "    </tr>\n",
              "  </thead>\n",
              "  <tbody>\n",
              "    <tr>\n",
              "      <th>0</th>\n",
              "      <td>A. Morin</td>\n",
              "      <td>Agua Grande</td>\n",
              "      <td>63.0</td>\n",
              "      <td>France</td>\n",
              "      <td>3.75</td>\n",
              "      <td>None</td>\n",
              "      <td>Sao Tome</td>\n",
              "      <td>60</td>\n",
              "    </tr>\n",
              "    <tr>\n",
              "      <th>1</th>\n",
              "      <td>A. Morin</td>\n",
              "      <td>Kpime</td>\n",
              "      <td>70.0</td>\n",
              "      <td>France</td>\n",
              "      <td>2.75</td>\n",
              "      <td>None</td>\n",
              "      <td>Togo</td>\n",
              "      <td>70</td>\n",
              "    </tr>\n",
              "    <tr>\n",
              "      <th>2</th>\n",
              "      <td>A. Morin</td>\n",
              "      <td>Atsane</td>\n",
              "      <td>70.0</td>\n",
              "      <td>France</td>\n",
              "      <td>3.00</td>\n",
              "      <td>None</td>\n",
              "      <td>Togo</td>\n",
              "      <td>70</td>\n",
              "    </tr>\n",
              "    <tr>\n",
              "      <th>3</th>\n",
              "      <td>A. Morin</td>\n",
              "      <td>Akata</td>\n",
              "      <td>70.0</td>\n",
              "      <td>France</td>\n",
              "      <td>3.50</td>\n",
              "      <td>None</td>\n",
              "      <td>Togo</td>\n",
              "      <td>70</td>\n",
              "    </tr>\n",
              "    <tr>\n",
              "      <th>4</th>\n",
              "      <td>A. Morin</td>\n",
              "      <td>Quilla</td>\n",
              "      <td>70.0</td>\n",
              "      <td>France</td>\n",
              "      <td>3.50</td>\n",
              "      <td>None</td>\n",
              "      <td>Peru</td>\n",
              "      <td>70</td>\n",
              "    </tr>\n",
              "    <tr>\n",
              "      <th>5</th>\n",
              "      <td>A. Morin</td>\n",
              "      <td>Carenero</td>\n",
              "      <td>70.0</td>\n",
              "      <td>France</td>\n",
              "      <td>2.75</td>\n",
              "      <td>Criollo</td>\n",
              "      <td>Venezuela</td>\n",
              "      <td>70</td>\n",
              "    </tr>\n",
              "    <tr>\n",
              "      <th>6</th>\n",
              "      <td>A. Morin</td>\n",
              "      <td>Cuba</td>\n",
              "      <td>70.0</td>\n",
              "      <td>France</td>\n",
              "      <td>3.50</td>\n",
              "      <td>None</td>\n",
              "      <td>Cuba</td>\n",
              "      <td>70</td>\n",
              "    </tr>\n",
              "    <tr>\n",
              "      <th>7</th>\n",
              "      <td>A. Morin</td>\n",
              "      <td>Sur del Lago</td>\n",
              "      <td>70.0</td>\n",
              "      <td>France</td>\n",
              "      <td>3.50</td>\n",
              "      <td>Criollo</td>\n",
              "      <td>Venezuela</td>\n",
              "      <td>70</td>\n",
              "    </tr>\n",
              "    <tr>\n",
              "      <th>8</th>\n",
              "      <td>A. Morin</td>\n",
              "      <td>Puerto Cabello</td>\n",
              "      <td>70.0</td>\n",
              "      <td>France</td>\n",
              "      <td>3.75</td>\n",
              "      <td>Criollo</td>\n",
              "      <td>Venezuela</td>\n",
              "      <td>70</td>\n",
              "    </tr>\n",
              "    <tr>\n",
              "      <th>9</th>\n",
              "      <td>A. Morin</td>\n",
              "      <td>Pablino</td>\n",
              "      <td>70.0</td>\n",
              "      <td>France</td>\n",
              "      <td>4.00</td>\n",
              "      <td>None</td>\n",
              "      <td>Peru</td>\n",
              "      <td>70</td>\n",
              "    </tr>\n",
              "  </tbody>\n",
              "</table>\n",
              "</div>"
            ],
            "text/plain": [
              "    company originOrBarName  cocoaPercent companyLocation  rating beanType  \\\n",
              "0  A. Morin     Agua Grande          63.0          France    3.75     None   \n",
              "1  A. Morin           Kpime          70.0          France    2.75     None   \n",
              "2  A. Morin          Atsane          70.0          France    3.00     None   \n",
              "3  A. Morin           Akata          70.0          France    3.50     None   \n",
              "4  A. Morin          Quilla          70.0          France    3.50     None   \n",
              "5  A. Morin        Carenero          70.0          France    2.75  Criollo   \n",
              "6  A. Morin            Cuba          70.0          France    3.50     None   \n",
              "7  A. Morin    Sur del Lago          70.0          France    3.50  Criollo   \n",
              "8  A. Morin  Puerto Cabello          70.0          France    3.75  Criollo   \n",
              "9  A. Morin         Pablino          70.0          France    4.00     None   \n",
              "\n",
              "  broadOrigin  cocoaRange  \n",
              "0    Sao Tome          60  \n",
              "1        Togo          70  \n",
              "2        Togo          70  \n",
              "3        Togo          70  \n",
              "4        Peru          70  \n",
              "5   Venezuela          70  \n",
              "6        Cuba          70  \n",
              "7   Venezuela          70  \n",
              "8   Venezuela          70  \n",
              "9        Peru          70  "
            ]
          },
          "metadata": {
            "tags": []
          },
          "execution_count": 18
        }
      ]
    },
    {
      "metadata": {
        "id": "cN2KhJBSRzpt",
        "colab_type": "code",
        "colab": {
          "base_uri": "https://localhost:8080/",
          "height": 204
        },
        "outputId": "6ef68d7a-09e4-427c-fbe0-0477a923c662"
      },
      "cell_type": "code",
      "source": [
        "chocolate['meanRating'] = chocolate['cocoaRange'].map(cocoaRangeRating['meanRating'])\n",
        "chocolate.head(5)"
      ],
      "execution_count": 20,
      "outputs": [
        {
          "output_type": "execute_result",
          "data": {
            "text/html": [
              "<div>\n",
              "<style scoped>\n",
              "    .dataframe tbody tr th:only-of-type {\n",
              "        vertical-align: middle;\n",
              "    }\n",
              "\n",
              "    .dataframe tbody tr th {\n",
              "        vertical-align: top;\n",
              "    }\n",
              "\n",
              "    .dataframe thead th {\n",
              "        text-align: right;\n",
              "    }\n",
              "</style>\n",
              "<table border=\"1\" class=\"dataframe\">\n",
              "  <thead>\n",
              "    <tr style=\"text-align: right;\">\n",
              "      <th></th>\n",
              "      <th>company</th>\n",
              "      <th>originOrBarName</th>\n",
              "      <th>cocoaPercent</th>\n",
              "      <th>companyLocation</th>\n",
              "      <th>rating</th>\n",
              "      <th>beanType</th>\n",
              "      <th>broadOrigin</th>\n",
              "      <th>cocoaRange</th>\n",
              "      <th>meanRating</th>\n",
              "    </tr>\n",
              "  </thead>\n",
              "  <tbody>\n",
              "    <tr>\n",
              "      <th>0</th>\n",
              "      <td>A. Morin</td>\n",
              "      <td>Agua Grande</td>\n",
              "      <td>63.0</td>\n",
              "      <td>France</td>\n",
              "      <td>3.75</td>\n",
              "      <td>None</td>\n",
              "      <td>Sao Tome</td>\n",
              "      <td>60</td>\n",
              "      <td>3.139303</td>\n",
              "    </tr>\n",
              "    <tr>\n",
              "      <th>1</th>\n",
              "      <td>A. Morin</td>\n",
              "      <td>Kpime</td>\n",
              "      <td>70.0</td>\n",
              "      <td>France</td>\n",
              "      <td>2.75</td>\n",
              "      <td>None</td>\n",
              "      <td>Togo</td>\n",
              "      <td>70</td>\n",
              "      <td>3.241838</td>\n",
              "    </tr>\n",
              "    <tr>\n",
              "      <th>2</th>\n",
              "      <td>A. Morin</td>\n",
              "      <td>Atsane</td>\n",
              "      <td>70.0</td>\n",
              "      <td>France</td>\n",
              "      <td>3.00</td>\n",
              "      <td>None</td>\n",
              "      <td>Togo</td>\n",
              "      <td>70</td>\n",
              "      <td>3.241838</td>\n",
              "    </tr>\n",
              "    <tr>\n",
              "      <th>3</th>\n",
              "      <td>A. Morin</td>\n",
              "      <td>Akata</td>\n",
              "      <td>70.0</td>\n",
              "      <td>France</td>\n",
              "      <td>3.50</td>\n",
              "      <td>None</td>\n",
              "      <td>Togo</td>\n",
              "      <td>70</td>\n",
              "      <td>3.241838</td>\n",
              "    </tr>\n",
              "    <tr>\n",
              "      <th>4</th>\n",
              "      <td>A. Morin</td>\n",
              "      <td>Quilla</td>\n",
              "      <td>70.0</td>\n",
              "      <td>France</td>\n",
              "      <td>3.50</td>\n",
              "      <td>None</td>\n",
              "      <td>Peru</td>\n",
              "      <td>70</td>\n",
              "      <td>3.241838</td>\n",
              "    </tr>\n",
              "  </tbody>\n",
              "</table>\n",
              "</div>"
            ],
            "text/plain": [
              "    company originOrBarName  cocoaPercent companyLocation  rating beanType  \\\n",
              "0  A. Morin     Agua Grande          63.0          France    3.75     None   \n",
              "1  A. Morin           Kpime          70.0          France    2.75     None   \n",
              "2  A. Morin          Atsane          70.0          France    3.00     None   \n",
              "3  A. Morin           Akata          70.0          France    3.50     None   \n",
              "4  A. Morin          Quilla          70.0          France    3.50     None   \n",
              "\n",
              "  broadOrigin  cocoaRange  meanRating  \n",
              "0    Sao Tome          60    3.139303  \n",
              "1        Togo          70    3.241838  \n",
              "2        Togo          70    3.241838  \n",
              "3        Togo          70    3.241838  \n",
              "4        Peru          70    3.241838  "
            ]
          },
          "metadata": {
            "tags": []
          },
          "execution_count": 20
        }
      ]
    },
    {
      "metadata": {
        "id": "JQJ6lK52clds",
        "colab_type": "text"
      },
      "cell_type": "markdown",
      "source": [
        "Plotting the cocoa percentage (ranges) aganist the mean rating, we find that cocoa content of about 70 percent has the highest mean rating."
      ]
    },
    {
      "metadata": {
        "id": "B6HhI04XRzwJ",
        "colab_type": "code",
        "colab": {
          "base_uri": "https://localhost:8080/",
          "height": 376
        },
        "outputId": "01d38ae2-7956-43ce-fac5-a858ab2903e5"
      },
      "cell_type": "code",
      "source": [
        "cocoaRangeRating = chocolate.groupby(['cocoaRange']).mean()\n",
        "cocoaRangeRating.rename(columns = {'rating' : 'meanRating'}, inplace=True)\n",
        "plt.plot(cocoaRangeRating.meanRating)\n",
        "plt.ylabel('Rating')\n",
        "plt.xlabel('Cocoa Percent')\n",
        "plt.title('Cocoa Percent Ratings')\n",
        "plt.show()"
      ],
      "execution_count": 19,
      "outputs": [
        {
          "output_type": "display_data",
          "data": {
            "image/png": "[encoded data removed]",
            "text/plain": [
              "<matplotlib.figure.Figure at 0x7f537eb32748>"
            ]
          },
          "metadata": {
            "tags": []
          }
        }
      ]
    },
    {
      "metadata": {
        "id": "YRdiVK0wbKfn",
        "colab_type": "text"
      },
      "cell_type": "markdown",
      "source": [
        "### Two Tailed T-test\n",
        "\n"
      ]
    },
    {
      "metadata": {
        "id": "atLro1EQbUUW",
        "colab_type": "text"
      },
      "cell_type": "markdown",
      "source": [
        "In the two-sided t-test below we are comparing the mean ratings of two samples.  One sample comes from the set of chocolate bars which have 70 percent content of cocoa.  The second sample comes form the set of chocolate bars with a different cocoa content.  The test measures whether the mean value differs significantly across the samples.\n",
        "The two-sided t-test gives us a t-value of -3.43 and a p-value of 0.0008.  This tells us the chocolates with a 70 percent cocoa content is significantly different from those with a different cocoa content with over a 99 percent confidence."
      ]
    },
    {
      "metadata": {
        "id": "89BefCmCO3aT",
        "colab_type": "code",
        "colab": {
          "base_uri": "https://localhost:8080/",
          "height": 34
        },
        "outputId": "89d649a4-78d4-4399-9df0-58825dae3e0d"
      },
      "cell_type": "code",
      "source": [
        "cocoaRange70 = chocolate.loc[lambda chocolate: chocolate.cocoaRange == 70, :]\n",
        "cocoaRangeNot70 = chocolate.loc[lambda chocolate: chocolate.cocoaRange != 70, :]\n",
        "\n",
        "np.random.seed(0)\n",
        "sample1 = np.random.choice(cocoaRange70.rating, 100, replace = True)\n",
        "sample2 = np.random.choice(cocoaRangeNot70.rating, 100, replace = True)\n",
        "\n",
        "print(ttest_ind(sample2, sample1, equal_var=False))"
      ],
      "execution_count": 58,
      "outputs": [
        {
          "output_type": "stream",
          "text": [
            "Ttest_indResult(statistic=-3.428472087477016, pvalue=0.0007523647823387659)\n"
          ],
          "name": "stdout"
        }
      ]
    },
    {
      "metadata": {
        "id": "0Ue4CLYznuni",
        "colab_type": "code",
        "colab": {
          "base_uri": "https://localhost:8080/",
          "height": 51
        },
        "outputId": "acb416b4-4413-415f-e2e8-12c1b8a1da24"
      },
      "cell_type": "code",
      "source": [
        "print(np.mean(sample1))\n",
        "print(np.mean(sample2))"
      ],
      "execution_count": 56,
      "outputs": [
        {
          "output_type": "stream",
          "text": [
            "3.22\n",
            "2.985\n"
          ],
          "name": "stdout"
        }
      ]
    },
    {
      "metadata": {
        "id": "VhMvctVesCVh",
        "colab_type": "text"
      },
      "cell_type": "markdown",
      "source": [
        "## Bean Comparison"
      ]
    },
    {
      "metadata": {
        "id": "OVB8GGN7gVfS",
        "colab_type": "text"
      },
      "cell_type": "markdown",
      "source": [
        "The plot below shows the different types of beans and their frequencies.  The bean types with the highest frequency are Trinitario, Criollo, and Forastero."
      ]
    },
    {
      "metadata": {
        "id": "ioiD55Kg_hq-",
        "colab_type": "code",
        "colab": {
          "base_uri": "https://localhost:8080/",
          "height": 221
        },
        "outputId": "62595d7b-87b9-4edf-f471-e658eb7932ae"
      },
      "cell_type": "code",
      "source": [
        "beanCounts = chocolate.beanType.value_counts()\n",
        "other = beanCounts[10:].sum()\n",
        "beanCounts = beanCounts[:10]\n",
        "beanCounts.loc[11] = other\n",
        "beanCounts.rename(index = {11:'Other'}, inplace=True)\n",
        "beanCounts"
      ],
      "execution_count": 25,
      "outputs": [
        {
          "output_type": "execute_result",
          "data": {
            "text/plain": [
              "Trinitario               419\n",
              "Criollo                  153\n",
              "Forastero                 87\n",
              "Forastero (Nacional)      52\n",
              "Blend                     41\n",
              "Criollo, Trinitario       39\n",
              "Forastero (Arriba)        37\n",
              "Criollo (Porcelana)       10\n",
              "Trinitario, Criollo        9\n",
              "Forastero (Parazinho)      8\n",
              "Other                     52\n",
              "Name: beanType, dtype: int64"
            ]
          },
          "metadata": {
            "tags": []
          },
          "execution_count": 25
        }
      ]
    },
    {
      "metadata": {
        "id": "5I2PG0KkAs1k",
        "colab_type": "code",
        "colab": {
          "base_uri": "https://localhost:8080/",
          "height": 491
        },
        "outputId": "b9bbb5f4-a2af-49d5-e13e-d21599638855"
      },
      "cell_type": "code",
      "source": [
        "import seaborn as sns\n",
        "plt.figure(figsize = (10, 7))\n",
        "sns.barplot(y=beanCounts.index, x=beanCounts.values)\n",
        "plt.title('Chocolate Bean Types')\n",
        "plt.ylabel('Count')\n",
        "plt.xlabel('Bean Type')\n",
        "plt.show()"
      ],
      "execution_count": 26,
      "outputs": [
        {
          "output_type": "stream",
          "text": [
            "/usr/local/lib/python3.6/dist-packages/seaborn/categorical.py:1428: FutureWarning: remove_na is deprecated and is a private function. Do not use.\n",
            "  stat_data = remove_na(group_data)\n"
          ],
          "name": "stderr"
        },
        {
          "output_type": "display_data",
          "data": {
            "image/png": "[encoded data removed]",
            "text/plain": [
              "<matplotlib.figure.Figure at 0x7f537ddeb080>"
            ]
          },
          "metadata": {
            "tags": []
          }
        }
      ]
    },
    {
      "metadata": {
        "id": "f3o8krcRhlqt",
        "colab_type": "text"
      },
      "cell_type": "markdown",
      "source": [
        "However, we would like to see which are the top beans according to mean rating."
      ]
    },
    {
      "metadata": {
        "id": "-s7LX0mxDMgW",
        "colab_type": "code",
        "colab": {
          "base_uri": "https://localhost:8080/",
          "height": 390
        },
        "outputId": "647f4409-b0a5-4706-ad2e-eb4f90090b3e"
      },
      "cell_type": "code",
      "source": [
        "bestBeans = chocolate.groupby(['beanType']).mean().sort_values('rating', ascending=False)\n",
        "bestBeans.head(10)"
      ],
      "execution_count": 27,
      "outputs": [
        {
          "output_type": "execute_result",
          "data": {
            "text/html": [
              "<div>\n",
              "<style scoped>\n",
              "    .dataframe tbody tr th:only-of-type {\n",
              "        vertical-align: middle;\n",
              "    }\n",
              "\n",
              "    .dataframe tbody tr th {\n",
              "        vertical-align: top;\n",
              "    }\n",
              "\n",
              "    .dataframe thead th {\n",
              "        text-align: right;\n",
              "    }\n",
              "</style>\n",
              "<table border=\"1\" class=\"dataframe\">\n",
              "  <thead>\n",
              "    <tr style=\"text-align: right;\">\n",
              "      <th></th>\n",
              "      <th>cocoaPercent</th>\n",
              "      <th>rating</th>\n",
              "      <th>cocoaRange</th>\n",
              "      <th>meanRating</th>\n",
              "    </tr>\n",
              "    <tr>\n",
              "      <th>beanType</th>\n",
              "      <th></th>\n",
              "      <th></th>\n",
              "      <th></th>\n",
              "      <th></th>\n",
              "    </tr>\n",
              "  </thead>\n",
              "  <tbody>\n",
              "    <tr>\n",
              "      <th>Criollo (Ocumare 67)</th>\n",
              "      <td>70.0</td>\n",
              "      <td>4.000</td>\n",
              "      <td>70.0</td>\n",
              "      <td>3.241838</td>\n",
              "    </tr>\n",
              "    <tr>\n",
              "      <th>Criollo (Wild)</th>\n",
              "      <td>68.0</td>\n",
              "      <td>4.000</td>\n",
              "      <td>70.0</td>\n",
              "      <td>3.241838</td>\n",
              "    </tr>\n",
              "    <tr>\n",
              "      <th>Trinitario (85% Criollo)</th>\n",
              "      <td>70.0</td>\n",
              "      <td>3.875</td>\n",
              "      <td>70.0</td>\n",
              "      <td>3.241838</td>\n",
              "    </tr>\n",
              "    <tr>\n",
              "      <th>Forastero (Amelonado)</th>\n",
              "      <td>70.0</td>\n",
              "      <td>3.750</td>\n",
              "      <td>70.0</td>\n",
              "      <td>3.241838</td>\n",
              "    </tr>\n",
              "    <tr>\n",
              "      <th>Trinitario, Nacional</th>\n",
              "      <td>70.0</td>\n",
              "      <td>3.750</td>\n",
              "      <td>70.0</td>\n",
              "      <td>3.241838</td>\n",
              "    </tr>\n",
              "    <tr>\n",
              "      <th>Amazon mix</th>\n",
              "      <td>74.0</td>\n",
              "      <td>3.750</td>\n",
              "      <td>70.0</td>\n",
              "      <td>3.241838</td>\n",
              "    </tr>\n",
              "    <tr>\n",
              "      <th>Criollo (Ocumare 77)</th>\n",
              "      <td>70.0</td>\n",
              "      <td>3.750</td>\n",
              "      <td>70.0</td>\n",
              "      <td>3.241838</td>\n",
              "    </tr>\n",
              "    <tr>\n",
              "      <th>Trinitario, TCGA</th>\n",
              "      <td>72.0</td>\n",
              "      <td>3.750</td>\n",
              "      <td>70.0</td>\n",
              "      <td>3.241838</td>\n",
              "    </tr>\n",
              "    <tr>\n",
              "      <th>Blend-Forastero,Criollo</th>\n",
              "      <td>70.0</td>\n",
              "      <td>3.750</td>\n",
              "      <td>70.0</td>\n",
              "      <td>3.241838</td>\n",
              "    </tr>\n",
              "    <tr>\n",
              "      <th>Criollo, Forastero</th>\n",
              "      <td>76.5</td>\n",
              "      <td>3.625</td>\n",
              "      <td>75.0</td>\n",
              "      <td>3.138018</td>\n",
              "    </tr>\n",
              "  </tbody>\n",
              "</table>\n",
              "</div>"
            ],
            "text/plain": [
              "                          cocoaPercent  rating  cocoaRange  meanRating\n",
              "beanType                                                              \n",
              "Criollo (Ocumare 67)              70.0   4.000        70.0    3.241838\n",
              "Criollo (Wild)                    68.0   4.000        70.0    3.241838\n",
              "Trinitario (85% Criollo)          70.0   3.875        70.0    3.241838\n",
              "Forastero (Amelonado)             70.0   3.750        70.0    3.241838\n",
              "Trinitario, Nacional              70.0   3.750        70.0    3.241838\n",
              "Amazon mix                        74.0   3.750        70.0    3.241838\n",
              "Criollo (Ocumare 77)              70.0   3.750        70.0    3.241838\n",
              "Trinitario, TCGA                  72.0   3.750        70.0    3.241838\n",
              "Blend-Forastero,Criollo           70.0   3.750        70.0    3.241838\n",
              "Criollo, Forastero                76.5   3.625        75.0    3.138018"
            ]
          },
          "metadata": {
            "tags": []
          },
          "execution_count": 27
        }
      ]
    },
    {
      "metadata": {
        "id": "O1enKYmDiArt",
        "colab_type": "text"
      },
      "cell_type": "markdown",
      "source": [
        "We would also like to see where thet top beans are grown according to the mean rating.  The top beans are grown in countires including Venezula, South America, Ecuador, Madagascar, and the Dominican Rebulic."
      ]
    },
    {
      "metadata": {
        "id": "mzrx5bq5PVzk",
        "colab_type": "code",
        "colab": {
          "base_uri": "https://localhost:8080/",
          "height": 514
        },
        "outputId": "1015926f-42fa-431d-a457-77c5fb47d42f"
      },
      "cell_type": "code",
      "source": [
        "bestBeanOrigin = chocolate.groupby(['beanType','broadOrigin'])['rating'].mean().reset_index().sort_values('rating', ascending=False)\n",
        "bestBeanOrigin.head(15)"
      ],
      "execution_count": 28,
      "outputs": [
        {
          "output_type": "execute_result",
          "data": {
            "text/html": [
              "<div>\n",
              "<style scoped>\n",
              "    .dataframe tbody tr th:only-of-type {\n",
              "        vertical-align: middle;\n",
              "    }\n",
              "\n",
              "    .dataframe tbody tr th {\n",
              "        vertical-align: top;\n",
              "    }\n",
              "\n",
              "    .dataframe thead th {\n",
              "        text-align: right;\n",
              "    }\n",
              "</style>\n",
              "<table border=\"1\" class=\"dataframe\">\n",
              "  <thead>\n",
              "    <tr style=\"text-align: right;\">\n",
              "      <th></th>\n",
              "      <th>beanType</th>\n",
              "      <th>broadOrigin</th>\n",
              "      <th>rating</th>\n",
              "    </tr>\n",
              "  </thead>\n",
              "  <tbody>\n",
              "    <tr>\n",
              "      <th>22</th>\n",
              "      <td>Blend</td>\n",
              "      <td>Venezuela, Java</td>\n",
              "      <td>4.00</td>\n",
              "    </tr>\n",
              "    <tr>\n",
              "      <th>68</th>\n",
              "      <td>Criollo, Trinitario</td>\n",
              "      <td>South America</td>\n",
              "      <td>4.00</td>\n",
              "    </tr>\n",
              "    <tr>\n",
              "      <th>61</th>\n",
              "      <td>Criollo, Trinitario</td>\n",
              "      <td>Ecuador</td>\n",
              "      <td>4.00</td>\n",
              "    </tr>\n",
              "    <tr>\n",
              "      <th>6</th>\n",
              "      <td>Blend</td>\n",
              "      <td>Dom. Rep., Madagascar</td>\n",
              "      <td>4.00</td>\n",
              "    </tr>\n",
              "    <tr>\n",
              "      <th>32</th>\n",
              "      <td>Criollo</td>\n",
              "      <td>Ecuador</td>\n",
              "      <td>4.00</td>\n",
              "    </tr>\n",
              "    <tr>\n",
              "      <th>52</th>\n",
              "      <td>Criollo (Wild)</td>\n",
              "      <td>Bolivia</td>\n",
              "      <td>4.00</td>\n",
              "    </tr>\n",
              "    <tr>\n",
              "      <th>132</th>\n",
              "      <td>Trinitario</td>\n",
              "      <td>Tobago</td>\n",
              "      <td>4.00</td>\n",
              "    </tr>\n",
              "    <tr>\n",
              "      <th>11</th>\n",
              "      <td>Blend</td>\n",
              "      <td>Gre., PNG, Haw., Haiti, Mad</td>\n",
              "      <td>4.00</td>\n",
              "    </tr>\n",
              "    <tr>\n",
              "      <th>138</th>\n",
              "      <td>Trinitario (85% Criollo)</td>\n",
              "      <td>Madagascar</td>\n",
              "      <td>4.00</td>\n",
              "    </tr>\n",
              "    <tr>\n",
              "      <th>48</th>\n",
              "      <td>Criollo (Ocumare 67)</td>\n",
              "      <td>Venezuela</td>\n",
              "      <td>4.00</td>\n",
              "    </tr>\n",
              "    <tr>\n",
              "      <th>35</th>\n",
              "      <td>Criollo</td>\n",
              "      <td>Honduras</td>\n",
              "      <td>3.75</td>\n",
              "    </tr>\n",
              "    <tr>\n",
              "      <th>25</th>\n",
              "      <td>Blend-Forastero,Criollo</td>\n",
              "      <td>Dominican Republic</td>\n",
              "      <td>3.75</td>\n",
              "    </tr>\n",
              "    <tr>\n",
              "      <th>131</th>\n",
              "      <td>Trinitario</td>\n",
              "      <td>Tanzania</td>\n",
              "      <td>3.75</td>\n",
              "    </tr>\n",
              "    <tr>\n",
              "      <th>31</th>\n",
              "      <td>Criollo</td>\n",
              "      <td>Dominican Republic</td>\n",
              "      <td>3.75</td>\n",
              "    </tr>\n",
              "    <tr>\n",
              "      <th>151</th>\n",
              "      <td>Trinitario, TCGA</td>\n",
              "      <td>Belize</td>\n",
              "      <td>3.75</td>\n",
              "    </tr>\n",
              "  </tbody>\n",
              "</table>\n",
              "</div>"
            ],
            "text/plain": [
              "                     beanType                  broadOrigin  rating\n",
              "22                      Blend              Venezuela, Java    4.00\n",
              "68        Criollo, Trinitario                South America    4.00\n",
              "61        Criollo, Trinitario                      Ecuador    4.00\n",
              "6                       Blend        Dom. Rep., Madagascar    4.00\n",
              "32                    Criollo                      Ecuador    4.00\n",
              "52             Criollo (Wild)                      Bolivia    4.00\n",
              "132                Trinitario                       Tobago    4.00\n",
              "11                      Blend  Gre., PNG, Haw., Haiti, Mad    4.00\n",
              "138  Trinitario (85% Criollo)                   Madagascar    4.00\n",
              "48       Criollo (Ocumare 67)                    Venezuela    4.00\n",
              "35                    Criollo                     Honduras    3.75\n",
              "25    Blend-Forastero,Criollo           Dominican Republic    3.75\n",
              "131                Trinitario                     Tanzania    3.75\n",
              "31                    Criollo           Dominican Republic    3.75\n",
              "151          Trinitario, TCGA                       Belize    3.75"
            ]
          },
          "metadata": {
            "tags": []
          },
          "execution_count": 28
        }
      ]
    },
    {
      "metadata": {
        "id": "O0RNAKuNKSpL",
        "colab_type": "code",
        "colab": {
          "base_uri": "https://localhost:8080/",
          "height": 514
        },
        "outputId": "000f657f-1498-4277-bf78-6e19e9fc34a6"
      },
      "cell_type": "code",
      "source": [
        "chocolate.groupby(['beanType','broadOrigin']).size().reset_index(name='counts').sort_values('counts', ascending=False).head(15)"
      ],
      "execution_count": 29,
      "outputs": [
        {
          "output_type": "execute_result",
          "data": {
            "text/html": [
              "<div>\n",
              "<style scoped>\n",
              "    .dataframe tbody tr th:only-of-type {\n",
              "        vertical-align: middle;\n",
              "    }\n",
              "\n",
              "    .dataframe tbody tr th {\n",
              "        vertical-align: top;\n",
              "    }\n",
              "\n",
              "    .dataframe thead th {\n",
              "        text-align: right;\n",
              "    }\n",
              "</style>\n",
              "<table border=\"1\" class=\"dataframe\">\n",
              "  <thead>\n",
              "    <tr style=\"text-align: right;\">\n",
              "      <th></th>\n",
              "      <th>beanType</th>\n",
              "      <th>broadOrigin</th>\n",
              "      <th>counts</th>\n",
              "    </tr>\n",
              "  </thead>\n",
              "  <tbody>\n",
              "    <tr>\n",
              "      <th>120</th>\n",
              "      <td>Trinitario</td>\n",
              "      <td>Madagascar</td>\n",
              "      <td>110</td>\n",
              "    </tr>\n",
              "    <tr>\n",
              "      <th>44</th>\n",
              "      <td>Criollo</td>\n",
              "      <td>Venezuela</td>\n",
              "      <td>58</td>\n",
              "    </tr>\n",
              "    <tr>\n",
              "      <th>135</th>\n",
              "      <td>Trinitario</td>\n",
              "      <td>Venezuela</td>\n",
              "      <td>57</td>\n",
              "    </tr>\n",
              "    <tr>\n",
              "      <th>103</th>\n",
              "      <td>Trinitario</td>\n",
              "      <td>Belize</td>\n",
              "      <td>39</td>\n",
              "    </tr>\n",
              "    <tr>\n",
              "      <th>41</th>\n",
              "      <td>Criollo</td>\n",
              "      <td>Peru</td>\n",
              "      <td>38</td>\n",
              "    </tr>\n",
              "    <tr>\n",
              "      <th>136</th>\n",
              "      <td>Trinitario</td>\n",
              "      <td>Vietnam</td>\n",
              "      <td>37</td>\n",
              "    </tr>\n",
              "    <tr>\n",
              "      <th>89</th>\n",
              "      <td>Forastero (Arriba)</td>\n",
              "      <td>Ecuador</td>\n",
              "      <td>37</td>\n",
              "    </tr>\n",
              "    <tr>\n",
              "      <th>133</th>\n",
              "      <td>Trinitario</td>\n",
              "      <td>Trinidad</td>\n",
              "      <td>33</td>\n",
              "    </tr>\n",
              "    <tr>\n",
              "      <th>78</th>\n",
              "      <td>Forastero</td>\n",
              "      <td>Ghana</td>\n",
              "      <td>31</td>\n",
              "    </tr>\n",
              "    <tr>\n",
              "      <th>95</th>\n",
              "      <td>Forastero (Nacional)</td>\n",
              "      <td>Peru</td>\n",
              "      <td>25</td>\n",
              "    </tr>\n",
              "    <tr>\n",
              "      <th>94</th>\n",
              "      <td>Forastero (Nacional)</td>\n",
              "      <td>Ecuador</td>\n",
              "      <td>22</td>\n",
              "    </tr>\n",
              "    <tr>\n",
              "      <th>24</th>\n",
              "      <td>Blend</td>\n",
              "      <td></td>\n",
              "      <td>20</td>\n",
              "    </tr>\n",
              "    <tr>\n",
              "      <th>119</th>\n",
              "      <td>Trinitario</td>\n",
              "      <td>Jamaica</td>\n",
              "      <td>19</td>\n",
              "    </tr>\n",
              "    <tr>\n",
              "      <th>115</th>\n",
              "      <td>Trinitario</td>\n",
              "      <td>Grenada</td>\n",
              "      <td>17</td>\n",
              "    </tr>\n",
              "    <tr>\n",
              "      <th>37</th>\n",
              "      <td>Criollo</td>\n",
              "      <td>Madagascar</td>\n",
              "      <td>13</td>\n",
              "    </tr>\n",
              "  </tbody>\n",
              "</table>\n",
              "</div>"
            ],
            "text/plain": [
              "                 beanType broadOrigin  counts\n",
              "120            Trinitario  Madagascar     110\n",
              "44                Criollo   Venezuela      58\n",
              "135            Trinitario   Venezuela      57\n",
              "103            Trinitario      Belize      39\n",
              "41                Criollo        Peru      38\n",
              "136            Trinitario     Vietnam      37\n",
              "89     Forastero (Arriba)     Ecuador      37\n",
              "133            Trinitario    Trinidad      33\n",
              "78              Forastero       Ghana      31\n",
              "95   Forastero (Nacional)        Peru      25\n",
              "94   Forastero (Nacional)     Ecuador      22\n",
              "24                  Blend                  20\n",
              "119            Trinitario     Jamaica      19\n",
              "115            Trinitario     Grenada      17\n",
              "37                Criollo  Madagascar      13"
            ]
          },
          "metadata": {
            "tags": []
          },
          "execution_count": 29
        }
      ]
    },
    {
      "metadata": {
        "id": "TGf6HlWQtg_0",
        "colab_type": "text"
      },
      "cell_type": "markdown",
      "source": [
        "## Chocolate Company Location Comparison"
      ]
    },
    {
      "metadata": {
        "id": "37rcKkqJ_Uwj",
        "colab_type": "code",
        "colab": {
          "base_uri": "https://localhost:8080/",
          "height": 221
        },
        "outputId": "e51ddeb3-81fa-44a2-ccfc-d1e14ef3ee20"
      },
      "cell_type": "code",
      "source": [
        "locCounts = chocolate.companyLocation.value_counts()\n",
        "other = locCounts[10:].sum()\n",
        "locCounts = locCounts[:10]\n",
        "locCounts.loc[11] = other\n",
        "locCounts.rename(index = {11:'Other'}, inplace=True)\n",
        "locCounts"
      ],
      "execution_count": 30,
      "outputs": [
        {
          "output_type": "execute_result",
          "data": {
            "text/plain": [
              "U.S.A.         764\n",
              "France         156\n",
              "Canada         125\n",
              "U.K.            96\n",
              "Italy           63\n",
              "Ecuador         54\n",
              "Australia       49\n",
              "Belgium         40\n",
              "Switzerland     38\n",
              "Germany         35\n",
              "Other          375\n",
              "Name: companyLocation, dtype: int64"
            ]
          },
          "metadata": {
            "tags": []
          },
          "execution_count": 30
        }
      ]
    },
    {
      "metadata": {
        "id": "35UCznKxNgM3",
        "colab_type": "text"
      },
      "cell_type": "markdown",
      "source": [
        "Below we can see where the company of the chocolate bars are located.  We can see tha the majority of the chocolate bar's companies are located in the U.S., followed by France, Canada, etc."
      ]
    },
    {
      "metadata": {
        "id": "5XsGoZBHYrJX",
        "colab_type": "code",
        "colab": {
          "base_uri": "https://localhost:8080/",
          "height": 491
        },
        "outputId": "7e31dbe9-94c3-4671-b0b6-921cd9c7cc1d"
      },
      "cell_type": "code",
      "source": [
        "import seaborn as sns\n",
        "plt.figure(figsize = (10, 7))\n",
        "sns.barplot(x=locCounts.index, y=locCounts.values)\n",
        "plt.title('Company Location of Chocolate')\n",
        "plt.ylabel('Count')\n",
        "plt.xlabel('Company Location')\n",
        "plt.show()"
      ],
      "execution_count": 31,
      "outputs": [
        {
          "output_type": "stream",
          "text": [
            "/usr/local/lib/python3.6/dist-packages/seaborn/categorical.py:1428: FutureWarning: remove_na is deprecated and is a private function. Do not use.\n",
            "  stat_data = remove_na(group_data)\n"
          ],
          "name": "stderr"
        },
        {
          "output_type": "display_data",
          "data": {
            "image/png": "[encoded data removed]",
            "text/plain": [
              "<matplotlib.figure.Figure at 0x7f537ea566a0>"
            ]
          },
          "metadata": {
            "tags": []
          }
        }
      ]
    },
    {
      "metadata": {
        "id": "y5ywOJv2OYHt",
        "colab_type": "text"
      },
      "cell_type": "markdown",
      "source": [
        "Despite that most companies are location in the U.S. the chocolates with companies which have the highest chocolate mean rating are located in Chile, Amsterdam, Netherlands, Philippines, Iceland, etc."
      ]
    },
    {
      "metadata": {
        "id": "wopXCI3HyGU4",
        "colab_type": "code",
        "colab": {
          "base_uri": "https://localhost:8080/",
          "height": 390
        },
        "outputId": "4ce7ccf0-40fe-4823-dc87-03a66c7d07a7"
      },
      "cell_type": "code",
      "source": [
        "chocolate.groupby(['companyLocation']).mean().sort_values('rating', ascending=False).head(10)"
      ],
      "execution_count": 37,
      "outputs": [
        {
          "output_type": "execute_result",
          "data": {
            "text/html": [
              "<div>\n",
              "<style scoped>\n",
              "    .dataframe tbody tr th:only-of-type {\n",
              "        vertical-align: middle;\n",
              "    }\n",
              "\n",
              "    .dataframe tbody tr th {\n",
              "        vertical-align: top;\n",
              "    }\n",
              "\n",
              "    .dataframe thead th {\n",
              "        text-align: right;\n",
              "    }\n",
              "</style>\n",
              "<table border=\"1\" class=\"dataframe\">\n",
              "  <thead>\n",
              "    <tr style=\"text-align: right;\">\n",
              "      <th></th>\n",
              "      <th>cocoaPercent</th>\n",
              "      <th>rating</th>\n",
              "      <th>cocoaRange</th>\n",
              "      <th>meanRating</th>\n",
              "    </tr>\n",
              "    <tr>\n",
              "      <th>companyLocation</th>\n",
              "      <th></th>\n",
              "      <th></th>\n",
              "      <th></th>\n",
              "      <th></th>\n",
              "    </tr>\n",
              "  </thead>\n",
              "  <tbody>\n",
              "    <tr>\n",
              "      <th>Chile</th>\n",
              "      <td>70.000000</td>\n",
              "      <td>3.750000</td>\n",
              "      <td>70.000000</td>\n",
              "      <td>3.241838</td>\n",
              "    </tr>\n",
              "    <tr>\n",
              "      <th>Amsterdam</th>\n",
              "      <td>73.250000</td>\n",
              "      <td>3.500000</td>\n",
              "      <td>72.500000</td>\n",
              "      <td>3.189928</td>\n",
              "    </tr>\n",
              "    <tr>\n",
              "      <th>Netherlands</th>\n",
              "      <td>70.000000</td>\n",
              "      <td>3.500000</td>\n",
              "      <td>70.000000</td>\n",
              "      <td>3.241838</td>\n",
              "    </tr>\n",
              "    <tr>\n",
              "      <th>Philippines</th>\n",
              "      <td>65.000000</td>\n",
              "      <td>3.500000</td>\n",
              "      <td>60.000000</td>\n",
              "      <td>3.139303</td>\n",
              "    </tr>\n",
              "    <tr>\n",
              "      <th>Iceland</th>\n",
              "      <td>68.666667</td>\n",
              "      <td>3.416667</td>\n",
              "      <td>70.000000</td>\n",
              "      <td>3.241838</td>\n",
              "    </tr>\n",
              "    <tr>\n",
              "      <th>Vietnam</th>\n",
              "      <td>74.545455</td>\n",
              "      <td>3.409091</td>\n",
              "      <td>73.636364</td>\n",
              "      <td>3.166332</td>\n",
              "    </tr>\n",
              "    <tr>\n",
              "      <th>Brazil</th>\n",
              "      <td>69.823529</td>\n",
              "      <td>3.397059</td>\n",
              "      <td>67.058824</td>\n",
              "      <td>3.135590</td>\n",
              "    </tr>\n",
              "    <tr>\n",
              "      <th>Poland</th>\n",
              "      <td>71.875000</td>\n",
              "      <td>3.375000</td>\n",
              "      <td>71.250000</td>\n",
              "      <td>3.215883</td>\n",
              "    </tr>\n",
              "    <tr>\n",
              "      <th>Australia</th>\n",
              "      <td>70.224490</td>\n",
              "      <td>3.357143</td>\n",
              "      <td>69.591837</td>\n",
              "      <td>3.218662</td>\n",
              "    </tr>\n",
              "    <tr>\n",
              "      <th>Guatemala</th>\n",
              "      <td>70.200000</td>\n",
              "      <td>3.350000</td>\n",
              "      <td>69.000000</td>\n",
              "      <td>3.200567</td>\n",
              "    </tr>\n",
              "  </tbody>\n",
              "</table>\n",
              "</div>"
            ],
            "text/plain": [
              "                 cocoaPercent    rating  cocoaRange  meanRating\n",
              "companyLocation                                                \n",
              "Chile               70.000000  3.750000   70.000000    3.241838\n",
              "Amsterdam           73.250000  3.500000   72.500000    3.189928\n",
              "Netherlands         70.000000  3.500000   70.000000    3.241838\n",
              "Philippines         65.000000  3.500000   60.000000    3.139303\n",
              "Iceland             68.666667  3.416667   70.000000    3.241838\n",
              "Vietnam             74.545455  3.409091   73.636364    3.166332\n",
              "Brazil              69.823529  3.397059   67.058824    3.135590\n",
              "Poland              71.875000  3.375000   71.250000    3.215883\n",
              "Australia           70.224490  3.357143   69.591837    3.218662\n",
              "Guatemala           70.200000  3.350000   69.000000    3.200567"
            ]
          },
          "metadata": {
            "tags": []
          },
          "execution_count": 37
        }
      ]
    },
    {
      "metadata": {
        "id": "qQ4zLVErtVPB",
        "colab_type": "text"
      },
      "cell_type": "markdown",
      "source": [
        "## Chocolate Origin Comparison"
      ]
    },
    {
      "metadata": {
        "id": "_62fR-il_gI2",
        "colab_type": "code",
        "colab": {
          "base_uri": "https://localhost:8080/",
          "height": 204
        },
        "outputId": "4cd51e14-bc76-4c98-814f-dab72dae3e37"
      },
      "cell_type": "code",
      "source": [
        "chocolate.broadOrigin.value_counts().head(10)"
      ],
      "execution_count": 32,
      "outputs": [
        {
          "output_type": "execute_result",
          "data": {
            "text/plain": [
              "Venezuela             214\n",
              "Ecuador               193\n",
              "Peru                  165\n",
              "Madagascar            145\n",
              "Dominican Republic    141\n",
              "                       73\n",
              "Nicaragua              60\n",
              "Brazil                 58\n",
              "Bolivia                57\n",
              "Belize                 49\n",
              "Name: broadOrigin, dtype: int64"
            ]
          },
          "metadata": {
            "tags": []
          },
          "execution_count": 32
        }
      ]
    },
    {
      "metadata": {
        "id": "HqMRBOhaGMYj",
        "colab_type": "code",
        "colab": {
          "base_uri": "https://localhost:8080/",
          "height": 204
        },
        "outputId": "1d9106a9-075c-4df1-c38b-595c7e18acdb"
      },
      "cell_type": "code",
      "source": [
        "originCounts = chocolate.broadOrigin.value_counts()\n",
        "other = originCounts[35:].sum()\n",
        "originCounts= originCounts[:35]\n",
        "originCounts.loc[36] = other\n",
        "originCounts.rename(index = {36:'Other'}, inplace=True)\n",
        "originCounts.head(10)"
      ],
      "execution_count": 33,
      "outputs": [
        {
          "output_type": "execute_result",
          "data": {
            "text/plain": [
              "Venezuela             214\n",
              "Ecuador               193\n",
              "Peru                  165\n",
              "Madagascar            145\n",
              "Dominican Republic    141\n",
              "                       73\n",
              "Nicaragua              60\n",
              "Brazil                 58\n",
              "Bolivia                57\n",
              "Belize                 49\n",
              "Name: broadOrigin, dtype: int64"
            ]
          },
          "metadata": {
            "tags": []
          },
          "execution_count": 33
        }
      ]
    },
    {
      "metadata": {
        "id": "vhjzzqlSQjqB",
        "colab_type": "text"
      },
      "cell_type": "markdown",
      "source": [
        "The plot below shows the origin of the chocolate bars. Some of the top origin countries include Venezula, Ecuador, Peru, Madagascar, and the Dominican Republic."
      ]
    },
    {
      "metadata": {
        "id": "8PvB9oycKhoi",
        "colab_type": "code",
        "colab": {
          "base_uri": "https://localhost:8080/",
          "height": 546
        },
        "outputId": "6c0f81f4-57c0-4b9c-f322-d720cd920390"
      },
      "cell_type": "code",
      "source": [
        "plt.figure(figsize = (11, 8))\n",
        "sns.barplot(y=originCounts.index, x=originCounts.values)\n",
        "plt.title('Broad Origin of Chocolate')\n",
        "plt.ylabel('Origin')\n",
        "plt.xlabel('Count')\n",
        "plt.show()"
      ],
      "execution_count": 34,
      "outputs": [
        {
          "output_type": "stream",
          "text": [
            "/usr/local/lib/python3.6/dist-packages/seaborn/categorical.py:1428: FutureWarning: remove_na is deprecated and is a private function. Do not use.\n",
            "  stat_data = remove_na(group_data)\n"
          ],
          "name": "stderr"
        },
        {
          "output_type": "display_data",
          "data": {
            "image/png": "[encoded data removed]",
            "text/plain": [
              "<matplotlib.figure.Figure at 0x7f537ea208d0>"
            ]
          },
          "metadata": {
            "tags": []
          }
        }
      ]
    },
    {
      "metadata": {
        "id": "GQSudpISxSvk",
        "colab_type": "text"
      },
      "cell_type": "markdown",
      "source": [
        "Below are the chocolate origins with the highest mean ratings.  Origins of Venezula, Dominican Republic, Ecuador, and Madagascar have highest mean ratings."
      ]
    },
    {
      "metadata": {
        "id": "L1X9sxWK__v0",
        "colab_type": "code",
        "colab": {
          "base_uri": "https://localhost:8080/",
          "height": 390
        },
        "outputId": "86361750-3cde-4dc6-862e-3753d610cece"
      },
      "cell_type": "code",
      "source": [
        "chocolate.groupby(['broadOrigin']).mean().sort_values('rating', ascending=False).head(10)"
      ],
      "execution_count": 35,
      "outputs": [
        {
          "output_type": "execute_result",
          "data": {
            "text/html": [
              "<div>\n",
              "<style scoped>\n",
              "    .dataframe tbody tr th:only-of-type {\n",
              "        vertical-align: middle;\n",
              "    }\n",
              "\n",
              "    .dataframe tbody tr th {\n",
              "        vertical-align: top;\n",
              "    }\n",
              "\n",
              "    .dataframe thead th {\n",
              "        text-align: right;\n",
              "    }\n",
              "</style>\n",
              "<table border=\"1\" class=\"dataframe\">\n",
              "  <thead>\n",
              "    <tr style=\"text-align: right;\">\n",
              "      <th></th>\n",
              "      <th>cocoaPercent</th>\n",
              "      <th>rating</th>\n",
              "      <th>cocoaRange</th>\n",
              "      <th>meanRating</th>\n",
              "    </tr>\n",
              "    <tr>\n",
              "      <th>broadOrigin</th>\n",
              "      <th></th>\n",
              "      <th></th>\n",
              "      <th></th>\n",
              "      <th></th>\n",
              "    </tr>\n",
              "  </thead>\n",
              "  <tbody>\n",
              "    <tr>\n",
              "      <th>Ven, Bolivia, D.R.</th>\n",
              "      <td>70.0</td>\n",
              "      <td>4.00</td>\n",
              "      <td>70.0</td>\n",
              "      <td>3.241838</td>\n",
              "    </tr>\n",
              "    <tr>\n",
              "      <th>Dom. Rep., Madagascar</th>\n",
              "      <td>70.0</td>\n",
              "      <td>4.00</td>\n",
              "      <td>70.0</td>\n",
              "      <td>3.241838</td>\n",
              "    </tr>\n",
              "    <tr>\n",
              "      <th>Guat., D.R., Peru, Mad., PNG</th>\n",
              "      <td>88.0</td>\n",
              "      <td>4.00</td>\n",
              "      <td>90.0</td>\n",
              "      <td>2.945652</td>\n",
              "    </tr>\n",
              "    <tr>\n",
              "      <th>Venezuela, Java</th>\n",
              "      <td>70.0</td>\n",
              "      <td>4.00</td>\n",
              "      <td>70.0</td>\n",
              "      <td>3.241838</td>\n",
              "    </tr>\n",
              "    <tr>\n",
              "      <th>Gre., PNG, Haw., Haiti, Mad</th>\n",
              "      <td>70.0</td>\n",
              "      <td>4.00</td>\n",
              "      <td>70.0</td>\n",
              "      <td>3.241838</td>\n",
              "    </tr>\n",
              "    <tr>\n",
              "      <th>Peru, Dom. Rep</th>\n",
              "      <td>67.0</td>\n",
              "      <td>4.00</td>\n",
              "      <td>70.0</td>\n",
              "      <td>3.241838</td>\n",
              "    </tr>\n",
              "    <tr>\n",
              "      <th>Dominican Rep., Bali</th>\n",
              "      <td>70.0</td>\n",
              "      <td>3.75</td>\n",
              "      <td>70.0</td>\n",
              "      <td>3.241838</td>\n",
              "    </tr>\n",
              "    <tr>\n",
              "      <th>Ven.,Ecu.,Peru,Nic.</th>\n",
              "      <td>75.0</td>\n",
              "      <td>3.75</td>\n",
              "      <td>70.0</td>\n",
              "      <td>3.241838</td>\n",
              "    </tr>\n",
              "    <tr>\n",
              "      <th>Peru, Belize</th>\n",
              "      <td>75.0</td>\n",
              "      <td>3.75</td>\n",
              "      <td>70.0</td>\n",
              "      <td>3.241838</td>\n",
              "    </tr>\n",
              "    <tr>\n",
              "      <th>PNG, Vanuatu, Mad</th>\n",
              "      <td>70.0</td>\n",
              "      <td>3.75</td>\n",
              "      <td>70.0</td>\n",
              "      <td>3.241838</td>\n",
              "    </tr>\n",
              "  </tbody>\n",
              "</table>\n",
              "</div>"
            ],
            "text/plain": [
              "                              cocoaPercent  rating  cocoaRange  meanRating\n",
              "broadOrigin                                                               \n",
              "Ven, Bolivia, D.R.                    70.0    4.00        70.0    3.241838\n",
              "Dom. Rep., Madagascar                 70.0    4.00        70.0    3.241838\n",
              "Guat., D.R., Peru, Mad., PNG          88.0    4.00        90.0    2.945652\n",
              "Venezuela, Java                       70.0    4.00        70.0    3.241838\n",
              "Gre., PNG, Haw., Haiti, Mad           70.0    4.00        70.0    3.241838\n",
              "Peru, Dom. Rep                        67.0    4.00        70.0    3.241838\n",
              "Dominican Rep., Bali                  70.0    3.75        70.0    3.241838\n",
              "Ven.,Ecu.,Peru,Nic.                   75.0    3.75        70.0    3.241838\n",
              "Peru, Belize                          75.0    3.75        70.0    3.241838\n",
              "PNG, Vanuatu, Mad                     70.0    3.75        70.0    3.241838"
            ]
          },
          "metadata": {
            "tags": []
          },
          "execution_count": 35
        }
      ]
    },
    {
      "metadata": {
        "id": "Pe2fyhLvPlfR",
        "colab_type": "text"
      },
      "cell_type": "markdown",
      "source": [
        "### Two-Tailed T-test"
      ]
    },
    {
      "metadata": {
        "id": "e53bMQsImZF5",
        "colab_type": "text"
      },
      "cell_type": "markdown",
      "source": [
        "The two-tailed t-test shows that chocolate ratings for Venezuela are significantly different (about 3.89 standard errors) from the chocolate ratings of Ecuador with over a 99% confidence. "
      ]
    },
    {
      "metadata": {
        "id": "0VhlhGanjnJ5",
        "colab_type": "code",
        "colab": {
          "base_uri": "https://localhost:8080/",
          "height": 34
        },
        "outputId": "73c22c08-eb3b-445b-fc50-72d2d33859d3"
      },
      "cell_type": "code",
      "source": [
        "venezuela = chocolate.loc[lambda chocolate: chocolate.broadOrigin == 'Venezuela', :]\n",
        "ecuador = chocolate.loc[lambda chocolate: chocolate.broadOrigin == 'Ecuador', :]\n",
        "\n",
        "np.random.seed(0)\n",
        "sampleA = np.random.choice(venezuela.rating, 170, replace = True)\n",
        "sampleB = np.random.choice(ecuador.rating, 170, replace = True)\n",
        "\n",
        "print(ttest_ind(sampleA, sampleB, equal_var=False))"
      ],
      "execution_count": 51,
      "outputs": [
        {
          "output_type": "stream",
          "text": [
            "Ttest_indResult(statistic=3.8992079686831214, pvalue=0.00011775674582345035)\n"
          ],
          "name": "stdout"
        }
      ]
    },
    {
      "metadata": {
        "id": "DiYO3uXWnStK",
        "colab_type": "code",
        "colab": {
          "base_uri": "https://localhost:8080/",
          "height": 51
        },
        "outputId": "74324970-cf64-4ef3-e2b8-4f8ec0f8251f"
      },
      "cell_type": "code",
      "source": [
        "print(np.mean(sampleA))\n",
        "print(np.mean(sampleB))\n"
      ],
      "execution_count": 53,
      "outputs": [
        {
          "output_type": "stream",
          "text": [
            "3.3397058823529413\n",
            "3.135294117647059\n"
          ],
          "name": "stdout"
        }
      ]
    },
    {
      "metadata": {
        "id": "kKvaKxvbREdc",
        "colab_type": "text"
      },
      "cell_type": "markdown",
      "source": [
        "## Future Research\n",
        "\n",
        "For future research it will be interesting to explore how the ratings vary with additional data on each individual chocolate bar.  For example, if we had multiple ratings for the same chocolate bar, and from mutiple batches, it would be interesting to see the variance between these.  Also, with data science techniques, such as regression, we would be able to see the exact correlation between variables such as cocoa percentage and rating.  Machine learning may enable us to determine the rating for chocolate bar using factors included in the data such as cocoa percentage, broad origin, and bean type."
      ]
    }
  ]
}