{
  "nbformat": 4,
  "nbformat_minor": 0,
  "metadata": {
    "colab": {
      "name": "Unit 3 Capstone - Google Playstore App Ratings Final.ipynb",
      "version": "0.3.2",
      "provenance": [],
      "collapsed_sections": [
        "AZlSWGKULgKI",
        "P5fWD1j_pUCs",
        "m9dMtN9QpbAh",
        "MGHsrbZTRkTS",
        "Nogxyuhoq1IU",
        "p29xK1-zN6fA",
        "ap603_WAh6JV",
        "m5f9_UQlkEFf",
        "kRid6gQfrgoS",
        "PEtLZZg2ZdGW",
        "fumQl949U58P",
        "5hjxynEMZsu2",
        "9hQKuxP7Zz89",
        "VWWrXtEBxFvi",
        "lwhRDs0WZ75w",
        "QyNivxlMQmAz"
      ],
      "include_colab_link": true
    },
    "kernelspec": {
      "name": "python3",
      "display_name": "Python 3"
    }
  },
  "cells": [
    {
      "cell_type": "markdown",
      "metadata": {
        "id": "view-in-github",
        "colab_type": "text"
      },
      "source": [
        "<a href=\"https://colab.research.google.com/github/mxchauhan/Capstone/blob/master/Unit_3_Capstone_Google_Playstore_App_Ratings_Final.ipynb\" target=\"_parent\"><img src=\"https://colab.research.google.com/assets/colab-badge.svg\" alt=\"Open In Colab\"/></a>"
      ]
    },
    {
      "metadata": {
        "id": "XQUbrDnqAjy9",
        "colab_type": "text"
      },
      "cell_type": "markdown",
      "source": [
        "## Predicting Rating of Google Playstore Apps"
      ]
    },
    {
      "metadata": {
        "id": "duZvyXfHFTkf",
        "colab_type": "text"
      },
      "cell_type": "markdown",
      "source": [
        "In this capstone project, we will conduct analysis and modeling on Google Playstore's downloads data.\n",
        "\n",
        "The data includes information on app ratings, the size of the app, the number of reviews, as well as the number of installs.  It also includes categorical data such as the genre and version of the app.\n",
        "\n",
        "We will apply feature engineering to this data as well as supervised learning models to predict the app rating."
      ]
    },
    {
      "metadata": {
        "id": "AZlSWGKULgKI",
        "colab_type": "text"
      },
      "cell_type": "markdown",
      "source": [
        "##DATA IMPORTING"
      ]
    },
    {
      "metadata": {
        "id": "pi1xME0s0-fB",
        "colab_type": "code",
        "colab": {}
      },
      "cell_type": "code",
      "source": [
        "import numpy as np\n",
        "import pandas as pd\n",
        "import scipy\n",
        "import sklearn\n",
        "import matplotlib.pyplot as plt\n",
        "import seaborn as sns"
      ],
      "execution_count": 0,
      "outputs": []
    },
    {
      "metadata": {
        "id": "Y3x7V0-e31zT",
        "colab_type": "code",
        "outputId": "323498b6-9803-4390-84a1-84a48b233dbe",
        "colab": {
          "base_uri": "https://localhost:8080/",
          "height": 547
        }
      },
      "cell_type": "code",
      "source": [
        "#Upload data and rename data column names\n",
        "\n",
        "dataPath = (\"https://raw.githubusercontent.com/mxchauhan/Capstone/master/googleplaystore.csv\")\n",
        "\n",
        "data = pd.read_csv(dataPath)\n",
        "\n",
        "data.columns = ['app',\n",
        "                'category',\n",
        "                'rating',\n",
        "                'reviews',\n",
        "                'size',\n",
        "                'installs',\n",
        "                'type',\n",
        "                'price',\n",
        "                'contentRating',\n",
        "                'genres',\n",
        "                'updated',\n",
        "                'version',\n",
        "                'androidVersion']\n",
        "\n",
        "data.head()"
      ],
      "execution_count": 0,
      "outputs": [
        {
          "output_type": "execute_result",
          "data": {
            "text/html": [
              "<div>\n",
              "<style scoped>\n",
              "    .dataframe tbody tr th:only-of-type {\n",
              "        vertical-align: middle;\n",
              "    }\n",
              "\n",
              "    .dataframe tbody tr th {\n",
              "        vertical-align: top;\n",
              "    }\n",
              "\n",
              "    .dataframe thead th {\n",
              "        text-align: right;\n",
              "    }\n",
              "</style>\n",
              "<table border=\"1\" class=\"dataframe\">\n",
              "  <thead>\n",
              "    <tr style=\"text-align: right;\">\n",
              "      <th></th>\n",
              "      <th>app</th>\n",
              "      <th>category</th>\n",
              "      <th>rating</th>\n",
              "      <th>reviews</th>\n",
              "      <th>size</th>\n",
              "      <th>installs</th>\n",
              "      <th>type</th>\n",
              "      <th>price</th>\n",
              "      <th>contentRating</th>\n",
              "      <th>genres</th>\n",
              "      <th>updated</th>\n",
              "      <th>version</th>\n",
              "      <th>androidVersion</th>\n",
              "    </tr>\n",
              "  </thead>\n",
              "  <tbody>\n",
              "    <tr>\n",
              "      <th>0</th>\n",
              "      <td>Photo Editor &amp; Candy Camera &amp; Grid &amp; ScrapBook</td>\n",
              "      <td>ART_AND_DESIGN</td>\n",
              "      <td>4.1</td>\n",
              "      <td>159</td>\n",
              "      <td>19M</td>\n",
              "      <td>10,000+</td>\n",
              "      <td>Free</td>\n",
              "      <td>0</td>\n",
              "      <td>Everyone</td>\n",
              "      <td>Art &amp; Design</td>\n",
              "      <td>7-Jan-18</td>\n",
              "      <td>1.0.0</td>\n",
              "      <td>4.0.3 and up</td>\n",
              "    </tr>\n",
              "    <tr>\n",
              "      <th>1</th>\n",
              "      <td>Coloring book moana</td>\n",
              "      <td>ART_AND_DESIGN</td>\n",
              "      <td>3.9</td>\n",
              "      <td>967</td>\n",
              "      <td>14M</td>\n",
              "      <td>500,000+</td>\n",
              "      <td>Free</td>\n",
              "      <td>0</td>\n",
              "      <td>Everyone</td>\n",
              "      <td>Art &amp; Design;Pretend Play</td>\n",
              "      <td>15-Jan-18</td>\n",
              "      <td>2.0.0</td>\n",
              "      <td>4.0.3 and up</td>\n",
              "    </tr>\n",
              "    <tr>\n",
              "      <th>2</th>\n",
              "      <td>U Launcher Lite – FREE Live Cool Themes, Hide ...</td>\n",
              "      <td>ART_AND_DESIGN</td>\n",
              "      <td>4.7</td>\n",
              "      <td>87510</td>\n",
              "      <td>8.7M</td>\n",
              "      <td>5,000,000+</td>\n",
              "      <td>Free</td>\n",
              "      <td>0</td>\n",
              "      <td>Everyone</td>\n",
              "      <td>Art &amp; Design</td>\n",
              "      <td>1-Aug-18</td>\n",
              "      <td>1.2.4</td>\n",
              "      <td>4.0.3 and up</td>\n",
              "    </tr>\n",
              "    <tr>\n",
              "      <th>3</th>\n",
              "      <td>Sketch - Draw &amp; Paint</td>\n",
              "      <td>ART_AND_DESIGN</td>\n",
              "      <td>4.5</td>\n",
              "      <td>215644</td>\n",
              "      <td>25M</td>\n",
              "      <td>50,000,000+</td>\n",
              "      <td>Free</td>\n",
              "      <td>0</td>\n",
              "      <td>Teen</td>\n",
              "      <td>Art &amp; Design</td>\n",
              "      <td>8-Jun-18</td>\n",
              "      <td>Varies with device</td>\n",
              "      <td>4.2 and up</td>\n",
              "    </tr>\n",
              "    <tr>\n",
              "      <th>4</th>\n",
              "      <td>Pixel Draw - Number Art Coloring Book</td>\n",
              "      <td>ART_AND_DESIGN</td>\n",
              "      <td>4.3</td>\n",
              "      <td>967</td>\n",
              "      <td>2.8M</td>\n",
              "      <td>100,000+</td>\n",
              "      <td>Free</td>\n",
              "      <td>0</td>\n",
              "      <td>Everyone</td>\n",
              "      <td>Art &amp; Design;Creativity</td>\n",
              "      <td>20-Jun-18</td>\n",
              "      <td>1.1</td>\n",
              "      <td>4.4 and up</td>\n",
              "    </tr>\n",
              "  </tbody>\n",
              "</table>\n",
              "</div>"
            ],
            "text/plain": [
              "                                                 app        category  rating  \\\n",
              "0     Photo Editor & Candy Camera & Grid & ScrapBook  ART_AND_DESIGN     4.1   \n",
              "1                                Coloring book moana  ART_AND_DESIGN     3.9   \n",
              "2  U Launcher Lite – FREE Live Cool Themes, Hide ...  ART_AND_DESIGN     4.7   \n",
              "3                              Sketch - Draw & Paint  ART_AND_DESIGN     4.5   \n",
              "4              Pixel Draw - Number Art Coloring Book  ART_AND_DESIGN     4.3   \n",
              "\n",
              "  reviews  size     installs  type price contentRating  \\\n",
              "0     159   19M      10,000+  Free     0      Everyone   \n",
              "1     967   14M     500,000+  Free     0      Everyone   \n",
              "2   87510  8.7M   5,000,000+  Free     0      Everyone   \n",
              "3  215644   25M  50,000,000+  Free     0          Teen   \n",
              "4     967  2.8M     100,000+  Free     0      Everyone   \n",
              "\n",
              "                      genres    updated             version androidVersion  \n",
              "0               Art & Design   7-Jan-18               1.0.0   4.0.3 and up  \n",
              "1  Art & Design;Pretend Play  15-Jan-18               2.0.0   4.0.3 and up  \n",
              "2               Art & Design   1-Aug-18               1.2.4   4.0.3 and up  \n",
              "3               Art & Design   8-Jun-18  Varies with device     4.2 and up  \n",
              "4    Art & Design;Creativity  20-Jun-18                 1.1     4.4 and up  "
            ]
          },
          "metadata": {
            "tags": []
          },
          "execution_count": 109
        }
      ]
    },
    {
      "metadata": {
        "id": "6S77pedY6Hvl",
        "colab_type": "code",
        "outputId": "293396b1-bc3b-4d3b-c3b2-1253c2a66e04",
        "colab": {
          "base_uri": "https://localhost:8080/",
          "height": 54
        }
      },
      "cell_type": "code",
      "source": [
        "data.shape"
      ],
      "execution_count": 0,
      "outputs": [
        {
          "output_type": "execute_result",
          "data": {
            "text/plain": [
              "(10841, 13)"
            ]
          },
          "metadata": {
            "tags": []
          },
          "execution_count": 110
        }
      ]
    },
    {
      "metadata": {
        "id": "QAoPm8xPvrZY",
        "colab_type": "text"
      },
      "cell_type": "markdown",
      "source": [
        "## DATA CLEANING"
      ]
    },
    {
      "metadata": {
        "id": "8HYpsBejKijz",
        "colab_type": "text"
      },
      "cell_type": "markdown",
      "source": [
        "Below we determine the number of rows with NaN values and drop them."
      ]
    },
    {
      "metadata": {
        "id": "HITTYkAo6Pxm",
        "colab_type": "code",
        "outputId": "f3d78610-b395-491d-9c96-d0f81f9217b1",
        "colab": {
          "base_uri": "https://localhost:8080/",
          "height": 34
        }
      },
      "cell_type": "code",
      "source": [
        "# Count NaNs\n",
        "\n",
        "data.isnull().values.ravel().sum()"
      ],
      "execution_count": 0,
      "outputs": [
        {
          "output_type": "execute_result",
          "data": {
            "text/plain": [
              "1487"
            ]
          },
          "metadata": {
            "tags": []
          },
          "execution_count": 111
        }
      ]
    },
    {
      "metadata": {
        "id": "5AViBC7m6Y5p",
        "colab_type": "code",
        "outputId": "6c6ab8b1-8f63-49a9-9c39-4ae239515d35",
        "colab": {
          "base_uri": "https://localhost:8080/",
          "height": 34
        }
      },
      "cell_type": "code",
      "source": [
        "# Drop the NaNs\n",
        "data.dropna(inplace=True)\n",
        "\n",
        "# Check that the inplace transformation worked\n",
        "data.isnull().values.ravel().sum()"
      ],
      "execution_count": 0,
      "outputs": [
        {
          "output_type": "execute_result",
          "data": {
            "text/plain": [
              "0"
            ]
          },
          "metadata": {
            "tags": []
          },
          "execution_count": 112
        }
      ]
    },
    {
      "metadata": {
        "id": "6N5ZVCQv2H3A",
        "colab_type": "code",
        "outputId": "ee8807b8-901e-470a-dfa0-9d1f32649889",
        "colab": {
          "base_uri": "https://localhost:8080/",
          "height": 34
        }
      },
      "cell_type": "code",
      "source": [
        "# Row and column count after dropping\n",
        "data.shape"
      ],
      "execution_count": 0,
      "outputs": [
        {
          "output_type": "execute_result",
          "data": {
            "text/plain": [
              "(9360, 13)"
            ]
          },
          "metadata": {
            "tags": []
          },
          "execution_count": 113
        }
      ]
    },
    {
      "metadata": {
        "id": "GsH751oPLDrR",
        "colab_type": "text"
      },
      "cell_type": "markdown",
      "source": [
        "Below we get all unique values of all columns to determine necessary steps to clean and convert applicable columns into numeric columns so that they can later be used as features."
      ]
    },
    {
      "metadata": {
        "id": "QbtAaY1ERbYk",
        "colab_type": "code",
        "outputId": "5c34decc-1c09-4071-c8e1-ccbd48877682",
        "colab": {
          "base_uri": "https://localhost:8080/",
          "height": 884
        }
      },
      "cell_type": "code",
      "source": [
        "# All unique values for size of apps\n",
        "\n",
        "data['size'].unique()"
      ],
      "execution_count": 0,
      "outputs": [
        {
          "output_type": "execute_result",
          "data": {
            "text/plain": [
              "array(['19M', '14M', '8.7M', '25M', '2.8M', '5.6M', '29M', '33M', '3.1M',\n",
              "       '28M', '12M', '20M', '21M', '37M', '5.5M', '17M', '39M', '31M',\n",
              "       '4.2M', '23M', '6.0M', '6.1M', '4.6M', '9.2M', '5.2M', '11M',\n",
              "       '24M', 'Varies with device', '9.4M', '15M', '10M', '1.2M', '26M',\n",
              "       '8.0M', '7.9M', '56M', '57M', '35M', '54M', '201k', '3.6M', '5.7M',\n",
              "       '8.6M', '2.4M', '27M', '2.7M', '2.5M', '7.0M', '16M', '3.4M',\n",
              "       '8.9M', '3.9M', '2.9M', '38M', '32M', '5.4M', '18M', '1.1M',\n",
              "       '2.2M', '4.5M', '9.8M', '52M', '9.0M', '6.7M', '30M', '2.6M',\n",
              "       '7.1M', '22M', '6.4M', '3.2M', '8.2M', '4.9M', '9.5M', '5.0M',\n",
              "       '5.9M', '13M', '73M', '6.8M', '3.5M', '4.0M', '2.3M', '2.1M',\n",
              "       '42M', '9.1M', '55M', '23k', '7.3M', '6.5M', '1.5M', '7.5M', '51M',\n",
              "       '41M', '48M', '8.5M', '46M', '8.3M', '4.3M', '4.7M', '3.3M', '40M',\n",
              "       '7.8M', '8.8M', '6.6M', '5.1M', '61M', '66M', '79k', '8.4M',\n",
              "       '3.7M', '118k', '44M', '695k', '1.6M', '6.2M', '53M', '1.4M',\n",
              "       '3.0M', '7.2M', '5.8M', '3.8M', '9.6M', '45M', '63M', '49M', '77M',\n",
              "       '4.4M', '70M', '9.3M', '8.1M', '36M', '6.9M', '7.4M', '84M', '97M',\n",
              "       '2.0M', '1.9M', '1.8M', '5.3M', '47M', '556k', '526k', '76M',\n",
              "       '7.6M', '59M', '9.7M', '78M', '72M', '43M', '7.7M', '6.3M', '334k',\n",
              "       '93M', '65M', '79M', '100M', '58M', '50M', '68M', '64M', '34M',\n",
              "       '67M', '60M', '94M', '9.9M', '232k', '99M', '624k', '95M', '8.5k',\n",
              "       '41k', '292k', '80M', '1.7M', '10.0M', '74M', '62M', '69M', '75M',\n",
              "       '98M', '85M', '82M', '96M', '87M', '71M', '86M', '91M', '81M',\n",
              "       '92M', '83M', '88M', '704k', '862k', '899k', '378k', '4.8M',\n",
              "       '266k', '375k', '1.3M', '975k', '980k', '4.1M', '89M', '696k',\n",
              "       '544k', '525k', '920k', '779k', '853k', '720k', '713k', '772k',\n",
              "       '318k', '58k', '241k', '196k', '857k', '51k', '953k', '865k',\n",
              "       '251k', '930k', '540k', '313k', '746k', '203k', '26k', '314k',\n",
              "       '239k', '371k', '220k', '730k', '756k', '91k', '293k', '17k',\n",
              "       '74k', '14k', '317k', '78k', '924k', '818k', '81k', '939k', '169k',\n",
              "       '45k', '965k', '90M', '545k', '61k', '283k', '655k', '714k', '93k',\n",
              "       '872k', '121k', '322k', '976k', '206k', '954k', '444k', '717k',\n",
              "       '210k', '609k', '308k', '306k', '175k', '350k', '383k', '454k',\n",
              "       '1.0M', '70k', '812k', '442k', '842k', '417k', '412k', '459k',\n",
              "       '478k', '335k', '782k', '721k', '430k', '429k', '192k', '460k',\n",
              "       '728k', '496k', '816k', '414k', '506k', '887k', '613k', '778k',\n",
              "       '683k', '592k', '186k', '840k', '647k', '373k', '437k', '598k',\n",
              "       '716k', '585k', '982k', '219k', '55k', '323k', '691k', '511k',\n",
              "       '951k', '963k', '25k', '554k', '351k', '27k', '82k', '208k',\n",
              "       '551k', '29k', '103k', '116k', '153k', '209k', '499k', '173k',\n",
              "       '597k', '809k', '122k', '411k', '400k', '801k', '787k', '50k',\n",
              "       '643k', '986k', '516k', '837k', '780k', '20k', '498k', '600k',\n",
              "       '656k', '221k', '228k', '176k', '34k', '259k', '164k', '458k',\n",
              "       '629k', '28k', '288k', '775k', '785k', '636k', '916k', '994k',\n",
              "       '309k', '485k', '914k', '903k', '608k', '500k', '54k', '562k',\n",
              "       '847k', '948k', '811k', '270k', '48k', '523k', '784k', '280k',\n",
              "       '24k', '892k', '154k', '18k', '33k', '860k', '364k', '387k',\n",
              "       '626k', '161k', '879k', '39k', '170k', '141k', '160k', '144k',\n",
              "       '143k', '190k', '376k', '193k', '473k', '246k', '73k', '253k',\n",
              "       '957k', '420k', '72k', '404k', '470k', '226k', '240k', '89k',\n",
              "       '234k', '257k', '861k', '467k', '676k', '552k', '582k', '619k'],\n",
              "      dtype=object)"
            ]
          },
          "metadata": {
            "tags": []
          },
          "execution_count": 114
        }
      ]
    },
    {
      "metadata": {
        "id": "ZVc7Z8NO87SG",
        "colab_type": "code",
        "colab": {}
      },
      "cell_type": "code",
      "source": [
        "# Masks for taking mega and kilo values to later convert these string values\n",
        "# to numeric types\n",
        "\n",
        "mega = data['size'].str.contains('M')\n",
        "kilo = data['size'].str.contains('k')"
      ],
      "execution_count": 0,
      "outputs": []
    },
    {
      "metadata": {
        "id": "GhUgCqI2_pyP",
        "colab_type": "code",
        "colab": {}
      },
      "cell_type": "code",
      "source": [
        "# Convert size column from string to numeric\n",
        "\n",
        "data['size'] = data['size'].str.strip('k')\n",
        "data['size'] = data['size'].str.strip('M')\n",
        "data['size'] = pd.to_numeric(data['size'], errors='coerce')"
      ],
      "execution_count": 0,
      "outputs": []
    },
    {
      "metadata": {
        "id": "gYpixdc8_wZ2",
        "colab_type": "code",
        "outputId": "d1f3fc10-3c16-4e61-93b0-81c191cec20b",
        "colab": {
          "base_uri": "https://localhost:8080/",
          "height": 102
        }
      },
      "cell_type": "code",
      "source": [
        "# Convert mega and kilo values to standard bytes\n",
        "\n",
        "data['size'].loc[mega] = data['size'].loc[mega] * 1000000\n",
        "data['size'].loc[kilo] = data['size'].loc[kilo] * 1000"
      ],
      "execution_count": 0,
      "outputs": [
        {
          "output_type": "stream",
          "text": [
            "/usr/local/lib/python3.6/dist-packages/pandas/core/indexing.py:194: SettingWithCopyWarning: \n",
            "A value is trying to be set on a copy of a slice from a DataFrame\n",
            "\n",
            "See the caveats in the documentation: http://pandas.pydata.org/pandas-docs/stable/indexing.html#indexing-view-versus-copy\n",
            "  self._setitem_with_indexer(indexer, value)\n"
          ],
          "name": "stderr"
        }
      ]
    },
    {
      "metadata": {
        "id": "zKdi54ZUNxRz",
        "colab_type": "code",
        "outputId": "1ceb9165-9b20-487d-a3fe-906657b4a5ac",
        "colab": {
          "base_uri": "https://localhost:8080/",
          "height": 85
        }
      },
      "cell_type": "code",
      "source": [
        "# All unique values for installs\n",
        "\n",
        "data.installs.unique()"
      ],
      "execution_count": 0,
      "outputs": [
        {
          "output_type": "execute_result",
          "data": {
            "text/plain": [
              "array(['10,000+', '500,000+', '5,000,000+', '50,000,000+', '100,000+',\n",
              "       '50,000+', '1,000,000+', '10,000,000+', '5,000+', '100,000,000+',\n",
              "       '1,000,000,000+', '1,000+', '500,000,000+', '100+', '500+', '10+',\n",
              "       '5+', '50+', '1+'], dtype=object)"
            ]
          },
          "metadata": {
            "tags": []
          },
          "execution_count": 118
        }
      ]
    },
    {
      "metadata": {
        "id": "xxWllACRRwr0",
        "colab_type": "code",
        "outputId": "30c82405-806b-4e21-aee8-31b8e2d11f9c",
        "colab": {
          "base_uri": "https://localhost:8080/",
          "height": 68
        }
      },
      "cell_type": "code",
      "source": [
        "# Clean installs to later convert to numeric\n",
        "\n",
        "data.installs = data.installs.str.strip('+')\n",
        "data.installs = data.installs.str.replace(',','')\n",
        "data.installs.unique()"
      ],
      "execution_count": 0,
      "outputs": [
        {
          "output_type": "execute_result",
          "data": {
            "text/plain": [
              "array(['10000', '500000', '5000000', '50000000', '100000', '50000',\n",
              "       '1000000', '10000000', '5000', '100000000', '1000000000', '1000',\n",
              "       '500000000', '100', '500', '10', '5', '50', '1'], dtype=object)"
            ]
          },
          "metadata": {
            "tags": []
          },
          "execution_count": 119
        }
      ]
    },
    {
      "metadata": {
        "id": "9HIv4od6rYON",
        "colab_type": "code",
        "outputId": "1460c346-e4fa-4eb2-ed86-996c42d5c780",
        "colab": {
          "base_uri": "https://localhost:8080/",
          "height": 34
        }
      },
      "cell_type": "code",
      "source": [
        "# All unique values for type\n",
        "\n",
        "data['type'].unique()"
      ],
      "execution_count": 0,
      "outputs": [
        {
          "output_type": "execute_result",
          "data": {
            "text/plain": [
              "array(['Free', 'Paid'], dtype=object)"
            ]
          },
          "metadata": {
            "tags": []
          },
          "execution_count": 120
        }
      ]
    },
    {
      "metadata": {
        "id": "WyHsz-klPIKv",
        "colab_type": "code",
        "colab": {}
      },
      "cell_type": "code",
      "source": [
        "# We drop the type column, as it's redundant with the price column (a price = 0 means that the app is free).\n",
        "\n",
        "data.drop('type', axis=1, inplace=True)"
      ],
      "execution_count": 0,
      "outputs": []
    },
    {
      "metadata": {
        "id": "fjFN2jOsPEPT",
        "colab_type": "code",
        "outputId": "d40af6a4-c70b-4bae-cf76-928eb7d0066a",
        "colab": {
          "base_uri": "https://localhost:8080/",
          "height": 238
        }
      },
      "cell_type": "code",
      "source": [
        "# All unique values for price\n",
        "\n",
        "data.price.unique()"
      ],
      "execution_count": 0,
      "outputs": [
        {
          "output_type": "execute_result",
          "data": {
            "text/plain": [
              "array(['0', '$4.99 ', '$3.99 ', '$6.99 ', '$7.99 ', '$5.99 ', '$2.99 ',\n",
              "       '$3.49 ', '$1.99 ', '$9.99 ', '$7.49 ', '$0.99 ', '$9.00 ',\n",
              "       '$5.49 ', '$10.00 ', '$24.99 ', '$11.99 ', '$79.99 ', '$16.99 ',\n",
              "       '$14.99 ', '$29.99 ', '$12.99 ', '$2.49 ', '$10.99 ', '$1.50 ',\n",
              "       '$19.99 ', '$15.99 ', '$33.99 ', '$39.99 ', '$3.95 ', '$4.49 ',\n",
              "       '$1.70 ', '$8.99 ', '$1.49 ', '$3.88 ', '$399.99 ', '$17.99 ',\n",
              "       '$400.00 ', '$3.02 ', '$1.76 ', '$4.84 ', '$4.77 ', '$1.61 ',\n",
              "       '$2.50 ', '$1.59 ', '$6.49 ', '$1.29 ', '$299.99 ', '$379.99 ',\n",
              "       '$37.99 ', '$18.99 ', '$389.99 ', '$8.49 ', '$1.75 ', '$14.00 ',\n",
              "       '$2.00 ', '$3.08 ', '$2.59 ', '$19.40 ', '$3.90 ', '$4.59 ',\n",
              "       '$15.46 ', '$3.04 ', '$13.99 ', '$4.29 ', '$3.28 ', '$4.60 ',\n",
              "       '$1.00 ', '$2.95 ', '$2.90 ', '$1.97 ', '$2.56 ', '$1.20 '],\n",
              "      dtype=object)"
            ]
          },
          "metadata": {
            "tags": []
          },
          "execution_count": 122
        }
      ]
    },
    {
      "metadata": {
        "id": "CCjRuuelRUQZ",
        "colab_type": "code",
        "outputId": "902b1aa6-7fac-4cd5-8ca8-2cf8deb03795",
        "colab": {
          "base_uri": "https://localhost:8080/",
          "height": 187
        }
      },
      "cell_type": "code",
      "source": [
        "# Clean price to later convert to numeric\n",
        "\n",
        "data.price = data.price.str.strip('$')\n",
        "data.price = data.price.str.strip(' ')\n",
        "\n",
        "data.price.unique()"
      ],
      "execution_count": 0,
      "outputs": [
        {
          "output_type": "execute_result",
          "data": {
            "text/plain": [
              "array(['0', '4.99', '3.99', '6.99', '7.99', '5.99', '2.99', '3.49',\n",
              "       '1.99', '9.99', '7.49', '0.99', '9.00', '5.49', '10.00', '24.99',\n",
              "       '11.99', '79.99', '16.99', '14.99', '29.99', '12.99', '2.49',\n",
              "       '10.99', '1.50', '19.99', '15.99', '33.99', '39.99', '3.95',\n",
              "       '4.49', '1.70', '8.99', '1.49', '3.88', '399.99', '17.99',\n",
              "       '400.00', '3.02', '1.76', '4.84', '4.77', '1.61', '2.50', '1.59',\n",
              "       '6.49', '1.29', '299.99', '379.99', '37.99', '18.99', '389.99',\n",
              "       '8.49', '1.75', '14.00', '2.00', '3.08', '2.59', '19.40', '3.90',\n",
              "       '4.59', '15.46', '3.04', '13.99', '4.29', '3.28', '4.60', '1.00',\n",
              "       '2.95', '2.90', '1.97', '2.56', '1.20'], dtype=object)"
            ]
          },
          "metadata": {
            "tags": []
          },
          "execution_count": 123
        }
      ]
    },
    {
      "metadata": {
        "id": "Egiu3ZvQQdrx",
        "colab_type": "code",
        "outputId": "bf15cdc0-6cd3-4709-8315-ae843d1df538",
        "colab": {
          "base_uri": "https://localhost:8080/",
          "height": 51
        }
      },
      "cell_type": "code",
      "source": [
        "# All unique values for content rating\n",
        "\n",
        "data.contentRating.unique()"
      ],
      "execution_count": 0,
      "outputs": [
        {
          "output_type": "execute_result",
          "data": {
            "text/plain": [
              "array(['Everyone', 'Teen', 'Everyone 10+', 'Mature 17+',\n",
              "       'Adults only 18+', 'Unrated'], dtype=object)"
            ]
          },
          "metadata": {
            "tags": []
          },
          "execution_count": 124
        }
      ]
    },
    {
      "metadata": {
        "id": "O8QCpxiDj_Dg",
        "colab_type": "code",
        "outputId": "1af75345-7b15-4e06-874e-db866a83e154",
        "colab": {
          "base_uri": "https://localhost:8080/",
          "height": 34
        }
      },
      "cell_type": "code",
      "source": [
        "print ((data.contentRating == 'Unrated').astype(int).sum())"
      ],
      "execution_count": 0,
      "outputs": [
        {
          "output_type": "stream",
          "text": [
            "1\n"
          ],
          "name": "stdout"
        }
      ]
    },
    {
      "metadata": {
        "id": "7Y8szas8x7jf",
        "colab_type": "code",
        "outputId": "693ce179-9de1-4bb3-c2f6-37d0e1976d90",
        "colab": {
          "base_uri": "https://localhost:8080/",
          "height": 102
        }
      },
      "cell_type": "code",
      "source": [
        "# Mask to convert contentRating to numeric\n",
        "\n",
        "everyone = data['contentRating'] == 'Everyone'\n",
        "everyone10 = data['contentRating'] == 'Everyone 10+'\n",
        "teen = data['contentRating'] == 'Teen'\n",
        "mature = data['contentRating'] == 'Mature 17+'\n",
        "adult = data['contentRating'] == 'Adults only 18+'\n",
        "unrated = data['contentRating'] == 'Unrated'\n",
        "\n",
        "data['contentRating'].loc[everyone] = 0\n",
        "data['contentRating'].loc[everyone10] = 10\n",
        "data['contentRating'].loc[teen] = 13\n",
        "data['contentRating'].loc[mature] = 17\n",
        "data['contentRating'].loc[adult] = 18\n",
        "data['contentRating'].loc[unrated] = 0"
      ],
      "execution_count": 0,
      "outputs": [
        {
          "output_type": "stream",
          "text": [
            "/usr/local/lib/python3.6/dist-packages/pandas/core/indexing.py:194: SettingWithCopyWarning: \n",
            "A value is trying to be set on a copy of a slice from a DataFrame\n",
            "\n",
            "See the caveats in the documentation: http://pandas.pydata.org/pandas-docs/stable/indexing.html#indexing-view-versus-copy\n",
            "  self._setitem_with_indexer(indexer, value)\n"
          ],
          "name": "stderr"
        }
      ]
    },
    {
      "metadata": {
        "id": "bloKFmeA-Fvu",
        "colab_type": "code",
        "outputId": "39189ecf-9745-4648-d39a-f533115a81db",
        "colab": {
          "base_uri": "https://localhost:8080/",
          "height": 782
        }
      },
      "cell_type": "code",
      "source": [
        "# All unique values for genres\n",
        "\n",
        "data.genres.unique()"
      ],
      "execution_count": 0,
      "outputs": [
        {
          "output_type": "execute_result",
          "data": {
            "text/plain": [
              "array(['Art & Design', 'Art & Design;Pretend Play',\n",
              "       'Art & Design;Creativity', 'Auto & Vehicles', 'Beauty',\n",
              "       'Books & Reference', 'Business', 'Comics', 'Comics;Creativity',\n",
              "       'Communication', 'Dating', 'Education;Education', 'Education',\n",
              "       'Education;Creativity', 'Education;Music & Video',\n",
              "       'Education;Action & Adventure', 'Education;Pretend Play',\n",
              "       'Education;Brain Games', 'Entertainment',\n",
              "       'Entertainment;Music & Video', 'Entertainment;Brain Games',\n",
              "       'Entertainment;Creativity', 'Events', 'Finance', 'Food & Drink',\n",
              "       'Health & Fitness', 'House & Home', 'Libraries & Demo',\n",
              "       'Lifestyle', 'Lifestyle;Pretend Play',\n",
              "       'Adventure;Action & Adventure', 'Arcade', 'Casual', 'Card',\n",
              "       'Casual;Pretend Play', 'Action', 'Strategy', 'Puzzle', 'Sports',\n",
              "       'Music', 'Word', 'Racing', 'Casual;Creativity',\n",
              "       'Casual;Action & Adventure', 'Simulation', 'Adventure', 'Board',\n",
              "       'Trivia', 'Role Playing', 'Simulation;Education',\n",
              "       'Action;Action & Adventure', 'Casual;Brain Games',\n",
              "       'Simulation;Action & Adventure', 'Educational;Creativity',\n",
              "       'Puzzle;Brain Games', 'Educational;Education', 'Card;Brain Games',\n",
              "       'Educational;Brain Games', 'Educational;Pretend Play',\n",
              "       'Entertainment;Education', 'Casual;Education',\n",
              "       'Music;Music & Video', 'Racing;Action & Adventure',\n",
              "       'Arcade;Pretend Play', 'Role Playing;Action & Adventure',\n",
              "       'Simulation;Pretend Play', 'Puzzle;Creativity',\n",
              "       'Sports;Action & Adventure', 'Educational;Action & Adventure',\n",
              "       'Arcade;Action & Adventure', 'Entertainment;Action & Adventure',\n",
              "       'Puzzle;Action & Adventure', 'Strategy;Action & Adventure',\n",
              "       'Music & Audio;Music & Video', 'Health & Fitness;Education',\n",
              "       'Adventure;Education', 'Board;Brain Games',\n",
              "       'Board;Action & Adventure', 'Board;Pretend Play',\n",
              "       'Casual;Music & Video', 'Role Playing;Pretend Play',\n",
              "       'Entertainment;Pretend Play', 'Video Players & Editors;Creativity',\n",
              "       'Card;Action & Adventure', 'Medical', 'Social', 'Shopping',\n",
              "       'Photography', 'Travel & Local',\n",
              "       'Travel & Local;Action & Adventure', 'Tools', 'Tools;Education',\n",
              "       'Personalization', 'Productivity', 'Parenting',\n",
              "       'Parenting;Music & Video', 'Parenting;Brain Games',\n",
              "       'Parenting;Education', 'Weather', 'Video Players & Editors',\n",
              "       'Video Players & Editors;Music & Video', 'News & Magazines',\n",
              "       'Maps & Navigation', 'Health & Fitness;Action & Adventure',\n",
              "       'Educational', 'Casino', 'Adventure;Brain Games',\n",
              "       'Lifestyle;Education', 'Books & Reference;Education',\n",
              "       'Puzzle;Education', 'Role Playing;Brain Games',\n",
              "       'Strategy;Education', 'Racing;Pretend Play',\n",
              "       'Communication;Creativity', 'Strategy;Creativity'], dtype=object)"
            ]
          },
          "metadata": {
            "tags": []
          },
          "execution_count": 127
        }
      ]
    },
    {
      "metadata": {
        "id": "l6jgi1NBg9OR",
        "colab_type": "code",
        "colab": {}
      },
      "cell_type": "code",
      "source": [
        "# split unique values into arrays to later apply one hot encoding\n",
        "\n",
        "data['genres'] = data.genres.str.split(';')"
      ],
      "execution_count": 0,
      "outputs": []
    },
    {
      "metadata": {
        "id": "VuwClCi-bHCz",
        "colab_type": "code",
        "outputId": "09ed3cc0-c3d7-47be-94ba-8c223327310d",
        "colab": {
          "base_uri": "https://localhost:8080/",
          "height": 51
        }
      },
      "cell_type": "code",
      "source": [
        "# All unique values for updated\n",
        "\n",
        "data['updated'].unique()"
      ],
      "execution_count": 0,
      "outputs": [
        {
          "output_type": "execute_result",
          "data": {
            "text/plain": [
              "array(['7-Jan-18', '15-Jan-18', '1-Aug-18', ..., '20-Jan-14', '16-Feb-14',\n",
              "       '23-Mar-14'], dtype=object)"
            ]
          },
          "metadata": {
            "tags": []
          },
          "execution_count": 129
        }
      ]
    },
    {
      "metadata": {
        "id": "Q-q7avuHkH29",
        "colab_type": "code",
        "outputId": "2930066f-5c79-49e3-a648-8047b38e2ee1",
        "colab": {
          "base_uri": "https://localhost:8080/",
          "height": 51
        }
      },
      "cell_type": "code",
      "source": [
        "# All unique values for version\n",
        "\n",
        "data.version.unique()"
      ],
      "execution_count": 0,
      "outputs": [
        {
          "output_type": "execute_result",
          "data": {
            "text/plain": [
              "array(['1.0.0', '2.0.0', '1.2.4', ..., '1.5.447', '1.0.612928', '0.3.4'],\n",
              "      dtype=object)"
            ]
          },
          "metadata": {
            "tags": []
          },
          "execution_count": 130
        }
      ]
    },
    {
      "metadata": {
        "id": "bQDiaQTodq54",
        "colab_type": "code",
        "outputId": "e5414ae5-9488-460e-8ba5-5ea2c84f581a",
        "colab": {
          "base_uri": "https://localhost:8080/",
          "height": 153
        }
      },
      "cell_type": "code",
      "source": [
        "# All unique values for android version\n",
        "\n",
        "data.androidVersion.unique()"
      ],
      "execution_count": 0,
      "outputs": [
        {
          "output_type": "execute_result",
          "data": {
            "text/plain": [
              "array(['4.0.3 and up', '4.2 and up', '4.4 and up', '2.3 and up',\n",
              "       '3.0 and up', '4.1 and up', '4.0 and up', '2.3.3 and up',\n",
              "       'Varies with device', '2.2 and up', '5.0 and up', '6.0 and up',\n",
              "       '1.6 and up', '1.5 and up', '2.1 and up', '7.0 and up',\n",
              "       '4.3 and up', '4.0.3 - 7.1.1', '2.0 and up', '3.2 and up',\n",
              "       '4.4W and up', '5.1 and up', '7.1 and up', '7.0 - 7.1.1',\n",
              "       '8.0 and up', '5.0 - 8.0', '3.1 and up', '2.0.1 and up',\n",
              "       '4.1 - 7.1.1', '5.0 - 6.0', '1.0 and up'], dtype=object)"
            ]
          },
          "metadata": {
            "tags": []
          },
          "execution_count": 131
        }
      ]
    },
    {
      "metadata": {
        "id": "VOCQB3MBkgwp",
        "colab_type": "code",
        "colab": {}
      },
      "cell_type": "code",
      "source": [
        "# Drop updated, version, and androidVersion\n",
        "\n",
        "data.drop('updated', axis=1, inplace=True)\n",
        "data.drop('version', axis=1, inplace=True)\n",
        "data.drop('androidVersion', axis=1, inplace=True)"
      ],
      "execution_count": 0,
      "outputs": []
    },
    {
      "metadata": {
        "id": "swZfd59TtEmr",
        "colab_type": "text"
      },
      "cell_type": "markdown",
      "source": [
        "We drop both the date of update and androidVersion columns, as we don't find them particularly informative. The [high segmentation of the Android market](https://sensortower.com/blog/how-to-handle-android-segmentation-when-developing-a-google-play-app) can be source of noise. Additionally, many of our entries have a \"varies with device\" value in the version specification.\n",
        "\n",
        "![android version](https://s3.amazonaws.com/sensortower-itunes/blog/0141-android-versions.jpg)"
      ]
    },
    {
      "metadata": {
        "id": "veTE1IbcPK97",
        "colab_type": "code",
        "colab": {}
      },
      "cell_type": "code",
      "source": [
        "# Convert remaining columns to numeric\n",
        "\n",
        "data['reviews'] = pd.to_numeric(data['reviews'], errors='coerce')\n",
        "data['installs'] = pd.to_numeric(data['installs'], errors='coerce')\n",
        "data['price'] = pd.to_numeric(data['price'], errors='coerce')"
      ],
      "execution_count": 0,
      "outputs": []
    },
    {
      "metadata": {
        "id": "WJ_NJmB8zzR1",
        "colab_type": "code",
        "colab": {}
      },
      "cell_type": "code",
      "source": [
        "# we drop ratings equal to zero, as the app store doesn't allow a real user \n",
        "# rating to be equal to zero\n",
        "\n",
        "data = data[data['rating']> 0]"
      ],
      "execution_count": 0,
      "outputs": []
    },
    {
      "metadata": {
        "id": "HW4hKF9PldUI",
        "colab_type": "code",
        "outputId": "9bd2914e-ac3f-4582-99c9-a7b561df323e",
        "colab": {
          "base_uri": "https://localhost:8080/",
          "height": 204
        }
      },
      "cell_type": "code",
      "source": [
        "data.head()"
      ],
      "execution_count": 0,
      "outputs": [
        {
          "output_type": "execute_result",
          "data": {
            "text/html": [
              "<div>\n",
              "<style scoped>\n",
              "    .dataframe tbody tr th:only-of-type {\n",
              "        vertical-align: middle;\n",
              "    }\n",
              "\n",
              "    .dataframe tbody tr th {\n",
              "        vertical-align: top;\n",
              "    }\n",
              "\n",
              "    .dataframe thead th {\n",
              "        text-align: right;\n",
              "    }\n",
              "</style>\n",
              "<table border=\"1\" class=\"dataframe\">\n",
              "  <thead>\n",
              "    <tr style=\"text-align: right;\">\n",
              "      <th></th>\n",
              "      <th>app</th>\n",
              "      <th>category</th>\n",
              "      <th>rating</th>\n",
              "      <th>reviews</th>\n",
              "      <th>size</th>\n",
              "      <th>installs</th>\n",
              "      <th>price</th>\n",
              "      <th>contentRating</th>\n",
              "      <th>genres</th>\n",
              "    </tr>\n",
              "  </thead>\n",
              "  <tbody>\n",
              "    <tr>\n",
              "      <th>0</th>\n",
              "      <td>Photo Editor &amp; Candy Camera &amp; Grid &amp; ScrapBook</td>\n",
              "      <td>ART_AND_DESIGN</td>\n",
              "      <td>4.1</td>\n",
              "      <td>159</td>\n",
              "      <td>19000000.0</td>\n",
              "      <td>10000</td>\n",
              "      <td>0.0</td>\n",
              "      <td>0</td>\n",
              "      <td>[Art &amp; Design]</td>\n",
              "    </tr>\n",
              "    <tr>\n",
              "      <th>1</th>\n",
              "      <td>Coloring book moana</td>\n",
              "      <td>ART_AND_DESIGN</td>\n",
              "      <td>3.9</td>\n",
              "      <td>967</td>\n",
              "      <td>14000000.0</td>\n",
              "      <td>500000</td>\n",
              "      <td>0.0</td>\n",
              "      <td>0</td>\n",
              "      <td>[Art &amp; Design, Pretend Play]</td>\n",
              "    </tr>\n",
              "    <tr>\n",
              "      <th>2</th>\n",
              "      <td>U Launcher Lite – FREE Live Cool Themes, Hide ...</td>\n",
              "      <td>ART_AND_DESIGN</td>\n",
              "      <td>4.7</td>\n",
              "      <td>87510</td>\n",
              "      <td>8700000.0</td>\n",
              "      <td>5000000</td>\n",
              "      <td>0.0</td>\n",
              "      <td>0</td>\n",
              "      <td>[Art &amp; Design]</td>\n",
              "    </tr>\n",
              "    <tr>\n",
              "      <th>3</th>\n",
              "      <td>Sketch - Draw &amp; Paint</td>\n",
              "      <td>ART_AND_DESIGN</td>\n",
              "      <td>4.5</td>\n",
              "      <td>215644</td>\n",
              "      <td>25000000.0</td>\n",
              "      <td>50000000</td>\n",
              "      <td>0.0</td>\n",
              "      <td>13</td>\n",
              "      <td>[Art &amp; Design]</td>\n",
              "    </tr>\n",
              "    <tr>\n",
              "      <th>4</th>\n",
              "      <td>Pixel Draw - Number Art Coloring Book</td>\n",
              "      <td>ART_AND_DESIGN</td>\n",
              "      <td>4.3</td>\n",
              "      <td>967</td>\n",
              "      <td>2800000.0</td>\n",
              "      <td>100000</td>\n",
              "      <td>0.0</td>\n",
              "      <td>0</td>\n",
              "      <td>[Art &amp; Design, Creativity]</td>\n",
              "    </tr>\n",
              "  </tbody>\n",
              "</table>\n",
              "</div>"
            ],
            "text/plain": [
              "                                                 app        category  rating  \\\n",
              "0     Photo Editor & Candy Camera & Grid & ScrapBook  ART_AND_DESIGN     4.1   \n",
              "1                                Coloring book moana  ART_AND_DESIGN     3.9   \n",
              "2  U Launcher Lite – FREE Live Cool Themes, Hide ...  ART_AND_DESIGN     4.7   \n",
              "3                              Sketch - Draw & Paint  ART_AND_DESIGN     4.5   \n",
              "4              Pixel Draw - Number Art Coloring Book  ART_AND_DESIGN     4.3   \n",
              "\n",
              "   reviews        size  installs  price  contentRating  \\\n",
              "0      159  19000000.0     10000    0.0              0   \n",
              "1      967  14000000.0    500000    0.0              0   \n",
              "2    87510   8700000.0   5000000    0.0              0   \n",
              "3   215644  25000000.0  50000000    0.0             13   \n",
              "4      967   2800000.0    100000    0.0              0   \n",
              "\n",
              "                         genres  \n",
              "0                [Art & Design]  \n",
              "1  [Art & Design, Pretend Play]  \n",
              "2                [Art & Design]  \n",
              "3                [Art & Design]  \n",
              "4    [Art & Design, Creativity]  "
            ]
          },
          "metadata": {
            "tags": []
          },
          "execution_count": 135
        }
      ]
    },
    {
      "metadata": {
        "id": "8WQ5ENJClrvH",
        "colab_type": "code",
        "outputId": "10b4b17f-c6c0-4e46-a900-d779d81ccdbb",
        "colab": {
          "base_uri": "https://localhost:8080/",
          "height": 34
        }
      },
      "cell_type": "code",
      "source": [
        "# Final row and column count after data cleaning\n",
        "\n",
        "data.shape"
      ],
      "execution_count": 0,
      "outputs": [
        {
          "output_type": "execute_result",
          "data": {
            "text/plain": [
              "(9360, 9)"
            ]
          },
          "metadata": {
            "tags": []
          },
          "execution_count": 136
        }
      ]
    },
    {
      "metadata": {
        "id": "a3mllxFQ1ilO",
        "colab_type": "text"
      },
      "cell_type": "markdown",
      "source": [
        "##DATA EXPLORATION"
      ]
    },
    {
      "metadata": {
        "id": "YLhjNMXDpFNx",
        "colab_type": "text"
      },
      "cell_type": "markdown",
      "source": [
        "Below we will conduct an exploratory analysis of our variables and the relationships between them."
      ]
    },
    {
      "metadata": {
        "id": "P5fWD1j_pUCs",
        "colab_type": "text"
      },
      "cell_type": "markdown",
      "source": [
        "###Rating"
      ]
    },
    {
      "metadata": {
        "id": "n7eNUXNCIup8",
        "colab_type": "code",
        "outputId": "3a1e6632-53a5-4faa-eac5-0bc7d0498b32",
        "colab": {
          "base_uri": "https://localhost:8080/",
          "height": 190
        }
      },
      "cell_type": "code",
      "source": [
        "data.rating.describe()"
      ],
      "execution_count": 0,
      "outputs": [
        {
          "output_type": "execute_result",
          "data": {
            "text/plain": [
              "count    9360.000000\n",
              "mean        4.191838\n",
              "std         0.515263\n",
              "min         1.000000\n",
              "25%         4.000000\n",
              "50%         4.300000\n",
              "75%         4.500000\n",
              "max         5.000000\n",
              "Name: rating, dtype: float64"
            ]
          },
          "metadata": {
            "tags": []
          },
          "execution_count": 137
        }
      ]
    },
    {
      "metadata": {
        "id": "FAOAxS03LMNY",
        "colab_type": "text"
      },
      "cell_type": "markdown",
      "source": [
        "The median rating is 4.3.  We will later use this value to create a binary feature for rating."
      ]
    },
    {
      "metadata": {
        "id": "3Wxg6J80Ta41",
        "colab_type": "code",
        "outputId": "f9db607f-ee9c-4c8f-dbf7-a7d38e5df054",
        "colab": {
          "base_uri": "https://localhost:8080/",
          "height": 409
        }
      },
      "cell_type": "code",
      "source": [
        "x = data.rating\n",
        "plt.figure(figsize = (8, 6))\n",
        "plt.ylabel('Rating')\n",
        "plt.title('Playstore Apps Ratings Boxplot')\n",
        "plt.boxplot(x, sym=\"k.\")\n",
        "plt.show()"
      ],
      "execution_count": 0,
      "outputs": [
        {
          "output_type": "display_data",
          "data": {
            "image/png": "[encoded data removed]",
            "text/plain": [
              "<matplotlib.figure.Figure at 0x7ff09efefd30>"
            ]
          },
          "metadata": {
            "tags": []
          }
        }
      ]
    },
    {
      "metadata": {
        "id": "kKyvhEJb03nN",
        "colab_type": "code",
        "outputId": "f4991a02-784e-447f-f83a-71a7fc97aa10",
        "colab": {
          "base_uri": "https://localhost:8080/",
          "height": 88
        }
      },
      "cell_type": "code",
      "source": [
        "data['rating'].unique()"
      ],
      "execution_count": 0,
      "outputs": [
        {
          "output_type": "execute_result",
          "data": {
            "text/plain": [
              "array([4.1, 3.9, 4.7, 4.5, 4.3, 4.4, 3.8, 4.2, 4.6, 4. , 4.8, 4.9, 3.6,\n",
              "       3.7, 3.2, 3.3, 3.4, 3.5, 3.1, 5. , 2.6, 3. , 1.9, 2.5, 2.8, 2.7,\n",
              "       1. , 2.9, 2.3, 2.2, 1.7, 2. , 1.8, 2.4, 1.6, 2.1, 1.4, 1.5, 1.2])"
            ]
          },
          "metadata": {
            "tags": []
          },
          "execution_count": 139
        }
      ]
    },
    {
      "metadata": {
        "id": "lCsVPl-ryZvS",
        "colab_type": "code",
        "outputId": "1f6a8a51-03f3-4ada-e3e4-896c4d927381",
        "colab": {
          "base_uri": "https://localhost:8080/",
          "height": 379
        }
      },
      "cell_type": "code",
      "source": [
        "# Determine rating counts\n",
        "# https://stackoverflow.com/a/39787748/45963\n",
        "ratings, counts = np.unique(data['rating'], return_counts=True)\n",
        "\n",
        "d = {'ratings': ratings, 'counts': counts}\n",
        "\n",
        "ratingCounts = pd.DataFrame(data=d)\n",
        "\n",
        "ratingCounts.sort_values('counts', ascending = False).head(10)"
      ],
      "execution_count": 0,
      "outputs": [
        {
          "output_type": "execute_result",
          "data": {
            "text/html": [
              "<div>\n",
              "<style scoped>\n",
              "    .dataframe tbody tr th:only-of-type {\n",
              "        vertical-align: middle;\n",
              "    }\n",
              "\n",
              "    .dataframe tbody tr th {\n",
              "        vertical-align: top;\n",
              "    }\n",
              "\n",
              "    .dataframe thead th {\n",
              "        text-align: right;\n",
              "    }\n",
              "</style>\n",
              "<table border=\"1\" class=\"dataframe\">\n",
              "  <thead>\n",
              "    <tr style=\"text-align: right;\">\n",
              "      <th></th>\n",
              "      <th>counts</th>\n",
              "      <th>ratings</th>\n",
              "    </tr>\n",
              "  </thead>\n",
              "  <tbody>\n",
              "    <tr>\n",
              "      <th>32</th>\n",
              "      <td>1108</td>\n",
              "      <td>4.4</td>\n",
              "    </tr>\n",
              "    <tr>\n",
              "      <th>31</th>\n",
              "      <td>1076</td>\n",
              "      <td>4.3</td>\n",
              "    </tr>\n",
              "    <tr>\n",
              "      <th>33</th>\n",
              "      <td>1037</td>\n",
              "      <td>4.5</td>\n",
              "    </tr>\n",
              "    <tr>\n",
              "      <th>30</th>\n",
              "      <td>951</td>\n",
              "      <td>4.2</td>\n",
              "    </tr>\n",
              "    <tr>\n",
              "      <th>34</th>\n",
              "      <td>823</td>\n",
              "      <td>4.6</td>\n",
              "    </tr>\n",
              "    <tr>\n",
              "      <th>29</th>\n",
              "      <td>707</td>\n",
              "      <td>4.1</td>\n",
              "    </tr>\n",
              "    <tr>\n",
              "      <th>28</th>\n",
              "      <td>567</td>\n",
              "      <td>4.0</td>\n",
              "    </tr>\n",
              "    <tr>\n",
              "      <th>35</th>\n",
              "      <td>499</td>\n",
              "      <td>4.7</td>\n",
              "    </tr>\n",
              "    <tr>\n",
              "      <th>27</th>\n",
              "      <td>386</td>\n",
              "      <td>3.9</td>\n",
              "    </tr>\n",
              "    <tr>\n",
              "      <th>26</th>\n",
              "      <td>303</td>\n",
              "      <td>3.8</td>\n",
              "    </tr>\n",
              "  </tbody>\n",
              "</table>\n",
              "</div>"
            ],
            "text/plain": [
              "    counts  ratings\n",
              "32    1108      4.4\n",
              "31    1076      4.3\n",
              "33    1037      4.5\n",
              "30     951      4.2\n",
              "34     823      4.6\n",
              "29     707      4.1\n",
              "28     567      4.0\n",
              "35     499      4.7\n",
              "27     386      3.9\n",
              "26     303      3.8"
            ]
          },
          "metadata": {
            "tags": []
          },
          "execution_count": 140
        }
      ]
    },
    {
      "metadata": {
        "id": "t6nuN6I20gvX",
        "colab_type": "text"
      },
      "cell_type": "markdown",
      "source": [
        "4.4 is the most frequent rating. "
      ]
    },
    {
      "metadata": {
        "id": "UsLNu2vkI9mU",
        "colab_type": "code",
        "outputId": "546d53a9-3ebe-4a3a-8ee3-992eb1035439",
        "colab": {
          "base_uri": "https://localhost:8080/",
          "height": 413
        }
      },
      "cell_type": "code",
      "source": [
        "# Import library and dataset\n",
        "import seaborn as sns\n",
        " \n",
        "sns.distplot(data[\"rating\"])\n",
        "plt.title('Distribution of Ratings')"
      ],
      "execution_count": 0,
      "outputs": [
        {
          "output_type": "execute_result",
          "data": {
            "text/plain": [
              "Text(0.5,1,'Distribution of Ratings')"
            ]
          },
          "metadata": {
            "tags": []
          },
          "execution_count": 141
        },
        {
          "output_type": "display_data",
          "data": {
            "image/png": "[encoded data removed]",
            "text/plain": [
              "<matplotlib.figure.Figure at 0x7ff09ee2d390>"
            ]
          },
          "metadata": {
            "tags": []
          }
        }
      ]
    },
    {
      "metadata": {
        "id": "mkigZRd6N9L-",
        "colab_type": "text"
      },
      "cell_type": "markdown",
      "source": [
        "The rating distribution is skewed to the right."
      ]
    },
    {
      "metadata": {
        "id": "NAzpAflW5pn-",
        "colab_type": "code",
        "outputId": "48a04e91-9cd5-4e67-9b35-887abbcba612",
        "colab": {
          "base_uri": "https://localhost:8080/",
          "height": 413
        }
      },
      "cell_type": "code",
      "source": [
        "sns.distplot(np.log10(data[\"rating\"]))\n",
        "plt.title('Distribution of Log(Rating)')"
      ],
      "execution_count": 0,
      "outputs": [
        {
          "output_type": "execute_result",
          "data": {
            "text/plain": [
              "Text(0.5,1,'Distribution of Log(Rating)')"
            ]
          },
          "metadata": {
            "tags": []
          },
          "execution_count": 142
        },
        {
          "output_type": "display_data",
          "data": {
            "image/png": "[encoded data removed]",
            "text/plain": [
              "<matplotlib.figure.Figure at 0x7ff09f69feb8>"
            ]
          },
          "metadata": {
            "tags": []
          }
        }
      ]
    },
    {
      "metadata": {
        "id": "rLR_4ms0NR2-",
        "colab_type": "text"
      },
      "cell_type": "markdown",
      "source": [
        "Applying log to the rating column helps to slightly smooth out the distribution."
      ]
    },
    {
      "metadata": {
        "id": "uZMs8Kia6AYC",
        "colab_type": "code",
        "outputId": "ce266719-0e14-43f9-9c2b-d94399d92471",
        "colab": {
          "base_uri": "https://localhost:8080/",
          "height": 413
        }
      },
      "cell_type": "code",
      "source": [
        "sns.distplot(np.sqrt(data[\"rating\"]))\n",
        "plt.title('Distribution of Sqrt(Rating)')"
      ],
      "execution_count": 0,
      "outputs": [
        {
          "output_type": "execute_result",
          "data": {
            "text/plain": [
              "Text(0.5,1,'Distribution of Sqrt(Rating)')"
            ]
          },
          "metadata": {
            "tags": []
          },
          "execution_count": 143
        },
        {
          "output_type": "display_data",
          "data": {
            "image/png": "[encoded data removed]",
            "text/plain": [
              "<matplotlib.figure.Figure at 0x7ff09f202c50>"
            ]
          },
          "metadata": {
            "tags": []
          }
        }
      ]
    },
    {
      "metadata": {
        "id": "7rC8JTpsNt0q",
        "colab_type": "text"
      },
      "cell_type": "markdown",
      "source": [
        "Applying the square root function to rating also helps to smooth out the distribution and makes it slightly more normal."
      ]
    },
    {
      "metadata": {
        "id": "m9dMtN9QpbAh",
        "colab_type": "text"
      },
      "cell_type": "markdown",
      "source": [
        "### Reviews"
      ]
    },
    {
      "metadata": {
        "id": "lqqpvB_h2cK1",
        "colab_type": "code",
        "outputId": "6151f658-5b07-4167-9158-206cd3cfb75b",
        "colab": {
          "base_uri": "https://localhost:8080/",
          "height": 190
        }
      },
      "cell_type": "code",
      "source": [
        "data.reviews.describe()"
      ],
      "execution_count": 0,
      "outputs": [
        {
          "output_type": "execute_result",
          "data": {
            "text/plain": [
              "count    9.360000e+03\n",
              "mean     5.143767e+05\n",
              "std      3.145023e+06\n",
              "min      1.000000e+00\n",
              "25%      1.867500e+02\n",
              "50%      5.955000e+03\n",
              "75%      8.162750e+04\n",
              "max      7.815831e+07\n",
              "Name: reviews, dtype: float64"
            ]
          },
          "metadata": {
            "tags": []
          },
          "execution_count": 144
        }
      ]
    },
    {
      "metadata": {
        "id": "AtE28rPcYIyq",
        "colab_type": "code",
        "outputId": "de6cca6a-4316-4def-b48d-8a7c130b1142",
        "colab": {
          "base_uri": "https://localhost:8080/",
          "height": 409
        }
      },
      "cell_type": "code",
      "source": [
        "x = data.reviews\n",
        "plt.figure(figsize = (8, 6))\n",
        "plt.ylabel('Reviews')\n",
        "plt.title('Playstore Apps Reviews Boxplot')\n",
        "plt.boxplot(x, sym=\"k.\")\n",
        "plt.show()"
      ],
      "execution_count": 0,
      "outputs": [
        {
          "output_type": "display_data",
          "data": {
            "image/png": "[encoded data removed]",
            "text/plain": [
              "<matplotlib.figure.Figure at 0x7ff09eda2710>"
            ]
          },
          "metadata": {
            "tags": []
          }
        }
      ]
    },
    {
      "metadata": {
        "id": "yuYj1_rGvvi1",
        "colab_type": "text"
      },
      "cell_type": "markdown",
      "source": [
        "The boxplot obtained is what one would expect out of a large [long tailed distribution](https://en.wikipedia.org/wiki/Long_tail). We use a histogram here to show it. \n",
        "\n",
        "https://python-graph-gallery.com/20-basic-histogram-seaborn/"
      ]
    },
    {
      "metadata": {
        "id": "uNXXhorgwgl0",
        "colab_type": "code",
        "outputId": "4d536e77-c564-40ac-8d15-4a6a357fd7c3",
        "colab": {
          "base_uri": "https://localhost:8080/",
          "height": 413
        }
      },
      "cell_type": "code",
      "source": [
        "sns.distplot(data[\"reviews\"], bins=10)\n",
        "plt.title('Distribution of Reviews')"
      ],
      "execution_count": 0,
      "outputs": [
        {
          "output_type": "execute_result",
          "data": {
            "text/plain": [
              "Text(0.5,1,'Distribution of Reviews')"
            ]
          },
          "metadata": {
            "tags": []
          },
          "execution_count": 146
        },
        {
          "output_type": "display_data",
          "data": {
            "image/png": "[encoded data removed]",
            "text/plain": [
              "<matplotlib.figure.Figure at 0x7ff09ef56240>"
            ]
          },
          "metadata": {
            "tags": []
          }
        }
      ]
    },
    {
      "metadata": {
        "id": "rlVr8v-rFdxk",
        "colab_type": "code",
        "outputId": "85bb4247-5331-4c01-8f33-9b1f52ccf5e1",
        "colab": {
          "base_uri": "https://localhost:8080/",
          "height": 71
        }
      },
      "cell_type": "code",
      "source": [
        "data[\"reviews\"].mode()"
      ],
      "execution_count": 0,
      "outputs": [
        {
          "output_type": "execute_result",
          "data": {
            "text/plain": [
              "0    2\n",
              "dtype: int64"
            ]
          },
          "metadata": {
            "tags": []
          },
          "execution_count": 147
        }
      ]
    },
    {
      "metadata": {
        "id": "KYxrwv4SHWim",
        "colab_type": "code",
        "outputId": "bf121399-b84e-4a66-a8ee-8342169854fb",
        "colab": {
          "base_uri": "https://localhost:8080/",
          "height": 54
        }
      },
      "cell_type": "code",
      "source": [
        "data['reviews'].max()"
      ],
      "execution_count": 0,
      "outputs": [
        {
          "output_type": "execute_result",
          "data": {
            "text/plain": [
              "78158306"
            ]
          },
          "metadata": {
            "tags": []
          },
          "execution_count": 148
        }
      ]
    },
    {
      "metadata": {
        "id": "2LtMCvkFHhKn",
        "colab_type": "code",
        "outputId": "ac07e1da-a33c-495a-dda7-641122c0d9fa",
        "colab": {
          "base_uri": "https://localhost:8080/",
          "height": 54
        }
      },
      "cell_type": "code",
      "source": [
        "# we pick from the dataset the apps that have at least 10 reviews\n",
        "data = data[data['reviews'] >= 10]\n",
        "data.shape"
      ],
      "execution_count": 0,
      "outputs": [
        {
          "output_type": "execute_result",
          "data": {
            "text/plain": [
              "(8764, 9)"
            ]
          },
          "metadata": {
            "tags": []
          },
          "execution_count": 149
        }
      ]
    },
    {
      "metadata": {
        "id": "5dQ91UpCvPSx",
        "colab_type": "code",
        "outputId": "7c9f2f2c-1fdc-492d-93a6-ed43d0a69080",
        "colab": {
          "base_uri": "https://localhost:8080/",
          "height": 54
        }
      },
      "cell_type": "code",
      "source": [
        "# we have apps in the range of 10 reviews up to 78 million reviews \n",
        "np.sort(data.reviews.unique())"
      ],
      "execution_count": 0,
      "outputs": [
        {
          "output_type": "execute_result",
          "data": {
            "text/plain": [
              "array([      10,       11,       12, ..., 69119316, 78128208, 78158306])"
            ]
          },
          "metadata": {
            "tags": []
          },
          "execution_count": 150
        }
      ]
    },
    {
      "metadata": {
        "id": "cfIqFZfi6MQO",
        "colab_type": "code",
        "outputId": "0cf72088-9297-4ef6-ea6c-dcbfd2271d23",
        "colab": {
          "base_uri": "https://localhost:8080/",
          "height": 413
        }
      },
      "cell_type": "code",
      "source": [
        "sns.distplot(np.sqrt(data[\"reviews\"]))\n",
        "plt.title('Distribution of Sqrt(Reviews)')"
      ],
      "execution_count": 0,
      "outputs": [
        {
          "output_type": "execute_result",
          "data": {
            "text/plain": [
              "Text(0.5,1,'Distribution of Sqrt(Reviews)')"
            ]
          },
          "metadata": {
            "tags": []
          },
          "execution_count": 151
        },
        {
          "output_type": "display_data",
          "data": {
            "image/png": "[encoded data removed]",
            "text/plain": [
              "<matplotlib.figure.Figure at 0x7ff09ea26c88>"
            ]
          },
          "metadata": {
            "tags": []
          }
        }
      ]
    },
    {
      "metadata": {
        "id": "7lJFMKr66ZB1",
        "colab_type": "code",
        "outputId": "dcfb53ec-cd73-418b-bb89-745854f5ec21",
        "colab": {
          "base_uri": "https://localhost:8080/",
          "height": 413
        }
      },
      "cell_type": "code",
      "source": [
        "sns.distplot(np.log10(data[\"reviews\"]))\n",
        "plt.title('Distribution of Log(Reviews)')"
      ],
      "execution_count": 0,
      "outputs": [
        {
          "output_type": "execute_result",
          "data": {
            "text/plain": [
              "Text(0.5,1,'Distribution of Log(Reviews)')"
            ]
          },
          "metadata": {
            "tags": []
          },
          "execution_count": 152
        },
        {
          "output_type": "display_data",
          "data": {
            "image/png": "[encoded data removed]",
            "text/plain": [
              "<matplotlib.figure.Figure at 0x7ff09e24fe80>"
            ]
          },
          "metadata": {
            "tags": []
          }
        }
      ]
    },
    {
      "metadata": {
        "id": "rV_ZB1RvPCTX",
        "colab_type": "text"
      },
      "cell_type": "markdown",
      "source": [
        "Applying the square root and log functions to reviews helps to smooth out the distribution."
      ]
    },
    {
      "metadata": {
        "id": "MGHsrbZTRkTS",
        "colab_type": "text"
      },
      "cell_type": "markdown",
      "source": [
        "### Price"
      ]
    },
    {
      "metadata": {
        "id": "C7KmMesSIx17",
        "colab_type": "code",
        "outputId": "c4ab22cc-b138-4d40-f741-3e8b5341bf01",
        "colab": {
          "base_uri": "https://localhost:8080/",
          "height": 190
        }
      },
      "cell_type": "code",
      "source": [
        "data['price'].describe()"
      ],
      "execution_count": 0,
      "outputs": [
        {
          "output_type": "execute_result",
          "data": {
            "text/plain": [
              "count    8764.000000\n",
              "mean        0.943261\n",
              "std        15.769995\n",
              "min         0.000000\n",
              "25%         0.000000\n",
              "50%         0.000000\n",
              "75%         0.000000\n",
              "max       400.000000\n",
              "Name: price, dtype: float64"
            ]
          },
          "metadata": {
            "tags": []
          },
          "execution_count": 153
        }
      ]
    },
    {
      "metadata": {
        "id": "q6M7ZybTOBE4",
        "colab_type": "code",
        "outputId": "f4adcb16-dbc2-4b34-e460-7199248705b8",
        "colab": {
          "base_uri": "https://localhost:8080/",
          "height": 54
        }
      },
      "cell_type": "code",
      "source": [
        "print('mode of price is = ' + str(data['price'].mode()[0]))"
      ],
      "execution_count": 0,
      "outputs": [
        {
          "output_type": "stream",
          "text": [
            "mode of price is = 0.0\n"
          ],
          "name": "stdout"
        }
      ]
    },
    {
      "metadata": {
        "id": "T0hsG5UeI3b-",
        "colab_type": "code",
        "outputId": "d0f2a05f-f19a-44c8-d022-277c0f7f469e",
        "colab": {
          "base_uri": "https://localhost:8080/",
          "height": 224
        }
      },
      "cell_type": "code",
      "source": [
        "data['price'].value_counts().sort_values(ascending = False).head(10)"
      ],
      "execution_count": 0,
      "outputs": [
        {
          "output_type": "execute_result",
          "data": {
            "text/plain": [
              "0.00    8197\n",
              "2.99     102\n",
              "0.99      86\n",
              "4.99      64\n",
              "1.99      56\n",
              "3.99      53\n",
              "1.49      19\n",
              "2.49      19\n",
              "5.99      17\n",
              "9.99      14\n",
              "Name: price, dtype: int64"
            ]
          },
          "metadata": {
            "tags": []
          },
          "execution_count": 155
        }
      ]
    },
    {
      "metadata": {
        "id": "2TPA22wSUnYu",
        "colab_type": "text"
      },
      "cell_type": "markdown",
      "source": [
        "The majority of apps are free."
      ]
    },
    {
      "metadata": {
        "id": "WFLpD4vekSpk",
        "colab_type": "code",
        "outputId": "63e41a6e-f704-4e3e-db6f-2ad49194d3ef",
        "colab": {
          "base_uri": "https://localhost:8080/",
          "height": 54
        }
      },
      "cell_type": "code",
      "source": [
        "nonFreeApps = data[data['price'] > 0]\n",
        "nonFreeApps.shape"
      ],
      "execution_count": 0,
      "outputs": [
        {
          "output_type": "execute_result",
          "data": {
            "text/plain": [
              "(567, 9)"
            ]
          },
          "metadata": {
            "tags": []
          },
          "execution_count": 156
        }
      ]
    },
    {
      "metadata": {
        "id": "9cXg2ralU-SI",
        "colab_type": "text"
      },
      "cell_type": "markdown",
      "source": [
        "There are only a small number of non-free apps in the Google Play Store."
      ]
    },
    {
      "metadata": {
        "id": "FME3GgZjkm4q",
        "colab_type": "code",
        "outputId": "65fda7ee-9aed-4e3a-de8f-6f856a7852ef",
        "colab": {
          "base_uri": "https://localhost:8080/",
          "height": 190
        }
      },
      "cell_type": "code",
      "source": [
        "nonFreeApps['price'].describe()"
      ],
      "execution_count": 0,
      "outputs": [
        {
          "output_type": "execute_result",
          "data": {
            "text/plain": [
              "count    567.000000\n",
              "mean      14.579788\n",
              "std       60.424951\n",
              "min        0.990000\n",
              "25%        1.990000\n",
              "50%        2.990000\n",
              "75%        4.990000\n",
              "max      400.000000\n",
              "Name: price, dtype: float64"
            ]
          },
          "metadata": {
            "tags": []
          },
          "execution_count": 157
        }
      ]
    },
    {
      "metadata": {
        "id": "-8ChMULylQD6",
        "colab_type": "code",
        "outputId": "22dda453-a6de-4f32-84cd-1c235d1ca5c6",
        "colab": {
          "base_uri": "https://localhost:8080/",
          "height": 224
        }
      },
      "cell_type": "code",
      "source": [
        "nonFreeApps['price'].value_counts().head(10)"
      ],
      "execution_count": 0,
      "outputs": [
        {
          "output_type": "execute_result",
          "data": {
            "text/plain": [
              "2.99    102\n",
              "0.99     86\n",
              "4.99     64\n",
              "1.99     56\n",
              "3.99     53\n",
              "1.49     19\n",
              "2.49     19\n",
              "5.99     17\n",
              "9.99     14\n",
              "6.99     13\n",
              "Name: price, dtype: int64"
            ]
          },
          "metadata": {
            "tags": []
          },
          "execution_count": 158
        }
      ]
    },
    {
      "metadata": {
        "id": "eMip4zhKU5RR",
        "colab_type": "text"
      },
      "cell_type": "markdown",
      "source": [
        "2.99 is the most common price for paid apps."
      ]
    },
    {
      "metadata": {
        "id": "T5-Px5SZIwby",
        "colab_type": "code",
        "outputId": "63d66cf7-65c6-477e-b938-87b57104db73",
        "colab": {
          "base_uri": "https://localhost:8080/",
          "height": 413
        }
      },
      "cell_type": "code",
      "source": [
        "sns.distplot(data[\"price\"])\n",
        "plt.title('Distribution of Price')"
      ],
      "execution_count": 0,
      "outputs": [
        {
          "output_type": "execute_result",
          "data": {
            "text/plain": [
              "Text(0.5,1,'Distribution of Price')"
            ]
          },
          "metadata": {
            "tags": []
          },
          "execution_count": 159
        },
        {
          "output_type": "display_data",
          "data": {
            "image/png": "[encoded data removed]",
            "text/plain": [
              "<matplotlib.figure.Figure at 0x7ff09e7d41d0>"
            ]
          },
          "metadata": {
            "tags": []
          }
        }
      ]
    },
    {
      "metadata": {
        "id": "vquzhD1_lFrn",
        "colab_type": "code",
        "outputId": "ba1da3f9-cda9-474a-eb7e-8e4939303aa2",
        "colab": {
          "base_uri": "https://localhost:8080/",
          "height": 413
        }
      },
      "cell_type": "code",
      "source": [
        "sns.distplot(nonFreeApps[\"price\"], bins = None)\n",
        "plt.title('Distribution of Price of Paid Apps')"
      ],
      "execution_count": 0,
      "outputs": [
        {
          "output_type": "execute_result",
          "data": {
            "text/plain": [
              "Text(0.5,1,'Distribution of Price of Paid Apps')"
            ]
          },
          "metadata": {
            "tags": []
          },
          "execution_count": 160
        },
        {
          "output_type": "display_data",
          "data": {
            "image/png": "[encoded data removed]",
            "text/plain": [
              "<matplotlib.figure.Figure at 0x7ff09e3fd1d0>"
            ]
          },
          "metadata": {
            "tags": []
          }
        }
      ]
    },
    {
      "metadata": {
        "id": "kgDuSRt6WmBu",
        "colab_type": "text"
      },
      "cell_type": "markdown",
      "source": [
        "Both distrubtions of all prices and prices of paid apps are skewed to the left.  These are long-tailed distributions."
      ]
    },
    {
      "metadata": {
        "id": "Nogxyuhoq1IU",
        "colab_type": "text"
      },
      "cell_type": "markdown",
      "source": [
        "### Variable Comparisons"
      ]
    },
    {
      "metadata": {
        "id": "n5UH_1iJ0seF",
        "colab_type": "text"
      },
      "cell_type": "markdown",
      "source": [
        "The scatterplot shows that apps that have higher ratings tend to be more popular, as they have a higher number of reviews. "
      ]
    },
    {
      "metadata": {
        "id": "bowPhzQwsaBh",
        "colab_type": "code",
        "outputId": "1b6f9aff-e1c3-42a6-91fe-d18a0a003767",
        "colab": {
          "base_uri": "https://localhost:8080/",
          "height": 396
        }
      },
      "cell_type": "code",
      "source": [
        "plt.scatter(data.reviews, data.rating)\n",
        "plt.xlabel('reviews')\n",
        "plt.ylabel('rating')\n",
        "plt.axhline(y=0)\n",
        "plt.title('Reviews vs. Rating')\n",
        "plt.show()"
      ],
      "execution_count": 0,
      "outputs": [
        {
          "output_type": "display_data",
          "data": {
            "image/png": "[encoded data removed]",
            "text/plain": [
              "<matplotlib.figure.Figure at 0x7ff09ebf8dd8>"
            ]
          },
          "metadata": {
            "tags": []
          }
        }
      ]
    },
    {
      "metadata": {
        "id": "w9v2W0JS2GpG",
        "colab_type": "text"
      },
      "cell_type": "markdown",
      "source": [
        "We seem to have a long tailed distribution, which has its own sets of challenges/considerations for regression analysis. \n",
        "\n",
        "http://mockinterview.co/index.php/question/explain-what-a-long-tailed-distribution-is-and-provide-three-examples-of-relevant-phenomena-that-have-long-tails-why-are-they-important-in-classification-and-regression-problems/\n",
        "\n",
        "We will use [log-log plots](https://en.wikipedia.org/wiki/Log%E2%80%93log_plot) of reviews vs ratings for regression analysis, as [the columns of reviews, ratings, and price are long-tailed distributions](https://stats.stackexchange.com/questions/111385/how-to-best-plot-a-heavy-vs-light-tailed-distribution-in-r).\n",
        "\n"
      ]
    },
    {
      "metadata": {
        "id": "FaCI1XR4w3O6",
        "colab_type": "code",
        "colab": {}
      },
      "cell_type": "code",
      "source": [
        "data['logRating'] = np.log10(data['rating']) # this is broadcasting the function and is faster, and is O(c) because it's applied simultaneously on all values\n",
        "data['logReviews']= np.log10(data['reviews'])"
      ],
      "execution_count": 0,
      "outputs": []
    },
    {
      "metadata": {
        "id": "mR31AMJz7_2T",
        "colab_type": "code",
        "outputId": "86bbeecf-6ff2-4fd3-a928-bdada689685b",
        "colab": {
          "base_uri": "https://localhost:8080/",
          "height": 396
        }
      },
      "cell_type": "code",
      "source": [
        "plt.scatter(data.logReviews, data.logRating)\n",
        "plt.xlabel('log reviews')\n",
        "plt.ylabel('log rating')\n",
        "plt.axhline(y=0)\n",
        "plt.title('Log(Reviews) vs. Log(Rating)')\n",
        "plt.show()"
      ],
      "execution_count": 0,
      "outputs": [
        {
          "output_type": "display_data",
          "data": {
            "image/png": "[encoded data removed]",
            "text/plain": [
              "<matplotlib.figure.Figure at 0x7ff09edfabe0>"
            ]
          },
          "metadata": {
            "tags": []
          }
        }
      ]
    },
    {
      "metadata": {
        "id": "9gD76zsOSem5",
        "colab_type": "code",
        "outputId": "f0525e78-bcfe-4732-a7d7-110d324d3bbe",
        "colab": {
          "base_uri": "https://localhost:8080/",
          "height": 396
        }
      },
      "cell_type": "code",
      "source": [
        "plt.scatter(data.price, data.rating)\n",
        "plt.xlabel('Price')\n",
        "plt.ylabel('Rating')\n",
        "plt.axhline(y=0)\n",
        "plt.title('Price vs. Rating')\n",
        "plt.show()"
      ],
      "execution_count": 0,
      "outputs": [
        {
          "output_type": "display_data",
          "data": {
            "image/png": "[encoded data removed]",
            "text/plain": [
              "<matplotlib.figure.Figure at 0x7ff09ec7b6a0>"
            ]
          },
          "metadata": {
            "tags": []
          }
        }
      ]
    },
    {
      "metadata": {
        "id": "k4XYaENmSNdQ",
        "colab_type": "code",
        "outputId": "f825430c-439e-4047-b331-6f853330988a",
        "colab": {
          "base_uri": "https://localhost:8080/",
          "height": 396
        }
      },
      "cell_type": "code",
      "source": [
        "plt.scatter(data['size'], data.rating)\n",
        "plt.xlabel('Size')\n",
        "plt.ylabel('rating')\n",
        "plt.axhline(y=0)\n",
        "plt.title('Size vs. Rating')\n",
        "plt.show()"
      ],
      "execution_count": 0,
      "outputs": [
        {
          "output_type": "display_data",
          "data": {
            "image/png": "[encoded data removed]",
            "text/plain": [
              "<matplotlib.figure.Figure at 0x7ff09f00e080>"
            ]
          },
          "metadata": {
            "tags": []
          }
        }
      ]
    },
    {
      "metadata": {
        "id": "jvnELo8mSUkM",
        "colab_type": "code",
        "outputId": "8df1adc4-2f76-42c8-84f3-6c68c3dc3a53",
        "colab": {
          "base_uri": "https://localhost:8080/",
          "height": 396
        }
      },
      "cell_type": "code",
      "source": [
        "plt.scatter(data.installs, data.rating)\n",
        "plt.xlabel('Installs')\n",
        "plt.ylabel('Rating')\n",
        "plt.axhline(y=0)\n",
        "plt.title('Installs vs. Rating')\n",
        "plt.show()"
      ],
      "execution_count": 0,
      "outputs": [
        {
          "output_type": "display_data",
          "data": {
            "image/png": "[encoded data removed]",
            "text/plain": [
              "<matplotlib.figure.Figure at 0x7ff09e765e10>"
            ]
          },
          "metadata": {
            "tags": []
          }
        }
      ]
    },
    {
      "metadata": {
        "id": "p29xK1-zN6fA",
        "colab_type": "text"
      },
      "cell_type": "markdown",
      "source": [
        "### Correlations"
      ]
    },
    {
      "metadata": {
        "id": "-6syCXRR8Odj",
        "colab_type": "text"
      },
      "cell_type": "markdown",
      "source": [
        "A comparison of Pearson vs Spearman correlation is interesting here. For Pearson correlation analysis, the variables should be normally distributed, which is not the case for these distributions: the distribution of price has a long tail and the distribution of rating is skewed to the left. The Pearson correlation value is derived from the fitting of a regular linear regression, as the distributions here are not normally distributed and highly disimilar the correlation appears to be low, negative and not statistically significant (the p-value > 0.5). The P-value is the probability that we would have found the current result if the correlation coefficient were $= 0$(null hypothesis). If this probability is lower than the conventional $5\\%$ ($\\textit{p-value}<0.05$) the correlation coefficient is called statistically significant.\n",
        "\n",
        "Spearman's rank correlation only cares about the agreement of the rankings in price and rating. It's low value and its low p-value indicate that there is low agreement between increases or decreases in price and rating.  Spearman's rank correlation is more appropriate for testing non-linear relationships between variables than Pearson's correlation. Spearman correlation checks for the agreement in a monotonic relationship  in the features. When one feature increases or decrease, so does the other feature increase or decrease. Pearson correlation checks for the agreement in a linear relationship between the features, which is more limited and depends on the assumption of normality in the distributions of the features, which we don't have here for most features. "
      ]
    },
    {
      "metadata": {
        "id": "rQ9bTbaiznRf",
        "colab_type": "code",
        "outputId": "0d1da622-c460-416c-f6bb-504ab362531d",
        "colab": {
          "base_uri": "https://localhost:8080/",
          "height": 54
        }
      },
      "cell_type": "code",
      "source": [
        "from scipy.stats import pearsonr\n",
        "\n",
        "pearsonr(data.logReviews, data.logRating)"
      ],
      "execution_count": 0,
      "outputs": [
        {
          "output_type": "execute_result",
          "data": {
            "text/plain": [
              "(0.277118129416633, 2.8818486894882607e-154)"
            ]
          },
          "metadata": {
            "tags": []
          },
          "execution_count": 167
        }
      ]
    },
    {
      "metadata": {
        "id": "Shpk8IRiexpo",
        "colab_type": "code",
        "outputId": "86a6b604-5004-46d5-b051-47d861862b73",
        "colab": {
          "base_uri": "https://localhost:8080/",
          "height": 54
        }
      },
      "cell_type": "code",
      "source": [
        "from scipy.stats import spearmanr\n",
        "\n",
        "spearmanr(data.logReviews, data.logRating)"
      ],
      "execution_count": 0,
      "outputs": [
        {
          "output_type": "execute_result",
          "data": {
            "text/plain": [
              "SpearmanrResult(correlation=0.22507263546920386, pvalue=4.643283259047502e-101)"
            ]
          },
          "metadata": {
            "tags": []
          },
          "execution_count": 168
        }
      ]
    },
    {
      "metadata": {
        "id": "_a3_DgEQLQEg",
        "colab_type": "text"
      },
      "cell_type": "markdown",
      "source": [
        "There is a low Pearson correlation as well as low Spearman correlation between log(reviews) and log(ratings).  The p-value is extremely low which shows that the low correlation and low agreement between the variables, respectively, is statistically significant."
      ]
    },
    {
      "metadata": {
        "id": "ayUqacRycDT2",
        "colab_type": "code",
        "outputId": "200fece3-f137-4548-c853-e59dd90b3ad6",
        "colab": {
          "base_uri": "https://localhost:8080/",
          "height": 917
        }
      },
      "cell_type": "code",
      "source": [
        "corrmat = data.corr('pearson')\n",
        "print(corrmat)\n",
        "\n",
        "plt.figure(figsize=(10,10))\n",
        "sns.heatmap(corrmat, vmax=.8, square=True)\n",
        "plt.title('Pearson Correlations')\n",
        "plt.show()"
      ],
      "execution_count": 0,
      "outputs": [
        {
          "output_type": "stream",
          "text": [
            "                 rating   reviews      size  installs     price  \\\n",
            "rating         1.000000  0.077456  0.096549  0.058464 -0.026701   \n",
            "reviews        0.077456  1.000000  0.241176  0.640845 -0.010001   \n",
            "size           0.096549  0.241176  1.000000  0.161196 -0.027209   \n",
            "installs       0.058464  0.640845  0.161196  1.000000 -0.012117   \n",
            "price         -0.026701 -0.010001 -0.027209 -0.012117  1.000000   \n",
            "contentRating  0.010486  0.071021  0.203896  0.043965 -0.016597   \n",
            "logRating      0.988915  0.073519  0.096965  0.059334 -0.023226   \n",
            "logReviews     0.272079  0.333980  0.375096  0.355985 -0.051437   \n",
            "\n",
            "               contentRating  logRating  logReviews  \n",
            "rating              0.010486   0.988915    0.272079  \n",
            "reviews             0.071021   0.073519    0.333980  \n",
            "size                0.203896   0.096965    0.375096  \n",
            "installs            0.043965   0.059334    0.355985  \n",
            "price              -0.016597  -0.023226   -0.051437  \n",
            "contentRating       1.000000   0.018548    0.173043  \n",
            "logRating           0.018548   1.000000    0.277118  \n",
            "logReviews          0.173043   0.277118    1.000000  \n"
          ],
          "name": "stdout"
        },
        {
          "output_type": "display_data",
          "data": {
            "image/png": "[encoded data removed]",
            "text/plain": [
              "<matplotlib.figure.Figure at 0x7ff09f93f908>"
            ]
          },
          "metadata": {
            "tags": []
          }
        }
      ]
    },
    {
      "metadata": {
        "id": "G6QMcxAZc3DT",
        "colab_type": "code",
        "outputId": "335827b1-fe4b-4e06-86b5-cc8f16581ef1",
        "colab": {
          "base_uri": "https://localhost:8080/",
          "height": 917
        }
      },
      "cell_type": "code",
      "source": [
        "corrmat = data.corr('spearman')\n",
        "print(corrmat)\n",
        "\n",
        "plt.figure(figsize=(10,10))\n",
        "sns.heatmap(corrmat, vmax=.8, square=True)\n",
        "plt.title('Spearman Correlations')\n",
        "plt.show()"
      ],
      "execution_count": 0,
      "outputs": [
        {
          "output_type": "stream",
          "text": [
            "                 rating   reviews      size  installs     price  \\\n",
            "rating         1.000000  0.225073  0.086369  0.126362  0.068052   \n",
            "reviews        0.225073  1.000000  0.387668  0.957675 -0.193045   \n",
            "size           0.086369  0.387668  1.000000  0.357895 -0.048458   \n",
            "installs       0.126362  0.957675  0.357895  1.000000 -0.283524   \n",
            "price          0.068052 -0.193045 -0.048458 -0.283524  1.000000   \n",
            "contentRating -0.019988  0.177209  0.222351  0.141316 -0.040202   \n",
            "logRating      1.000000  0.225073  0.086369  0.126362  0.068052   \n",
            "logReviews     0.225073  1.000000  0.387668  0.957675 -0.193045   \n",
            "\n",
            "               contentRating  logRating  logReviews  \n",
            "rating             -0.019988   1.000000    0.225073  \n",
            "reviews             0.177209   0.225073    1.000000  \n",
            "size                0.222351   0.086369    0.387668  \n",
            "installs            0.141316   0.126362    0.957675  \n",
            "price              -0.040202   0.068052   -0.193045  \n",
            "contentRating       1.000000  -0.019988    0.177209  \n",
            "logRating          -0.019988   1.000000    0.225073  \n",
            "logReviews          0.177209   0.225073    1.000000  \n"
          ],
          "name": "stdout"
        },
        {
          "output_type": "display_data",
          "data": {
            "image/png": "[encoded data removed]",
            "text/plain": [
              "<matplotlib.figure.Figure at 0x7ff09e993160>"
            ]
          },
          "metadata": {
            "tags": []
          }
        }
      ]
    },
    {
      "metadata": {
        "id": "rPtsI0Qg1rss",
        "colab_type": "text"
      },
      "cell_type": "markdown",
      "source": [
        "##FEATURES"
      ]
    },
    {
      "metadata": {
        "id": "ap603_WAh6JV",
        "colab_type": "text"
      },
      "cell_type": "markdown",
      "source": [
        "### Creating features"
      ]
    },
    {
      "metadata": {
        "id": "XvqF6yFULZfB",
        "colab_type": "code",
        "colab": {}
      },
      "cell_type": "code",
      "source": [
        "features = data[['rating', 'reviews', 'size','installs', 'price', 'contentRating', 'logReviews', 'logRating']]"
      ],
      "execution_count": 0,
      "outputs": []
    },
    {
      "metadata": {
        "id": "x2k_RCoEOSRf",
        "colab_type": "code",
        "outputId": "c5830eff-9045-4d51-8aa2-cc039a93b7f2",
        "colab": {
          "base_uri": "https://localhost:8080/",
          "height": 119
        }
      },
      "cell_type": "code",
      "source": [
        "# Add a binary feature that evaluates to true\n",
        "# when rating is above the median (useful for logistic regression)\n",
        "\n",
        "features['positiveRating'] = np.where(data['rating']>=4.3, 1, 0)"
      ],
      "execution_count": 0,
      "outputs": [
        {
          "output_type": "stream",
          "text": [
            "/usr/local/lib/python3.6/dist-packages/ipykernel_launcher.py:2: SettingWithCopyWarning: \n",
            "A value is trying to be set on a copy of a slice from a DataFrame.\n",
            "Try using .loc[row_indexer,col_indexer] = value instead\n",
            "\n",
            "See the caveats in the documentation: http://pandas.pydata.org/pandas-docs/stable/indexing.html#indexing-view-versus-copy\n",
            "  \n"
          ],
          "name": "stderr"
        }
      ]
    },
    {
      "metadata": {
        "id": "djEAiexRMa0j",
        "colab_type": "code",
        "outputId": "e236512b-f705-4fe4-c20a-cfe89b1955f0",
        "colab": {
          "base_uri": "https://localhost:8080/",
          "height": 119
        }
      },
      "cell_type": "code",
      "source": [
        "# Add feature transformations in order to fit higher order polynomials into the data\n",
        "\n",
        "features['reviews2'] = (features['reviews'] ** 2)\n",
        "features['reviews3'] = (features['reviews'] ** 3)\n",
        "features['reviews4'] = (features['reviews'] ** 4)\n",
        "\n",
        "features['installs2'] = (features['installs'] ** 2)\n",
        "features['installs3'] = (features['installs'] ** 3)\n",
        "features['installs4'] = (features['installs'] ** 4)\n",
        "\n",
        "features['price2'] = (features['price']  ** 2)\n",
        "features['price3'] = (features['price'] ** 3)\n",
        "features['price4'] = (features['price'] ** 4)\n",
        "\n",
        "features['installsXreviews'] = features['installs'] * features['reviews']\n",
        "features['installs2Xreviews2'] = features['installs2'] * features['reviews2']\n",
        "\n",
        "features ['sqrtReviews'] = features['reviews'] ** (1/2)\n",
        "features ['sqrtInstalls'] = features['installs'] ** (1/2)\n",
        "features ['sqrtPrice'] = features['price'] ** (1/2)"
      ],
      "execution_count": 0,
      "outputs": [
        {
          "output_type": "stream",
          "text": [
            "/usr/local/lib/python3.6/dist-packages/ipykernel_launcher.py:2: SettingWithCopyWarning: \n",
            "A value is trying to be set on a copy of a slice from a DataFrame.\n",
            "Try using .loc[row_indexer,col_indexer] = value instead\n",
            "\n",
            "See the caveats in the documentation: http://pandas.pydata.org/pandas-docs/stable/indexing.html#indexing-view-versus-copy\n",
            "  \n"
          ],
          "name": "stderr"
        }
      ]
    },
    {
      "metadata": {
        "id": "UP_j31hseFKi",
        "colab_type": "code",
        "outputId": "73c32dd0-3e03-4313-b8ea-b77cdb99aa4f",
        "colab": {
          "base_uri": "https://localhost:8080/",
          "height": 250
        }
      },
      "cell_type": "code",
      "source": [
        "# Use one hot encoding to create features for each genre\n",
        "\n",
        "features2 = pd.get_dummies(data['genres'].apply(pd.Series).stack()).sum(level=0)\n",
        "features2.head()"
      ],
      "execution_count": 0,
      "outputs": [
        {
          "output_type": "execute_result",
          "data": {
            "text/html": [
              "<div>\n",
              "<style scoped>\n",
              "    .dataframe tbody tr th:only-of-type {\n",
              "        vertical-align: middle;\n",
              "    }\n",
              "\n",
              "    .dataframe tbody tr th {\n",
              "        vertical-align: top;\n",
              "    }\n",
              "\n",
              "    .dataframe thead th {\n",
              "        text-align: right;\n",
              "    }\n",
              "</style>\n",
              "<table border=\"1\" class=\"dataframe\">\n",
              "  <thead>\n",
              "    <tr style=\"text-align: right;\">\n",
              "      <th></th>\n",
              "      <th>Action</th>\n",
              "      <th>Action &amp; Adventure</th>\n",
              "      <th>Adventure</th>\n",
              "      <th>Arcade</th>\n",
              "      <th>Art &amp; Design</th>\n",
              "      <th>Auto &amp; Vehicles</th>\n",
              "      <th>Beauty</th>\n",
              "      <th>Board</th>\n",
              "      <th>Books &amp; Reference</th>\n",
              "      <th>Brain Games</th>\n",
              "      <th>...</th>\n",
              "      <th>Simulation</th>\n",
              "      <th>Social</th>\n",
              "      <th>Sports</th>\n",
              "      <th>Strategy</th>\n",
              "      <th>Tools</th>\n",
              "      <th>Travel &amp; Local</th>\n",
              "      <th>Trivia</th>\n",
              "      <th>Video Players &amp; Editors</th>\n",
              "      <th>Weather</th>\n",
              "      <th>Word</th>\n",
              "    </tr>\n",
              "  </thead>\n",
              "  <tbody>\n",
              "    <tr>\n",
              "      <th>0</th>\n",
              "      <td>0</td>\n",
              "      <td>0</td>\n",
              "      <td>0</td>\n",
              "      <td>0</td>\n",
              "      <td>1</td>\n",
              "      <td>0</td>\n",
              "      <td>0</td>\n",
              "      <td>0</td>\n",
              "      <td>0</td>\n",
              "      <td>0</td>\n",
              "      <td>...</td>\n",
              "      <td>0</td>\n",
              "      <td>0</td>\n",
              "      <td>0</td>\n",
              "      <td>0</td>\n",
              "      <td>0</td>\n",
              "      <td>0</td>\n",
              "      <td>0</td>\n",
              "      <td>0</td>\n",
              "      <td>0</td>\n",
              "      <td>0</td>\n",
              "    </tr>\n",
              "    <tr>\n",
              "      <th>1</th>\n",
              "      <td>0</td>\n",
              "      <td>0</td>\n",
              "      <td>0</td>\n",
              "      <td>0</td>\n",
              "      <td>1</td>\n",
              "      <td>0</td>\n",
              "      <td>0</td>\n",
              "      <td>0</td>\n",
              "      <td>0</td>\n",
              "      <td>0</td>\n",
              "      <td>...</td>\n",
              "      <td>0</td>\n",
              "      <td>0</td>\n",
              "      <td>0</td>\n",
              "      <td>0</td>\n",
              "      <td>0</td>\n",
              "      <td>0</td>\n",
              "      <td>0</td>\n",
              "      <td>0</td>\n",
              "      <td>0</td>\n",
              "      <td>0</td>\n",
              "    </tr>\n",
              "    <tr>\n",
              "      <th>2</th>\n",
              "      <td>0</td>\n",
              "      <td>0</td>\n",
              "      <td>0</td>\n",
              "      <td>0</td>\n",
              "      <td>1</td>\n",
              "      <td>0</td>\n",
              "      <td>0</td>\n",
              "      <td>0</td>\n",
              "      <td>0</td>\n",
              "      <td>0</td>\n",
              "      <td>...</td>\n",
              "      <td>0</td>\n",
              "      <td>0</td>\n",
              "      <td>0</td>\n",
              "      <td>0</td>\n",
              "      <td>0</td>\n",
              "      <td>0</td>\n",
              "      <td>0</td>\n",
              "      <td>0</td>\n",
              "      <td>0</td>\n",
              "      <td>0</td>\n",
              "    </tr>\n",
              "    <tr>\n",
              "      <th>3</th>\n",
              "      <td>0</td>\n",
              "      <td>0</td>\n",
              "      <td>0</td>\n",
              "      <td>0</td>\n",
              "      <td>1</td>\n",
              "      <td>0</td>\n",
              "      <td>0</td>\n",
              "      <td>0</td>\n",
              "      <td>0</td>\n",
              "      <td>0</td>\n",
              "      <td>...</td>\n",
              "      <td>0</td>\n",
              "      <td>0</td>\n",
              "      <td>0</td>\n",
              "      <td>0</td>\n",
              "      <td>0</td>\n",
              "      <td>0</td>\n",
              "      <td>0</td>\n",
              "      <td>0</td>\n",
              "      <td>0</td>\n",
              "      <td>0</td>\n",
              "    </tr>\n",
              "    <tr>\n",
              "      <th>4</th>\n",
              "      <td>0</td>\n",
              "      <td>0</td>\n",
              "      <td>0</td>\n",
              "      <td>0</td>\n",
              "      <td>1</td>\n",
              "      <td>0</td>\n",
              "      <td>0</td>\n",
              "      <td>0</td>\n",
              "      <td>0</td>\n",
              "      <td>0</td>\n",
              "      <td>...</td>\n",
              "      <td>0</td>\n",
              "      <td>0</td>\n",
              "      <td>0</td>\n",
              "      <td>0</td>\n",
              "      <td>0</td>\n",
              "      <td>0</td>\n",
              "      <td>0</td>\n",
              "      <td>0</td>\n",
              "      <td>0</td>\n",
              "      <td>0</td>\n",
              "    </tr>\n",
              "  </tbody>\n",
              "</table>\n",
              "<p>5 rows × 53 columns</p>\n",
              "</div>"
            ],
            "text/plain": [
              "   Action  Action & Adventure  Adventure  Arcade  Art & Design  \\\n",
              "0       0                   0          0       0             1   \n",
              "1       0                   0          0       0             1   \n",
              "2       0                   0          0       0             1   \n",
              "3       0                   0          0       0             1   \n",
              "4       0                   0          0       0             1   \n",
              "\n",
              "   Auto & Vehicles  Beauty  Board  Books & Reference  Brain Games  ...   \\\n",
              "0                0       0      0                  0            0  ...    \n",
              "1                0       0      0                  0            0  ...    \n",
              "2                0       0      0                  0            0  ...    \n",
              "3                0       0      0                  0            0  ...    \n",
              "4                0       0      0                  0            0  ...    \n",
              "\n",
              "   Simulation  Social  Sports  Strategy  Tools  Travel & Local  Trivia  \\\n",
              "0           0       0       0         0      0               0       0   \n",
              "1           0       0       0         0      0               0       0   \n",
              "2           0       0       0         0      0               0       0   \n",
              "3           0       0       0         0      0               0       0   \n",
              "4           0       0       0         0      0               0       0   \n",
              "\n",
              "   Video Players & Editors  Weather  Word  \n",
              "0                        0        0     0  \n",
              "1                        0        0     0  \n",
              "2                        0        0     0  \n",
              "3                        0        0     0  \n",
              "4                        0        0     0  \n",
              "\n",
              "[5 rows x 53 columns]"
            ]
          },
          "metadata": {
            "tags": []
          },
          "execution_count": 174
        }
      ]
    },
    {
      "metadata": {
        "id": "lSlMtJCdjvUr",
        "colab_type": "code",
        "outputId": "82cb221d-efe7-49a5-eba6-26890ce746c2",
        "colab": {
          "base_uri": "https://localhost:8080/",
          "height": 748
        }
      },
      "cell_type": "code",
      "source": [
        "# Counts of all genres\n",
        "\n",
        "genres = features2.sum(axis=0).sort_values(ascending=False)\n",
        "other = genres[41:].sum()\n",
        "genres = genres[:41]\n",
        "genres.loc[42] = other\n",
        "genres.rename(index = {42:'Other'}, inplace=True)\n",
        "genres"
      ],
      "execution_count": 0,
      "outputs": [
        {
          "output_type": "execute_result",
          "data": {
            "text/plain": [
              "Tools                      680\n",
              "Education                  594\n",
              "Entertainment              536\n",
              "Action                     370\n",
              "Productivity               329\n",
              "Sports                     325\n",
              "Communication              306\n",
              "Photography                304\n",
              "Finance                    301\n",
              "Medical                    290\n",
              "Personalization            283\n",
              "Lifestyle                  282\n",
              "Health & Fitness           280\n",
              "Business                   258\n",
              "Casual                     254\n",
              "Social                     246\n",
              "Shopping                   227\n",
              "News & Magazines           223\n",
              "Travel & Local             219\n",
              "Arcade                     215\n",
              "Simulation                 209\n",
              "Dating                     177\n",
              "Books & Reference          170\n",
              "Video Players & Editors    161\n",
              "Puzzle                     143\n",
              "Action & Adventure         135\n",
              "Maps & Navigation          115\n",
              "Role Playing               115\n",
              "Racing                     112\n",
              "Strategy                   107\n",
              "Food & Drink               106\n",
              "Educational                101\n",
              "Adventure                   88\n",
              "Pretend Play                86\n",
              "House & Home                75\n",
              "Weather                     75\n",
              "Brain Games                 69\n",
              "Auto & Vehicles             67\n",
              "Art & Design                63\n",
              "Libraries & Demo            62\n",
              "Board                       58\n",
              "Other                      424\n",
              "dtype: int64"
            ]
          },
          "metadata": {
            "tags": []
          },
          "execution_count": 248
        }
      ]
    },
    {
      "metadata": {
        "id": "EBi-qdzHtmfo",
        "colab_type": "code",
        "outputId": "b59468cd-afb8-45e0-b4d4-67bd0ce8568d",
        "colab": {
          "base_uri": "https://localhost:8080/",
          "height": 546
        }
      },
      "cell_type": "code",
      "source": [
        "import seaborn as sns\n",
        "plt.figure(figsize = (12, 8))\n",
        "sns.barplot(y=genres.index, x=genres.values)\n",
        "plt.title('Google Play Store App Genres')\n",
        "plt.ylabel('Genre')\n",
        "plt.xlabel('Count')\n",
        "plt.show()"
      ],
      "execution_count": 0,
      "outputs": [
        {
          "output_type": "stream",
          "text": [
            "/usr/local/lib/python3.6/dist-packages/seaborn/categorical.py:1428: FutureWarning: remove_na is deprecated and is a private function. Do not use.\n",
            "  stat_data = remove_na(group_data)\n"
          ],
          "name": "stderr"
        },
        {
          "output_type": "display_data",
          "data": {
            "image/png": "[encoded data removed]",
            "text/plain": [
              "<matplotlib.figure.Figure at 0x7ff094c88a20>"
            ]
          },
          "metadata": {
            "tags": []
          }
        }
      ]
    },
    {
      "metadata": {
        "id": "EFCy0DO4e0Hg",
        "colab_type": "code",
        "colab": {}
      },
      "cell_type": "code",
      "source": [
        "# Combine all features into one dataframe\n",
        "\n",
        "featuresAll = pd.concat([features, features2], axis=1)"
      ],
      "execution_count": 0,
      "outputs": []
    },
    {
      "metadata": {
        "id": "KJqcdC3OiGog",
        "colab_type": "code",
        "outputId": "d7c40e67-fa97-4ad7-d3b7-ff58ab6ed46b",
        "colab": {
          "base_uri": "https://localhost:8080/",
          "height": 34
        }
      },
      "cell_type": "code",
      "source": [
        "# Some transformations and feature additions may have resulted in NaN values\n",
        "\n",
        "featuresAll.isnull().values.ravel().sum()"
      ],
      "execution_count": 0,
      "outputs": [
        {
          "output_type": "execute_result",
          "data": {
            "text/plain": [
              "1629"
            ]
          },
          "metadata": {
            "tags": []
          },
          "execution_count": 177
        }
      ]
    },
    {
      "metadata": {
        "id": "qhwzqZhtViZd",
        "colab_type": "code",
        "colab": {}
      },
      "cell_type": "code",
      "source": [
        "# Drop NaN values\n",
        "featuresAll.dropna(inplace=True)"
      ],
      "execution_count": 0,
      "outputs": []
    },
    {
      "metadata": {
        "id": "Un9gknOfntlL",
        "colab_type": "code",
        "outputId": "9b6ed7f3-92dd-43d0-c950-ccb065ffcdf5",
        "colab": {
          "base_uri": "https://localhost:8080/",
          "height": 233
        }
      },
      "cell_type": "code",
      "source": [
        "featuresAll.head()"
      ],
      "execution_count": 0,
      "outputs": [
        {
          "output_type": "execute_result",
          "data": {
            "text/html": [
              "<div>\n",
              "<style scoped>\n",
              "    .dataframe tbody tr th:only-of-type {\n",
              "        vertical-align: middle;\n",
              "    }\n",
              "\n",
              "    .dataframe tbody tr th {\n",
              "        vertical-align: top;\n",
              "    }\n",
              "\n",
              "    .dataframe thead th {\n",
              "        text-align: right;\n",
              "    }\n",
              "</style>\n",
              "<table border=\"1\" class=\"dataframe\">\n",
              "  <thead>\n",
              "    <tr style=\"text-align: right;\">\n",
              "      <th></th>\n",
              "      <th>rating</th>\n",
              "      <th>reviews</th>\n",
              "      <th>size</th>\n",
              "      <th>installs</th>\n",
              "      <th>price</th>\n",
              "      <th>contentRating</th>\n",
              "      <th>logReviews</th>\n",
              "      <th>logRating</th>\n",
              "      <th>positiveRating</th>\n",
              "      <th>reviews2</th>\n",
              "      <th>...</th>\n",
              "      <th>Simulation</th>\n",
              "      <th>Social</th>\n",
              "      <th>Sports</th>\n",
              "      <th>Strategy</th>\n",
              "      <th>Tools</th>\n",
              "      <th>Travel &amp; Local</th>\n",
              "      <th>Trivia</th>\n",
              "      <th>Video Players &amp; Editors</th>\n",
              "      <th>Weather</th>\n",
              "      <th>Word</th>\n",
              "    </tr>\n",
              "  </thead>\n",
              "  <tbody>\n",
              "    <tr>\n",
              "      <th>0</th>\n",
              "      <td>4.1</td>\n",
              "      <td>159</td>\n",
              "      <td>19000000.0</td>\n",
              "      <td>10000</td>\n",
              "      <td>0.0</td>\n",
              "      <td>0</td>\n",
              "      <td>2.201397</td>\n",
              "      <td>0.612784</td>\n",
              "      <td>0</td>\n",
              "      <td>25281</td>\n",
              "      <td>...</td>\n",
              "      <td>0</td>\n",
              "      <td>0</td>\n",
              "      <td>0</td>\n",
              "      <td>0</td>\n",
              "      <td>0</td>\n",
              "      <td>0</td>\n",
              "      <td>0</td>\n",
              "      <td>0</td>\n",
              "      <td>0</td>\n",
              "      <td>0</td>\n",
              "    </tr>\n",
              "    <tr>\n",
              "      <th>1</th>\n",
              "      <td>3.9</td>\n",
              "      <td>967</td>\n",
              "      <td>14000000.0</td>\n",
              "      <td>500000</td>\n",
              "      <td>0.0</td>\n",
              "      <td>0</td>\n",
              "      <td>2.985426</td>\n",
              "      <td>0.591065</td>\n",
              "      <td>0</td>\n",
              "      <td>935089</td>\n",
              "      <td>...</td>\n",
              "      <td>0</td>\n",
              "      <td>0</td>\n",
              "      <td>0</td>\n",
              "      <td>0</td>\n",
              "      <td>0</td>\n",
              "      <td>0</td>\n",
              "      <td>0</td>\n",
              "      <td>0</td>\n",
              "      <td>0</td>\n",
              "      <td>0</td>\n",
              "    </tr>\n",
              "    <tr>\n",
              "      <th>2</th>\n",
              "      <td>4.7</td>\n",
              "      <td>87510</td>\n",
              "      <td>8700000.0</td>\n",
              "      <td>5000000</td>\n",
              "      <td>0.0</td>\n",
              "      <td>0</td>\n",
              "      <td>4.942058</td>\n",
              "      <td>0.672098</td>\n",
              "      <td>1</td>\n",
              "      <td>7658000100</td>\n",
              "      <td>...</td>\n",
              "      <td>0</td>\n",
              "      <td>0</td>\n",
              "      <td>0</td>\n",
              "      <td>0</td>\n",
              "      <td>0</td>\n",
              "      <td>0</td>\n",
              "      <td>0</td>\n",
              "      <td>0</td>\n",
              "      <td>0</td>\n",
              "      <td>0</td>\n",
              "    </tr>\n",
              "    <tr>\n",
              "      <th>3</th>\n",
              "      <td>4.5</td>\n",
              "      <td>215644</td>\n",
              "      <td>25000000.0</td>\n",
              "      <td>50000000</td>\n",
              "      <td>0.0</td>\n",
              "      <td>13</td>\n",
              "      <td>5.333737</td>\n",
              "      <td>0.653213</td>\n",
              "      <td>1</td>\n",
              "      <td>46502334736</td>\n",
              "      <td>...</td>\n",
              "      <td>0</td>\n",
              "      <td>0</td>\n",
              "      <td>0</td>\n",
              "      <td>0</td>\n",
              "      <td>0</td>\n",
              "      <td>0</td>\n",
              "      <td>0</td>\n",
              "      <td>0</td>\n",
              "      <td>0</td>\n",
              "      <td>0</td>\n",
              "    </tr>\n",
              "    <tr>\n",
              "      <th>4</th>\n",
              "      <td>4.3</td>\n",
              "      <td>967</td>\n",
              "      <td>2800000.0</td>\n",
              "      <td>100000</td>\n",
              "      <td>0.0</td>\n",
              "      <td>0</td>\n",
              "      <td>2.985426</td>\n",
              "      <td>0.633468</td>\n",
              "      <td>1</td>\n",
              "      <td>935089</td>\n",
              "      <td>...</td>\n",
              "      <td>0</td>\n",
              "      <td>0</td>\n",
              "      <td>0</td>\n",
              "      <td>0</td>\n",
              "      <td>0</td>\n",
              "      <td>0</td>\n",
              "      <td>0</td>\n",
              "      <td>0</td>\n",
              "      <td>0</td>\n",
              "      <td>0</td>\n",
              "    </tr>\n",
              "  </tbody>\n",
              "</table>\n",
              "<p>5 rows × 76 columns</p>\n",
              "</div>"
            ],
            "text/plain": [
              "   rating  reviews        size  installs  price  contentRating  logReviews  \\\n",
              "0     4.1      159  19000000.0     10000    0.0              0    2.201397   \n",
              "1     3.9      967  14000000.0    500000    0.0              0    2.985426   \n",
              "2     4.7    87510   8700000.0   5000000    0.0              0    4.942058   \n",
              "3     4.5   215644  25000000.0  50000000    0.0             13    5.333737   \n",
              "4     4.3      967   2800000.0    100000    0.0              0    2.985426   \n",
              "\n",
              "   logRating  positiveRating     reviews2  ...   Simulation  Social  Sports  \\\n",
              "0   0.612784               0        25281  ...            0       0       0   \n",
              "1   0.591065               0       935089  ...            0       0       0   \n",
              "2   0.672098               1   7658000100  ...            0       0       0   \n",
              "3   0.653213               1  46502334736  ...            0       0       0   \n",
              "4   0.633468               1       935089  ...            0       0       0   \n",
              "\n",
              "   Strategy  Tools  Travel & Local  Trivia  Video Players & Editors  Weather  \\\n",
              "0         0      0               0       0                        0        0   \n",
              "1         0      0               0       0                        0        0   \n",
              "2         0      0               0       0                        0        0   \n",
              "3         0      0               0       0                        0        0   \n",
              "4         0      0               0       0                        0        0   \n",
              "\n",
              "   Word  \n",
              "0     0  \n",
              "1     0  \n",
              "2     0  \n",
              "3     0  \n",
              "4     0  \n",
              "\n",
              "[5 rows x 76 columns]"
            ]
          },
          "metadata": {
            "tags": []
          },
          "execution_count": 179
        }
      ]
    },
    {
      "metadata": {
        "id": "XaP1sjqWN8Le",
        "colab_type": "code",
        "outputId": "681a180d-5f2c-4582-8242-e44473eae1ac",
        "colab": {
          "base_uri": "https://localhost:8080/",
          "height": 34
        }
      },
      "cell_type": "code",
      "source": [
        "# Final row and column count for features\n",
        "\n",
        "featuresAll.shape"
      ],
      "execution_count": 0,
      "outputs": [
        {
          "output_type": "execute_result",
          "data": {
            "text/plain": [
              "(7135, 76)"
            ]
          },
          "metadata": {
            "tags": []
          },
          "execution_count": 180
        }
      ]
    },
    {
      "metadata": {
        "id": "m5f9_UQlkEFf",
        "colab_type": "text"
      },
      "cell_type": "markdown",
      "source": [
        "### Creating training/test set and scaling them"
      ]
    },
    {
      "metadata": {
        "id": "B1WSnheXxunI",
        "colab_type": "code",
        "colab": {}
      },
      "cell_type": "code",
      "source": [
        "#featureNames is syntactic sugar for feature selection\n",
        "\n",
        "featuresX = featuresAll.drop(['rating', 'positiveRating', 'logRating'], axis=1)\n",
        "\n",
        "featureNames = []\n",
        "for f in featuresX.columns:\n",
        "  featureNames.append(f)"
      ],
      "execution_count": 0,
      "outputs": []
    },
    {
      "metadata": {
        "id": "yWAqiFI_uais",
        "colab_type": "code",
        "colab": {}
      },
      "cell_type": "code",
      "source": [
        "X = featuresAll[featureNames]\n",
        "\n",
        "Y = featuresAll[['positiveRating', 'logRating', 'rating']]"
      ],
      "execution_count": 0,
      "outputs": []
    },
    {
      "metadata": {
        "id": "ipM5tdLMslR5",
        "colab_type": "code",
        "colab": {}
      },
      "cell_type": "code",
      "source": [
        "# Create training and test sets\n",
        "\n",
        "from sklearn.model_selection import train_test_split\n",
        "\n",
        "X_train, X_test, y_train, y_test = train_test_split(X, Y, test_size=0.1, \n",
        "                                                    random_state=42)"
      ],
      "execution_count": 0,
      "outputs": []
    },
    {
      "metadata": {
        "id": "lmvVvzqfwPcW",
        "colab_type": "code",
        "outputId": "455335ba-24f5-4d68-ff51-fe981c08d213",
        "colab": {
          "base_uri": "https://localhost:8080/",
          "height": 54
        }
      },
      "cell_type": "code",
      "source": [
        "X_train.shape"
      ],
      "execution_count": 0,
      "outputs": [
        {
          "output_type": "execute_result",
          "data": {
            "text/plain": [
              "(6421, 73)"
            ]
          },
          "metadata": {
            "tags": []
          },
          "execution_count": 184
        }
      ]
    },
    {
      "metadata": {
        "id": "kFqvnFoxwR_j",
        "colab_type": "code",
        "outputId": "dba8c867-d529-4698-bfb6-49c99de72d6c",
        "colab": {
          "base_uri": "https://localhost:8080/",
          "height": 54
        }
      },
      "cell_type": "code",
      "source": [
        "X_test.shape"
      ],
      "execution_count": 0,
      "outputs": [
        {
          "output_type": "execute_result",
          "data": {
            "text/plain": [
              "(714, 73)"
            ]
          },
          "metadata": {
            "tags": []
          },
          "execution_count": 185
        }
      ]
    },
    {
      "metadata": {
        "id": "vK-jFQXa2Jms",
        "colab_type": "code",
        "outputId": "ba7c016c-a711-4e0b-c495-9039c94eaea4",
        "colab": {
          "base_uri": "https://localhost:8080/",
          "height": 54
        }
      },
      "cell_type": "code",
      "source": [
        "y_train.shape"
      ],
      "execution_count": 0,
      "outputs": [
        {
          "output_type": "execute_result",
          "data": {
            "text/plain": [
              "(6421, 3)"
            ]
          },
          "metadata": {
            "tags": []
          },
          "execution_count": 186
        }
      ]
    },
    {
      "metadata": {
        "id": "5BuTWxZuoJ1o",
        "colab_type": "code",
        "outputId": "9d1426e6-68b5-49fd-8517-3cc7c293947d",
        "colab": {
          "base_uri": "https://localhost:8080/",
          "height": 54
        }
      },
      "cell_type": "code",
      "source": [
        "y_test.shape"
      ],
      "execution_count": 0,
      "outputs": [
        {
          "output_type": "execute_result",
          "data": {
            "text/plain": [
              "(714, 3)"
            ]
          },
          "metadata": {
            "tags": []
          },
          "execution_count": 187
        }
      ]
    },
    {
      "metadata": {
        "id": "cS3gWYRwrNgD",
        "colab_type": "code",
        "colab": {}
      },
      "cell_type": "code",
      "source": [
        "# Scale training data\n",
        "\n",
        "from sklearn.preprocessing import MinMaxScaler\n",
        "\n",
        "scaler = MinMaxScaler()\n",
        "\n",
        "scaledTrainData = scaler.fit(X_train)\n",
        "\n",
        "scaledTrainData = scaler.transform(X_train)\n",
        "\n",
        "X_train = pd.DataFrame(scaledTrainData, columns=[featureNames])"
      ],
      "execution_count": 0,
      "outputs": []
    },
    {
      "metadata": {
        "id": "Fxc3n1ZnwdjY",
        "colab_type": "code",
        "outputId": "a63ab4a5-ef8f-45aa-d2fb-1d2d98dc2732",
        "colab": {
          "base_uri": "https://localhost:8080/",
          "height": 457
        }
      },
      "cell_type": "code",
      "source": [
        "# Scale test data\n",
        "\n",
        "scaledTestData = scaler.fit(X_test)\n",
        "\n",
        "scaledTestData = scaler.transform(X_test)\n",
        "\n",
        "X_test = pd.DataFrame(scaledTestData, columns=[featureNames])\n",
        "\n",
        "X_test.head()"
      ],
      "execution_count": 0,
      "outputs": [
        {
          "output_type": "execute_result",
          "data": {
            "text/html": [
              "<div>\n",
              "<style scoped>\n",
              "    .dataframe tbody tr th:only-of-type {\n",
              "        vertical-align: middle;\n",
              "    }\n",
              "\n",
              "    .dataframe tbody tr th {\n",
              "        vertical-align: top;\n",
              "    }\n",
              "\n",
              "    .dataframe thead tr th {\n",
              "        text-align: left;\n",
              "    }\n",
              "</style>\n",
              "<table border=\"1\" class=\"dataframe\">\n",
              "  <thead>\n",
              "    <tr>\n",
              "      <th></th>\n",
              "      <th>reviews</th>\n",
              "      <th>size</th>\n",
              "      <th>installs</th>\n",
              "      <th>price</th>\n",
              "      <th>contentRating</th>\n",
              "      <th>logReviews</th>\n",
              "      <th>reviews2</th>\n",
              "      <th>reviews3</th>\n",
              "      <th>reviews4</th>\n",
              "      <th>installs2</th>\n",
              "      <th>...</th>\n",
              "      <th>Simulation</th>\n",
              "      <th>Social</th>\n",
              "      <th>Sports</th>\n",
              "      <th>Strategy</th>\n",
              "      <th>Tools</th>\n",
              "      <th>Travel &amp; Local</th>\n",
              "      <th>Trivia</th>\n",
              "      <th>Video Players &amp; Editors</th>\n",
              "      <th>Weather</th>\n",
              "      <th>Word</th>\n",
              "    </tr>\n",
              "  </thead>\n",
              "  <tbody>\n",
              "    <tr>\n",
              "      <th>0</th>\n",
              "      <td>0.000685</td>\n",
              "      <td>0.032739</td>\n",
              "      <td>0.00200</td>\n",
              "      <td>0.0</td>\n",
              "      <td>0.0</td>\n",
              "      <td>0.502874</td>\n",
              "      <td>4.701926e-07</td>\n",
              "      <td>0.505855</td>\n",
              "      <td>0.500202</td>\n",
              "      <td>4.000000e-06</td>\n",
              "      <td>...</td>\n",
              "      <td>0.0</td>\n",
              "      <td>0.0</td>\n",
              "      <td>0.0</td>\n",
              "      <td>0.0</td>\n",
              "      <td>0.0</td>\n",
              "      <td>0.0</td>\n",
              "      <td>0.0</td>\n",
              "      <td>0.0</td>\n",
              "      <td>0.0</td>\n",
              "      <td>0.0</td>\n",
              "    </tr>\n",
              "    <tr>\n",
              "      <th>1</th>\n",
              "      <td>0.000059</td>\n",
              "      <td>0.053745</td>\n",
              "      <td>0.00010</td>\n",
              "      <td>0.0</td>\n",
              "      <td>0.0</td>\n",
              "      <td>0.335835</td>\n",
              "      <td>3.516260e-09</td>\n",
              "      <td>0.505855</td>\n",
              "      <td>0.496721</td>\n",
              "      <td>9.999990e-09</td>\n",
              "      <td>...</td>\n",
              "      <td>0.0</td>\n",
              "      <td>0.0</td>\n",
              "      <td>0.0</td>\n",
              "      <td>0.0</td>\n",
              "      <td>0.0</td>\n",
              "      <td>0.0</td>\n",
              "      <td>0.0</td>\n",
              "      <td>0.0</td>\n",
              "      <td>0.0</td>\n",
              "      <td>0.0</td>\n",
              "    </tr>\n",
              "    <tr>\n",
              "      <th>2</th>\n",
              "      <td>0.000008</td>\n",
              "      <td>0.049743</td>\n",
              "      <td>0.00002</td>\n",
              "      <td>0.0</td>\n",
              "      <td>1.0</td>\n",
              "      <td>0.199106</td>\n",
              "      <td>6.374829e-11</td>\n",
              "      <td>0.505855</td>\n",
              "      <td>0.496721</td>\n",
              "      <td>3.999900e-10</td>\n",
              "      <td>...</td>\n",
              "      <td>0.0</td>\n",
              "      <td>0.0</td>\n",
              "      <td>0.0</td>\n",
              "      <td>0.0</td>\n",
              "      <td>0.0</td>\n",
              "      <td>0.0</td>\n",
              "      <td>0.0</td>\n",
              "      <td>0.0</td>\n",
              "      <td>0.0</td>\n",
              "      <td>0.0</td>\n",
              "    </tr>\n",
              "    <tr>\n",
              "      <th>3</th>\n",
              "      <td>0.000464</td>\n",
              "      <td>0.409841</td>\n",
              "      <td>0.00200</td>\n",
              "      <td>0.0</td>\n",
              "      <td>0.0</td>\n",
              "      <td>0.476257</td>\n",
              "      <td>2.155187e-07</td>\n",
              "      <td>0.505855</td>\n",
              "      <td>0.497453</td>\n",
              "      <td>4.000000e-06</td>\n",
              "      <td>...</td>\n",
              "      <td>0.0</td>\n",
              "      <td>0.0</td>\n",
              "      <td>0.0</td>\n",
              "      <td>0.0</td>\n",
              "      <td>0.0</td>\n",
              "      <td>0.0</td>\n",
              "      <td>0.0</td>\n",
              "      <td>0.0</td>\n",
              "      <td>0.0</td>\n",
              "      <td>0.0</td>\n",
              "    </tr>\n",
              "    <tr>\n",
              "      <th>4</th>\n",
              "      <td>0.000003</td>\n",
              "      <td>0.010733</td>\n",
              "      <td>0.00002</td>\n",
              "      <td>0.0</td>\n",
              "      <td>0.0</td>\n",
              "      <td>0.133755</td>\n",
              "      <td>9.230191e-12</td>\n",
              "      <td>0.505855</td>\n",
              "      <td>0.496721</td>\n",
              "      <td>3.999900e-10</td>\n",
              "      <td>...</td>\n",
              "      <td>0.0</td>\n",
              "      <td>0.0</td>\n",
              "      <td>0.0</td>\n",
              "      <td>0.0</td>\n",
              "      <td>1.0</td>\n",
              "      <td>0.0</td>\n",
              "      <td>0.0</td>\n",
              "      <td>0.0</td>\n",
              "      <td>0.0</td>\n",
              "      <td>0.0</td>\n",
              "    </tr>\n",
              "  </tbody>\n",
              "</table>\n",
              "<p>5 rows × 73 columns</p>\n",
              "</div>"
            ],
            "text/plain": [
              "    reviews      size installs price contentRating logReviews      reviews2  \\\n",
              "0  0.000685  0.032739  0.00200   0.0           0.0   0.502874  4.701926e-07   \n",
              "1  0.000059  0.053745  0.00010   0.0           0.0   0.335835  3.516260e-09   \n",
              "2  0.000008  0.049743  0.00002   0.0           1.0   0.199106  6.374829e-11   \n",
              "3  0.000464  0.409841  0.00200   0.0           0.0   0.476257  2.155187e-07   \n",
              "4  0.000003  0.010733  0.00002   0.0           0.0   0.133755  9.230191e-12   \n",
              "\n",
              "   reviews3  reviews4     installs2 ...  Simulation Social Sports Strategy  \\\n",
              "0  0.505855  0.500202  4.000000e-06 ...         0.0    0.0    0.0      0.0   \n",
              "1  0.505855  0.496721  9.999990e-09 ...         0.0    0.0    0.0      0.0   \n",
              "2  0.505855  0.496721  3.999900e-10 ...         0.0    0.0    0.0      0.0   \n",
              "3  0.505855  0.497453  4.000000e-06 ...         0.0    0.0    0.0      0.0   \n",
              "4  0.505855  0.496721  3.999900e-10 ...         0.0    0.0    0.0      0.0   \n",
              "\n",
              "  Tools Travel & Local Trivia Video Players & Editors Weather Word  \n",
              "0   0.0            0.0    0.0                     0.0     0.0  0.0  \n",
              "1   0.0            0.0    0.0                     0.0     0.0  0.0  \n",
              "2   0.0            0.0    0.0                     0.0     0.0  0.0  \n",
              "3   0.0            0.0    0.0                     0.0     0.0  0.0  \n",
              "4   1.0            0.0    0.0                     0.0     0.0  0.0  \n",
              "\n",
              "[5 rows x 73 columns]"
            ]
          },
          "metadata": {
            "tags": []
          },
          "execution_count": 189
        }
      ]
    },
    {
      "metadata": {
        "id": "4k9S35t01xYo",
        "colab_type": "text"
      },
      "cell_type": "markdown",
      "source": [
        "##DATA MODELING"
      ]
    },
    {
      "metadata": {
        "id": "kRid6gQfrgoS",
        "colab_type": "text"
      },
      "cell_type": "markdown",
      "source": [
        "### *Binary Classifier*"
      ]
    },
    {
      "metadata": {
        "id": "a_agi7Oy1lmQ",
        "colab_type": "code",
        "colab": {}
      },
      "cell_type": "code",
      "source": [
        "# Select binary feature for prediction\n",
        "\n",
        "y1_train = y_train['positiveRating']\n",
        "y1_test = y_test['positiveRating']"
      ],
      "execution_count": 0,
      "outputs": []
    },
    {
      "metadata": {
        "id": "PEtLZZg2ZdGW",
        "colab_type": "text"
      },
      "cell_type": "markdown",
      "source": [
        "### LOGISTIC REGRESSION"
      ]
    },
    {
      "metadata": {
        "id": "pnzNFNWPo1rN",
        "colab_type": "code",
        "colab": {}
      },
      "cell_type": "code",
      "source": [
        "import statsmodels.api as sm\n",
        "from sklearn.linear_model import LogisticRegression"
      ],
      "execution_count": 0,
      "outputs": []
    },
    {
      "metadata": {
        "id": "6vrlrlxpoMAZ",
        "colab_type": "code",
        "outputId": "9924a100-ffb5-4c79-84f5-305d697f0976",
        "colab": {
          "base_uri": "https://localhost:8080/",
          "height": 187
        }
      },
      "cell_type": "code",
      "source": [
        "lr = LogisticRegression(C=1.0)\n",
        "\n",
        "# Fit the model.\n",
        "fit = lr.fit(X_train, y1_train)\n",
        "\n",
        "print('fit intercept: ' + str(fit.intercept_[0]))\n",
        "y_predict = lr.predict(X_test)\n",
        "\n",
        "print('\\n Confusion matrix')\n",
        "print(pd.crosstab(y_predict, y1_test))\n",
        "\n",
        "print('\\n Percentage accuracy')\n",
        "print(lr.score(X_test, y1_test))"
      ],
      "execution_count": 0,
      "outputs": [
        {
          "output_type": "stream",
          "text": [
            "fit intercept: 0.41820856094258885\n",
            "\n",
            " Confusion matrix\n",
            "positiveRating    0    1\n",
            "row_0                   \n",
            "0               164  110\n",
            "1               153  287\n",
            "\n",
            " Percentage accuracy\n",
            "0.6316526610644257\n"
          ],
          "name": "stdout"
        }
      ]
    },
    {
      "metadata": {
        "id": "89B7sKPtrEsL",
        "colab_type": "text"
      },
      "cell_type": "markdown",
      "source": [
        "**True Positives:** 287\n",
        "\n",
        "**True Negatives:** 164\n",
        "\n",
        "**False Positives:** 110\n",
        "\n",
        "**False Negatives:** 153"
      ]
    },
    {
      "metadata": {
        "id": "McIYmfi_JJob",
        "colab_type": "code",
        "outputId": "e08c6f97-8217-48d6-e615-7cd35bc81143",
        "colab": {
          "base_uri": "https://localhost:8080/",
          "height": 68
        }
      },
      "cell_type": "code",
      "source": [
        "# Type I and Type II Erros\n",
        "\n",
        "table_test = pd.crosstab(y1_test, y_predict, margins=True)\n",
        "\n",
        "tI_errors = table_test.loc[0.0,1.0] / table_test.loc['All','All']\n",
        "tII_errors = table_test.loc[1.0,0.0] / table_test.loc['All','All']\n",
        "\n",
        "print((\n",
        "    'Test set accuracy:\\n'\n",
        "    'Percent Type I errors: {}\\n'\n",
        "    'Percent Type II errors: {}'\n",
        ").format(tI_errors, tII_errors))"
      ],
      "execution_count": 0,
      "outputs": [
        {
          "output_type": "stream",
          "text": [
            "Test set accuracy:\n",
            "Percent Type I errors: 0.21428571428571427\n",
            "Percent Type II errors: 0.15406162464985995\n"
          ],
          "name": "stdout"
        }
      ]
    },
    {
      "metadata": {
        "id": "1s8wanASJ7u7",
        "colab_type": "text"
      },
      "cell_type": "markdown",
      "source": [
        "**Type I Error** - False positive; categorize as positive rating when really a negative rating\n",
        "\n",
        "**Type II Error** - False negative categorize as negative rating when really a positive rating"
      ]
    },
    {
      "metadata": {
        "id": "fumQl949U58P",
        "colab_type": "text"
      },
      "cell_type": "markdown",
      "source": [
        "###Precision, recall and the f1-measure"
      ]
    },
    {
      "metadata": {
        "id": "J_RTvapXbVwH",
        "colab_type": "code",
        "outputId": "3e958956-2545-49ff-fda9-5e090d499b0e",
        "colab": {
          "base_uri": "https://localhost:8080/",
          "height": 54
        }
      },
      "cell_type": "code",
      "source": [
        "from sklearn.metrics import precision_score\n",
        "precision = precision_score(y1_test, y_predict, average='macro') \n",
        "\n",
        "print('Precision: {}'.format(\n",
        "      precision))"
      ],
      "execution_count": 0,
      "outputs": [
        {
          "output_type": "stream",
          "text": [
            "Precision: 0.6254064366290644\n"
          ],
          "name": "stdout"
        }
      ]
    },
    {
      "metadata": {
        "id": "Agecl1xGbyyb",
        "colab_type": "code",
        "outputId": "1e155d0e-73c1-482b-d629-80be5b03835e",
        "colab": {
          "base_uri": "https://localhost:8080/",
          "height": 54
        }
      },
      "cell_type": "code",
      "source": [
        "from sklearn.metrics import recall_score\n",
        "recall = recall_score(y1_test, y_predict, average='macro') \n",
        "\n",
        "print('Recall: {}'.format(\n",
        "      recall))"
      ],
      "execution_count": 0,
      "outputs": [
        {
          "output_type": "stream",
          "text": [
            "Recall: 0.6201360360431947\n"
          ],
          "name": "stdout"
        }
      ]
    },
    {
      "metadata": {
        "id": "F25jjeiab5G1",
        "colab_type": "code",
        "outputId": "870e96f3-b341-4eaf-8399-22da285e6e84",
        "colab": {
          "base_uri": "https://localhost:8080/",
          "height": 54
        }
      },
      "cell_type": "code",
      "source": [
        "from sklearn.metrics import average_precision_score\n",
        "average_precision = average_precision_score(y1_test, y_predict)\n",
        "\n",
        "print('Average precision-recall score: {0:0.2f}'.format(\n",
        "      average_precision))"
      ],
      "execution_count": 0,
      "outputs": [
        {
          "output_type": "stream",
          "text": [
            "Average precision-recall score: 0.63\n"
          ],
          "name": "stdout"
        }
      ]
    },
    {
      "metadata": {
        "id": "7IQpkaySb_PT",
        "colab_type": "code",
        "outputId": "09922cb7-5120-44ba-8ee9-7ea596bfd113",
        "colab": {
          "base_uri": "https://localhost:8080/",
          "height": 54
        }
      },
      "cell_type": "code",
      "source": [
        "from sklearn.metrics import f1_score\n",
        "f1Score = f1_score(y1_test, y_predict, average='macro')\n",
        "\n",
        "print('f1-Score: {}'.format(f1Score))"
      ],
      "execution_count": 0,
      "outputs": [
        {
          "output_type": "stream",
          "text": [
            "f1-Score: 0.620387048256706\n"
          ],
          "name": "stdout"
        }
      ]
    },
    {
      "metadata": {
        "id": "8JIcl17PKlu7",
        "colab_type": "text"
      },
      "cell_type": "markdown",
      "source": [
        "**Precision** - All of the correct categorizations of postive rating / all of the positive ratings\n",
        "\n",
        "**Recall** - All of the correct categorizations of positive rating / all of the actual positive ratings\n",
        "\n",
        "**f1-Score** - Harmonic mean of precision and recall, for the f1-score to be high (close to one), both precision and recall have to be close to one."
      ]
    },
    {
      "metadata": {
        "id": "V9ihSB7GZmHl",
        "colab_type": "text"
      },
      "cell_type": "markdown",
      "source": [
        "### RIDGE REGRESSION"
      ]
    },
    {
      "metadata": {
        "id": "mU2-atYwpPE8",
        "colab_type": "code",
        "outputId": "d9f8d12c-cc7a-4641-adf3-6024c5baf49f",
        "colab": {
          "base_uri": "https://localhost:8080/",
          "height": 51
        }
      },
      "cell_type": "code",
      "source": [
        "from sklearn import linear_model\n",
        "\n",
        "ridgeregr = linear_model.Ridge(alpha=.1, fit_intercept=True) \n",
        "ridgeregr.fit(X_train, y1_train)\n",
        "\n",
        "#this computes r squared\n",
        "print(ridgeregr.score(X_test, y1_test))\n",
        "\n",
        "origparams = ridgeregr.coef_[0]\n",
        "print(origparams)"
      ],
      "execution_count": 0,
      "outputs": [
        {
          "output_type": "stream",
          "text": [
            "0.09815769540835816\n",
            "-5.711150497680118\n"
          ],
          "name": "stdout"
        }
      ]
    },
    {
      "metadata": {
        "id": "5hjxynEMZsu2",
        "colab_type": "text"
      },
      "cell_type": "markdown",
      "source": [
        "### LASSO REGRESSION"
      ]
    },
    {
      "metadata": {
        "id": "SZePaFRoprcc",
        "colab_type": "code",
        "colab": {}
      },
      "cell_type": "code",
      "source": [
        "from sklearn.metrics import r2_score\n",
        "\n",
        "lass = linear_model.Lasso(alpha=.05)\n",
        "lassfit = lass.fit(X_train, y1_train)"
      ],
      "execution_count": 0,
      "outputs": []
    },
    {
      "metadata": {
        "id": "R_cPOKoAHTE6",
        "colab_type": "code",
        "outputId": "1581220c-65ea-46eb-86de-e26b6cebcefa",
        "colab": {
          "base_uri": "https://localhost:8080/",
          "height": 54
        }
      },
      "cell_type": "code",
      "source": [
        "y_pred = lassfit.predict(X_test)\n",
        "print(r2_score(y1_test, y_pred))  \n"
      ],
      "execution_count": 0,
      "outputs": [
        {
          "output_type": "stream",
          "text": [
            "-0.004017806764138099\n"
          ],
          "name": "stdout"
        }
      ]
    },
    {
      "metadata": {
        "id": "zm9bdGWx6sUl",
        "colab_type": "code",
        "outputId": "f4991ef3-5777-45ba-ecf2-c6c885d03779",
        "colab": {
          "base_uri": "https://localhost:8080/",
          "height": 292
        }
      },
      "cell_type": "code",
      "source": [
        "origparams = np.append(lassfit.coef_, lassfit.intercept_)\n",
        "print('\\nParameter estimates for the model:')\n",
        "print(origparams)"
      ],
      "execution_count": 0,
      "outputs": [
        {
          "output_type": "stream",
          "text": [
            "\n",
            "Parameter estimates for the model:\n",
            "[ 0.          0.          0.         -0.         -0.          0.\n",
            "  0.          0.         -0.          0.          0.         -0.\n",
            " -0.         -0.         -0.          0.         -0.          0.\n",
            "  0.         -0.          0.          0.          0.          0.\n",
            "  0.          0.          0.          0.          0.          0.\n",
            " -0.          0.          0.         -0.          0.         -0.\n",
            "  0.         -0.          0.         -0.         -0.          0.\n",
            "  0.         -0.          0.         -0.         -0.         -0.\n",
            " -0.          0.          0.          0.         -0.         -0.\n",
            "  0.          0.         -0.         -0.         -0.          0.\n",
            " -0.          0.          0.         -0.          0.          0.\n",
            "  0.         -0.         -0.          0.         -0.         -0.\n",
            "  0.          0.52452889]\n"
          ],
          "name": "stdout"
        }
      ]
    },
    {
      "metadata": {
        "id": "GcI4EUOKViqZ",
        "colab_type": "code",
        "outputId": "5629b101-3e50-46c6-c7f9-b4b519e963d3",
        "colab": {
          "base_uri": "https://localhost:8080/",
          "height": 361
        }
      },
      "cell_type": "code",
      "source": [
        "X_train.iloc[:,-1]\n",
        "X_train.columns[-1]\n",
        "X_train.head(3)\n"
      ],
      "execution_count": 0,
      "outputs": [
        {
          "output_type": "execute_result",
          "data": {
            "text/html": [
              "<div>\n",
              "<style scoped>\n",
              "    .dataframe tbody tr th:only-of-type {\n",
              "        vertical-align: middle;\n",
              "    }\n",
              "\n",
              "    .dataframe tbody tr th {\n",
              "        vertical-align: top;\n",
              "    }\n",
              "\n",
              "    .dataframe thead tr th {\n",
              "        text-align: left;\n",
              "    }\n",
              "</style>\n",
              "<table border=\"1\" class=\"dataframe\">\n",
              "  <thead>\n",
              "    <tr>\n",
              "      <th></th>\n",
              "      <th>reviews</th>\n",
              "      <th>size</th>\n",
              "      <th>installs</th>\n",
              "      <th>price</th>\n",
              "      <th>contentRating</th>\n",
              "      <th>logReviews</th>\n",
              "      <th>reviews2</th>\n",
              "      <th>reviews3</th>\n",
              "      <th>reviews4</th>\n",
              "      <th>installs2</th>\n",
              "      <th>...</th>\n",
              "      <th>Simulation</th>\n",
              "      <th>Social</th>\n",
              "      <th>Sports</th>\n",
              "      <th>Strategy</th>\n",
              "      <th>Tools</th>\n",
              "      <th>Travel &amp; Local</th>\n",
              "      <th>Trivia</th>\n",
              "      <th>Video Players &amp; Editors</th>\n",
              "      <th>Weather</th>\n",
              "      <th>Word</th>\n",
              "    </tr>\n",
              "  </thead>\n",
              "  <tbody>\n",
              "    <tr>\n",
              "      <th>0</th>\n",
              "      <td>0.000847</td>\n",
              "      <td>0.189931</td>\n",
              "      <td>0.0100</td>\n",
              "      <td>0.0</td>\n",
              "      <td>0.0</td>\n",
              "      <td>0.538172</td>\n",
              "      <td>7.172534e-07</td>\n",
              "      <td>0.500986</td>\n",
              "      <td>0.613516</td>\n",
              "      <td>1.000000e-04</td>\n",
              "      <td>...</td>\n",
              "      <td>0.0</td>\n",
              "      <td>0.0</td>\n",
              "      <td>0.0</td>\n",
              "      <td>0.0</td>\n",
              "      <td>0.0</td>\n",
              "      <td>0.0</td>\n",
              "      <td>0.0</td>\n",
              "      <td>0.0</td>\n",
              "      <td>0.0</td>\n",
              "      <td>0.0</td>\n",
              "    </tr>\n",
              "    <tr>\n",
              "      <th>1</th>\n",
              "      <td>0.025192</td>\n",
              "      <td>0.269938</td>\n",
              "      <td>0.0100</td>\n",
              "      <td>0.0</td>\n",
              "      <td>0.0</td>\n",
              "      <td>0.759667</td>\n",
              "      <td>6.346359e-04</td>\n",
              "      <td>0.580289</td>\n",
              "      <td>0.279923</td>\n",
              "      <td>1.000000e-04</td>\n",
              "      <td>...</td>\n",
              "      <td>0.0</td>\n",
              "      <td>0.0</td>\n",
              "      <td>0.0</td>\n",
              "      <td>0.0</td>\n",
              "      <td>0.0</td>\n",
              "      <td>0.0</td>\n",
              "      <td>0.0</td>\n",
              "      <td>0.0</td>\n",
              "      <td>0.0</td>\n",
              "      <td>0.0</td>\n",
              "    </tr>\n",
              "    <tr>\n",
              "      <th>2</th>\n",
              "      <td>0.000034</td>\n",
              "      <td>0.119925</td>\n",
              "      <td>0.0001</td>\n",
              "      <td>0.0</td>\n",
              "      <td>0.0</td>\n",
              "      <td>0.327731</td>\n",
              "      <td>1.137256e-09</td>\n",
              "      <td>0.500983</td>\n",
              "      <td>0.500181</td>\n",
              "      <td>1.000000e-08</td>\n",
              "      <td>...</td>\n",
              "      <td>0.0</td>\n",
              "      <td>0.0</td>\n",
              "      <td>0.0</td>\n",
              "      <td>0.0</td>\n",
              "      <td>0.0</td>\n",
              "      <td>0.0</td>\n",
              "      <td>0.0</td>\n",
              "      <td>0.0</td>\n",
              "      <td>0.0</td>\n",
              "      <td>0.0</td>\n",
              "    </tr>\n",
              "  </tbody>\n",
              "</table>\n",
              "<p>3 rows × 73 columns</p>\n",
              "</div>"
            ],
            "text/plain": [
              "    reviews      size installs price contentRating logReviews      reviews2  \\\n",
              "0  0.000847  0.189931   0.0100   0.0           0.0   0.538172  7.172534e-07   \n",
              "1  0.025192  0.269938   0.0100   0.0           0.0   0.759667  6.346359e-04   \n",
              "2  0.000034  0.119925   0.0001   0.0           0.0   0.327731  1.137256e-09   \n",
              "\n",
              "   reviews3  reviews4     installs2 ...  Simulation Social Sports Strategy  \\\n",
              "0  0.500986  0.613516  1.000000e-04 ...         0.0    0.0    0.0      0.0   \n",
              "1  0.580289  0.279923  1.000000e-04 ...         0.0    0.0    0.0      0.0   \n",
              "2  0.500983  0.500181  1.000000e-08 ...         0.0    0.0    0.0      0.0   \n",
              "\n",
              "  Tools Travel & Local Trivia Video Players & Editors Weather Word  \n",
              "0   0.0            0.0    0.0                     0.0     0.0  0.0  \n",
              "1   0.0            0.0    0.0                     0.0     0.0  0.0  \n",
              "2   0.0            0.0    0.0                     0.0     0.0  0.0  \n",
              "\n",
              "[3 rows x 73 columns]"
            ]
          },
          "metadata": {
            "tags": []
          },
          "execution_count": 202
        }
      ]
    },
    {
      "metadata": {
        "id": "szKR7N-eHjGA",
        "colab_type": "text"
      },
      "cell_type": "markdown",
      "source": [
        "The only variable which the model considers as significant to predicting rating is 'Word.'  The other variables are considered noise."
      ]
    },
    {
      "metadata": {
        "id": "HIrDJRO7Li8s",
        "colab_type": "text"
      },
      "cell_type": "markdown",
      "source": [
        "### KNN CLASSIFICATION"
      ]
    },
    {
      "metadata": {
        "id": "Jc0ePmVyLnXb",
        "colab_type": "code",
        "outputId": "eb6fcc59-6477-4fd1-ca68-05e579b51382",
        "colab": {
          "base_uri": "https://localhost:8080/",
          "height": 51
        }
      },
      "cell_type": "code",
      "source": [
        "from sklearn.neighbors import KNeighborsClassifier\n",
        "from sklearn.metrics import accuracy_score\n",
        "\n",
        "# instantiate learning model (k = 1)\n",
        "knn = KNeighborsClassifier(n_neighbors=1)\n",
        "\n",
        "X = np.array(X_train)\n",
        "Y = np.array(y1_train).reshape(-1,1)\n",
        "\n",
        "Xarr = np.array(X_test)\n",
        "y1_testarr = np.array(y1_test).reshape(-1,1)\n",
        "\n",
        "# fitting the model\n",
        "knn.fit(X, Y)\n",
        "\n",
        "# predict the response\n",
        "y_pred = knn.predict(Xarr)\n"
      ],
      "execution_count": 0,
      "outputs": [
        {
          "output_type": "stream",
          "text": [
            "/usr/local/lib/python3.6/dist-packages/ipykernel_launcher.py:14: DataConversionWarning: A column-vector y was passed when a 1d array was expected. Please change the shape of y to (n_samples, ), for example using ravel().\n",
            "  \n"
          ],
          "name": "stderr"
        }
      ]
    },
    {
      "metadata": {
        "id": "mL23R5lfN-Sn",
        "colab_type": "code",
        "colab": {}
      },
      "cell_type": "code",
      "source": [
        "# Create functions to evalute model\n",
        "\n",
        "def computeConfusionMatrix(y_pred, y_true):\n",
        "  \n",
        "  TP = 0\n",
        "  TN = 0\n",
        "  FP = 0\n",
        "  FN = 0\n",
        "  for index, value in enumerate(y_pred):\n",
        "    # add true positives\n",
        "    if y_pred[index] == 1 and y_true[index] == 1:\n",
        "      TP = TP + 1\n",
        "    # add true negatives\n",
        "    if y_pred[index] == 0 and y_true[index] == 0:\n",
        "      TN = TN + 1\n",
        "    # add false positives\n",
        "    if y_pred[index] == 1 and y_true[index] == 0:\n",
        "      FP = FP + 1\n",
        "    # add false negatives\n",
        "    if y_pred[index] == 0 and y_true[index] == 1:\n",
        "      FN = FN + 1\n",
        "      \n",
        "  return(TP, TN, FP, FN)\n",
        "\n",
        "def typeIError(TP, TN, FP, FN):\n",
        "  return ((FP)/ (TP + TN + FP + FN))\n",
        "\n",
        "def typeIIError(TP, TN, FP, FN):\n",
        "  return ((FN)/ (TP + TN + FP + FN))\n",
        "\n",
        "def accuracy(TP, TN, FP, FN):\n",
        "  return ((TP + TN)/ (TP + TN + FP + FN))\n",
        "\n",
        "def precision(TP, FP):\n",
        "  return TP / (TP + FP)\n",
        "\n",
        "def recall(TP, FN):\n",
        "  return TP / (TP + FN)\n",
        "\n",
        "def f1Measure(precision, recall):\n",
        "  return (2 * precision * recall) / (precision + recall)"
      ],
      "execution_count": 0,
      "outputs": []
    },
    {
      "metadata": {
        "id": "ZGRsIkDNvSFz",
        "colab_type": "code",
        "outputId": "3b832955-cea2-4662-a038-66b19851cd6b",
        "colab": {
          "base_uri": "https://localhost:8080/",
          "height": 204
        }
      },
      "cell_type": "code",
      "source": [
        "TP, TN, FP, FN =  computeConfusionMatrix(y_pred, y1_testarr)\n",
        "\n",
        "print(\"type I error = \"+ str(typeIError(TP, TN, FP, FN))+ \"\\n\")\n",
        "\n",
        "print(\"type II error = \"+ str(typeIIError(TP, TN, FP, FN))+ \"\\n\")\n",
        "\n",
        "print(\"accuracy of the classifier = \"+ str(accuracy(TP, TN, FP, FN))+ \"\\n\")\n",
        "\n",
        "print(\"precision of the classifier = \"+ str(precision(TP, FP))+ \"\\n\")\n",
        "      \n",
        "print(\"recall of the classifier = \" + str(recall(TP, FN)) + \"\\n\")\n",
        "      \n",
        "print(\"f1 measure = \" + str(f1Measure(precision(TP, FP), recall(TP, FN))))   "
      ],
      "execution_count": 0,
      "outputs": [
        {
          "output_type": "stream",
          "text": [
            "type I error = 0.16806722689075632\n",
            "\n",
            "type II error = 0.18487394957983194\n",
            "\n",
            "accuracy of the classifier = 0.6470588235294118\n",
            "\n",
            "precision of the classifier = 0.6883116883116883\n",
            "\n",
            "recall of the classifier = 0.6675062972292192\n",
            "\n",
            "f1 measure = 0.6777493606138107\n"
          ],
          "name": "stdout"
        }
      ]
    },
    {
      "metadata": {
        "id": "V1s2uUIaH-Vq",
        "colab_type": "text"
      },
      "cell_type": "markdown",
      "source": [
        "The KNN Classification model provides the best accuracy with knn = 1."
      ]
    },
    {
      "metadata": {
        "id": "9hQKuxP7Zz89",
        "colab_type": "text"
      },
      "cell_type": "markdown",
      "source": [
        "### RANDOM FOREST"
      ]
    },
    {
      "metadata": {
        "id": "u7v5Pi7ht1Wf",
        "colab_type": "code",
        "outputId": "6e12dabd-0072-4339-d5f2-10d5e3b19117",
        "colab": {
          "base_uri": "https://localhost:8080/",
          "height": 71
        }
      },
      "cell_type": "code",
      "source": [
        "from sklearn import ensemble\n",
        "from sklearn.model_selection import cross_val_score\n",
        "\n",
        "rfc = ensemble.RandomForestClassifier()\n",
        "\n",
        "cross_val_score(rfc, X_test, y1_test, cv=10)"
      ],
      "execution_count": 0,
      "outputs": [
        {
          "output_type": "execute_result",
          "data": {
            "text/plain": [
              "array([0.59722222, 0.61111111, 0.58333333, 0.65277778, 0.69444444,\n",
              "       0.56944444, 0.65277778, 0.61428571, 0.61428571, 0.62857143])"
            ]
          },
          "metadata": {
            "tags": []
          },
          "execution_count": 206
        }
      ]
    },
    {
      "metadata": {
        "id": "VWWrXtEBxFvi",
        "colab_type": "text"
      },
      "cell_type": "markdown",
      "source": [
        "### *Regression*"
      ]
    },
    {
      "metadata": {
        "id": "isDAZVVQ2m72",
        "colab_type": "code",
        "colab": {}
      },
      "cell_type": "code",
      "source": [
        "y2_train = y_train['rating']\n",
        "y2_test = y_test['rating']"
      ],
      "execution_count": 0,
      "outputs": []
    },
    {
      "metadata": {
        "id": "lwhRDs0WZ75w",
        "colab_type": "text"
      },
      "cell_type": "markdown",
      "source": [
        "### LINEAR REGRESSION"
      ]
    },
    {
      "metadata": {
        "id": "D9xVQCBMqVNw",
        "colab_type": "code",
        "outputId": "f994f85e-b67f-4e8b-da40-1777ae314bd5",
        "colab": {
          "base_uri": "https://localhost:8080/",
          "height": 476
        }
      },
      "cell_type": "code",
      "source": [
        "from sklearn import linear_model\n",
        "\n",
        "regr = linear_model.LinearRegression()\n",
        "Y2 = y2_train.values.reshape(-1, 1)\n",
        "X2 = X_train\n",
        "\n",
        "regr.fit(X2,Y2)\n",
        "\n",
        "y_pred = regr.predict(X_test)\n",
        "\n",
        "Y2_test = y2_test.values.reshape(-1, 1)\n",
        "\n",
        "# Inspect the results.\n",
        "print('\\nCoefficients: \\n', regr.coef_)\n",
        "print('\\nIntercept: \\n', regr.intercept_)\n",
        "print('\\nR-squared:')\n",
        "print(regr.score(X_test, Y2_test))"
      ],
      "execution_count": 0,
      "outputs": [
        {
          "output_type": "stream",
          "text": [
            "\n",
            "Coefficients: \n",
            " [[-8.07301549e+00 -3.99003772e-02  7.96552305e+00 -1.74602184e+01\n",
            "  -2.02867021e-02  8.12184457e-01  4.27632360e+00 -5.91790074e-02\n",
            "  -2.12007325e-02 -3.88193038e+00  1.38474322e-01 -2.30495641e-01\n",
            "   9.13127453e+01 -1.61034913e+02  8.38363563e+01  8.04926399e-01\n",
            "  -2.52913593e-02  4.52669365e+00 -5.24992008e+00  3.20934266e+00\n",
            "  -1.22001150e-01  4.95773274e-02 -1.36187952e-01 -1.03300188e-01\n",
            "   1.60948750e-01  4.53062175e-02  1.26084697e-01 -5.43940721e-02\n",
            "   8.19444579e-02  1.73922529e-01 -1.24420066e-01 -1.34852591e-01\n",
            "  -1.89057994e-02 -1.78398596e-01 -9.57708250e-02 -2.21520306e-01\n",
            "   1.49493505e-01 -2.50651204e-01  1.57665187e-01 -1.66121597e-01\n",
            "  -1.57760683e-01  2.36763421e-01 -1.21310896e-01 -1.58228911e-01\n",
            "  -5.02923750e-02 -7.47628352e-02  2.30609630e-02 -1.56083481e-01\n",
            "  -2.33170536e-01 -3.12221988e-02 -1.38483893e-01  3.13527602e-02\n",
            "   8.30330877e-02 -1.07310906e-01  1.47296106e-01  4.28000925e-02\n",
            "  -1.70124225e-01 -6.77203150e-03 -1.19601435e-01 -1.64575325e-02\n",
            "  -2.10059274e-01 -1.07870864e-01 -5.40201086e-02 -1.56910285e-01\n",
            "  -5.02870583e-02 -6.95770467e-02 -1.80176813e-01 -2.23210623e-01\n",
            "  -1.98239188e-01 -2.28351117e-01 -2.32302544e-01 -5.86830877e-02\n",
            "   6.79057845e-02]]\n",
            "\n",
            "Intercept: \n",
            " [4.14221947]\n",
            "\n",
            "R-squared:\n",
            "0.030312158600342753\n"
          ],
          "name": "stdout"
        }
      ]
    },
    {
      "metadata": {
        "id": "DqStjpqbm9_z",
        "colab_type": "code",
        "outputId": "dd4c7d63-3059-492b-e00f-77218bb0a693",
        "colab": {
          "base_uri": "https://localhost:8080/",
          "height": 170
        }
      },
      "cell_type": "code",
      "source": [
        "# Test with only logReviews vs. Rating\n",
        "\n",
        "from sklearn import linear_model\n",
        "\n",
        "regr = linear_model.LinearRegression()\n",
        "Y2 = y2_train.values.reshape(-1, 1)\n",
        "X3 = X_train['logReviews']\n",
        "X_test2 = X_test['logReviews']\n",
        "\n",
        "regr.fit(X3,Y2)\n",
        "\n",
        "y_pred = regr.predict(X_test2)\n",
        "\n",
        "Y2_test = y2_test.values.reshape(-1, 1)\n",
        "\n",
        "# Inspect the results.\n",
        "print('\\nCoefficients: \\n', regr.coef_)\n",
        "print('\\nIntercept: \\n', regr.intercept_)\n",
        "print('\\nR-squared:')\n",
        "print(regr.score(X_test2, Y2_test))"
      ],
      "execution_count": 0,
      "outputs": [
        {
          "output_type": "stream",
          "text": [
            "\n",
            "Coefficients: \n",
            " [[0.54186576]]\n",
            "\n",
            "Intercept: \n",
            " [3.96211193]\n",
            "\n",
            "R-squared:\n",
            "0.08304740624652363\n"
          ],
          "name": "stdout"
        }
      ]
    },
    {
      "metadata": {
        "id": "QyNivxlMQmAz",
        "colab_type": "text"
      },
      "cell_type": "markdown",
      "source": [
        "### RANDOM FOREST REGRESSION"
      ]
    },
    {
      "metadata": {
        "id": "xcU6xnwbQ-MQ",
        "colab_type": "code",
        "outputId": "50976f2c-a5b5-4466-cd77-b57160d7c29c",
        "colab": {
          "base_uri": "https://localhost:8080/",
          "height": 105
        }
      },
      "cell_type": "code",
      "source": [
        "from sklearn.ensemble import RandomForestRegressor\n",
        "\n",
        "\n",
        "regressor = RandomForestRegressor(n_estimators=20, random_state=0)  \n",
        "regressor.fit(X_train, y2_train)  \n",
        "y_pred = regressor.predict(X_test)\n",
        "\n",
        "from sklearn import metrics\n",
        "\n",
        "print('Mean Absolute Error:', metrics.mean_absolute_error(y2_test, y_pred))  \n",
        "print('Mean Squared Error:', metrics.mean_squared_error(y2_test, y_pred))  \n",
        "print('Root Mean Squared Error:', np.sqrt(metrics.mean_squared_error(y2_test, y_pred)))  \n",
        "\n",
        "\n",
        "from sklearn.metrics import r2_score\n",
        "\n",
        "print(\"R squared score:\", r2_score(y2_test, y_pred))\n"
      ],
      "execution_count": 0,
      "outputs": [
        {
          "output_type": "stream",
          "text": [
            "Mean Absolute Error: 0.32419817927170863\n",
            "Mean Squared Error: 0.22042143732493\n",
            "Root Mean Squared Error: 0.4694906147357261\n",
            "R squared score: 0.0853986785321511\n"
          ],
          "name": "stdout"
        }
      ]
    },
    {
      "metadata": {
        "id": "GWRrjDpV3kjk",
        "colab_type": "text"
      },
      "cell_type": "markdown",
      "source": [
        "### KNN REGRESSION"
      ]
    },
    {
      "metadata": {
        "id": "o5pTRrCT3kCK",
        "colab_type": "code",
        "colab": {}
      },
      "cell_type": "code",
      "source": [
        "from sklearn import neighbors\n",
        "\n",
        "# Build our model.\n",
        "knn = neighbors.KNeighborsRegressor(n_neighbors=17)\n",
        "\n",
        "X = np.array(X_train)\n",
        "Y = np.array(y2_train).reshape(-1,1)\n",
        "\n",
        "Xarr = np.array(X_test)\n",
        "y2_testarr = np.array(y2_test).reshape(-1,1)\n",
        "\n",
        "# fitting the model\n",
        "knn.fit(X, Y)\n",
        "\n",
        "# predict the response\n",
        "y_pred = knn.predict(Xarr)"
      ],
      "execution_count": 0,
      "outputs": []
    },
    {
      "metadata": {
        "id": "fhyujfPdzKEc",
        "colab_type": "code",
        "outputId": "47e53acc-9cad-4389-b6c0-2638a2d844d0",
        "colab": {
          "base_uri": "https://localhost:8080/",
          "height": 34
        }
      },
      "cell_type": "code",
      "source": [
        "from sklearn.metrics import r2_score\n",
        "\n",
        "r2_score(y2_testarr, y_pred)"
      ],
      "execution_count": 0,
      "outputs": [
        {
          "output_type": "execute_result",
          "data": {
            "text/plain": [
              "0.15229984411809516"
            ]
          },
          "metadata": {
            "tags": []
          },
          "execution_count": 230
        }
      ]
    },
    {
      "metadata": {
        "id": "augI6X0aoOzK",
        "colab_type": "code",
        "colab": {}
      },
      "cell_type": "code",
      "source": [
        "# Test with only logReviews vs. Rating\n",
        "\n",
        "from sklearn import neighbors\n",
        "\n",
        "# Build our model.\n",
        "knn = neighbors.KNeighborsRegressor(n_neighbors=15)\n",
        "\n",
        "X2 = np.array(X_train['logReviews'])\n",
        "Y = np.array(y2_train).reshape(-1,1)\n",
        "\n",
        "Xarr2 = np.array(X_test['logReviews'])\n",
        "y2_testarr = np.array(y2_test).reshape(-1,1)\n",
        "\n",
        "# fitting the model\n",
        "knn.fit(X2, Y)\n",
        "\n",
        "# predict the response\n",
        "y_pred = knn.predict(Xarr2)"
      ],
      "execution_count": 0,
      "outputs": []
    },
    {
      "metadata": {
        "id": "4R-yZUJLo5b6",
        "colab_type": "code",
        "outputId": "bdc78dfc-4f48-4df7-8581-43bc78f6544e",
        "colab": {
          "base_uri": "https://localhost:8080/",
          "height": 34
        }
      },
      "cell_type": "code",
      "source": [
        "r2_score(y2_testarr, y_pred)"
      ],
      "execution_count": 0,
      "outputs": [
        {
          "output_type": "execute_result",
          "data": {
            "text/plain": [
              "0.0626860718150668"
            ]
          },
          "metadata": {
            "tags": []
          },
          "execution_count": 234
        }
      ]
    },
    {
      "metadata": {
        "id": "EUI-9Ju71trN",
        "colab_type": "text"
      },
      "cell_type": "markdown",
      "source": [
        "## Discussion of our results\n",
        "\n",
        "Based on our regression analyses and their low R-squared values, which are in the range of 0.1 to 0.15, we observe that the rating of an app as a score of 1 to 5 cannot be appropriately predicted by the features that we have and might depend on factors external to them (e.g., the maker of the app, the specs required to run it, the demographics of its user base, it's overall quality, etc.). See ref([[1]](https://www.researchgate.net/post/Low_R-squared_values_in_multiple_regression_analysis))\n",
        "\n",
        "However, when we binarize ratings and evaluate them as being above or below the median rating value, a classifier can consistently predict the ratings' success of an app. A k-nn binary classifier allowed us to get an accuracy of about 68%. Precision, recall, and the f1 measure are about 62% here. This aggregation effect might be explained as an instance of Simpson's paradox.  \n",
        "\n"
      ]
    }
  ]
}