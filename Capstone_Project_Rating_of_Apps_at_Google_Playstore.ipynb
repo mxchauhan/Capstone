{
  "nbformat": 4,
  "nbformat_minor": 0,
  "metadata": {
    "colab": {
      "name": "Capstone Project - Rating of Apps at Google Playstore.ipynb",
      "version": "0.3.2",
      "provenance": [],
      "include_colab_link": true
    },
    "kernelspec": {
      "name": "python3",
      "display_name": "Python 3"
    }
  },
  "cells": [
    {
      "cell_type": "markdown",
      "metadata": {
        "id": "view-in-github",
        "colab_type": "text"
      },
      "source": [
        "<a href=\"https://colab.research.google.com/github/mxchauhan/Capstone/blob/master/Capstone_Project_Rating_of_Apps_at_Google_Playstore.ipynb\" target=\"_parent\"><img src=\"https://colab.research.google.com/assets/colab-badge.svg\" alt=\"Open In Colab\"/></a>"
      ]
    },
    {
      "metadata": {
        "id": "pi1xME0s0-fB",
        "colab_type": "code",
        "colab": {}
      },
      "cell_type": "code",
      "source": [
        "import numpy as np\n",
        "import pandas as pd\n",
        "import scipy\n",
        "import sklearn\n",
        "import matplotlib.pyplot as plt\n",
        "import seaborn as sns"
      ],
      "execution_count": 0,
      "outputs": []
    },
    {
      "metadata": {
        "id": "Y3x7V0-e31zT",
        "colab_type": "code",
        "outputId": "ca017114-5b4a-4f36-8526-221f277c2186",
        "colab": {
          "base_uri": "https://localhost:8080/",
          "height": 204
        }
      },
      "cell_type": "code",
      "source": [
        "#Upload data and rename data column names\n",
        "\n",
        "dataPath = (\"https://raw.githubusercontent.com/mxchauhan/Capstone/master/googleplaystore.csv\")\n",
        "\n",
        "data = pd.read_csv(dataPath)\n",
        "\n",
        "data.columns = ['app',\n",
        "                'category',\n",
        "                'rating',\n",
        "                'reviews',\n",
        "                'size',\n",
        "                'installs',\n",
        "                'type',\n",
        "                'price',\n",
        "                'contentRating',\n",
        "                'genres',\n",
        "                'updated',\n",
        "                'version',\n",
        "                'androidVersion']\n",
        "\n",
        "data.head()"
      ],
      "execution_count": 887,
      "outputs": [
        {
          "output_type": "execute_result",
          "data": {
            "text/html": [
              "<div>\n",
              "<style scoped>\n",
              "    .dataframe tbody tr th:only-of-type {\n",
              "        vertical-align: middle;\n",
              "    }\n",
              "\n",
              "    .dataframe tbody tr th {\n",
              "        vertical-align: top;\n",
              "    }\n",
              "\n",
              "    .dataframe thead th {\n",
              "        text-align: right;\n",
              "    }\n",
              "</style>\n",
              "<table border=\"1\" class=\"dataframe\">\n",
              "  <thead>\n",
              "    <tr style=\"text-align: right;\">\n",
              "      <th></th>\n",
              "      <th>app</th>\n",
              "      <th>category</th>\n",
              "      <th>rating</th>\n",
              "      <th>reviews</th>\n",
              "      <th>size</th>\n",
              "      <th>installs</th>\n",
              "      <th>type</th>\n",
              "      <th>price</th>\n",
              "      <th>contentRating</th>\n",
              "      <th>genres</th>\n",
              "      <th>updated</th>\n",
              "      <th>version</th>\n",
              "      <th>androidVersion</th>\n",
              "    </tr>\n",
              "  </thead>\n",
              "  <tbody>\n",
              "    <tr>\n",
              "      <th>0</th>\n",
              "      <td>Photo Editor &amp; Candy Camera &amp; Grid &amp; ScrapBook</td>\n",
              "      <td>ART_AND_DESIGN</td>\n",
              "      <td>4.1</td>\n",
              "      <td>159</td>\n",
              "      <td>19M</td>\n",
              "      <td>10,000+</td>\n",
              "      <td>Free</td>\n",
              "      <td>0</td>\n",
              "      <td>Everyone</td>\n",
              "      <td>Art &amp; Design</td>\n",
              "      <td>7-Jan-18</td>\n",
              "      <td>1.0.0</td>\n",
              "      <td>4.0.3 and up</td>\n",
              "    </tr>\n",
              "    <tr>\n",
              "      <th>1</th>\n",
              "      <td>Coloring book moana</td>\n",
              "      <td>ART_AND_DESIGN</td>\n",
              "      <td>3.9</td>\n",
              "      <td>967</td>\n",
              "      <td>14M</td>\n",
              "      <td>500,000+</td>\n",
              "      <td>Free</td>\n",
              "      <td>0</td>\n",
              "      <td>Everyone</td>\n",
              "      <td>Art &amp; Design;Pretend Play</td>\n",
              "      <td>15-Jan-18</td>\n",
              "      <td>2.0.0</td>\n",
              "      <td>4.0.3 and up</td>\n",
              "    </tr>\n",
              "    <tr>\n",
              "      <th>2</th>\n",
              "      <td>U Launcher Lite – FREE Live Cool Themes, Hide ...</td>\n",
              "      <td>ART_AND_DESIGN</td>\n",
              "      <td>4.7</td>\n",
              "      <td>87510</td>\n",
              "      <td>8.7M</td>\n",
              "      <td>5,000,000+</td>\n",
              "      <td>Free</td>\n",
              "      <td>0</td>\n",
              "      <td>Everyone</td>\n",
              "      <td>Art &amp; Design</td>\n",
              "      <td>1-Aug-18</td>\n",
              "      <td>1.2.4</td>\n",
              "      <td>4.0.3 and up</td>\n",
              "    </tr>\n",
              "    <tr>\n",
              "      <th>3</th>\n",
              "      <td>Sketch - Draw &amp; Paint</td>\n",
              "      <td>ART_AND_DESIGN</td>\n",
              "      <td>4.5</td>\n",
              "      <td>215644</td>\n",
              "      <td>25M</td>\n",
              "      <td>50,000,000+</td>\n",
              "      <td>Free</td>\n",
              "      <td>0</td>\n",
              "      <td>Teen</td>\n",
              "      <td>Art &amp; Design</td>\n",
              "      <td>8-Jun-18</td>\n",
              "      <td>Varies with device</td>\n",
              "      <td>4.2 and up</td>\n",
              "    </tr>\n",
              "    <tr>\n",
              "      <th>4</th>\n",
              "      <td>Pixel Draw - Number Art Coloring Book</td>\n",
              "      <td>ART_AND_DESIGN</td>\n",
              "      <td>4.3</td>\n",
              "      <td>967</td>\n",
              "      <td>2.8M</td>\n",
              "      <td>100,000+</td>\n",
              "      <td>Free</td>\n",
              "      <td>0</td>\n",
              "      <td>Everyone</td>\n",
              "      <td>Art &amp; Design;Creativity</td>\n",
              "      <td>20-Jun-18</td>\n",
              "      <td>1.1</td>\n",
              "      <td>4.4 and up</td>\n",
              "    </tr>\n",
              "  </tbody>\n",
              "</table>\n",
              "</div>"
            ],
            "text/plain": [
              "                                                 app        category  rating  \\\n",
              "0     Photo Editor & Candy Camera & Grid & ScrapBook  ART_AND_DESIGN     4.1   \n",
              "1                                Coloring book moana  ART_AND_DESIGN     3.9   \n",
              "2  U Launcher Lite – FREE Live Cool Themes, Hide ...  ART_AND_DESIGN     4.7   \n",
              "3                              Sketch - Draw & Paint  ART_AND_DESIGN     4.5   \n",
              "4              Pixel Draw - Number Art Coloring Book  ART_AND_DESIGN     4.3   \n",
              "\n",
              "  reviews  size     installs  type price contentRating  \\\n",
              "0     159   19M      10,000+  Free     0      Everyone   \n",
              "1     967   14M     500,000+  Free     0      Everyone   \n",
              "2   87510  8.7M   5,000,000+  Free     0      Everyone   \n",
              "3  215644   25M  50,000,000+  Free     0          Teen   \n",
              "4     967  2.8M     100,000+  Free     0      Everyone   \n",
              "\n",
              "                      genres    updated             version androidVersion  \n",
              "0               Art & Design   7-Jan-18               1.0.0   4.0.3 and up  \n",
              "1  Art & Design;Pretend Play  15-Jan-18               2.0.0   4.0.3 and up  \n",
              "2               Art & Design   1-Aug-18               1.2.4   4.0.3 and up  \n",
              "3               Art & Design   8-Jun-18  Varies with device     4.2 and up  \n",
              "4    Art & Design;Creativity  20-Jun-18                 1.1     4.4 and up  "
            ]
          },
          "metadata": {
            "tags": []
          },
          "execution_count": 887
        }
      ]
    },
    {
      "metadata": {
        "id": "6S77pedY6Hvl",
        "colab_type": "code",
        "outputId": "ada550a3-fddf-4bf5-f7c4-ac4fbfc00ac9",
        "colab": {
          "base_uri": "https://localhost:8080/",
          "height": 34
        }
      },
      "cell_type": "code",
      "source": [
        "data.shape"
      ],
      "execution_count": 888,
      "outputs": [
        {
          "output_type": "execute_result",
          "data": {
            "text/plain": [
              "(10841, 13)"
            ]
          },
          "metadata": {
            "tags": []
          },
          "execution_count": 888
        }
      ]
    },
    {
      "metadata": {
        "id": "QAoPm8xPvrZY",
        "colab_type": "text"
      },
      "cell_type": "markdown",
      "source": [
        "## DATA CLEANING"
      ]
    },
    {
      "metadata": {
        "id": "HITTYkAo6Pxm",
        "colab_type": "code",
        "outputId": "6fb1000d-1f82-40e4-c132-5eb789a8d9b6",
        "colab": {
          "base_uri": "https://localhost:8080/",
          "height": 34
        }
      },
      "cell_type": "code",
      "source": [
        "data.isnull().values.ravel().sum()"
      ],
      "execution_count": 889,
      "outputs": [
        {
          "output_type": "execute_result",
          "data": {
            "text/plain": [
              "1487"
            ]
          },
          "metadata": {
            "tags": []
          },
          "execution_count": 889
        }
      ]
    },
    {
      "metadata": {
        "id": "5AViBC7m6Y5p",
        "colab_type": "code",
        "outputId": "f1b3a0d9-0bf4-4fd2-a459-062e96d439c8",
        "colab": {
          "base_uri": "https://localhost:8080/",
          "height": 34
        }
      },
      "cell_type": "code",
      "source": [
        "# we drop the NaNs\n",
        "data.dropna(inplace=True)\n",
        "\n",
        "#we check that the inplace transformation worked\n",
        "data.isnull().values.ravel().sum()"
      ],
      "execution_count": 890,
      "outputs": [
        {
          "output_type": "execute_result",
          "data": {
            "text/plain": [
              "0"
            ]
          },
          "metadata": {
            "tags": []
          },
          "execution_count": 890
        }
      ]
    },
    {
      "metadata": {
        "id": "6N5ZVCQv2H3A",
        "colab_type": "code",
        "colab": {
          "base_uri": "https://localhost:8080/",
          "height": 34
        },
        "outputId": "a01ce4d1-4b04-40bb-b6fd-bc4784c511f3"
      },
      "cell_type": "code",
      "source": [
        "data.shape"
      ],
      "execution_count": 891,
      "outputs": [
        {
          "output_type": "execute_result",
          "data": {
            "text/plain": [
              "(9360, 13)"
            ]
          },
          "metadata": {
            "tags": []
          },
          "execution_count": 891
        }
      ]
    },
    {
      "metadata": {
        "id": "fjFN2jOsPEPT",
        "colab_type": "code",
        "outputId": "4087ccfb-01f2-47c2-bd8f-f3b67f9114c5",
        "colab": {
          "base_uri": "https://localhost:8080/",
          "height": 238
        }
      },
      "cell_type": "code",
      "source": [
        "data.price.unique()"
      ],
      "execution_count": 892,
      "outputs": [
        {
          "output_type": "execute_result",
          "data": {
            "text/plain": [
              "array(['0', '$4.99 ', '$3.99 ', '$6.99 ', '$7.99 ', '$5.99 ', '$2.99 ',\n",
              "       '$3.49 ', '$1.99 ', '$9.99 ', '$7.49 ', '$0.99 ', '$9.00 ',\n",
              "       '$5.49 ', '$10.00 ', '$24.99 ', '$11.99 ', '$79.99 ', '$16.99 ',\n",
              "       '$14.99 ', '$29.99 ', '$12.99 ', '$2.49 ', '$10.99 ', '$1.50 ',\n",
              "       '$19.99 ', '$15.99 ', '$33.99 ', '$39.99 ', '$3.95 ', '$4.49 ',\n",
              "       '$1.70 ', '$8.99 ', '$1.49 ', '$3.88 ', '$399.99 ', '$17.99 ',\n",
              "       '$400.00 ', '$3.02 ', '$1.76 ', '$4.84 ', '$4.77 ', '$1.61 ',\n",
              "       '$2.50 ', '$1.59 ', '$6.49 ', '$1.29 ', '$299.99 ', '$379.99 ',\n",
              "       '$37.99 ', '$18.99 ', '$389.99 ', '$8.49 ', '$1.75 ', '$14.00 ',\n",
              "       '$2.00 ', '$3.08 ', '$2.59 ', '$19.40 ', '$3.90 ', '$4.59 ',\n",
              "       '$15.46 ', '$3.04 ', '$13.99 ', '$4.29 ', '$3.28 ', '$4.60 ',\n",
              "       '$1.00 ', '$2.95 ', '$2.90 ', '$1.97 ', '$2.56 ', '$1.20 '],\n",
              "      dtype=object)"
            ]
          },
          "metadata": {
            "tags": []
          },
          "execution_count": 892
        }
      ]
    },
    {
      "metadata": {
        "id": "Egiu3ZvQQdrx",
        "colab_type": "code",
        "outputId": "52ce3475-3481-4af0-8014-25254728daeb",
        "colab": {
          "base_uri": "https://localhost:8080/",
          "height": 51
        }
      },
      "cell_type": "code",
      "source": [
        "data.contentRating.unique()"
      ],
      "execution_count": 893,
      "outputs": [
        {
          "output_type": "execute_result",
          "data": {
            "text/plain": [
              "array(['Everyone', 'Teen', 'Everyone 10+', 'Mature 17+',\n",
              "       'Adults only 18+', 'Unrated'], dtype=object)"
            ]
          },
          "metadata": {
            "tags": []
          },
          "execution_count": 893
        }
      ]
    },
    {
      "metadata": {
        "id": "QbtAaY1ERbYk",
        "colab_type": "code",
        "outputId": "cc109f06-006a-4eb5-c63e-f24941459615",
        "colab": {
          "base_uri": "https://localhost:8080/",
          "height": 884
        }
      },
      "cell_type": "code",
      "source": [
        "data['size'].unique()"
      ],
      "execution_count": 894,
      "outputs": [
        {
          "output_type": "execute_result",
          "data": {
            "text/plain": [
              "array(['19M', '14M', '8.7M', '25M', '2.8M', '5.6M', '29M', '33M', '3.1M',\n",
              "       '28M', '12M', '20M', '21M', '37M', '5.5M', '17M', '39M', '31M',\n",
              "       '4.2M', '23M', '6.0M', '6.1M', '4.6M', '9.2M', '5.2M', '11M',\n",
              "       '24M', 'Varies with device', '9.4M', '15M', '10M', '1.2M', '26M',\n",
              "       '8.0M', '7.9M', '56M', '57M', '35M', '54M', '201k', '3.6M', '5.7M',\n",
              "       '8.6M', '2.4M', '27M', '2.7M', '2.5M', '7.0M', '16M', '3.4M',\n",
              "       '8.9M', '3.9M', '2.9M', '38M', '32M', '5.4M', '18M', '1.1M',\n",
              "       '2.2M', '4.5M', '9.8M', '52M', '9.0M', '6.7M', '30M', '2.6M',\n",
              "       '7.1M', '22M', '6.4M', '3.2M', '8.2M', '4.9M', '9.5M', '5.0M',\n",
              "       '5.9M', '13M', '73M', '6.8M', '3.5M', '4.0M', '2.3M', '2.1M',\n",
              "       '42M', '9.1M', '55M', '23k', '7.3M', '6.5M', '1.5M', '7.5M', '51M',\n",
              "       '41M', '48M', '8.5M', '46M', '8.3M', '4.3M', '4.7M', '3.3M', '40M',\n",
              "       '7.8M', '8.8M', '6.6M', '5.1M', '61M', '66M', '79k', '8.4M',\n",
              "       '3.7M', '118k', '44M', '695k', '1.6M', '6.2M', '53M', '1.4M',\n",
              "       '3.0M', '7.2M', '5.8M', '3.8M', '9.6M', '45M', '63M', '49M', '77M',\n",
              "       '4.4M', '70M', '9.3M', '8.1M', '36M', '6.9M', '7.4M', '84M', '97M',\n",
              "       '2.0M', '1.9M', '1.8M', '5.3M', '47M', '556k', '526k', '76M',\n",
              "       '7.6M', '59M', '9.7M', '78M', '72M', '43M', '7.7M', '6.3M', '334k',\n",
              "       '93M', '65M', '79M', '100M', '58M', '50M', '68M', '64M', '34M',\n",
              "       '67M', '60M', '94M', '9.9M', '232k', '99M', '624k', '95M', '8.5k',\n",
              "       '41k', '292k', '80M', '1.7M', '10.0M', '74M', '62M', '69M', '75M',\n",
              "       '98M', '85M', '82M', '96M', '87M', '71M', '86M', '91M', '81M',\n",
              "       '92M', '83M', '88M', '704k', '862k', '899k', '378k', '4.8M',\n",
              "       '266k', '375k', '1.3M', '975k', '980k', '4.1M', '89M', '696k',\n",
              "       '544k', '525k', '920k', '779k', '853k', '720k', '713k', '772k',\n",
              "       '318k', '58k', '241k', '196k', '857k', '51k', '953k', '865k',\n",
              "       '251k', '930k', '540k', '313k', '746k', '203k', '26k', '314k',\n",
              "       '239k', '371k', '220k', '730k', '756k', '91k', '293k', '17k',\n",
              "       '74k', '14k', '317k', '78k', '924k', '818k', '81k', '939k', '169k',\n",
              "       '45k', '965k', '90M', '545k', '61k', '283k', '655k', '714k', '93k',\n",
              "       '872k', '121k', '322k', '976k', '206k', '954k', '444k', '717k',\n",
              "       '210k', '609k', '308k', '306k', '175k', '350k', '383k', '454k',\n",
              "       '1.0M', '70k', '812k', '442k', '842k', '417k', '412k', '459k',\n",
              "       '478k', '335k', '782k', '721k', '430k', '429k', '192k', '460k',\n",
              "       '728k', '496k', '816k', '414k', '506k', '887k', '613k', '778k',\n",
              "       '683k', '592k', '186k', '840k', '647k', '373k', '437k', '598k',\n",
              "       '716k', '585k', '982k', '219k', '55k', '323k', '691k', '511k',\n",
              "       '951k', '963k', '25k', '554k', '351k', '27k', '82k', '208k',\n",
              "       '551k', '29k', '103k', '116k', '153k', '209k', '499k', '173k',\n",
              "       '597k', '809k', '122k', '411k', '400k', '801k', '787k', '50k',\n",
              "       '643k', '986k', '516k', '837k', '780k', '20k', '498k', '600k',\n",
              "       '656k', '221k', '228k', '176k', '34k', '259k', '164k', '458k',\n",
              "       '629k', '28k', '288k', '775k', '785k', '636k', '916k', '994k',\n",
              "       '309k', '485k', '914k', '903k', '608k', '500k', '54k', '562k',\n",
              "       '847k', '948k', '811k', '270k', '48k', '523k', '784k', '280k',\n",
              "       '24k', '892k', '154k', '18k', '33k', '860k', '364k', '387k',\n",
              "       '626k', '161k', '879k', '39k', '170k', '141k', '160k', '144k',\n",
              "       '143k', '190k', '376k', '193k', '473k', '246k', '73k', '253k',\n",
              "       '957k', '420k', '72k', '404k', '470k', '226k', '240k', '89k',\n",
              "       '234k', '257k', '861k', '467k', '676k', '552k', '582k', '619k'],\n",
              "      dtype=object)"
            ]
          },
          "metadata": {
            "tags": []
          },
          "execution_count": 894
        }
      ]
    },
    {
      "metadata": {
        "id": "VuwClCi-bHCz",
        "colab_type": "code",
        "colab": {
          "base_uri": "https://localhost:8080/",
          "height": 51
        },
        "outputId": "7e28fe16-3975-4e11-954f-b0147598c4f7"
      },
      "cell_type": "code",
      "source": [
        "data['updated'].unique()"
      ],
      "execution_count": 895,
      "outputs": [
        {
          "output_type": "execute_result",
          "data": {
            "text/plain": [
              "array(['7-Jan-18', '15-Jan-18', '1-Aug-18', ..., '20-Jan-14', '16-Feb-14',\n",
              "       '23-Mar-14'], dtype=object)"
            ]
          },
          "metadata": {
            "tags": []
          },
          "execution_count": 895
        }
      ]
    },
    {
      "metadata": {
        "id": "bQDiaQTodq54",
        "colab_type": "code",
        "colab": {
          "base_uri": "https://localhost:8080/",
          "height": 153
        },
        "outputId": "294c09e0-2466-436b-dc59-8431fcee5f8f"
      },
      "cell_type": "code",
      "source": [
        "data.androidVersion.unique()"
      ],
      "execution_count": 896,
      "outputs": [
        {
          "output_type": "execute_result",
          "data": {
            "text/plain": [
              "array(['4.0.3 and up', '4.2 and up', '4.4 and up', '2.3 and up',\n",
              "       '3.0 and up', '4.1 and up', '4.0 and up', '2.3.3 and up',\n",
              "       'Varies with device', '2.2 and up', '5.0 and up', '6.0 and up',\n",
              "       '1.6 and up', '1.5 and up', '2.1 and up', '7.0 and up',\n",
              "       '4.3 and up', '4.0.3 - 7.1.1', '2.0 and up', '3.2 and up',\n",
              "       '4.4W and up', '5.1 and up', '7.1 and up', '7.0 - 7.1.1',\n",
              "       '8.0 and up', '5.0 - 8.0', '3.1 and up', '2.0.1 and up',\n",
              "       '4.1 - 7.1.1', '5.0 - 6.0', '1.0 and up'], dtype=object)"
            ]
          },
          "metadata": {
            "tags": []
          },
          "execution_count": 896
        }
      ]
    },
    {
      "metadata": {
        "id": "ZVc7Z8NO87SG",
        "colab_type": "code",
        "colab": {}
      },
      "cell_type": "code",
      "source": [
        "# Masks for taking mega and kilo values, used \n",
        "# to later convert size strings into numeric\n",
        "\n",
        "mega = data['size'].str.contains('M')\n",
        "\n",
        "kilo = data['size'].str.contains('k')"
      ],
      "execution_count": 0,
      "outputs": []
    },
    {
      "metadata": {
        "id": "GhUgCqI2_pyP",
        "colab_type": "code",
        "colab": {}
      },
      "cell_type": "code",
      "source": [
        "data['size'] = data['size'].str.strip('k')\n",
        "data['size'] = data['size'].str.strip('M')\n",
        "data['size'] = pd.to_numeric(data['size'], errors='coerce')"
      ],
      "execution_count": 0,
      "outputs": []
    },
    {
      "metadata": {
        "id": "gYpixdc8_wZ2",
        "colab_type": "code",
        "colab": {
          "base_uri": "https://localhost:8080/",
          "height": 289
        },
        "outputId": "45ea39a2-4937-423a-ee16-82644120bc58"
      },
      "cell_type": "code",
      "source": [
        "data['size'].loc[mega] = data['size'].loc[mega] * 1000000\n",
        "data['size'].loc[kilo] = data['size'].loc[kilo] * 1000\n",
        "data.head()"
      ],
      "execution_count": 899,
      "outputs": [
        {
          "output_type": "stream",
          "text": [
            "/usr/local/lib/python3.6/dist-packages/pandas/core/indexing.py:194: SettingWithCopyWarning: \n",
            "A value is trying to be set on a copy of a slice from a DataFrame\n",
            "\n",
            "See the caveats in the documentation: http://pandas.pydata.org/pandas-docs/stable/indexing.html#indexing-view-versus-copy\n",
            "  self._setitem_with_indexer(indexer, value)\n"
          ],
          "name": "stderr"
        },
        {
          "output_type": "execute_result",
          "data": {
            "text/html": [
              "<div>\n",
              "<style scoped>\n",
              "    .dataframe tbody tr th:only-of-type {\n",
              "        vertical-align: middle;\n",
              "    }\n",
              "\n",
              "    .dataframe tbody tr th {\n",
              "        vertical-align: top;\n",
              "    }\n",
              "\n",
              "    .dataframe thead th {\n",
              "        text-align: right;\n",
              "    }\n",
              "</style>\n",
              "<table border=\"1\" class=\"dataframe\">\n",
              "  <thead>\n",
              "    <tr style=\"text-align: right;\">\n",
              "      <th></th>\n",
              "      <th>app</th>\n",
              "      <th>category</th>\n",
              "      <th>rating</th>\n",
              "      <th>reviews</th>\n",
              "      <th>size</th>\n",
              "      <th>installs</th>\n",
              "      <th>type</th>\n",
              "      <th>price</th>\n",
              "      <th>contentRating</th>\n",
              "      <th>genres</th>\n",
              "      <th>updated</th>\n",
              "      <th>version</th>\n",
              "      <th>androidVersion</th>\n",
              "    </tr>\n",
              "  </thead>\n",
              "  <tbody>\n",
              "    <tr>\n",
              "      <th>0</th>\n",
              "      <td>Photo Editor &amp; Candy Camera &amp; Grid &amp; ScrapBook</td>\n",
              "      <td>ART_AND_DESIGN</td>\n",
              "      <td>4.1</td>\n",
              "      <td>159</td>\n",
              "      <td>19000000.0</td>\n",
              "      <td>10,000+</td>\n",
              "      <td>Free</td>\n",
              "      <td>0</td>\n",
              "      <td>Everyone</td>\n",
              "      <td>Art &amp; Design</td>\n",
              "      <td>7-Jan-18</td>\n",
              "      <td>1.0.0</td>\n",
              "      <td>4.0.3 and up</td>\n",
              "    </tr>\n",
              "    <tr>\n",
              "      <th>1</th>\n",
              "      <td>Coloring book moana</td>\n",
              "      <td>ART_AND_DESIGN</td>\n",
              "      <td>3.9</td>\n",
              "      <td>967</td>\n",
              "      <td>14000000.0</td>\n",
              "      <td>500,000+</td>\n",
              "      <td>Free</td>\n",
              "      <td>0</td>\n",
              "      <td>Everyone</td>\n",
              "      <td>Art &amp; Design;Pretend Play</td>\n",
              "      <td>15-Jan-18</td>\n",
              "      <td>2.0.0</td>\n",
              "      <td>4.0.3 and up</td>\n",
              "    </tr>\n",
              "    <tr>\n",
              "      <th>2</th>\n",
              "      <td>U Launcher Lite – FREE Live Cool Themes, Hide ...</td>\n",
              "      <td>ART_AND_DESIGN</td>\n",
              "      <td>4.7</td>\n",
              "      <td>87510</td>\n",
              "      <td>8700000.0</td>\n",
              "      <td>5,000,000+</td>\n",
              "      <td>Free</td>\n",
              "      <td>0</td>\n",
              "      <td>Everyone</td>\n",
              "      <td>Art &amp; Design</td>\n",
              "      <td>1-Aug-18</td>\n",
              "      <td>1.2.4</td>\n",
              "      <td>4.0.3 and up</td>\n",
              "    </tr>\n",
              "    <tr>\n",
              "      <th>3</th>\n",
              "      <td>Sketch - Draw &amp; Paint</td>\n",
              "      <td>ART_AND_DESIGN</td>\n",
              "      <td>4.5</td>\n",
              "      <td>215644</td>\n",
              "      <td>25000000.0</td>\n",
              "      <td>50,000,000+</td>\n",
              "      <td>Free</td>\n",
              "      <td>0</td>\n",
              "      <td>Teen</td>\n",
              "      <td>Art &amp; Design</td>\n",
              "      <td>8-Jun-18</td>\n",
              "      <td>Varies with device</td>\n",
              "      <td>4.2 and up</td>\n",
              "    </tr>\n",
              "    <tr>\n",
              "      <th>4</th>\n",
              "      <td>Pixel Draw - Number Art Coloring Book</td>\n",
              "      <td>ART_AND_DESIGN</td>\n",
              "      <td>4.3</td>\n",
              "      <td>967</td>\n",
              "      <td>2800000.0</td>\n",
              "      <td>100,000+</td>\n",
              "      <td>Free</td>\n",
              "      <td>0</td>\n",
              "      <td>Everyone</td>\n",
              "      <td>Art &amp; Design;Creativity</td>\n",
              "      <td>20-Jun-18</td>\n",
              "      <td>1.1</td>\n",
              "      <td>4.4 and up</td>\n",
              "    </tr>\n",
              "  </tbody>\n",
              "</table>\n",
              "</div>"
            ],
            "text/plain": [
              "                                                 app        category  rating  \\\n",
              "0     Photo Editor & Candy Camera & Grid & ScrapBook  ART_AND_DESIGN     4.1   \n",
              "1                                Coloring book moana  ART_AND_DESIGN     3.9   \n",
              "2  U Launcher Lite – FREE Live Cool Themes, Hide ...  ART_AND_DESIGN     4.7   \n",
              "3                              Sketch - Draw & Paint  ART_AND_DESIGN     4.5   \n",
              "4              Pixel Draw - Number Art Coloring Book  ART_AND_DESIGN     4.3   \n",
              "\n",
              "  reviews        size     installs  type price contentRating  \\\n",
              "0     159  19000000.0      10,000+  Free     0      Everyone   \n",
              "1     967  14000000.0     500,000+  Free     0      Everyone   \n",
              "2   87510   8700000.0   5,000,000+  Free     0      Everyone   \n",
              "3  215644  25000000.0  50,000,000+  Free     0          Teen   \n",
              "4     967   2800000.0     100,000+  Free     0      Everyone   \n",
              "\n",
              "                      genres    updated             version androidVersion  \n",
              "0               Art & Design   7-Jan-18               1.0.0   4.0.3 and up  \n",
              "1  Art & Design;Pretend Play  15-Jan-18               2.0.0   4.0.3 and up  \n",
              "2               Art & Design   1-Aug-18               1.2.4   4.0.3 and up  \n",
              "3               Art & Design   8-Jun-18  Varies with device     4.2 and up  \n",
              "4    Art & Design;Creativity  20-Jun-18                 1.1     4.4 and up  "
            ]
          },
          "metadata": {
            "tags": []
          },
          "execution_count": 899
        }
      ]
    },
    {
      "metadata": {
        "id": "EjTLHqXjgEj7",
        "colab_type": "code",
        "outputId": "f7e36129-b00c-4eb0-c508-7de63845643e",
        "colab": {
          "base_uri": "https://localhost:8080/",
          "height": 51
        }
      },
      "cell_type": "code",
      "source": [
        "print ((data.installs == 'Free').astype(int).sum())\n",
        "print ((data.price == 'Everyone').astype(int).sum())"
      ],
      "execution_count": 900,
      "outputs": [
        {
          "output_type": "stream",
          "text": [
            "0\n",
            "0\n"
          ],
          "name": "stdout"
        }
      ]
    },
    {
      "metadata": {
        "id": "A_GCbFmigoBq",
        "colab_type": "code",
        "outputId": "06edaf9d-fd1b-4213-cd9f-142ed8690c99",
        "colab": {
          "base_uri": "https://localhost:8080/",
          "height": 49
        }
      },
      "cell_type": "code",
      "source": [
        "data[(data.installs == 'Free')]"
      ],
      "execution_count": 901,
      "outputs": [
        {
          "output_type": "execute_result",
          "data": {
            "text/html": [
              "<div>\n",
              "<style scoped>\n",
              "    .dataframe tbody tr th:only-of-type {\n",
              "        vertical-align: middle;\n",
              "    }\n",
              "\n",
              "    .dataframe tbody tr th {\n",
              "        vertical-align: top;\n",
              "    }\n",
              "\n",
              "    .dataframe thead th {\n",
              "        text-align: right;\n",
              "    }\n",
              "</style>\n",
              "<table border=\"1\" class=\"dataframe\">\n",
              "  <thead>\n",
              "    <tr style=\"text-align: right;\">\n",
              "      <th></th>\n",
              "      <th>app</th>\n",
              "      <th>category</th>\n",
              "      <th>rating</th>\n",
              "      <th>reviews</th>\n",
              "      <th>size</th>\n",
              "      <th>installs</th>\n",
              "      <th>type</th>\n",
              "      <th>price</th>\n",
              "      <th>contentRating</th>\n",
              "      <th>genres</th>\n",
              "      <th>updated</th>\n",
              "      <th>version</th>\n",
              "      <th>androidVersion</th>\n",
              "    </tr>\n",
              "  </thead>\n",
              "  <tbody>\n",
              "  </tbody>\n",
              "</table>\n",
              "</div>"
            ],
            "text/plain": [
              "Empty DataFrame\n",
              "Columns: [app, category, rating, reviews, size, installs, type, price, contentRating, genres, updated, version, androidVersion]\n",
              "Index: []"
            ]
          },
          "metadata": {
            "tags": []
          },
          "execution_count": 901
        }
      ]
    },
    {
      "metadata": {
        "id": "O8QCpxiDj_Dg",
        "colab_type": "code",
        "colab": {
          "base_uri": "https://localhost:8080/",
          "height": 34
        },
        "outputId": "535a0486-707c-4f48-c279-9e46358c2d6b"
      },
      "cell_type": "code",
      "source": [
        "print ((data.contentRating == 'Unrated').astype(int).sum())"
      ],
      "execution_count": 902,
      "outputs": [
        {
          "output_type": "stream",
          "text": [
            "1\n"
          ],
          "name": "stdout"
        }
      ]
    },
    {
      "metadata": {
        "id": "sX0rQf4Bhqiq",
        "colab_type": "code",
        "outputId": "be97afbf-f767-4bba-dfa6-74ca61b6ffdd",
        "colab": {
          "base_uri": "https://localhost:8080/",
          "height": 34
        }
      },
      "cell_type": "code",
      "source": [
        "data.shape"
      ],
      "execution_count": 903,
      "outputs": [
        {
          "output_type": "execute_result",
          "data": {
            "text/plain": [
              "(9360, 13)"
            ]
          },
          "metadata": {
            "tags": []
          },
          "execution_count": 903
        }
      ]
    },
    {
      "metadata": {
        "id": "y7lQQNJFfszE",
        "colab_type": "text"
      },
      "cell_type": "markdown",
      "source": [
        "**We drop or the row that has 'Free' as number of installs for the app and price equal to 'Everyone', as these are values that have spilled from other columns and are obvious data collection errors** \n",
        "\n",
        "\n",
        "\n"
      ]
    },
    {
      "metadata": {
        "id": "VqHWQ4uWhF90",
        "colab_type": "code",
        "outputId": "c1675f25-9612-4249-d5bd-fa209e520dea",
        "colab": {
          "base_uri": "https://localhost:8080/",
          "height": 34
        }
      },
      "cell_type": "code",
      "source": [
        "data = data[~(data.installs == 'Free')]\n",
        "\n",
        "data.shape"
      ],
      "execution_count": 904,
      "outputs": [
        {
          "output_type": "execute_result",
          "data": {
            "text/plain": [
              "(9360, 13)"
            ]
          },
          "metadata": {
            "tags": []
          },
          "execution_count": 904
        }
      ]
    },
    {
      "metadata": {
        "id": "xxWllACRRwr0",
        "colab_type": "code",
        "outputId": "f3768dcc-61c5-459d-ec63-27b8603c343e",
        "colab": {
          "base_uri": "https://localhost:8080/",
          "height": 68
        }
      },
      "cell_type": "code",
      "source": [
        "data.installs = data.installs.str.strip('+')\n",
        "data.installs = data.installs.str.replace(',','')\n",
        "data.installs.unique()\n"
      ],
      "execution_count": 905,
      "outputs": [
        {
          "output_type": "execute_result",
          "data": {
            "text/plain": [
              "array(['10000', '500000', '5000000', '50000000', '100000', '50000',\n",
              "       '1000000', '10000000', '5000', '100000000', '1000000000', '1000',\n",
              "       '500000000', '100', '500', '10', '5', '50', '1'], dtype=object)"
            ]
          },
          "metadata": {
            "tags": []
          },
          "execution_count": 905
        }
      ]
    },
    {
      "metadata": {
        "id": "CCjRuuelRUQZ",
        "colab_type": "code",
        "outputId": "6cbe138a-15cb-42de-802a-936139dc54b6",
        "colab": {
          "base_uri": "https://localhost:8080/",
          "height": 187
        }
      },
      "cell_type": "code",
      "source": [
        "data.price = data.price.str.strip('$')\n",
        "data.price = data.price.str.strip(' ')\n",
        "\n",
        "data.price.unique()"
      ],
      "execution_count": 906,
      "outputs": [
        {
          "output_type": "execute_result",
          "data": {
            "text/plain": [
              "array(['0', '4.99', '3.99', '6.99', '7.99', '5.99', '2.99', '3.49',\n",
              "       '1.99', '9.99', '7.49', '0.99', '9.00', '5.49', '10.00', '24.99',\n",
              "       '11.99', '79.99', '16.99', '14.99', '29.99', '12.99', '2.49',\n",
              "       '10.99', '1.50', '19.99', '15.99', '33.99', '39.99', '3.95',\n",
              "       '4.49', '1.70', '8.99', '1.49', '3.88', '399.99', '17.99',\n",
              "       '400.00', '3.02', '1.76', '4.84', '4.77', '1.61', '2.50', '1.59',\n",
              "       '6.49', '1.29', '299.99', '379.99', '37.99', '18.99', '389.99',\n",
              "       '8.49', '1.75', '14.00', '2.00', '3.08', '2.59', '19.40', '3.90',\n",
              "       '4.59', '15.46', '3.04', '13.99', '4.29', '3.28', '4.60', '1.00',\n",
              "       '2.95', '2.90', '1.97', '2.56', '1.20'], dtype=object)"
            ]
          },
          "metadata": {
            "tags": []
          },
          "execution_count": 906
        }
      ]
    },
    {
      "metadata": {
        "id": "7Y8szas8x7jf",
        "colab_type": "code",
        "colab": {
          "base_uri": "https://localhost:8080/",
          "height": 102
        },
        "outputId": "fcb685fa-bb9c-4259-ef1e-0d275bf86385"
      },
      "cell_type": "code",
      "source": [
        "everyone = data['contentRating'] == 'Everyone'\n",
        "everyone10 = data['contentRating'] == 'Everyone 10+'\n",
        "teen = data['contentRating'] == 'Teen'\n",
        "mature = data['contentRating'] == 'Mature 17+'\n",
        "adult = data['contentRating'] == 'Adults only 18+'\n",
        "unrated = data['contentRating'] == 'Unrated'\n",
        "\n",
        "data['contentRating'].loc[everyone] = 0\n",
        "data['contentRating'].loc[everyone10] = 10\n",
        "data['contentRating'].loc[teen] = 13\n",
        "data['contentRating'].loc[mature] = 17\n",
        "data['contentRating'].loc[adult] = 18\n",
        "data['contentRating'].loc[unrated] = 0"
      ],
      "execution_count": 907,
      "outputs": [
        {
          "output_type": "stream",
          "text": [
            "/usr/local/lib/python3.6/dist-packages/pandas/core/indexing.py:194: SettingWithCopyWarning: \n",
            "A value is trying to be set on a copy of a slice from a DataFrame\n",
            "\n",
            "See the caveats in the documentation: http://pandas.pydata.org/pandas-docs/stable/indexing.html#indexing-view-versus-copy\n",
            "  self._setitem_with_indexer(indexer, value)\n"
          ],
          "name": "stderr"
        }
      ]
    },
    {
      "metadata": {
        "id": "dVIewKvhwxnd",
        "colab_type": "code",
        "colab": {
          "base_uri": "https://localhost:8080/",
          "height": 34
        },
        "outputId": "720f8a46-284e-474f-c5bb-08cfd37d1ffe"
      },
      "cell_type": "code",
      "source": [
        "data.type.unique()"
      ],
      "execution_count": 908,
      "outputs": [
        {
          "output_type": "execute_result",
          "data": {
            "text/plain": [
              "array(['Free', 'Paid'], dtype=object)"
            ]
          },
          "metadata": {
            "tags": []
          },
          "execution_count": 908
        }
      ]
    },
    {
      "metadata": {
        "id": "veTE1IbcPK97",
        "colab_type": "code",
        "colab": {}
      },
      "cell_type": "code",
      "source": [
        "data['reviews'] = pd.to_numeric(data['reviews'], errors='coerce')\n",
        "data['installs'] = pd.to_numeric(data['installs'], errors='coerce')\n",
        "data['price'] = pd.to_numeric(data['price'], errors='coerce')"
      ],
      "execution_count": 0,
      "outputs": []
    },
    {
      "metadata": {
        "id": "WJ_NJmB8zzR1",
        "colab_type": "code",
        "colab": {
          "base_uri": "https://localhost:8080/",
          "height": 204
        },
        "outputId": "25377df5-54bf-4664-ecf9-4541cef70005"
      },
      "cell_type": "code",
      "source": [
        "# we drop ratings equal to zero, as the app store doesn't allow a real user \n",
        "# rating to be equal to zero\n",
        "data = data[data['rating']> 0]\n",
        "data.head(5)"
      ],
      "execution_count": 910,
      "outputs": [
        {
          "output_type": "execute_result",
          "data": {
            "text/html": [
              "<div>\n",
              "<style scoped>\n",
              "    .dataframe tbody tr th:only-of-type {\n",
              "        vertical-align: middle;\n",
              "    }\n",
              "\n",
              "    .dataframe tbody tr th {\n",
              "        vertical-align: top;\n",
              "    }\n",
              "\n",
              "    .dataframe thead th {\n",
              "        text-align: right;\n",
              "    }\n",
              "</style>\n",
              "<table border=\"1\" class=\"dataframe\">\n",
              "  <thead>\n",
              "    <tr style=\"text-align: right;\">\n",
              "      <th></th>\n",
              "      <th>app</th>\n",
              "      <th>category</th>\n",
              "      <th>rating</th>\n",
              "      <th>reviews</th>\n",
              "      <th>size</th>\n",
              "      <th>installs</th>\n",
              "      <th>type</th>\n",
              "      <th>price</th>\n",
              "      <th>contentRating</th>\n",
              "      <th>genres</th>\n",
              "      <th>updated</th>\n",
              "      <th>version</th>\n",
              "      <th>androidVersion</th>\n",
              "    </tr>\n",
              "  </thead>\n",
              "  <tbody>\n",
              "    <tr>\n",
              "      <th>0</th>\n",
              "      <td>Photo Editor &amp; Candy Camera &amp; Grid &amp; ScrapBook</td>\n",
              "      <td>ART_AND_DESIGN</td>\n",
              "      <td>4.1</td>\n",
              "      <td>159</td>\n",
              "      <td>19000000.0</td>\n",
              "      <td>10000</td>\n",
              "      <td>Free</td>\n",
              "      <td>0.0</td>\n",
              "      <td>0</td>\n",
              "      <td>Art &amp; Design</td>\n",
              "      <td>7-Jan-18</td>\n",
              "      <td>1.0.0</td>\n",
              "      <td>4.0.3 and up</td>\n",
              "    </tr>\n",
              "    <tr>\n",
              "      <th>1</th>\n",
              "      <td>Coloring book moana</td>\n",
              "      <td>ART_AND_DESIGN</td>\n",
              "      <td>3.9</td>\n",
              "      <td>967</td>\n",
              "      <td>14000000.0</td>\n",
              "      <td>500000</td>\n",
              "      <td>Free</td>\n",
              "      <td>0.0</td>\n",
              "      <td>0</td>\n",
              "      <td>Art &amp; Design;Pretend Play</td>\n",
              "      <td>15-Jan-18</td>\n",
              "      <td>2.0.0</td>\n",
              "      <td>4.0.3 and up</td>\n",
              "    </tr>\n",
              "    <tr>\n",
              "      <th>2</th>\n",
              "      <td>U Launcher Lite – FREE Live Cool Themes, Hide ...</td>\n",
              "      <td>ART_AND_DESIGN</td>\n",
              "      <td>4.7</td>\n",
              "      <td>87510</td>\n",
              "      <td>8700000.0</td>\n",
              "      <td>5000000</td>\n",
              "      <td>Free</td>\n",
              "      <td>0.0</td>\n",
              "      <td>0</td>\n",
              "      <td>Art &amp; Design</td>\n",
              "      <td>1-Aug-18</td>\n",
              "      <td>1.2.4</td>\n",
              "      <td>4.0.3 and up</td>\n",
              "    </tr>\n",
              "    <tr>\n",
              "      <th>3</th>\n",
              "      <td>Sketch - Draw &amp; Paint</td>\n",
              "      <td>ART_AND_DESIGN</td>\n",
              "      <td>4.5</td>\n",
              "      <td>215644</td>\n",
              "      <td>25000000.0</td>\n",
              "      <td>50000000</td>\n",
              "      <td>Free</td>\n",
              "      <td>0.0</td>\n",
              "      <td>13</td>\n",
              "      <td>Art &amp; Design</td>\n",
              "      <td>8-Jun-18</td>\n",
              "      <td>Varies with device</td>\n",
              "      <td>4.2 and up</td>\n",
              "    </tr>\n",
              "    <tr>\n",
              "      <th>4</th>\n",
              "      <td>Pixel Draw - Number Art Coloring Book</td>\n",
              "      <td>ART_AND_DESIGN</td>\n",
              "      <td>4.3</td>\n",
              "      <td>967</td>\n",
              "      <td>2800000.0</td>\n",
              "      <td>100000</td>\n",
              "      <td>Free</td>\n",
              "      <td>0.0</td>\n",
              "      <td>0</td>\n",
              "      <td>Art &amp; Design;Creativity</td>\n",
              "      <td>20-Jun-18</td>\n",
              "      <td>1.1</td>\n",
              "      <td>4.4 and up</td>\n",
              "    </tr>\n",
              "  </tbody>\n",
              "</table>\n",
              "</div>"
            ],
            "text/plain": [
              "                                                 app        category  rating  \\\n",
              "0     Photo Editor & Candy Camera & Grid & ScrapBook  ART_AND_DESIGN     4.1   \n",
              "1                                Coloring book moana  ART_AND_DESIGN     3.9   \n",
              "2  U Launcher Lite – FREE Live Cool Themes, Hide ...  ART_AND_DESIGN     4.7   \n",
              "3                              Sketch - Draw & Paint  ART_AND_DESIGN     4.5   \n",
              "4              Pixel Draw - Number Art Coloring Book  ART_AND_DESIGN     4.3   \n",
              "\n",
              "   reviews        size  installs  type  price  contentRating  \\\n",
              "0      159  19000000.0     10000  Free    0.0              0   \n",
              "1      967  14000000.0    500000  Free    0.0              0   \n",
              "2    87510   8700000.0   5000000  Free    0.0              0   \n",
              "3   215644  25000000.0  50000000  Free    0.0             13   \n",
              "4      967   2800000.0    100000  Free    0.0              0   \n",
              "\n",
              "                      genres    updated             version androidVersion  \n",
              "0               Art & Design   7-Jan-18               1.0.0   4.0.3 and up  \n",
              "1  Art & Design;Pretend Play  15-Jan-18               2.0.0   4.0.3 and up  \n",
              "2               Art & Design   1-Aug-18               1.2.4   4.0.3 and up  \n",
              "3               Art & Design   8-Jun-18  Varies with device     4.2 and up  \n",
              "4    Art & Design;Creativity  20-Jun-18                 1.1     4.4 and up  "
            ]
          },
          "metadata": {
            "tags": []
          },
          "execution_count": 910
        }
      ]
    },
    {
      "metadata": {
        "id": "DcLSH7YKUOZe",
        "colab_type": "code",
        "colab": {}
      },
      "cell_type": "code",
      "source": [
        "# we drop na again because some conversions may result in nan values\n",
        "data.dropna(inplace=True)"
      ],
      "execution_count": 0,
      "outputs": []
    },
    {
      "metadata": {
        "id": "a3mllxFQ1ilO",
        "colab_type": "text"
      },
      "cell_type": "markdown",
      "source": [
        "##DATA EXPLORATION"
      ]
    },
    {
      "metadata": {
        "id": "ABv0d6X_3EjJ",
        "colab_type": "code",
        "colab": {}
      },
      "cell_type": "code",
      "source": [
        "def reject_outliers(data):\n",
        "    u = np.mean(data)\n",
        "    s = np.std(data)\n",
        "    data_filtered = data[(data > u-2*s) & (data < u+2*s)]\n",
        "    return data_filtered"
      ],
      "execution_count": 0,
      "outputs": []
    },
    {
      "metadata": {
        "id": "-4YIWVFf3Jnp",
        "colab_type": "code",
        "colab": {}
      },
      "cell_type": "code",
      "source": [
        "#data.rating = reject_outliers(data.rating)\n",
        "#data.reviews = reject_outliers(data.reviews)\n",
        "#data['size'] = reject_outliers(data['size'])\n",
        "#data.installs = reject_outliers(data.installs)\n",
        "#data.price = reject_outliers(data.price)"
      ],
      "execution_count": 0,
      "outputs": []
    },
    {
      "metadata": {
        "id": "n7eNUXNCIup8",
        "colab_type": "code",
        "colab": {
          "base_uri": "https://localhost:8080/",
          "height": 170
        },
        "outputId": "951ae86a-d046-4a60-fdab-a68fb7c4db5f"
      },
      "cell_type": "code",
      "source": [
        "data.rating.describe()"
      ],
      "execution_count": 914,
      "outputs": [
        {
          "output_type": "execute_result",
          "data": {
            "text/plain": [
              "count    7723.000000\n",
              "mean        4.173935\n",
              "std         0.544638\n",
              "min         1.000000\n",
              "25%         4.000000\n",
              "50%         4.300000\n",
              "75%         4.500000\n",
              "max         5.000000\n",
              "Name: rating, dtype: float64"
            ]
          },
          "metadata": {
            "tags": []
          },
          "execution_count": 914
        }
      ]
    },
    {
      "metadata": {
        "id": "3Wxg6J80Ta41",
        "colab_type": "code",
        "outputId": "0c2e1928-8246-4daa-a36c-e67b9c8a2629",
        "colab": {
          "base_uri": "https://localhost:8080/",
          "height": 389
        }
      },
      "cell_type": "code",
      "source": [
        "x = data.rating\n",
        "plt.figure(figsize = (8, 6))\n",
        "plt.ylabel('Rating')\n",
        "plt.title('Playstore Apps Ratings Boxplot')\n",
        "plt.boxplot(x, sym=\"k.\")\n",
        "plt.show()"
      ],
      "execution_count": 915,
      "outputs": [
        {
          "output_type": "display_data",
          "data": {
            "image/png": "[encoded data removed]",
            "text/plain": [
              "<matplotlib.figure.Figure at 0x7ff8d8d7cef0>"
            ]
          },
          "metadata": {
            "tags": []
          }
        }
      ]
    },
    {
      "metadata": {
        "id": "lqqpvB_h2cK1",
        "colab_type": "code",
        "colab": {
          "base_uri": "https://localhost:8080/",
          "height": 170
        },
        "outputId": "f123b6e3-e5c6-4773-8229-3a84748c1920"
      },
      "cell_type": "code",
      "source": [
        "data.reviews.describe()"
      ],
      "execution_count": 916,
      "outputs": [
        {
          "output_type": "execute_result",
          "data": {
            "text/plain": [
              "count    7.723000e+03\n",
              "mean     2.948983e+05\n",
              "std      1.863933e+06\n",
              "min      1.000000e+00\n",
              "25%      1.075000e+02\n",
              "50%      2.332000e+03\n",
              "75%      3.905300e+04\n",
              "max      4.489389e+07\n",
              "Name: reviews, dtype: float64"
            ]
          },
          "metadata": {
            "tags": []
          },
          "execution_count": 916
        }
      ]
    },
    {
      "metadata": {
        "id": "AtE28rPcYIyq",
        "colab_type": "code",
        "colab": {
          "base_uri": "https://localhost:8080/",
          "height": 389
        },
        "outputId": "8b218f27-647a-4d78-e419-8996140f8c72"
      },
      "cell_type": "code",
      "source": [
        "x = data.reviews\n",
        "plt.figure(figsize = (8, 6))\n",
        "plt.ylabel('Reviews')\n",
        "plt.title('Playstore Apps Reviews Boxplot')\n",
        "plt.boxplot(x, sym=\"k.\")\n",
        "plt.show()"
      ],
      "execution_count": 917,
      "outputs": [
        {
          "output_type": "display_data",
          "data": {
            "image/png": "[encoded data removed]",
            "text/plain": [
              "<matplotlib.figure.Figure at 0x7ff8d8d7a748>"
            ]
          },
          "metadata": {
            "tags": []
          }
        }
      ]
    },
    {
      "metadata": {
        "id": "boIE_OW0YZl9",
        "colab_type": "code",
        "colab": {
          "base_uri": "https://localhost:8080/",
          "height": 34
        },
        "outputId": "4fe0e515-3828-432c-8404-bf973c998326"
      },
      "cell_type": "code",
      "source": [
        "data.reviews.unique()"
      ],
      "execution_count": 918,
      "outputs": [
        {
          "output_type": "execute_result",
          "data": {
            "text/plain": [
              "array([   159,    967,  87510, ...,    603,   1195, 398307])"
            ]
          },
          "metadata": {
            "tags": []
          },
          "execution_count": 918
        }
      ]
    },
    {
      "metadata": {
        "id": "kKyvhEJb03nN",
        "colab_type": "code",
        "colab": {
          "base_uri": "https://localhost:8080/",
          "height": 68
        },
        "outputId": "2e7adbdf-ffb8-47f7-ee5f-43ee32203417"
      },
      "cell_type": "code",
      "source": [
        "data['rating'].unique()"
      ],
      "execution_count": 919,
      "outputs": [
        {
          "output_type": "execute_result",
          "data": {
            "text/plain": [
              "array([4.1, 3.9, 4.7, 4.5, 4.3, 4.4, 3.8, 4.2, 4.6, 4. , 4.8, 4.9, 3.6,\n",
              "       3.7, 3.2, 3.3, 3.4, 3.5, 3.1, 5. , 2.6, 3. , 1.9, 2.5, 2.8, 2.7,\n",
              "       1. , 2.9, 2.3, 2.2, 1.7, 2. , 1.8, 2.4, 1.6, 2.1, 1.4, 1.5, 1.2])"
            ]
          },
          "metadata": {
            "tags": []
          },
          "execution_count": 919
        }
      ]
    },
    {
      "metadata": {
        "id": "bowPhzQwsaBh",
        "colab_type": "code",
        "colab": {
          "base_uri": "https://localhost:8080/",
          "height": 376
        },
        "outputId": "94f9cb23-a768-4215-a19f-b5d0e2606f23"
      },
      "cell_type": "code",
      "source": [
        "plt.scatter(data.reviews, data.rating)\n",
        "plt.xlabel('reviews')\n",
        "plt.ylabel('rating')\n",
        "plt.axhline(y=0)\n",
        "plt.title('Reviews vs. Rating')\n",
        "plt.show()\n"
      ],
      "execution_count": 920,
      "outputs": [
        {
          "output_type": "display_data",
          "data": {
            "image/png": "[encoded data removed]",
            "text/plain": [
              "<matplotlib.figure.Figure at 0x7ff8d8f20ac8>"
            ]
          },
          "metadata": {
            "tags": []
          }
        }
      ]
    },
    {
      "metadata": {
        "id": "oKkGsRmxS9Dz",
        "colab_type": "code",
        "colab": {}
      },
      "cell_type": "code",
      "source": [
        ""
      ],
      "execution_count": 0,
      "outputs": []
    },
    {
      "metadata": {
        "id": "k4XYaENmSNdQ",
        "colab_type": "code",
        "colab": {
          "base_uri": "https://localhost:8080/",
          "height": 376
        },
        "outputId": "b3a5d477-c74c-498c-8d05-eddb1eae1af1"
      },
      "cell_type": "code",
      "source": [
        "plt.scatter(data['size'], data.rating)\n",
        "plt.xlabel('Size')\n",
        "plt.ylabel('rating')\n",
        "plt.axhline(y=0)\n",
        "plt.title('Size vs. Rating')\n",
        "plt.show()"
      ],
      "execution_count": 921,
      "outputs": [
        {
          "output_type": "display_data",
          "data": {
            "image/png": "[encoded data removed]",
            "text/plain": [
              "<matplotlib.figure.Figure at 0x7ff8d8efbf28>"
            ]
          },
          "metadata": {
            "tags": []
          }
        }
      ]
    },
    {
      "metadata": {
        "id": "jvnELo8mSUkM",
        "colab_type": "code",
        "colab": {
          "base_uri": "https://localhost:8080/",
          "height": 376
        },
        "outputId": "8de586b2-138e-4590-e861-8a1273f85b08"
      },
      "cell_type": "code",
      "source": [
        "plt.scatter(data.installs, data.rating)\n",
        "plt.xlabel('Installs')\n",
        "plt.ylabel('Rating')\n",
        "plt.axhline(y=0)\n",
        "plt.title('Installs vs. Rating')\n",
        "plt.show()"
      ],
      "execution_count": 922,
      "outputs": [
        {
          "output_type": "display_data",
          "data": {
            "image/png": "[encoded data removed]",
            "text/plain": [
              "<matplotlib.figure.Figure at 0x7ff8d8d7b710>"
            ]
          },
          "metadata": {
            "tags": []
          }
        }
      ]
    },
    {
      "metadata": {
        "id": "9gD76zsOSem5",
        "colab_type": "code",
        "colab": {
          "base_uri": "https://localhost:8080/",
          "height": 376
        },
        "outputId": "1781a9c2-3189-408f-d192-f4fef438c60b"
      },
      "cell_type": "code",
      "source": [
        "plt.scatter(data.price, data.rating)\n",
        "plt.xlabel('Price')\n",
        "plt.ylabel('Rating')\n",
        "plt.axhline(y=0)\n",
        "plt.title('Price vs. Rating')\n",
        "plt.show()"
      ],
      "execution_count": 923,
      "outputs": [
        {
          "output_type": "display_data",
          "data": {
            "image/png": "[encoded data removed]",
            "text/plain": [
              "<matplotlib.figure.Figure at 0x7ff8d8cef588>"
            ]
          },
          "metadata": {
            "tags": []
          }
        }
      ]
    },
    {
      "metadata": {
        "id": "xwZ3MgA3RBvg",
        "colab_type": "code",
        "colab": {}
      },
      "cell_type": "code",
      "source": [
        "data.dropna(inplace=True)"
      ],
      "execution_count": 0,
      "outputs": []
    },
    {
      "metadata": {
        "id": "rPtsI0Qg1rss",
        "colab_type": "text"
      },
      "cell_type": "markdown",
      "source": [
        "##FEATURES"
      ]
    },
    {
      "metadata": {
        "id": "XvqF6yFULZfB",
        "colab_type": "code",
        "colab": {}
      },
      "cell_type": "code",
      "source": [
        "features = data[['rating', 'reviews', 'size','installs', 'price', 'contentRating']]"
      ],
      "execution_count": 0,
      "outputs": []
    },
    {
      "metadata": {
        "id": "cS3gWYRwrNgD",
        "colab_type": "code",
        "colab": {}
      },
      "cell_type": "code",
      "source": [
        "from sklearn.preprocessing import MinMaxScaler\n",
        "\n",
        "scaler = MinMaxScaler()\n",
        "\n",
        "scaledTrainData = scaler.fit(features)\n",
        "\n",
        "scaledTrainData = scaler.transform(features)\n",
        "\n",
        "features = pd.DataFrame(scaledTrainData, columns=['rating', 'reviews', 'size','installs', 'price', 'contentRating'])"
      ],
      "execution_count": 0,
      "outputs": []
    },
    {
      "metadata": {
        "id": "x2k_RCoEOSRf",
        "colab_type": "code",
        "colab": {}
      },
      "cell_type": "code",
      "source": [
        "# we add a binary feature that evaluates to true\n",
        "# when rating is above the median (useful for logistic regression)\n",
        "features['positiveRating'] = np.where(data['rating']>=4.2, 1, 0)"
      ],
      "execution_count": 0,
      "outputs": []
    },
    {
      "metadata": {
        "id": "Un9gknOfntlL",
        "colab_type": "code",
        "colab": {
          "base_uri": "https://localhost:8080/",
          "height": 204
        },
        "outputId": "2d78fe82-3bf6-4fcd-824d-8d61eeeafe3c"
      },
      "cell_type": "code",
      "source": [
        "features.head()"
      ],
      "execution_count": 928,
      "outputs": [
        {
          "output_type": "execute_result",
          "data": {
            "text/html": [
              "<div>\n",
              "<style scoped>\n",
              "    .dataframe tbody tr th:only-of-type {\n",
              "        vertical-align: middle;\n",
              "    }\n",
              "\n",
              "    .dataframe tbody tr th {\n",
              "        vertical-align: top;\n",
              "    }\n",
              "\n",
              "    .dataframe thead th {\n",
              "        text-align: right;\n",
              "    }\n",
              "</style>\n",
              "<table border=\"1\" class=\"dataframe\">\n",
              "  <thead>\n",
              "    <tr style=\"text-align: right;\">\n",
              "      <th></th>\n",
              "      <th>rating</th>\n",
              "      <th>reviews</th>\n",
              "      <th>size</th>\n",
              "      <th>installs</th>\n",
              "      <th>price</th>\n",
              "      <th>contentRating</th>\n",
              "      <th>positiveRating</th>\n",
              "    </tr>\n",
              "  </thead>\n",
              "  <tbody>\n",
              "    <tr>\n",
              "      <th>0</th>\n",
              "      <td>0.775</td>\n",
              "      <td>0.000004</td>\n",
              "      <td>0.189931</td>\n",
              "      <td>0.00001</td>\n",
              "      <td>0.0</td>\n",
              "      <td>0.000000</td>\n",
              "      <td>0</td>\n",
              "    </tr>\n",
              "    <tr>\n",
              "      <th>1</th>\n",
              "      <td>0.725</td>\n",
              "      <td>0.000022</td>\n",
              "      <td>0.139927</td>\n",
              "      <td>0.00050</td>\n",
              "      <td>0.0</td>\n",
              "      <td>0.000000</td>\n",
              "      <td>0</td>\n",
              "    </tr>\n",
              "    <tr>\n",
              "      <th>2</th>\n",
              "      <td>0.925</td>\n",
              "      <td>0.001949</td>\n",
              "      <td>0.086922</td>\n",
              "      <td>0.00500</td>\n",
              "      <td>0.0</td>\n",
              "      <td>0.000000</td>\n",
              "      <td>1</td>\n",
              "    </tr>\n",
              "    <tr>\n",
              "      <th>3</th>\n",
              "      <td>0.875</td>\n",
              "      <td>0.004803</td>\n",
              "      <td>0.249936</td>\n",
              "      <td>0.05000</td>\n",
              "      <td>0.0</td>\n",
              "      <td>0.722222</td>\n",
              "      <td>1</td>\n",
              "    </tr>\n",
              "    <tr>\n",
              "      <th>4</th>\n",
              "      <td>0.825</td>\n",
              "      <td>0.000022</td>\n",
              "      <td>0.027917</td>\n",
              "      <td>0.00010</td>\n",
              "      <td>0.0</td>\n",
              "      <td>0.000000</td>\n",
              "      <td>1</td>\n",
              "    </tr>\n",
              "  </tbody>\n",
              "</table>\n",
              "</div>"
            ],
            "text/plain": [
              "   rating   reviews      size  installs  price  contentRating  positiveRating\n",
              "0   0.775  0.000004  0.189931   0.00001    0.0       0.000000               0\n",
              "1   0.725  0.000022  0.139927   0.00050    0.0       0.000000               0\n",
              "2   0.925  0.001949  0.086922   0.00500    0.0       0.000000               1\n",
              "3   0.875  0.004803  0.249936   0.05000    0.0       0.722222               1\n",
              "4   0.825  0.000022  0.027917   0.00010    0.0       0.000000               1"
            ]
          },
          "metadata": {
            "tags": []
          },
          "execution_count": 928
        }
      ]
    },
    {
      "metadata": {
        "id": "4k9S35t01xYo",
        "colab_type": "text"
      },
      "cell_type": "markdown",
      "source": [
        "##DATA MODELING"
      ]
    },
    {
      "metadata": {
        "id": "PEtLZZg2ZdGW",
        "colab_type": "text"
      },
      "cell_type": "markdown",
      "source": [
        "### LOGISTIC REGRESSION"
      ]
    },
    {
      "metadata": {
        "id": "pnzNFNWPo1rN",
        "colab_type": "code",
        "colab": {}
      },
      "cell_type": "code",
      "source": [
        "import statsmodels.api as sm\n",
        "from sklearn.linear_model import LogisticRegression"
      ],
      "execution_count": 0,
      "outputs": []
    },
    {
      "metadata": {
        "id": "6vrlrlxpoMAZ",
        "colab_type": "code",
        "colab": {
          "base_uri": "https://localhost:8080/",
          "height": 306
        },
        "outputId": "165d781b-5eba-4ff6-9e1d-11ddede85210"
      },
      "cell_type": "code",
      "source": [
        "lr = LogisticRegression(C=1.0)\n",
        "X = features[['reviews', 'size','installs', 'price', 'contentRating']]\n",
        "Y = features.positiveRating\n",
        "\n",
        "X.fillna(value=0, inplace= True)\n",
        "\n",
        "# Fit the model.\n",
        "fit = lr.fit(X, Y)\n",
        "\n",
        "# Display.\n",
        "print('Coefficients')\n",
        "print(fit.coef_)\n",
        "print(fit.intercept_)\n",
        "pred_y_sklearn = lr.predict(X)\n",
        "\n",
        "#TODO: clean this up, we're not doing prediction of admissions\n",
        "print('\\n Confusion matrix')\n",
        "print(pd.crosstab(pred_y_sklearn, Y))\n",
        "\n",
        "print('\\n Percentage accuracy')\n",
        "print(lr.score(X, Y))"
      ],
      "execution_count": 930,
      "outputs": [
        {
          "output_type": "stream",
          "text": [
            "Coefficients\n",
            "[[ 5.28508395  0.79209278  2.37698813 -1.14011351 -0.1599203 ]]\n",
            "[0.33678776]\n",
            "\n",
            " Confusion matrix\n",
            "positiveRating     0     1\n",
            "row_0                     \n",
            "0                 12     3\n",
            "1               2861  4847\n",
            "\n",
            " Percentage accuracy\n",
            "0.6291596529845915\n"
          ],
          "name": "stdout"
        },
        {
          "output_type": "stream",
          "text": [
            "/usr/local/lib/python3.6/dist-packages/pandas/core/frame.py:3035: SettingWithCopyWarning: \n",
            "A value is trying to be set on a copy of a slice from a DataFrame\n",
            "\n",
            "See the caveats in the documentation: http://pandas.pydata.org/pandas-docs/stable/indexing.html#indexing-view-versus-copy\n",
            "  downcast=downcast, **kwargs)\n"
          ],
          "name": "stderr"
        }
      ]
    },
    {
      "metadata": {
        "id": "V9ihSB7GZmHl",
        "colab_type": "text"
      },
      "cell_type": "markdown",
      "source": [
        "### RIDGE REGRESSION"
      ]
    },
    {
      "metadata": {
        "id": "mU2-atYwpPE8",
        "colab_type": "code",
        "colab": {
          "base_uri": "https://localhost:8080/",
          "height": 51
        },
        "outputId": "d371ab65-ccaa-4c99-c554-d14a23f7a383"
      },
      "cell_type": "code",
      "source": [
        "from sklearn import linear_model\n",
        "\n",
        "ridgeregr = linear_model.Ridge(alpha=.05, fit_intercept=True) \n",
        "ridgeregr.fit(X, Y)\n",
        "print(ridgeregr.score(X, Y))\n",
        "origparams = ridgeregr.coef_[0]\n",
        "print(origparams)"
      ],
      "execution_count": 931,
      "outputs": [
        {
          "output_type": "stream",
          "text": [
            "0.019448880234413157\n",
            "0.8860560882258263\n"
          ],
          "name": "stdout"
        }
      ]
    },
    {
      "metadata": {
        "id": "3euo1KSfpei3",
        "colab_type": "code",
        "colab": {
          "base_uri": "https://localhost:8080/",
          "height": 34
        },
        "outputId": "d3d77f1f-e296-4903-8f81-840d2a15ca1e"
      },
      "cell_type": "code",
      "source": [
        "print(ridgeregr.score(X, Y))"
      ],
      "execution_count": 932,
      "outputs": [
        {
          "output_type": "stream",
          "text": [
            "0.019448880234413157\n"
          ],
          "name": "stdout"
        }
      ]
    },
    {
      "metadata": {
        "id": "nw047loP7leM",
        "colab_type": "text"
      },
      "cell_type": "markdown",
      "source": [
        "We're getting a negative $R^2$ value, [which implies that the prediction is doing a worse job than using the mean value as a prediction](http://www.fairlynerdy.com/what-is-r-squared/). The question now is why do we obtain this.  \n",
        "\n"
      ]
    },
    {
      "metadata": {
        "id": "5hjxynEMZsu2",
        "colab_type": "text"
      },
      "cell_type": "markdown",
      "source": [
        "### LASSO REGRESSION"
      ]
    },
    {
      "metadata": {
        "id": "SZePaFRoprcc",
        "colab_type": "code",
        "colab": {}
      },
      "cell_type": "code",
      "source": [
        "from sklearn.metrics import r2_score\n",
        "\n",
        "lass = linear_model.Lasso(alpha=.05)\n",
        "lassfit = lass.fit(X, Y)\n",
        "# http://scikit-learn.org/stable/modules/generated/sklearn.metrics.r2_score.html\n",
        "#print('R² for the model with few features:')"
      ],
      "execution_count": 0,
      "outputs": []
    },
    {
      "metadata": {
        "id": "vLl3aUWL6VCp",
        "colab_type": "code",
        "colab": {
          "base_uri": "https://localhost:8080/",
          "height": 34
        },
        "outputId": "b4b5b8cc-6564-4c61-d62c-304c08e1a026"
      },
      "cell_type": "code",
      "source": [
        "from sklearn.metrics import r2_score\n",
        "\n",
        "y_pred = lassfit.predict(X)\n",
        "print(r2_score(Y, y_pred))  \n"
      ],
      "execution_count": 934,
      "outputs": [
        {
          "output_type": "stream",
          "text": [
            "0.0\n"
          ],
          "name": "stdout"
        }
      ]
    },
    {
      "metadata": {
        "id": "zm9bdGWx6sUl",
        "colab_type": "code",
        "colab": {
          "base_uri": "https://localhost:8080/",
          "height": 85
        },
        "outputId": "38a72109-0364-4d5c-c469-cbde2652b6c3"
      },
      "cell_type": "code",
      "source": [
        "print(r2_score(Y, y_pred))\n",
        "origparams = np.append(lassfit.coef_, lassfit.intercept_)\n",
        "print('\\nParameter estimates for the model with few features:')\n",
        "print(origparams)"
      ],
      "execution_count": 935,
      "outputs": [
        {
          "output_type": "stream",
          "text": [
            "0.0\n",
            "\n",
            "Parameter estimates for the model with few features:\n",
            "[ 0.         0.         0.        -0.        -0.         0.6279943]\n"
          ],
          "name": "stdout"
        }
      ]
    },
    {
      "metadata": {
        "id": "9hQKuxP7Zz89",
        "colab_type": "text"
      },
      "cell_type": "markdown",
      "source": [
        "### RANDOM FOREST"
      ]
    },
    {
      "metadata": {
        "id": "u7v5Pi7ht1Wf",
        "colab_type": "code",
        "colab": {
          "base_uri": "https://localhost:8080/",
          "height": 51
        },
        "outputId": "2667268c-e3f6-45b4-bc34-bfdeb0578ae1"
      },
      "cell_type": "code",
      "source": [
        "from sklearn import ensemble\n",
        "from sklearn.model_selection import cross_val_score\n",
        "\n",
        "rfc = ensemble.RandomForestClassifier()\n",
        "X = features[['reviews', 'size','installs', 'price', 'contentRating']]\n",
        "Y = features['positiveRating']\n",
        "X = X.dropna(axis=1)\n",
        "\n",
        "cross_val_score(rfc, X, Y, cv=10)"
      ],
      "execution_count": 936,
      "outputs": [
        {
          "output_type": "execute_result",
          "data": {
            "text/plain": [
              "array([0.62354463, 0.6545925 , 0.61190168, 0.62305699, 0.63212435,\n",
              "       0.61010363, 0.62435233, 0.60233161, 0.64507772, 0.60621762])"
            ]
          },
          "metadata": {
            "tags": []
          },
          "execution_count": 936
        }
      ]
    },
    {
      "metadata": {
        "id": "lwhRDs0WZ75w",
        "colab_type": "text"
      },
      "cell_type": "markdown",
      "source": [
        "### LINEAR REGRESSION"
      ]
    },
    {
      "metadata": {
        "id": "D9xVQCBMqVNw",
        "colab_type": "code",
        "colab": {
          "base_uri": "https://localhost:8080/",
          "height": 255
        },
        "outputId": "966462c5-5f58-4e7d-b79c-989b7942b213"
      },
      "cell_type": "code",
      "source": [
        "from sklearn import linear_model\n",
        "\n",
        "regr = linear_model.LinearRegression()\n",
        "Y2 = features['rating'].values.reshape(-1, 1)\n",
        "X2 = features[['reviews', 'size','installs', 'price', 'contentRating']]\n",
        "\n",
        "# impute 0 to nans\n",
        "X2.fillna(value=0, inplace= True)\n",
        "\n",
        "# https://docs.scipy.org/doc/numpy/reference/generated/numpy.nan_to_num.html\n",
        "np.nan_to_num(Y2, copy=False)\n",
        "\n",
        "\n",
        "regr.fit(X2,Y2)\n",
        "\n",
        "# Inspect the results.\n",
        "print('\\nCoefficients: \\n', regr.coef_)\n",
        "print('\\nIntercept: \\n', regr.intercept_)\n",
        "print('\\nR-squared:')\n",
        "print(regr.score(X2, Y2))"
      ],
      "execution_count": 937,
      "outputs": [
        {
          "output_type": "stream",
          "text": [
            "\n",
            "Coefficients: \n",
            " [[ 0.20154886  0.03947125  0.0080571  -0.05908263 -0.00021794]]\n",
            "\n",
            "Intercept: \n",
            " [0.78322699]\n",
            "\n",
            "R-squared:\n",
            "0.011142273889671372\n"
          ],
          "name": "stdout"
        },
        {
          "output_type": "stream",
          "text": [
            "/usr/local/lib/python3.6/dist-packages/pandas/core/frame.py:3035: SettingWithCopyWarning: \n",
            "A value is trying to be set on a copy of a slice from a DataFrame\n",
            "\n",
            "See the caveats in the documentation: http://pandas.pydata.org/pandas-docs/stable/indexing.html#indexing-view-versus-copy\n",
            "  downcast=downcast, **kwargs)\n"
          ],
          "name": "stderr"
        }
      ]
    },
    {
      "metadata": {
        "id": "eZyR9g9Divgq",
        "colab_type": "text"
      },
      "cell_type": "markdown",
      "source": [
        "## Ideas for Analysis\n",
        "\n",
        "+ We can do regression analysis of ratings using the following models:\n",
        "  * K-nn\n",
        "  * Random forest\n",
        "  * Ridge regression\n",
        "  * Lasso regression\n",
        "  \n",
        "  ***\"Make sure to think about explanatory versus predictive power and experiment with both.\"\"***\n",
        "\n",
        "+ We can write a binary classifier that will predict whether a particular app will have a rating above or below the population's median.  \n",
        "\n",
        "  * Logistic regression\n",
        "  * Random forest \n",
        "  * K-nn \n",
        "\n",
        "+ We are gonna compare the performance of the different classifiers and finetune their performance using GridSearchCV (which is search for optimal hyperparameters in a cross validated grid search) and StochasticSearchCV\n",
        "\n",
        "### References\n",
        "+ http://scikit-learn.org/stable/modules/grid_search.html\n",
        "+ http://scikit-learn.org/stable/modules/generated/sklearn.model_selection.RandomizedSearchCV.html\n",
        "+ http://scikit-learn.org/0.15/modules/generated/sklearn.grid_search.GridSearchCV.html\n",
        "\n",
        "### Homework\n",
        "\n",
        "+ Explain the differences between GridSearchCV and RandomizedSearchCV:\n",
        "  * Which of these methods is more exhaustive?\n",
        "  - GridSearch CV, considers all possible parameter combinations\n",
        "  \n",
        "  * Which of these methods is faster?\n",
        "  - RandomizedSearchCV, fixed number of parameter settings are sampled, does not consider all combinations\n",
        "  \n",
        "  * How do we make the results of RandomizedSearchCV reproducible?\n",
        "  - random_state\n",
        "  \n",
        "+ Learn a bit of Google Slides (it's easy!):\n",
        "  + https://www.google.com/slides/about/\n",
        "  \n",
        "## Prepare a slide deck and 15 minute presentation that guides viewers through your model. Be sure to cover a few specific things:\n",
        "\n",
        "+ A specified research question your model addresses\n",
        "+ How you chose your model specification and what alternatives you compared it to\n",
        "+ The practical uses of your model for an audience of interest\n",
        "+ Any weak points or shortcomings of your model"
      ]
    },
    {
      "metadata": {
        "id": "hJB_lenBlIIj",
        "colab_type": "code",
        "colab": {}
      },
      "cell_type": "code",
      "source": [
        ""
      ],
      "execution_count": 0,
      "outputs": []
    }
  ]
}