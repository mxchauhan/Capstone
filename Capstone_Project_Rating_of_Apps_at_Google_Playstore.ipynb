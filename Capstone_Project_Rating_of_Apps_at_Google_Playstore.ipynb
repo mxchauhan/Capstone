{
  "nbformat": 4,
  "nbformat_minor": 0,
  "metadata": {
    "colab": {
      "name": "Capstone Project - Rating of Apps at Google Playstore.ipynb",
      "version": "0.3.2",
      "provenance": [],
      "include_colab_link": true
    },
    "kernelspec": {
      "name": "python3",
      "display_name": "Python 3"
    }
  },
  "cells": [
    {
      "cell_type": "markdown",
      "metadata": {
        "id": "view-in-github",
        "colab_type": "text"
      },
      "source": [
        "<a href=\"https://colab.research.google.com/github/mxchauhan/Capstone/blob/master/Capstone_Project_Rating_of_Apps_at_Google_Playstore.ipynb\" target=\"_parent\"><img src=\"https://colab.research.google.com/assets/colab-badge.svg\" alt=\"Open In Colab\"/></a>"
      ]
    },
    {
      "metadata": {
        "id": "pi1xME0s0-fB",
        "colab_type": "code",
        "colab": {}
      },
      "cell_type": "code",
      "source": [
        "import numpy as np\n",
        "import pandas as pd\n",
        "import scipy\n",
        "import sklearn\n",
        "import matplotlib.pyplot as plt\n",
        "import seaborn as sns"
      ],
      "execution_count": 0,
      "outputs": []
    },
    {
      "metadata": {
        "id": "Y3x7V0-e31zT",
        "colab_type": "code",
        "outputId": "01951a66-2097-4a4e-8ee1-e195f6b9f949",
        "colab": {
          "base_uri": "https://localhost:8080/",
          "height": 204
        }
      },
      "cell_type": "code",
      "source": [
        "#Upload data and rename data column names\n",
        "\n",
        "dataPath = (\"https://raw.githubusercontent.com/mxchauhan/Capstone/master/googleplaystore.csv\")\n",
        "\n",
        "data = pd.read_csv(dataPath)\n",
        "\n",
        "data.columns = ['app',\n",
        "                'category',\n",
        "                'rating',\n",
        "                'reviews',\n",
        "                'size',\n",
        "                'installs',\n",
        "                'type',\n",
        "                'price',\n",
        "                'contentRating',\n",
        "                'genres',\n",
        "                'updated',\n",
        "                'version',\n",
        "                'androidVersion']\n",
        "\n",
        "data.head()"
      ],
      "execution_count": 434,
      "outputs": [
        {
          "output_type": "execute_result",
          "data": {
            "text/html": [
              "<div>\n",
              "<style scoped>\n",
              "    .dataframe tbody tr th:only-of-type {\n",
              "        vertical-align: middle;\n",
              "    }\n",
              "\n",
              "    .dataframe tbody tr th {\n",
              "        vertical-align: top;\n",
              "    }\n",
              "\n",
              "    .dataframe thead th {\n",
              "        text-align: right;\n",
              "    }\n",
              "</style>\n",
              "<table border=\"1\" class=\"dataframe\">\n",
              "  <thead>\n",
              "    <tr style=\"text-align: right;\">\n",
              "      <th></th>\n",
              "      <th>app</th>\n",
              "      <th>category</th>\n",
              "      <th>rating</th>\n",
              "      <th>reviews</th>\n",
              "      <th>size</th>\n",
              "      <th>installs</th>\n",
              "      <th>type</th>\n",
              "      <th>price</th>\n",
              "      <th>contentRating</th>\n",
              "      <th>genres</th>\n",
              "      <th>updated</th>\n",
              "      <th>version</th>\n",
              "      <th>androidVersion</th>\n",
              "    </tr>\n",
              "  </thead>\n",
              "  <tbody>\n",
              "    <tr>\n",
              "      <th>0</th>\n",
              "      <td>Photo Editor &amp; Candy Camera &amp; Grid &amp; ScrapBook</td>\n",
              "      <td>ART_AND_DESIGN</td>\n",
              "      <td>4.1</td>\n",
              "      <td>159</td>\n",
              "      <td>19M</td>\n",
              "      <td>10,000+</td>\n",
              "      <td>Free</td>\n",
              "      <td>0</td>\n",
              "      <td>Everyone</td>\n",
              "      <td>Art &amp; Design</td>\n",
              "      <td>7-Jan-18</td>\n",
              "      <td>1.0.0</td>\n",
              "      <td>4.0.3 and up</td>\n",
              "    </tr>\n",
              "    <tr>\n",
              "      <th>1</th>\n",
              "      <td>Coloring book moana</td>\n",
              "      <td>ART_AND_DESIGN</td>\n",
              "      <td>3.9</td>\n",
              "      <td>967</td>\n",
              "      <td>14M</td>\n",
              "      <td>500,000+</td>\n",
              "      <td>Free</td>\n",
              "      <td>0</td>\n",
              "      <td>Everyone</td>\n",
              "      <td>Art &amp; Design;Pretend Play</td>\n",
              "      <td>15-Jan-18</td>\n",
              "      <td>2.0.0</td>\n",
              "      <td>4.0.3 and up</td>\n",
              "    </tr>\n",
              "    <tr>\n",
              "      <th>2</th>\n",
              "      <td>U Launcher Lite – FREE Live Cool Themes, Hide ...</td>\n",
              "      <td>ART_AND_DESIGN</td>\n",
              "      <td>4.7</td>\n",
              "      <td>87510</td>\n",
              "      <td>8.7M</td>\n",
              "      <td>5,000,000+</td>\n",
              "      <td>Free</td>\n",
              "      <td>0</td>\n",
              "      <td>Everyone</td>\n",
              "      <td>Art &amp; Design</td>\n",
              "      <td>1-Aug-18</td>\n",
              "      <td>1.2.4</td>\n",
              "      <td>4.0.3 and up</td>\n",
              "    </tr>\n",
              "    <tr>\n",
              "      <th>3</th>\n",
              "      <td>Sketch - Draw &amp; Paint</td>\n",
              "      <td>ART_AND_DESIGN</td>\n",
              "      <td>4.5</td>\n",
              "      <td>215644</td>\n",
              "      <td>25M</td>\n",
              "      <td>50,000,000+</td>\n",
              "      <td>Free</td>\n",
              "      <td>0</td>\n",
              "      <td>Teen</td>\n",
              "      <td>Art &amp; Design</td>\n",
              "      <td>8-Jun-18</td>\n",
              "      <td>Varies with device</td>\n",
              "      <td>4.2 and up</td>\n",
              "    </tr>\n",
              "    <tr>\n",
              "      <th>4</th>\n",
              "      <td>Pixel Draw - Number Art Coloring Book</td>\n",
              "      <td>ART_AND_DESIGN</td>\n",
              "      <td>4.3</td>\n",
              "      <td>967</td>\n",
              "      <td>2.8M</td>\n",
              "      <td>100,000+</td>\n",
              "      <td>Free</td>\n",
              "      <td>0</td>\n",
              "      <td>Everyone</td>\n",
              "      <td>Art &amp; Design;Creativity</td>\n",
              "      <td>20-Jun-18</td>\n",
              "      <td>1.1</td>\n",
              "      <td>4.4 and up</td>\n",
              "    </tr>\n",
              "  </tbody>\n",
              "</table>\n",
              "</div>"
            ],
            "text/plain": [
              "                                                 app        category  rating  \\\n",
              "0     Photo Editor & Candy Camera & Grid & ScrapBook  ART_AND_DESIGN     4.1   \n",
              "1                                Coloring book moana  ART_AND_DESIGN     3.9   \n",
              "2  U Launcher Lite – FREE Live Cool Themes, Hide ...  ART_AND_DESIGN     4.7   \n",
              "3                              Sketch - Draw & Paint  ART_AND_DESIGN     4.5   \n",
              "4              Pixel Draw - Number Art Coloring Book  ART_AND_DESIGN     4.3   \n",
              "\n",
              "  reviews  size     installs  type price contentRating  \\\n",
              "0     159   19M      10,000+  Free     0      Everyone   \n",
              "1     967   14M     500,000+  Free     0      Everyone   \n",
              "2   87510  8.7M   5,000,000+  Free     0      Everyone   \n",
              "3  215644   25M  50,000,000+  Free     0          Teen   \n",
              "4     967  2.8M     100,000+  Free     0      Everyone   \n",
              "\n",
              "                      genres    updated             version androidVersion  \n",
              "0               Art & Design   7-Jan-18               1.0.0   4.0.3 and up  \n",
              "1  Art & Design;Pretend Play  15-Jan-18               2.0.0   4.0.3 and up  \n",
              "2               Art & Design   1-Aug-18               1.2.4   4.0.3 and up  \n",
              "3               Art & Design   8-Jun-18  Varies with device     4.2 and up  \n",
              "4    Art & Design;Creativity  20-Jun-18                 1.1     4.4 and up  "
            ]
          },
          "metadata": {
            "tags": []
          },
          "execution_count": 434
        }
      ]
    },
    {
      "metadata": {
        "id": "NjzphfCnroBO",
        "colab_type": "text"
      },
      "cell_type": "markdown",
      "source": [
        "We drop the type column, as it's redundant with the price column (a price = 0 means that the app is free)."
      ]
    },
    {
      "metadata": {
        "id": "9HIv4od6rYON",
        "colab_type": "code",
        "outputId": "091c855d-31c3-4c19-f5eb-2cbaaa0c7e04",
        "colab": {
          "base_uri": "https://localhost:8080/",
          "height": 34
        }
      },
      "cell_type": "code",
      "source": [
        "data['type'].unique()"
      ],
      "execution_count": 435,
      "outputs": [
        {
          "output_type": "execute_result",
          "data": {
            "text/plain": [
              "array(['Free', 'Paid', nan, '0'], dtype=object)"
            ]
          },
          "metadata": {
            "tags": []
          },
          "execution_count": 435
        }
      ]
    },
    {
      "metadata": {
        "id": "hDhwQKlPrg9I",
        "colab_type": "code",
        "outputId": "3ee62ab1-99d8-4317-df57-6a0fd9e717bb",
        "colab": {
          "base_uri": "https://localhost:8080/",
          "height": 289
        }
      },
      "cell_type": "code",
      "source": [
        "data['price'].unique()"
      ],
      "execution_count": 436,
      "outputs": [
        {
          "output_type": "execute_result",
          "data": {
            "text/plain": [
              "array(['0', '$4.99 ', '$3.99 ', '$6.99 ', '$1.49 ', '$2.99 ', '$7.99 ',\n",
              "       '$5.99 ', '$3.49 ', '$1.99 ', '$9.99 ', '$7.49 ', '$0.99 ',\n",
              "       '$9.00 ', '$5.49 ', '$10.00 ', '$24.99 ', '$11.99 ', '$79.99 ',\n",
              "       '$16.99 ', '$14.99 ', '$1.00 ', '$29.99 ', '$12.99 ', '$2.49 ',\n",
              "       '$10.99 ', '$1.50 ', '$19.99 ', '$15.99 ', '$33.99 ', '$74.99 ',\n",
              "       '$39.99 ', '$3.95 ', '$4.49 ', '$1.70 ', '$8.99 ', '$2.00 ',\n",
              "       '$3.88 ', '$25.99 ', '$399.99 ', '$17.99 ', '$400.00 ', '$3.02 ',\n",
              "       '$1.76 ', '$4.84 ', '$4.77 ', '$1.61 ', '$2.50 ', '$1.59 ',\n",
              "       '$6.49 ', '$1.29 ', '$5.00 ', '$13.99 ', '$299.99 ', '$379.99 ',\n",
              "       '$37.99 ', '$18.99 ', '$389.99 ', '$19.90 ', '$8.49 ', '$1.75 ',\n",
              "       '$14.00 ', '$4.85 ', '$46.99 ', '$109.99 ', '$154.99 ', '$3.08 ',\n",
              "       '$2.59 ', '$4.80 ', '$1.96 ', '$19.40 ', '$3.90 ', '$4.59 ',\n",
              "       '$15.46 ', '$3.04 ', '$4.29 ', '$2.60 ', '$3.28 ', '$4.60 ',\n",
              "       '$28.99 ', '$2.95 ', '$2.90 ', '$1.97 ', '$200.00 ', '$89.99 ',\n",
              "       '$2.56 ', '$30.99 ', '$3.61 ', '$394.99 ', '$1.26 ', 'Everyone',\n",
              "       '$1.20 ', '$1.04 '], dtype=object)"
            ]
          },
          "metadata": {
            "tags": []
          },
          "execution_count": 436
        }
      ]
    },
    {
      "metadata": {
        "id": "CtF1hFhsoV2t",
        "colab_type": "text"
      },
      "cell_type": "markdown",
      "source": [
        "# sample one hot encoding\n",
        "\n",
        "```\n",
        "genres = [\"Art\", \"Creativity\", \"Pretend Play\"]\n",
        "app1 = [1, 0, 0]\n",
        "app2 = [1, 0 , 1]\n",
        "```\n",
        "\n",
        "+ Use a `MultilabelBinarizer` to encode these features\n",
        "https://chrisalbon.com/machine_learning/preprocessing_structured_data/one-hot_encode_features_with_multiple_labels/\n",
        "\n",
        "+ An alternative would be to use dummy variables https://pandas.pydata.org/pandas-docs/stable/generated/pandas.get_dummies.html\n",
        "\n",
        "+ Understanding the tradeoffs when using one-hot encoding vs dummy variables https://stats.stackexchange.com/questions/224051/one-hot-vs-dummy-encoding-in-scikit-learn"
      ]
    },
    {
      "metadata": {
        "id": "6S77pedY6Hvl",
        "colab_type": "code",
        "outputId": "93e8fc6a-e051-4cde-a795-16cc27d21c3d",
        "colab": {
          "base_uri": "https://localhost:8080/",
          "height": 34
        }
      },
      "cell_type": "code",
      "source": [
        "data.shape"
      ],
      "execution_count": 437,
      "outputs": [
        {
          "output_type": "execute_result",
          "data": {
            "text/plain": [
              "(10841, 13)"
            ]
          },
          "metadata": {
            "tags": []
          },
          "execution_count": 437
        }
      ]
    },
    {
      "metadata": {
        "id": "bloKFmeA-Fvu",
        "colab_type": "code",
        "outputId": "784745fe-add1-44fe-fc2c-555898d23051",
        "colab": {
          "base_uri": "https://localhost:8080/",
          "height": 816
        }
      },
      "cell_type": "code",
      "source": [
        "data.genres.unique()"
      ],
      "execution_count": 438,
      "outputs": [
        {
          "output_type": "execute_result",
          "data": {
            "text/plain": [
              "array(['Art & Design', 'Art & Design;Pretend Play',\n",
              "       'Art & Design;Creativity', 'Art & Design;Action & Adventure',\n",
              "       'Auto & Vehicles', 'Beauty', 'Books & Reference', 'Business',\n",
              "       'Comics', 'Comics;Creativity', 'Communication', 'Dating',\n",
              "       'Education;Education', 'Education', 'Education;Creativity',\n",
              "       'Education;Music & Video', 'Education;Action & Adventure',\n",
              "       'Education;Pretend Play', 'Education;Brain Games', 'Entertainment',\n",
              "       'Entertainment;Music & Video', 'Entertainment;Brain Games',\n",
              "       'Entertainment;Creativity', 'Events', 'Finance', 'Food & Drink',\n",
              "       'Health & Fitness', 'House & Home', 'Libraries & Demo',\n",
              "       'Lifestyle', 'Lifestyle;Pretend Play',\n",
              "       'Adventure;Action & Adventure', 'Arcade', 'Casual', 'Card',\n",
              "       'Casual;Pretend Play', 'Action', 'Strategy', 'Puzzle', 'Sports',\n",
              "       'Music', 'Word', 'Racing', 'Casual;Creativity',\n",
              "       'Casual;Action & Adventure', 'Simulation', 'Adventure', 'Board',\n",
              "       'Trivia', 'Role Playing', 'Simulation;Education',\n",
              "       'Action;Action & Adventure', 'Casual;Brain Games',\n",
              "       'Simulation;Action & Adventure', 'Educational;Creativity',\n",
              "       'Puzzle;Brain Games', 'Educational;Education', 'Card;Brain Games',\n",
              "       'Educational;Brain Games', 'Educational;Pretend Play',\n",
              "       'Entertainment;Education', 'Casual;Education',\n",
              "       'Music;Music & Video', 'Racing;Action & Adventure',\n",
              "       'Arcade;Pretend Play', 'Role Playing;Action & Adventure',\n",
              "       'Simulation;Pretend Play', 'Puzzle;Creativity',\n",
              "       'Sports;Action & Adventure', 'Educational;Action & Adventure',\n",
              "       'Arcade;Action & Adventure', 'Entertainment;Action & Adventure',\n",
              "       'Puzzle;Action & Adventure', 'Strategy;Action & Adventure',\n",
              "       'Music & Audio;Music & Video', 'Health & Fitness;Education',\n",
              "       'Adventure;Education', 'Board;Brain Games',\n",
              "       'Board;Action & Adventure', 'Board;Pretend Play',\n",
              "       'Casual;Music & Video', 'Role Playing;Pretend Play',\n",
              "       'Entertainment;Pretend Play', 'Video Players & Editors;Creativity',\n",
              "       'Card;Action & Adventure', 'Medical', 'Social', 'Shopping',\n",
              "       'Photography', 'Travel & Local',\n",
              "       'Travel & Local;Action & Adventure', 'Tools', 'Tools;Education',\n",
              "       'Personalization', 'Productivity', 'Parenting',\n",
              "       'Parenting;Music & Video', 'Parenting;Education',\n",
              "       'Parenting;Brain Games', 'Weather', 'Video Players & Editors',\n",
              "       'Video Players & Editors;Music & Video', 'News & Magazines',\n",
              "       'Maps & Navigation', 'Health & Fitness;Action & Adventure',\n",
              "       'Educational', 'Casino', 'Adventure;Brain Games',\n",
              "       'Trivia;Education', 'Lifestyle;Education',\n",
              "       'Books & Reference;Creativity', 'Books & Reference;Education',\n",
              "       'Puzzle;Education', 'Role Playing;Education',\n",
              "       'Role Playing;Brain Games', 'Strategy;Education',\n",
              "       'Racing;Pretend Play', 'Communication;Creativity', '11-Feb-18',\n",
              "       'Strategy;Creativity'], dtype=object)"
            ]
          },
          "metadata": {
            "tags": []
          },
          "execution_count": 438
        }
      ]
    },
    {
      "metadata": {
        "id": "QAoPm8xPvrZY",
        "colab_type": "text"
      },
      "cell_type": "markdown",
      "source": [
        "## DATA CLEANING"
      ]
    },
    {
      "metadata": {
        "id": "l6jgi1NBg9OR",
        "colab_type": "code",
        "colab": {}
      },
      "cell_type": "code",
      "source": [
        "data['genres'] = data.genres.str.split(';')"
      ],
      "execution_count": 0,
      "outputs": []
    },
    {
      "metadata": {
        "id": "HITTYkAo6Pxm",
        "colab_type": "code",
        "outputId": "255715ae-712f-49fa-9013-a19e4da33682",
        "colab": {
          "base_uri": "https://localhost:8080/",
          "height": 34
        }
      },
      "cell_type": "code",
      "source": [
        "data.isnull().values.ravel().sum()"
      ],
      "execution_count": 440,
      "outputs": [
        {
          "output_type": "execute_result",
          "data": {
            "text/plain": [
              "1487"
            ]
          },
          "metadata": {
            "tags": []
          },
          "execution_count": 440
        }
      ]
    },
    {
      "metadata": {
        "id": "5AViBC7m6Y5p",
        "colab_type": "code",
        "outputId": "3792bee8-76b6-40e4-b686-dee88365fe48",
        "colab": {
          "base_uri": "https://localhost:8080/",
          "height": 34
        }
      },
      "cell_type": "code",
      "source": [
        "# we drop the NaNs\n",
        "data.dropna(inplace=True)\n",
        "\n",
        "#we check that the inplace transformation worked\n",
        "data.isnull().values.ravel().sum()"
      ],
      "execution_count": 441,
      "outputs": [
        {
          "output_type": "execute_result",
          "data": {
            "text/plain": [
              "0"
            ]
          },
          "metadata": {
            "tags": []
          },
          "execution_count": 441
        }
      ]
    },
    {
      "metadata": {
        "id": "6N5ZVCQv2H3A",
        "colab_type": "code",
        "outputId": "4dc885e7-45da-4472-d8ef-ab4b791f2942",
        "colab": {
          "base_uri": "https://localhost:8080/",
          "height": 34
        }
      },
      "cell_type": "code",
      "source": [
        "data.shape"
      ],
      "execution_count": 442,
      "outputs": [
        {
          "output_type": "execute_result",
          "data": {
            "text/plain": [
              "(9360, 13)"
            ]
          },
          "metadata": {
            "tags": []
          },
          "execution_count": 442
        }
      ]
    },
    {
      "metadata": {
        "id": "fjFN2jOsPEPT",
        "colab_type": "code",
        "outputId": "c6d766ee-6741-4399-a482-53568d604195",
        "colab": {
          "base_uri": "https://localhost:8080/",
          "height": 238
        }
      },
      "cell_type": "code",
      "source": [
        "data.price.unique()"
      ],
      "execution_count": 443,
      "outputs": [
        {
          "output_type": "execute_result",
          "data": {
            "text/plain": [
              "array(['0', '$4.99 ', '$3.99 ', '$6.99 ', '$7.99 ', '$5.99 ', '$2.99 ',\n",
              "       '$3.49 ', '$1.99 ', '$9.99 ', '$7.49 ', '$0.99 ', '$9.00 ',\n",
              "       '$5.49 ', '$10.00 ', '$24.99 ', '$11.99 ', '$79.99 ', '$16.99 ',\n",
              "       '$14.99 ', '$29.99 ', '$12.99 ', '$2.49 ', '$10.99 ', '$1.50 ',\n",
              "       '$19.99 ', '$15.99 ', '$33.99 ', '$39.99 ', '$3.95 ', '$4.49 ',\n",
              "       '$1.70 ', '$8.99 ', '$1.49 ', '$3.88 ', '$399.99 ', '$17.99 ',\n",
              "       '$400.00 ', '$3.02 ', '$1.76 ', '$4.84 ', '$4.77 ', '$1.61 ',\n",
              "       '$2.50 ', '$1.59 ', '$6.49 ', '$1.29 ', '$299.99 ', '$379.99 ',\n",
              "       '$37.99 ', '$18.99 ', '$389.99 ', '$8.49 ', '$1.75 ', '$14.00 ',\n",
              "       '$2.00 ', '$3.08 ', '$2.59 ', '$19.40 ', '$3.90 ', '$4.59 ',\n",
              "       '$15.46 ', '$3.04 ', '$13.99 ', '$4.29 ', '$3.28 ', '$4.60 ',\n",
              "       '$1.00 ', '$2.95 ', '$2.90 ', '$1.97 ', '$2.56 ', '$1.20 '],\n",
              "      dtype=object)"
            ]
          },
          "metadata": {
            "tags": []
          },
          "execution_count": 443
        }
      ]
    },
    {
      "metadata": {
        "id": "Egiu3ZvQQdrx",
        "colab_type": "code",
        "outputId": "8abb1e5d-3eed-4bde-b5f0-1d052635d83e",
        "colab": {
          "base_uri": "https://localhost:8080/",
          "height": 51
        }
      },
      "cell_type": "code",
      "source": [
        "data.contentRating.unique()"
      ],
      "execution_count": 444,
      "outputs": [
        {
          "output_type": "execute_result",
          "data": {
            "text/plain": [
              "array(['Everyone', 'Teen', 'Everyone 10+', 'Mature 17+',\n",
              "       'Adults only 18+', 'Unrated'], dtype=object)"
            ]
          },
          "metadata": {
            "tags": []
          },
          "execution_count": 444
        }
      ]
    },
    {
      "metadata": {
        "id": "QbtAaY1ERbYk",
        "colab_type": "code",
        "outputId": "50757ec2-9ec3-45cd-b95f-1d523001d430",
        "colab": {
          "base_uri": "https://localhost:8080/",
          "height": 884
        }
      },
      "cell_type": "code",
      "source": [
        "data['size'].unique()"
      ],
      "execution_count": 445,
      "outputs": [
        {
          "output_type": "execute_result",
          "data": {
            "text/plain": [
              "array(['19M', '14M', '8.7M', '25M', '2.8M', '5.6M', '29M', '33M', '3.1M',\n",
              "       '28M', '12M', '20M', '21M', '37M', '5.5M', '17M', '39M', '31M',\n",
              "       '4.2M', '23M', '6.0M', '6.1M', '4.6M', '9.2M', '5.2M', '11M',\n",
              "       '24M', 'Varies with device', '9.4M', '15M', '10M', '1.2M', '26M',\n",
              "       '8.0M', '7.9M', '56M', '57M', '35M', '54M', '201k', '3.6M', '5.7M',\n",
              "       '8.6M', '2.4M', '27M', '2.7M', '2.5M', '7.0M', '16M', '3.4M',\n",
              "       '8.9M', '3.9M', '2.9M', '38M', '32M', '5.4M', '18M', '1.1M',\n",
              "       '2.2M', '4.5M', '9.8M', '52M', '9.0M', '6.7M', '30M', '2.6M',\n",
              "       '7.1M', '22M', '6.4M', '3.2M', '8.2M', '4.9M', '9.5M', '5.0M',\n",
              "       '5.9M', '13M', '73M', '6.8M', '3.5M', '4.0M', '2.3M', '2.1M',\n",
              "       '42M', '9.1M', '55M', '23k', '7.3M', '6.5M', '1.5M', '7.5M', '51M',\n",
              "       '41M', '48M', '8.5M', '46M', '8.3M', '4.3M', '4.7M', '3.3M', '40M',\n",
              "       '7.8M', '8.8M', '6.6M', '5.1M', '61M', '66M', '79k', '8.4M',\n",
              "       '3.7M', '118k', '44M', '695k', '1.6M', '6.2M', '53M', '1.4M',\n",
              "       '3.0M', '7.2M', '5.8M', '3.8M', '9.6M', '45M', '63M', '49M', '77M',\n",
              "       '4.4M', '70M', '9.3M', '8.1M', '36M', '6.9M', '7.4M', '84M', '97M',\n",
              "       '2.0M', '1.9M', '1.8M', '5.3M', '47M', '556k', '526k', '76M',\n",
              "       '7.6M', '59M', '9.7M', '78M', '72M', '43M', '7.7M', '6.3M', '334k',\n",
              "       '93M', '65M', '79M', '100M', '58M', '50M', '68M', '64M', '34M',\n",
              "       '67M', '60M', '94M', '9.9M', '232k', '99M', '624k', '95M', '8.5k',\n",
              "       '41k', '292k', '80M', '1.7M', '10.0M', '74M', '62M', '69M', '75M',\n",
              "       '98M', '85M', '82M', '96M', '87M', '71M', '86M', '91M', '81M',\n",
              "       '92M', '83M', '88M', '704k', '862k', '899k', '378k', '4.8M',\n",
              "       '266k', '375k', '1.3M', '975k', '980k', '4.1M', '89M', '696k',\n",
              "       '544k', '525k', '920k', '779k', '853k', '720k', '713k', '772k',\n",
              "       '318k', '58k', '241k', '196k', '857k', '51k', '953k', '865k',\n",
              "       '251k', '930k', '540k', '313k', '746k', '203k', '26k', '314k',\n",
              "       '239k', '371k', '220k', '730k', '756k', '91k', '293k', '17k',\n",
              "       '74k', '14k', '317k', '78k', '924k', '818k', '81k', '939k', '169k',\n",
              "       '45k', '965k', '90M', '545k', '61k', '283k', '655k', '714k', '93k',\n",
              "       '872k', '121k', '322k', '976k', '206k', '954k', '444k', '717k',\n",
              "       '210k', '609k', '308k', '306k', '175k', '350k', '383k', '454k',\n",
              "       '1.0M', '70k', '812k', '442k', '842k', '417k', '412k', '459k',\n",
              "       '478k', '335k', '782k', '721k', '430k', '429k', '192k', '460k',\n",
              "       '728k', '496k', '816k', '414k', '506k', '887k', '613k', '778k',\n",
              "       '683k', '592k', '186k', '840k', '647k', '373k', '437k', '598k',\n",
              "       '716k', '585k', '982k', '219k', '55k', '323k', '691k', '511k',\n",
              "       '951k', '963k', '25k', '554k', '351k', '27k', '82k', '208k',\n",
              "       '551k', '29k', '103k', '116k', '153k', '209k', '499k', '173k',\n",
              "       '597k', '809k', '122k', '411k', '400k', '801k', '787k', '50k',\n",
              "       '643k', '986k', '516k', '837k', '780k', '20k', '498k', '600k',\n",
              "       '656k', '221k', '228k', '176k', '34k', '259k', '164k', '458k',\n",
              "       '629k', '28k', '288k', '775k', '785k', '636k', '916k', '994k',\n",
              "       '309k', '485k', '914k', '903k', '608k', '500k', '54k', '562k',\n",
              "       '847k', '948k', '811k', '270k', '48k', '523k', '784k', '280k',\n",
              "       '24k', '892k', '154k', '18k', '33k', '860k', '364k', '387k',\n",
              "       '626k', '161k', '879k', '39k', '170k', '141k', '160k', '144k',\n",
              "       '143k', '190k', '376k', '193k', '473k', '246k', '73k', '253k',\n",
              "       '957k', '420k', '72k', '404k', '470k', '226k', '240k', '89k',\n",
              "       '234k', '257k', '861k', '467k', '676k', '552k', '582k', '619k'],\n",
              "      dtype=object)"
            ]
          },
          "metadata": {
            "tags": []
          },
          "execution_count": 445
        }
      ]
    },
    {
      "metadata": {
        "id": "swZfd59TtEmr",
        "colab_type": "text"
      },
      "cell_type": "markdown",
      "source": [
        "We drop both the date of update and androidVersion columns, as we don't find them particularly informative. The [high segmentation of the Android market](https://sensortower.com/blog/how-to-handle-android-segmentation-when-developing-a-google-play-app) can be source of noise. Additionally, many of our entries have a \"varies with device\" value in the version specification.\n",
        "\n",
        "![android version](https://s3.amazonaws.com/sensortower-itunes/blog/0141-android-versions.jpg)"
      ]
    },
    {
      "metadata": {
        "id": "VuwClCi-bHCz",
        "colab_type": "code",
        "outputId": "0a12ae63-22d5-4c54-98b4-8dccd5ac764e",
        "colab": {
          "base_uri": "https://localhost:8080/",
          "height": 51
        }
      },
      "cell_type": "code",
      "source": [
        "data['updated'].unique()"
      ],
      "execution_count": 446,
      "outputs": [
        {
          "output_type": "execute_result",
          "data": {
            "text/plain": [
              "array(['7-Jan-18', '15-Jan-18', '1-Aug-18', ..., '20-Jan-14', '16-Feb-14',\n",
              "       '23-Mar-14'], dtype=object)"
            ]
          },
          "metadata": {
            "tags": []
          },
          "execution_count": 446
        }
      ]
    },
    {
      "metadata": {
        "id": "bQDiaQTodq54",
        "colab_type": "code",
        "outputId": "c060e04d-e4a1-48f7-a3c3-6afb52b7344f",
        "colab": {
          "base_uri": "https://localhost:8080/",
          "height": 153
        }
      },
      "cell_type": "code",
      "source": [
        "data.androidVersion.unique()"
      ],
      "execution_count": 447,
      "outputs": [
        {
          "output_type": "execute_result",
          "data": {
            "text/plain": [
              "array(['4.0.3 and up', '4.2 and up', '4.4 and up', '2.3 and up',\n",
              "       '3.0 and up', '4.1 and up', '4.0 and up', '2.3.3 and up',\n",
              "       'Varies with device', '2.2 and up', '5.0 and up', '6.0 and up',\n",
              "       '1.6 and up', '1.5 and up', '2.1 and up', '7.0 and up',\n",
              "       '4.3 and up', '4.0.3 - 7.1.1', '2.0 and up', '3.2 and up',\n",
              "       '4.4W and up', '5.1 and up', '7.1 and up', '7.0 - 7.1.1',\n",
              "       '8.0 and up', '5.0 - 8.0', '3.1 and up', '2.0.1 and up',\n",
              "       '4.1 - 7.1.1', '5.0 - 6.0', '1.0 and up'], dtype=object)"
            ]
          },
          "metadata": {
            "tags": []
          },
          "execution_count": 447
        }
      ]
    },
    {
      "metadata": {
        "id": "ZVc7Z8NO87SG",
        "colab_type": "code",
        "colab": {}
      },
      "cell_type": "code",
      "source": [
        "# Masks for taking mega and kilo values, used \n",
        "# to later convert size strings into numeric\n",
        "\n",
        "mega = data['size'].str.contains('M')\n",
        "\n",
        "kilo = data['size'].str.contains('k')"
      ],
      "execution_count": 0,
      "outputs": []
    },
    {
      "metadata": {
        "id": "GhUgCqI2_pyP",
        "colab_type": "code",
        "colab": {}
      },
      "cell_type": "code",
      "source": [
        "data['size'] = data['size'].str.strip('k')\n",
        "data['size'] = data['size'].str.strip('M')\n",
        "data['size'] = pd.to_numeric(data['size'], errors='coerce')"
      ],
      "execution_count": 0,
      "outputs": []
    },
    {
      "metadata": {
        "id": "gYpixdc8_wZ2",
        "colab_type": "code",
        "outputId": "0d8d0d15-40da-4bd8-83ea-de402373f4f2",
        "colab": {
          "base_uri": "https://localhost:8080/",
          "height": 289
        }
      },
      "cell_type": "code",
      "source": [
        "data['size'].loc[mega] = data['size'].loc[mega] * 1000000\n",
        "data['size'].loc[kilo] = data['size'].loc[kilo] * 1000\n",
        "data.head()"
      ],
      "execution_count": 450,
      "outputs": [
        {
          "output_type": "stream",
          "text": [
            "/usr/local/lib/python3.6/dist-packages/pandas/core/indexing.py:194: SettingWithCopyWarning: \n",
            "A value is trying to be set on a copy of a slice from a DataFrame\n",
            "\n",
            "See the caveats in the documentation: http://pandas.pydata.org/pandas-docs/stable/indexing.html#indexing-view-versus-copy\n",
            "  self._setitem_with_indexer(indexer, value)\n"
          ],
          "name": "stderr"
        },
        {
          "output_type": "execute_result",
          "data": {
            "text/html": [
              "<div>\n",
              "<style scoped>\n",
              "    .dataframe tbody tr th:only-of-type {\n",
              "        vertical-align: middle;\n",
              "    }\n",
              "\n",
              "    .dataframe tbody tr th {\n",
              "        vertical-align: top;\n",
              "    }\n",
              "\n",
              "    .dataframe thead th {\n",
              "        text-align: right;\n",
              "    }\n",
              "</style>\n",
              "<table border=\"1\" class=\"dataframe\">\n",
              "  <thead>\n",
              "    <tr style=\"text-align: right;\">\n",
              "      <th></th>\n",
              "      <th>app</th>\n",
              "      <th>category</th>\n",
              "      <th>rating</th>\n",
              "      <th>reviews</th>\n",
              "      <th>size</th>\n",
              "      <th>installs</th>\n",
              "      <th>type</th>\n",
              "      <th>price</th>\n",
              "      <th>contentRating</th>\n",
              "      <th>genres</th>\n",
              "      <th>updated</th>\n",
              "      <th>version</th>\n",
              "      <th>androidVersion</th>\n",
              "    </tr>\n",
              "  </thead>\n",
              "  <tbody>\n",
              "    <tr>\n",
              "      <th>0</th>\n",
              "      <td>Photo Editor &amp; Candy Camera &amp; Grid &amp; ScrapBook</td>\n",
              "      <td>ART_AND_DESIGN</td>\n",
              "      <td>4.1</td>\n",
              "      <td>159</td>\n",
              "      <td>19000000.0</td>\n",
              "      <td>10,000+</td>\n",
              "      <td>Free</td>\n",
              "      <td>0</td>\n",
              "      <td>Everyone</td>\n",
              "      <td>[Art &amp; Design]</td>\n",
              "      <td>7-Jan-18</td>\n",
              "      <td>1.0.0</td>\n",
              "      <td>4.0.3 and up</td>\n",
              "    </tr>\n",
              "    <tr>\n",
              "      <th>1</th>\n",
              "      <td>Coloring book moana</td>\n",
              "      <td>ART_AND_DESIGN</td>\n",
              "      <td>3.9</td>\n",
              "      <td>967</td>\n",
              "      <td>14000000.0</td>\n",
              "      <td>500,000+</td>\n",
              "      <td>Free</td>\n",
              "      <td>0</td>\n",
              "      <td>Everyone</td>\n",
              "      <td>[Art &amp; Design, Pretend Play]</td>\n",
              "      <td>15-Jan-18</td>\n",
              "      <td>2.0.0</td>\n",
              "      <td>4.0.3 and up</td>\n",
              "    </tr>\n",
              "    <tr>\n",
              "      <th>2</th>\n",
              "      <td>U Launcher Lite – FREE Live Cool Themes, Hide ...</td>\n",
              "      <td>ART_AND_DESIGN</td>\n",
              "      <td>4.7</td>\n",
              "      <td>87510</td>\n",
              "      <td>8700000.0</td>\n",
              "      <td>5,000,000+</td>\n",
              "      <td>Free</td>\n",
              "      <td>0</td>\n",
              "      <td>Everyone</td>\n",
              "      <td>[Art &amp; Design]</td>\n",
              "      <td>1-Aug-18</td>\n",
              "      <td>1.2.4</td>\n",
              "      <td>4.0.3 and up</td>\n",
              "    </tr>\n",
              "    <tr>\n",
              "      <th>3</th>\n",
              "      <td>Sketch - Draw &amp; Paint</td>\n",
              "      <td>ART_AND_DESIGN</td>\n",
              "      <td>4.5</td>\n",
              "      <td>215644</td>\n",
              "      <td>25000000.0</td>\n",
              "      <td>50,000,000+</td>\n",
              "      <td>Free</td>\n",
              "      <td>0</td>\n",
              "      <td>Teen</td>\n",
              "      <td>[Art &amp; Design]</td>\n",
              "      <td>8-Jun-18</td>\n",
              "      <td>Varies with device</td>\n",
              "      <td>4.2 and up</td>\n",
              "    </tr>\n",
              "    <tr>\n",
              "      <th>4</th>\n",
              "      <td>Pixel Draw - Number Art Coloring Book</td>\n",
              "      <td>ART_AND_DESIGN</td>\n",
              "      <td>4.3</td>\n",
              "      <td>967</td>\n",
              "      <td>2800000.0</td>\n",
              "      <td>100,000+</td>\n",
              "      <td>Free</td>\n",
              "      <td>0</td>\n",
              "      <td>Everyone</td>\n",
              "      <td>[Art &amp; Design, Creativity]</td>\n",
              "      <td>20-Jun-18</td>\n",
              "      <td>1.1</td>\n",
              "      <td>4.4 and up</td>\n",
              "    </tr>\n",
              "  </tbody>\n",
              "</table>\n",
              "</div>"
            ],
            "text/plain": [
              "                                                 app        category  rating  \\\n",
              "0     Photo Editor & Candy Camera & Grid & ScrapBook  ART_AND_DESIGN     4.1   \n",
              "1                                Coloring book moana  ART_AND_DESIGN     3.9   \n",
              "2  U Launcher Lite – FREE Live Cool Themes, Hide ...  ART_AND_DESIGN     4.7   \n",
              "3                              Sketch - Draw & Paint  ART_AND_DESIGN     4.5   \n",
              "4              Pixel Draw - Number Art Coloring Book  ART_AND_DESIGN     4.3   \n",
              "\n",
              "  reviews        size     installs  type price contentRating  \\\n",
              "0     159  19000000.0      10,000+  Free     0      Everyone   \n",
              "1     967  14000000.0     500,000+  Free     0      Everyone   \n",
              "2   87510   8700000.0   5,000,000+  Free     0      Everyone   \n",
              "3  215644  25000000.0  50,000,000+  Free     0          Teen   \n",
              "4     967   2800000.0     100,000+  Free     0      Everyone   \n",
              "\n",
              "                         genres    updated             version androidVersion  \n",
              "0                [Art & Design]   7-Jan-18               1.0.0   4.0.3 and up  \n",
              "1  [Art & Design, Pretend Play]  15-Jan-18               2.0.0   4.0.3 and up  \n",
              "2                [Art & Design]   1-Aug-18               1.2.4   4.0.3 and up  \n",
              "3                [Art & Design]   8-Jun-18  Varies with device     4.2 and up  \n",
              "4    [Art & Design, Creativity]  20-Jun-18                 1.1     4.4 and up  "
            ]
          },
          "metadata": {
            "tags": []
          },
          "execution_count": 450
        }
      ]
    },
    {
      "metadata": {
        "id": "EjTLHqXjgEj7",
        "colab_type": "code",
        "outputId": "4470ff41-4fa0-47cd-bea5-d4bf2bca8a16",
        "colab": {
          "base_uri": "https://localhost:8080/",
          "height": 51
        }
      },
      "cell_type": "code",
      "source": [
        "print ((data.installs == 'Free').astype(int).sum())\n",
        "print ((data.price == 'Everyone').astype(int).sum())"
      ],
      "execution_count": 451,
      "outputs": [
        {
          "output_type": "stream",
          "text": [
            "0\n",
            "0\n"
          ],
          "name": "stdout"
        }
      ]
    },
    {
      "metadata": {
        "id": "A_GCbFmigoBq",
        "colab_type": "code",
        "outputId": "44a51c6f-3aa6-42af-b201-62bc4cf3a572",
        "colab": {
          "base_uri": "https://localhost:8080/",
          "height": 49
        }
      },
      "cell_type": "code",
      "source": [
        "data[(data.installs == 'Free')]"
      ],
      "execution_count": 452,
      "outputs": [
        {
          "output_type": "execute_result",
          "data": {
            "text/html": [
              "<div>\n",
              "<style scoped>\n",
              "    .dataframe tbody tr th:only-of-type {\n",
              "        vertical-align: middle;\n",
              "    }\n",
              "\n",
              "    .dataframe tbody tr th {\n",
              "        vertical-align: top;\n",
              "    }\n",
              "\n",
              "    .dataframe thead th {\n",
              "        text-align: right;\n",
              "    }\n",
              "</style>\n",
              "<table border=\"1\" class=\"dataframe\">\n",
              "  <thead>\n",
              "    <tr style=\"text-align: right;\">\n",
              "      <th></th>\n",
              "      <th>app</th>\n",
              "      <th>category</th>\n",
              "      <th>rating</th>\n",
              "      <th>reviews</th>\n",
              "      <th>size</th>\n",
              "      <th>installs</th>\n",
              "      <th>type</th>\n",
              "      <th>price</th>\n",
              "      <th>contentRating</th>\n",
              "      <th>genres</th>\n",
              "      <th>updated</th>\n",
              "      <th>version</th>\n",
              "      <th>androidVersion</th>\n",
              "    </tr>\n",
              "  </thead>\n",
              "  <tbody>\n",
              "  </tbody>\n",
              "</table>\n",
              "</div>"
            ],
            "text/plain": [
              "Empty DataFrame\n",
              "Columns: [app, category, rating, reviews, size, installs, type, price, contentRating, genres, updated, version, androidVersion]\n",
              "Index: []"
            ]
          },
          "metadata": {
            "tags": []
          },
          "execution_count": 452
        }
      ]
    },
    {
      "metadata": {
        "id": "dFmsgOfCQgxm",
        "colab_type": "text"
      },
      "cell_type": "markdown",
      "source": [
        ""
      ]
    },
    {
      "metadata": {
        "id": "O8QCpxiDj_Dg",
        "colab_type": "code",
        "outputId": "69137208-4a43-4fca-f7b6-6f8acfb033f1",
        "colab": {
          "base_uri": "https://localhost:8080/",
          "height": 34
        }
      },
      "cell_type": "code",
      "source": [
        "print ((data.contentRating == 'Unrated').astype(int).sum())"
      ],
      "execution_count": 453,
      "outputs": [
        {
          "output_type": "stream",
          "text": [
            "1\n"
          ],
          "name": "stdout"
        }
      ]
    },
    {
      "metadata": {
        "id": "sX0rQf4Bhqiq",
        "colab_type": "code",
        "outputId": "19fabae7-dd21-4cdf-acb9-9bda672d80c1",
        "colab": {
          "base_uri": "https://localhost:8080/",
          "height": 34
        }
      },
      "cell_type": "code",
      "source": [
        "data.shape"
      ],
      "execution_count": 454,
      "outputs": [
        {
          "output_type": "execute_result",
          "data": {
            "text/plain": [
              "(9360, 13)"
            ]
          },
          "metadata": {
            "tags": []
          },
          "execution_count": 454
        }
      ]
    },
    {
      "metadata": {
        "id": "y7lQQNJFfszE",
        "colab_type": "text"
      },
      "cell_type": "markdown",
      "source": [
        "**We drop or the row that has 'Free' as number of installs for the app and price equal to 'Everyone', as these are values that have spilled from other columns and are obvious data collection errors** \n",
        "\n",
        "\n",
        "\n"
      ]
    },
    {
      "metadata": {
        "id": "VqHWQ4uWhF90",
        "colab_type": "code",
        "outputId": "a2e682b0-6bf7-4c28-961a-0656aea59811",
        "colab": {
          "base_uri": "https://localhost:8080/",
          "height": 34
        }
      },
      "cell_type": "code",
      "source": [
        "data = data[~(data.installs == 'Free')]\n",
        "\n",
        "data.shape"
      ],
      "execution_count": 455,
      "outputs": [
        {
          "output_type": "execute_result",
          "data": {
            "text/plain": [
              "(9360, 13)"
            ]
          },
          "metadata": {
            "tags": []
          },
          "execution_count": 455
        }
      ]
    },
    {
      "metadata": {
        "id": "xxWllACRRwr0",
        "colab_type": "code",
        "outputId": "61812c8a-a252-4e15-8690-b2af863c1879",
        "colab": {
          "base_uri": "https://localhost:8080/",
          "height": 68
        }
      },
      "cell_type": "code",
      "source": [
        "data.installs = data.installs.str.strip('+')\n",
        "data.installs = data.installs.str.replace(',','')\n",
        "data.installs.unique()\n"
      ],
      "execution_count": 456,
      "outputs": [
        {
          "output_type": "execute_result",
          "data": {
            "text/plain": [
              "array(['10000', '500000', '5000000', '50000000', '100000', '50000',\n",
              "       '1000000', '10000000', '5000', '100000000', '1000000000', '1000',\n",
              "       '500000000', '100', '500', '10', '5', '50', '1'], dtype=object)"
            ]
          },
          "metadata": {
            "tags": []
          },
          "execution_count": 456
        }
      ]
    },
    {
      "metadata": {
        "id": "CCjRuuelRUQZ",
        "colab_type": "code",
        "outputId": "8ed086f3-110d-4952-d270-21cd15aa7db4",
        "colab": {
          "base_uri": "https://localhost:8080/",
          "height": 187
        }
      },
      "cell_type": "code",
      "source": [
        "data.price = data.price.str.strip('$')\n",
        "data.price = data.price.str.strip(' ')\n",
        "\n",
        "data.price.unique()"
      ],
      "execution_count": 457,
      "outputs": [
        {
          "output_type": "execute_result",
          "data": {
            "text/plain": [
              "array(['0', '4.99', '3.99', '6.99', '7.99', '5.99', '2.99', '3.49',\n",
              "       '1.99', '9.99', '7.49', '0.99', '9.00', '5.49', '10.00', '24.99',\n",
              "       '11.99', '79.99', '16.99', '14.99', '29.99', '12.99', '2.49',\n",
              "       '10.99', '1.50', '19.99', '15.99', '33.99', '39.99', '3.95',\n",
              "       '4.49', '1.70', '8.99', '1.49', '3.88', '399.99', '17.99',\n",
              "       '400.00', '3.02', '1.76', '4.84', '4.77', '1.61', '2.50', '1.59',\n",
              "       '6.49', '1.29', '299.99', '379.99', '37.99', '18.99', '389.99',\n",
              "       '8.49', '1.75', '14.00', '2.00', '3.08', '2.59', '19.40', '3.90',\n",
              "       '4.59', '15.46', '3.04', '13.99', '4.29', '3.28', '4.60', '1.00',\n",
              "       '2.95', '2.90', '1.97', '2.56', '1.20'], dtype=object)"
            ]
          },
          "metadata": {
            "tags": []
          },
          "execution_count": 457
        }
      ]
    },
    {
      "metadata": {
        "id": "7Y8szas8x7jf",
        "colab_type": "code",
        "outputId": "9d9d404b-aada-4561-9228-2d4d3ccb179b",
        "colab": {
          "base_uri": "https://localhost:8080/",
          "height": 102
        }
      },
      "cell_type": "code",
      "source": [
        "everyone = data['contentRating'] == 'Everyone'\n",
        "everyone10 = data['contentRating'] == 'Everyone 10+'\n",
        "teen = data['contentRating'] == 'Teen'\n",
        "mature = data['contentRating'] == 'Mature 17+'\n",
        "adult = data['contentRating'] == 'Adults only 18+'\n",
        "unrated = data['contentRating'] == 'Unrated'\n",
        "\n",
        "data['contentRating'].loc[everyone] = 0\n",
        "data['contentRating'].loc[everyone10] = 10\n",
        "data['contentRating'].loc[teen] = 13\n",
        "data['contentRating'].loc[mature] = 17\n",
        "data['contentRating'].loc[adult] = 18\n",
        "data['contentRating'].loc[unrated] = 0"
      ],
      "execution_count": 458,
      "outputs": [
        {
          "output_type": "stream",
          "text": [
            "/usr/local/lib/python3.6/dist-packages/pandas/core/indexing.py:194: SettingWithCopyWarning: \n",
            "A value is trying to be set on a copy of a slice from a DataFrame\n",
            "\n",
            "See the caveats in the documentation: http://pandas.pydata.org/pandas-docs/stable/indexing.html#indexing-view-versus-copy\n",
            "  self._setitem_with_indexer(indexer, value)\n"
          ],
          "name": "stderr"
        }
      ]
    },
    {
      "metadata": {
        "id": "dVIewKvhwxnd",
        "colab_type": "code",
        "outputId": "0647b578-6054-4eec-8c3d-beea1b953e35",
        "colab": {
          "base_uri": "https://localhost:8080/",
          "height": 34
        }
      },
      "cell_type": "code",
      "source": [
        "data.type.unique()"
      ],
      "execution_count": 459,
      "outputs": [
        {
          "output_type": "execute_result",
          "data": {
            "text/plain": [
              "array(['Free', 'Paid'], dtype=object)"
            ]
          },
          "metadata": {
            "tags": []
          },
          "execution_count": 459
        }
      ]
    },
    {
      "metadata": {
        "id": "veTE1IbcPK97",
        "colab_type": "code",
        "colab": {}
      },
      "cell_type": "code",
      "source": [
        "data['reviews'] = pd.to_numeric(data['reviews'], errors='coerce')\n",
        "data['installs'] = pd.to_numeric(data['installs'], errors='coerce')\n",
        "data['price'] = pd.to_numeric(data['price'], errors='coerce')"
      ],
      "execution_count": 0,
      "outputs": []
    },
    {
      "metadata": {
        "id": "WJ_NJmB8zzR1",
        "colab_type": "code",
        "outputId": "29c473ce-9820-491a-abb1-3e0b4abb6f82",
        "colab": {
          "base_uri": "https://localhost:8080/",
          "height": 204
        }
      },
      "cell_type": "code",
      "source": [
        "# we drop ratings equal to zero, as the app store doesn't allow a real user \n",
        "# rating to be equal to zero\n",
        "data = data[data['rating']> 0]\n",
        "data.head()"
      ],
      "execution_count": 461,
      "outputs": [
        {
          "output_type": "execute_result",
          "data": {
            "text/html": [
              "<div>\n",
              "<style scoped>\n",
              "    .dataframe tbody tr th:only-of-type {\n",
              "        vertical-align: middle;\n",
              "    }\n",
              "\n",
              "    .dataframe tbody tr th {\n",
              "        vertical-align: top;\n",
              "    }\n",
              "\n",
              "    .dataframe thead th {\n",
              "        text-align: right;\n",
              "    }\n",
              "</style>\n",
              "<table border=\"1\" class=\"dataframe\">\n",
              "  <thead>\n",
              "    <tr style=\"text-align: right;\">\n",
              "      <th></th>\n",
              "      <th>app</th>\n",
              "      <th>category</th>\n",
              "      <th>rating</th>\n",
              "      <th>reviews</th>\n",
              "      <th>size</th>\n",
              "      <th>installs</th>\n",
              "      <th>type</th>\n",
              "      <th>price</th>\n",
              "      <th>contentRating</th>\n",
              "      <th>genres</th>\n",
              "      <th>updated</th>\n",
              "      <th>version</th>\n",
              "      <th>androidVersion</th>\n",
              "    </tr>\n",
              "  </thead>\n",
              "  <tbody>\n",
              "    <tr>\n",
              "      <th>0</th>\n",
              "      <td>Photo Editor &amp; Candy Camera &amp; Grid &amp; ScrapBook</td>\n",
              "      <td>ART_AND_DESIGN</td>\n",
              "      <td>4.1</td>\n",
              "      <td>159</td>\n",
              "      <td>19000000.0</td>\n",
              "      <td>10000</td>\n",
              "      <td>Free</td>\n",
              "      <td>0.0</td>\n",
              "      <td>0</td>\n",
              "      <td>[Art &amp; Design]</td>\n",
              "      <td>7-Jan-18</td>\n",
              "      <td>1.0.0</td>\n",
              "      <td>4.0.3 and up</td>\n",
              "    </tr>\n",
              "    <tr>\n",
              "      <th>1</th>\n",
              "      <td>Coloring book moana</td>\n",
              "      <td>ART_AND_DESIGN</td>\n",
              "      <td>3.9</td>\n",
              "      <td>967</td>\n",
              "      <td>14000000.0</td>\n",
              "      <td>500000</td>\n",
              "      <td>Free</td>\n",
              "      <td>0.0</td>\n",
              "      <td>0</td>\n",
              "      <td>[Art &amp; Design, Pretend Play]</td>\n",
              "      <td>15-Jan-18</td>\n",
              "      <td>2.0.0</td>\n",
              "      <td>4.0.3 and up</td>\n",
              "    </tr>\n",
              "    <tr>\n",
              "      <th>2</th>\n",
              "      <td>U Launcher Lite – FREE Live Cool Themes, Hide ...</td>\n",
              "      <td>ART_AND_DESIGN</td>\n",
              "      <td>4.7</td>\n",
              "      <td>87510</td>\n",
              "      <td>8700000.0</td>\n",
              "      <td>5000000</td>\n",
              "      <td>Free</td>\n",
              "      <td>0.0</td>\n",
              "      <td>0</td>\n",
              "      <td>[Art &amp; Design]</td>\n",
              "      <td>1-Aug-18</td>\n",
              "      <td>1.2.4</td>\n",
              "      <td>4.0.3 and up</td>\n",
              "    </tr>\n",
              "    <tr>\n",
              "      <th>3</th>\n",
              "      <td>Sketch - Draw &amp; Paint</td>\n",
              "      <td>ART_AND_DESIGN</td>\n",
              "      <td>4.5</td>\n",
              "      <td>215644</td>\n",
              "      <td>25000000.0</td>\n",
              "      <td>50000000</td>\n",
              "      <td>Free</td>\n",
              "      <td>0.0</td>\n",
              "      <td>13</td>\n",
              "      <td>[Art &amp; Design]</td>\n",
              "      <td>8-Jun-18</td>\n",
              "      <td>Varies with device</td>\n",
              "      <td>4.2 and up</td>\n",
              "    </tr>\n",
              "    <tr>\n",
              "      <th>4</th>\n",
              "      <td>Pixel Draw - Number Art Coloring Book</td>\n",
              "      <td>ART_AND_DESIGN</td>\n",
              "      <td>4.3</td>\n",
              "      <td>967</td>\n",
              "      <td>2800000.0</td>\n",
              "      <td>100000</td>\n",
              "      <td>Free</td>\n",
              "      <td>0.0</td>\n",
              "      <td>0</td>\n",
              "      <td>[Art &amp; Design, Creativity]</td>\n",
              "      <td>20-Jun-18</td>\n",
              "      <td>1.1</td>\n",
              "      <td>4.4 and up</td>\n",
              "    </tr>\n",
              "  </tbody>\n",
              "</table>\n",
              "</div>"
            ],
            "text/plain": [
              "                                                 app        category  rating  \\\n",
              "0     Photo Editor & Candy Camera & Grid & ScrapBook  ART_AND_DESIGN     4.1   \n",
              "1                                Coloring book moana  ART_AND_DESIGN     3.9   \n",
              "2  U Launcher Lite – FREE Live Cool Themes, Hide ...  ART_AND_DESIGN     4.7   \n",
              "3                              Sketch - Draw & Paint  ART_AND_DESIGN     4.5   \n",
              "4              Pixel Draw - Number Art Coloring Book  ART_AND_DESIGN     4.3   \n",
              "\n",
              "   reviews        size  installs  type  price  contentRating  \\\n",
              "0      159  19000000.0     10000  Free    0.0              0   \n",
              "1      967  14000000.0    500000  Free    0.0              0   \n",
              "2    87510   8700000.0   5000000  Free    0.0              0   \n",
              "3   215644  25000000.0  50000000  Free    0.0             13   \n",
              "4      967   2800000.0    100000  Free    0.0              0   \n",
              "\n",
              "                         genres    updated             version androidVersion  \n",
              "0                [Art & Design]   7-Jan-18               1.0.0   4.0.3 and up  \n",
              "1  [Art & Design, Pretend Play]  15-Jan-18               2.0.0   4.0.3 and up  \n",
              "2                [Art & Design]   1-Aug-18               1.2.4   4.0.3 and up  \n",
              "3                [Art & Design]   8-Jun-18  Varies with device     4.2 and up  \n",
              "4    [Art & Design, Creativity]  20-Jun-18                 1.1     4.4 and up  "
            ]
          },
          "metadata": {
            "tags": []
          },
          "execution_count": 461
        }
      ]
    },
    {
      "metadata": {
        "id": "kxQF9LfZTLTZ",
        "colab_type": "code",
        "colab": {
          "base_uri": "https://localhost:8080/",
          "height": 1969
        },
        "outputId": "59a8578c-baed-4e2b-c4f4-627910e8d67d"
      },
      "cell_type": "code",
      "source": [
        "data"
      ],
      "execution_count": 462,
      "outputs": [
        {
          "output_type": "execute_result",
          "data": {
            "text/html": [
              "<div>\n",
              "<style scoped>\n",
              "    .dataframe tbody tr th:only-of-type {\n",
              "        vertical-align: middle;\n",
              "    }\n",
              "\n",
              "    .dataframe tbody tr th {\n",
              "        vertical-align: top;\n",
              "    }\n",
              "\n",
              "    .dataframe thead th {\n",
              "        text-align: right;\n",
              "    }\n",
              "</style>\n",
              "<table border=\"1\" class=\"dataframe\">\n",
              "  <thead>\n",
              "    <tr style=\"text-align: right;\">\n",
              "      <th></th>\n",
              "      <th>app</th>\n",
              "      <th>category</th>\n",
              "      <th>rating</th>\n",
              "      <th>reviews</th>\n",
              "      <th>size</th>\n",
              "      <th>installs</th>\n",
              "      <th>type</th>\n",
              "      <th>price</th>\n",
              "      <th>contentRating</th>\n",
              "      <th>genres</th>\n",
              "      <th>updated</th>\n",
              "      <th>version</th>\n",
              "      <th>androidVersion</th>\n",
              "    </tr>\n",
              "  </thead>\n",
              "  <tbody>\n",
              "    <tr>\n",
              "      <th>0</th>\n",
              "      <td>Photo Editor &amp; Candy Camera &amp; Grid &amp; ScrapBook</td>\n",
              "      <td>ART_AND_DESIGN</td>\n",
              "      <td>4.1</td>\n",
              "      <td>159</td>\n",
              "      <td>19000000.0</td>\n",
              "      <td>10000</td>\n",
              "      <td>Free</td>\n",
              "      <td>0.0</td>\n",
              "      <td>0</td>\n",
              "      <td>[Art &amp; Design]</td>\n",
              "      <td>7-Jan-18</td>\n",
              "      <td>1.0.0</td>\n",
              "      <td>4.0.3 and up</td>\n",
              "    </tr>\n",
              "    <tr>\n",
              "      <th>1</th>\n",
              "      <td>Coloring book moana</td>\n",
              "      <td>ART_AND_DESIGN</td>\n",
              "      <td>3.9</td>\n",
              "      <td>967</td>\n",
              "      <td>14000000.0</td>\n",
              "      <td>500000</td>\n",
              "      <td>Free</td>\n",
              "      <td>0.0</td>\n",
              "      <td>0</td>\n",
              "      <td>[Art &amp; Design, Pretend Play]</td>\n",
              "      <td>15-Jan-18</td>\n",
              "      <td>2.0.0</td>\n",
              "      <td>4.0.3 and up</td>\n",
              "    </tr>\n",
              "    <tr>\n",
              "      <th>2</th>\n",
              "      <td>U Launcher Lite – FREE Live Cool Themes, Hide ...</td>\n",
              "      <td>ART_AND_DESIGN</td>\n",
              "      <td>4.7</td>\n",
              "      <td>87510</td>\n",
              "      <td>8700000.0</td>\n",
              "      <td>5000000</td>\n",
              "      <td>Free</td>\n",
              "      <td>0.0</td>\n",
              "      <td>0</td>\n",
              "      <td>[Art &amp; Design]</td>\n",
              "      <td>1-Aug-18</td>\n",
              "      <td>1.2.4</td>\n",
              "      <td>4.0.3 and up</td>\n",
              "    </tr>\n",
              "    <tr>\n",
              "      <th>3</th>\n",
              "      <td>Sketch - Draw &amp; Paint</td>\n",
              "      <td>ART_AND_DESIGN</td>\n",
              "      <td>4.5</td>\n",
              "      <td>215644</td>\n",
              "      <td>25000000.0</td>\n",
              "      <td>50000000</td>\n",
              "      <td>Free</td>\n",
              "      <td>0.0</td>\n",
              "      <td>13</td>\n",
              "      <td>[Art &amp; Design]</td>\n",
              "      <td>8-Jun-18</td>\n",
              "      <td>Varies with device</td>\n",
              "      <td>4.2 and up</td>\n",
              "    </tr>\n",
              "    <tr>\n",
              "      <th>4</th>\n",
              "      <td>Pixel Draw - Number Art Coloring Book</td>\n",
              "      <td>ART_AND_DESIGN</td>\n",
              "      <td>4.3</td>\n",
              "      <td>967</td>\n",
              "      <td>2800000.0</td>\n",
              "      <td>100000</td>\n",
              "      <td>Free</td>\n",
              "      <td>0.0</td>\n",
              "      <td>0</td>\n",
              "      <td>[Art &amp; Design, Creativity]</td>\n",
              "      <td>20-Jun-18</td>\n",
              "      <td>1.1</td>\n",
              "      <td>4.4 and up</td>\n",
              "    </tr>\n",
              "    <tr>\n",
              "      <th>5</th>\n",
              "      <td>Paper flowers instructions</td>\n",
              "      <td>ART_AND_DESIGN</td>\n",
              "      <td>4.4</td>\n",
              "      <td>167</td>\n",
              "      <td>5600000.0</td>\n",
              "      <td>50000</td>\n",
              "      <td>Free</td>\n",
              "      <td>0.0</td>\n",
              "      <td>0</td>\n",
              "      <td>[Art &amp; Design]</td>\n",
              "      <td>26-Mar-17</td>\n",
              "      <td>1</td>\n",
              "      <td>2.3 and up</td>\n",
              "    </tr>\n",
              "    <tr>\n",
              "      <th>6</th>\n",
              "      <td>Smoke Effect Photo Maker - Smoke Editor</td>\n",
              "      <td>ART_AND_DESIGN</td>\n",
              "      <td>3.8</td>\n",
              "      <td>178</td>\n",
              "      <td>19000000.0</td>\n",
              "      <td>50000</td>\n",
              "      <td>Free</td>\n",
              "      <td>0.0</td>\n",
              "      <td>0</td>\n",
              "      <td>[Art &amp; Design]</td>\n",
              "      <td>26-Apr-18</td>\n",
              "      <td>1.1</td>\n",
              "      <td>4.0.3 and up</td>\n",
              "    </tr>\n",
              "    <tr>\n",
              "      <th>7</th>\n",
              "      <td>Infinite Painter</td>\n",
              "      <td>ART_AND_DESIGN</td>\n",
              "      <td>4.1</td>\n",
              "      <td>36815</td>\n",
              "      <td>29000000.0</td>\n",
              "      <td>1000000</td>\n",
              "      <td>Free</td>\n",
              "      <td>0.0</td>\n",
              "      <td>0</td>\n",
              "      <td>[Art &amp; Design]</td>\n",
              "      <td>14-Jun-18</td>\n",
              "      <td>6.1.61.1</td>\n",
              "      <td>4.2 and up</td>\n",
              "    </tr>\n",
              "    <tr>\n",
              "      <th>8</th>\n",
              "      <td>Garden Coloring Book</td>\n",
              "      <td>ART_AND_DESIGN</td>\n",
              "      <td>4.4</td>\n",
              "      <td>13791</td>\n",
              "      <td>33000000.0</td>\n",
              "      <td>1000000</td>\n",
              "      <td>Free</td>\n",
              "      <td>0.0</td>\n",
              "      <td>0</td>\n",
              "      <td>[Art &amp; Design]</td>\n",
              "      <td>20-Sep-17</td>\n",
              "      <td>2.9.2</td>\n",
              "      <td>3.0 and up</td>\n",
              "    </tr>\n",
              "    <tr>\n",
              "      <th>9</th>\n",
              "      <td>Kids Paint Free - Drawing Fun</td>\n",
              "      <td>ART_AND_DESIGN</td>\n",
              "      <td>4.7</td>\n",
              "      <td>121</td>\n",
              "      <td>3100000.0</td>\n",
              "      <td>10000</td>\n",
              "      <td>Free</td>\n",
              "      <td>0.0</td>\n",
              "      <td>0</td>\n",
              "      <td>[Art &amp; Design, Creativity]</td>\n",
              "      <td>3-Jul-18</td>\n",
              "      <td>2.8</td>\n",
              "      <td>4.0.3 and up</td>\n",
              "    </tr>\n",
              "    <tr>\n",
              "      <th>10</th>\n",
              "      <td>Text on Photo - Fonteee</td>\n",
              "      <td>ART_AND_DESIGN</td>\n",
              "      <td>4.4</td>\n",
              "      <td>13880</td>\n",
              "      <td>28000000.0</td>\n",
              "      <td>1000000</td>\n",
              "      <td>Free</td>\n",
              "      <td>0.0</td>\n",
              "      <td>0</td>\n",
              "      <td>[Art &amp; Design]</td>\n",
              "      <td>27-Oct-17</td>\n",
              "      <td>1.0.4</td>\n",
              "      <td>4.1 and up</td>\n",
              "    </tr>\n",
              "    <tr>\n",
              "      <th>11</th>\n",
              "      <td>Name Art Photo Editor - Focus n Filters</td>\n",
              "      <td>ART_AND_DESIGN</td>\n",
              "      <td>4.4</td>\n",
              "      <td>8788</td>\n",
              "      <td>12000000.0</td>\n",
              "      <td>1000000</td>\n",
              "      <td>Free</td>\n",
              "      <td>0.0</td>\n",
              "      <td>0</td>\n",
              "      <td>[Art &amp; Design]</td>\n",
              "      <td>31-Jul-18</td>\n",
              "      <td>1.0.15</td>\n",
              "      <td>4.0 and up</td>\n",
              "    </tr>\n",
              "    <tr>\n",
              "      <th>12</th>\n",
              "      <td>Tattoo Name On My Photo Editor</td>\n",
              "      <td>ART_AND_DESIGN</td>\n",
              "      <td>4.2</td>\n",
              "      <td>44829</td>\n",
              "      <td>20000000.0</td>\n",
              "      <td>10000000</td>\n",
              "      <td>Free</td>\n",
              "      <td>0.0</td>\n",
              "      <td>13</td>\n",
              "      <td>[Art &amp; Design]</td>\n",
              "      <td>2-Apr-18</td>\n",
              "      <td>3.8</td>\n",
              "      <td>4.1 and up</td>\n",
              "    </tr>\n",
              "    <tr>\n",
              "      <th>13</th>\n",
              "      <td>Mandala Coloring Book</td>\n",
              "      <td>ART_AND_DESIGN</td>\n",
              "      <td>4.6</td>\n",
              "      <td>4326</td>\n",
              "      <td>21000000.0</td>\n",
              "      <td>100000</td>\n",
              "      <td>Free</td>\n",
              "      <td>0.0</td>\n",
              "      <td>0</td>\n",
              "      <td>[Art &amp; Design]</td>\n",
              "      <td>26-Jun-18</td>\n",
              "      <td>1.0.4</td>\n",
              "      <td>4.4 and up</td>\n",
              "    </tr>\n",
              "    <tr>\n",
              "      <th>14</th>\n",
              "      <td>3D Color Pixel by Number - Sandbox Art Coloring</td>\n",
              "      <td>ART_AND_DESIGN</td>\n",
              "      <td>4.4</td>\n",
              "      <td>1518</td>\n",
              "      <td>37000000.0</td>\n",
              "      <td>100000</td>\n",
              "      <td>Free</td>\n",
              "      <td>0.0</td>\n",
              "      <td>0</td>\n",
              "      <td>[Art &amp; Design]</td>\n",
              "      <td>3-Aug-18</td>\n",
              "      <td>1.2.3</td>\n",
              "      <td>2.3 and up</td>\n",
              "    </tr>\n",
              "    <tr>\n",
              "      <th>16</th>\n",
              "      <td>Photo Designer - Write your name with shapes</td>\n",
              "      <td>ART_AND_DESIGN</td>\n",
              "      <td>4.7</td>\n",
              "      <td>3632</td>\n",
              "      <td>5500000.0</td>\n",
              "      <td>500000</td>\n",
              "      <td>Free</td>\n",
              "      <td>0.0</td>\n",
              "      <td>0</td>\n",
              "      <td>[Art &amp; Design]</td>\n",
              "      <td>31-Jul-18</td>\n",
              "      <td>3.1</td>\n",
              "      <td>4.1 and up</td>\n",
              "    </tr>\n",
              "    <tr>\n",
              "      <th>17</th>\n",
              "      <td>350 Diy Room Decor Ideas</td>\n",
              "      <td>ART_AND_DESIGN</td>\n",
              "      <td>4.5</td>\n",
              "      <td>27</td>\n",
              "      <td>17000000.0</td>\n",
              "      <td>10000</td>\n",
              "      <td>Free</td>\n",
              "      <td>0.0</td>\n",
              "      <td>0</td>\n",
              "      <td>[Art &amp; Design]</td>\n",
              "      <td>7-Nov-17</td>\n",
              "      <td>1</td>\n",
              "      <td>2.3 and up</td>\n",
              "    </tr>\n",
              "    <tr>\n",
              "      <th>18</th>\n",
              "      <td>FlipaClip - Cartoon animation</td>\n",
              "      <td>ART_AND_DESIGN</td>\n",
              "      <td>4.3</td>\n",
              "      <td>194216</td>\n",
              "      <td>39000000.0</td>\n",
              "      <td>5000000</td>\n",
              "      <td>Free</td>\n",
              "      <td>0.0</td>\n",
              "      <td>0</td>\n",
              "      <td>[Art &amp; Design]</td>\n",
              "      <td>3-Aug-18</td>\n",
              "      <td>2.2.5</td>\n",
              "      <td>4.0.3 and up</td>\n",
              "    </tr>\n",
              "    <tr>\n",
              "      <th>19</th>\n",
              "      <td>ibis Paint X</td>\n",
              "      <td>ART_AND_DESIGN</td>\n",
              "      <td>4.6</td>\n",
              "      <td>224399</td>\n",
              "      <td>31000000.0</td>\n",
              "      <td>10000000</td>\n",
              "      <td>Free</td>\n",
              "      <td>0.0</td>\n",
              "      <td>0</td>\n",
              "      <td>[Art &amp; Design]</td>\n",
              "      <td>30-Jul-18</td>\n",
              "      <td>5.5.4</td>\n",
              "      <td>4.1 and up</td>\n",
              "    </tr>\n",
              "    <tr>\n",
              "      <th>20</th>\n",
              "      <td>Logo Maker - Small Business</td>\n",
              "      <td>ART_AND_DESIGN</td>\n",
              "      <td>4.0</td>\n",
              "      <td>450</td>\n",
              "      <td>14000000.0</td>\n",
              "      <td>100000</td>\n",
              "      <td>Free</td>\n",
              "      <td>0.0</td>\n",
              "      <td>0</td>\n",
              "      <td>[Art &amp; Design]</td>\n",
              "      <td>20-Apr-18</td>\n",
              "      <td>4</td>\n",
              "      <td>4.1 and up</td>\n",
              "    </tr>\n",
              "    <tr>\n",
              "      <th>21</th>\n",
              "      <td>Boys Photo Editor - Six Pack &amp; Men's Suit</td>\n",
              "      <td>ART_AND_DESIGN</td>\n",
              "      <td>4.1</td>\n",
              "      <td>654</td>\n",
              "      <td>12000000.0</td>\n",
              "      <td>100000</td>\n",
              "      <td>Free</td>\n",
              "      <td>0.0</td>\n",
              "      <td>0</td>\n",
              "      <td>[Art &amp; Design]</td>\n",
              "      <td>20-Mar-18</td>\n",
              "      <td>1.1</td>\n",
              "      <td>4.0.3 and up</td>\n",
              "    </tr>\n",
              "    <tr>\n",
              "      <th>22</th>\n",
              "      <td>Superheroes Wallpapers | 4K Backgrounds</td>\n",
              "      <td>ART_AND_DESIGN</td>\n",
              "      <td>4.7</td>\n",
              "      <td>7699</td>\n",
              "      <td>4200000.0</td>\n",
              "      <td>500000</td>\n",
              "      <td>Free</td>\n",
              "      <td>0.0</td>\n",
              "      <td>10</td>\n",
              "      <td>[Art &amp; Design]</td>\n",
              "      <td>12-Jul-18</td>\n",
              "      <td>2.2.6.2</td>\n",
              "      <td>4.0.3 and up</td>\n",
              "    </tr>\n",
              "    <tr>\n",
              "      <th>24</th>\n",
              "      <td>HD Mickey Minnie Wallpapers</td>\n",
              "      <td>ART_AND_DESIGN</td>\n",
              "      <td>4.7</td>\n",
              "      <td>118</td>\n",
              "      <td>23000000.0</td>\n",
              "      <td>50000</td>\n",
              "      <td>Free</td>\n",
              "      <td>0.0</td>\n",
              "      <td>0</td>\n",
              "      <td>[Art &amp; Design]</td>\n",
              "      <td>7-Jul-18</td>\n",
              "      <td>1.1.3</td>\n",
              "      <td>4.1 and up</td>\n",
              "    </tr>\n",
              "    <tr>\n",
              "      <th>25</th>\n",
              "      <td>Harley Quinn wallpapers HD</td>\n",
              "      <td>ART_AND_DESIGN</td>\n",
              "      <td>4.8</td>\n",
              "      <td>192</td>\n",
              "      <td>6000000.0</td>\n",
              "      <td>10000</td>\n",
              "      <td>Free</td>\n",
              "      <td>0.0</td>\n",
              "      <td>0</td>\n",
              "      <td>[Art &amp; Design]</td>\n",
              "      <td>25-Apr-18</td>\n",
              "      <td>1.5</td>\n",
              "      <td>3.0 and up</td>\n",
              "    </tr>\n",
              "    <tr>\n",
              "      <th>26</th>\n",
              "      <td>Colorfit - Drawing &amp; Coloring</td>\n",
              "      <td>ART_AND_DESIGN</td>\n",
              "      <td>4.7</td>\n",
              "      <td>20260</td>\n",
              "      <td>25000000.0</td>\n",
              "      <td>500000</td>\n",
              "      <td>Free</td>\n",
              "      <td>0.0</td>\n",
              "      <td>0</td>\n",
              "      <td>[Art &amp; Design, Creativity]</td>\n",
              "      <td>11-Oct-17</td>\n",
              "      <td>1.0.8</td>\n",
              "      <td>4.0.3 and up</td>\n",
              "    </tr>\n",
              "    <tr>\n",
              "      <th>27</th>\n",
              "      <td>Animated Photo Editor</td>\n",
              "      <td>ART_AND_DESIGN</td>\n",
              "      <td>4.1</td>\n",
              "      <td>203</td>\n",
              "      <td>6100000.0</td>\n",
              "      <td>100000</td>\n",
              "      <td>Free</td>\n",
              "      <td>0.0</td>\n",
              "      <td>0</td>\n",
              "      <td>[Art &amp; Design]</td>\n",
              "      <td>21-Mar-18</td>\n",
              "      <td>1.03</td>\n",
              "      <td>4.0.3 and up</td>\n",
              "    </tr>\n",
              "    <tr>\n",
              "      <th>28</th>\n",
              "      <td>Pencil Sketch Drawing</td>\n",
              "      <td>ART_AND_DESIGN</td>\n",
              "      <td>3.9</td>\n",
              "      <td>136</td>\n",
              "      <td>4600000.0</td>\n",
              "      <td>10000</td>\n",
              "      <td>Free</td>\n",
              "      <td>0.0</td>\n",
              "      <td>0</td>\n",
              "      <td>[Art &amp; Design]</td>\n",
              "      <td>12-Jul-18</td>\n",
              "      <td>6</td>\n",
              "      <td>2.3 and up</td>\n",
              "    </tr>\n",
              "    <tr>\n",
              "      <th>29</th>\n",
              "      <td>Easy Realistic Drawing Tutorial</td>\n",
              "      <td>ART_AND_DESIGN</td>\n",
              "      <td>4.1</td>\n",
              "      <td>223</td>\n",
              "      <td>4200000.0</td>\n",
              "      <td>100000</td>\n",
              "      <td>Free</td>\n",
              "      <td>0.0</td>\n",
              "      <td>0</td>\n",
              "      <td>[Art &amp; Design]</td>\n",
              "      <td>22-Aug-17</td>\n",
              "      <td>1</td>\n",
              "      <td>2.3 and up</td>\n",
              "    </tr>\n",
              "    <tr>\n",
              "      <th>30</th>\n",
              "      <td>Pink Silver Bow Keyboard Theme</td>\n",
              "      <td>ART_AND_DESIGN</td>\n",
              "      <td>4.2</td>\n",
              "      <td>1120</td>\n",
              "      <td>9200000.0</td>\n",
              "      <td>100000</td>\n",
              "      <td>Free</td>\n",
              "      <td>0.0</td>\n",
              "      <td>0</td>\n",
              "      <td>[Art &amp; Design]</td>\n",
              "      <td>12-Jul-18</td>\n",
              "      <td>6.7.12.2018</td>\n",
              "      <td>4.0.3 and up</td>\n",
              "    </tr>\n",
              "    <tr>\n",
              "      <th>31</th>\n",
              "      <td>Art Drawing Ideas</td>\n",
              "      <td>ART_AND_DESIGN</td>\n",
              "      <td>4.1</td>\n",
              "      <td>227</td>\n",
              "      <td>5200000.0</td>\n",
              "      <td>50000</td>\n",
              "      <td>Free</td>\n",
              "      <td>0.0</td>\n",
              "      <td>0</td>\n",
              "      <td>[Art &amp; Design]</td>\n",
              "      <td>31-May-18</td>\n",
              "      <td>1.2</td>\n",
              "      <td>2.3 and up</td>\n",
              "    </tr>\n",
              "    <tr>\n",
              "      <th>...</th>\n",
              "      <td>...</td>\n",
              "      <td>...</td>\n",
              "      <td>...</td>\n",
              "      <td>...</td>\n",
              "      <td>...</td>\n",
              "      <td>...</td>\n",
              "      <td>...</td>\n",
              "      <td>...</td>\n",
              "      <td>...</td>\n",
              "      <td>...</td>\n",
              "      <td>...</td>\n",
              "      <td>...</td>\n",
              "      <td>...</td>\n",
              "    </tr>\n",
              "    <tr>\n",
              "      <th>10795</th>\n",
              "      <td>Reindeer VPN - Proxy VPN</td>\n",
              "      <td>TOOLS</td>\n",
              "      <td>4.2</td>\n",
              "      <td>7339</td>\n",
              "      <td>4000000.0</td>\n",
              "      <td>100000</td>\n",
              "      <td>Free</td>\n",
              "      <td>0.0</td>\n",
              "      <td>0</td>\n",
              "      <td>[Tools]</td>\n",
              "      <td>10-May-18</td>\n",
              "      <td>1.74</td>\n",
              "      <td>4.1 and up</td>\n",
              "    </tr>\n",
              "    <tr>\n",
              "      <th>10796</th>\n",
              "      <td>Inf VPN - Global Proxy &amp; Unlimited Free WIFI VPN</td>\n",
              "      <td>TOOLS</td>\n",
              "      <td>4.7</td>\n",
              "      <td>61445</td>\n",
              "      <td>7800000.0</td>\n",
              "      <td>1000000</td>\n",
              "      <td>Free</td>\n",
              "      <td>0.0</td>\n",
              "      <td>0</td>\n",
              "      <td>[Tools]</td>\n",
              "      <td>26-Jul-18</td>\n",
              "      <td>1.9.734</td>\n",
              "      <td>4.1 and up</td>\n",
              "    </tr>\n",
              "    <tr>\n",
              "      <th>10797</th>\n",
              "      <td>Fuel Rewards® program</td>\n",
              "      <td>LIFESTYLE</td>\n",
              "      <td>4.6</td>\n",
              "      <td>32433</td>\n",
              "      <td>46000000.0</td>\n",
              "      <td>1000000</td>\n",
              "      <td>Free</td>\n",
              "      <td>0.0</td>\n",
              "      <td>0</td>\n",
              "      <td>[Lifestyle]</td>\n",
              "      <td>26-Jun-18</td>\n",
              "      <td>2.9.1</td>\n",
              "      <td>5.0 and up</td>\n",
              "    </tr>\n",
              "    <tr>\n",
              "      <th>10799</th>\n",
              "      <td>Fr Daoud Lamei</td>\n",
              "      <td>SOCIAL</td>\n",
              "      <td>4.7</td>\n",
              "      <td>2036</td>\n",
              "      <td>6800000.0</td>\n",
              "      <td>100000</td>\n",
              "      <td>Free</td>\n",
              "      <td>0.0</td>\n",
              "      <td>0</td>\n",
              "      <td>[Social]</td>\n",
              "      <td>20-May-18</td>\n",
              "      <td>1.72</td>\n",
              "      <td>4.0.3 and up</td>\n",
              "    </tr>\n",
              "    <tr>\n",
              "      <th>10800</th>\n",
              "      <td>FR Roster</td>\n",
              "      <td>TOOLS</td>\n",
              "      <td>4.1</td>\n",
              "      <td>174</td>\n",
              "      <td>12000000.0</td>\n",
              "      <td>5000</td>\n",
              "      <td>Free</td>\n",
              "      <td>0.0</td>\n",
              "      <td>0</td>\n",
              "      <td>[Tools]</td>\n",
              "      <td>30-Jul-18</td>\n",
              "      <td>6.04</td>\n",
              "      <td>4.4 and up</td>\n",
              "    </tr>\n",
              "    <tr>\n",
              "      <th>10801</th>\n",
              "      <td>Fr Ignacio Outreach</td>\n",
              "      <td>FAMILY</td>\n",
              "      <td>4.9</td>\n",
              "      <td>52</td>\n",
              "      <td>19000000.0</td>\n",
              "      <td>1000</td>\n",
              "      <td>Free</td>\n",
              "      <td>0.0</td>\n",
              "      <td>0</td>\n",
              "      <td>[Education]</td>\n",
              "      <td>19-Jan-18</td>\n",
              "      <td>1</td>\n",
              "      <td>4.4 and up</td>\n",
              "    </tr>\n",
              "    <tr>\n",
              "      <th>10802</th>\n",
              "      <td>FR: My Famous Lover</td>\n",
              "      <td>FAMILY</td>\n",
              "      <td>4.0</td>\n",
              "      <td>185</td>\n",
              "      <td>28000000.0</td>\n",
              "      <td>10000</td>\n",
              "      <td>Free</td>\n",
              "      <td>0.0</td>\n",
              "      <td>13</td>\n",
              "      <td>[Entertainment]</td>\n",
              "      <td>6-Aug-15</td>\n",
              "      <td>1.3.0</td>\n",
              "      <td>3.0 and up</td>\n",
              "    </tr>\n",
              "    <tr>\n",
              "      <th>10803</th>\n",
              "      <td>Fatal Raid - No.1 Mobile FPS</td>\n",
              "      <td>GAME</td>\n",
              "      <td>4.3</td>\n",
              "      <td>56496</td>\n",
              "      <td>81000000.0</td>\n",
              "      <td>1000000</td>\n",
              "      <td>Free</td>\n",
              "      <td>0.0</td>\n",
              "      <td>13</td>\n",
              "      <td>[Action]</td>\n",
              "      <td>7-Aug-18</td>\n",
              "      <td>1.5.447</td>\n",
              "      <td>4.0 and up</td>\n",
              "    </tr>\n",
              "    <tr>\n",
              "      <th>10804</th>\n",
              "      <td>Poker Pro.Fr</td>\n",
              "      <td>GAME</td>\n",
              "      <td>4.2</td>\n",
              "      <td>5442</td>\n",
              "      <td>17000000.0</td>\n",
              "      <td>100000</td>\n",
              "      <td>Free</td>\n",
              "      <td>0.0</td>\n",
              "      <td>13</td>\n",
              "      <td>[Card]</td>\n",
              "      <td>22-May-18</td>\n",
              "      <td>4.1.3</td>\n",
              "      <td>2.3 and up</td>\n",
              "    </tr>\n",
              "    <tr>\n",
              "      <th>10805</th>\n",
              "      <td>Scoreboard FR</td>\n",
              "      <td>LIFESTYLE</td>\n",
              "      <td>4.3</td>\n",
              "      <td>3</td>\n",
              "      <td>15000000.0</td>\n",
              "      <td>100</td>\n",
              "      <td>Free</td>\n",
              "      <td>0.0</td>\n",
              "      <td>0</td>\n",
              "      <td>[Lifestyle]</td>\n",
              "      <td>7-Aug-18</td>\n",
              "      <td>2.1</td>\n",
              "      <td>4.2 and up</td>\n",
              "    </tr>\n",
              "    <tr>\n",
              "      <th>10809</th>\n",
              "      <td>Castle Clash: RPG War and Strategy FR</td>\n",
              "      <td>FAMILY</td>\n",
              "      <td>4.7</td>\n",
              "      <td>376223</td>\n",
              "      <td>24000000.0</td>\n",
              "      <td>1000000</td>\n",
              "      <td>Free</td>\n",
              "      <td>0.0</td>\n",
              "      <td>0</td>\n",
              "      <td>[Strategy]</td>\n",
              "      <td>18-Jul-18</td>\n",
              "      <td>1.4.2</td>\n",
              "      <td>4.1 and up</td>\n",
              "    </tr>\n",
              "    <tr>\n",
              "      <th>10810</th>\n",
              "      <td>Fr Lupupa Sermons</td>\n",
              "      <td>BUSINESS</td>\n",
              "      <td>4.8</td>\n",
              "      <td>19</td>\n",
              "      <td>21000000.0</td>\n",
              "      <td>100</td>\n",
              "      <td>Free</td>\n",
              "      <td>0.0</td>\n",
              "      <td>0</td>\n",
              "      <td>[Business]</td>\n",
              "      <td>12-Jun-18</td>\n",
              "      <td>1</td>\n",
              "      <td>4.4 and up</td>\n",
              "    </tr>\n",
              "    <tr>\n",
              "      <th>10812</th>\n",
              "      <td>Fr Agnel Pune</td>\n",
              "      <td>FAMILY</td>\n",
              "      <td>4.1</td>\n",
              "      <td>80</td>\n",
              "      <td>13000000.0</td>\n",
              "      <td>1000</td>\n",
              "      <td>Free</td>\n",
              "      <td>0.0</td>\n",
              "      <td>0</td>\n",
              "      <td>[Education]</td>\n",
              "      <td>13-Jun-18</td>\n",
              "      <td>2.0.20</td>\n",
              "      <td>4.0.3 and up</td>\n",
              "    </tr>\n",
              "    <tr>\n",
              "      <th>10814</th>\n",
              "      <td>FR: My Secret Pets!</td>\n",
              "      <td>FAMILY</td>\n",
              "      <td>4.0</td>\n",
              "      <td>785</td>\n",
              "      <td>31000000.0</td>\n",
              "      <td>50000</td>\n",
              "      <td>Free</td>\n",
              "      <td>0.0</td>\n",
              "      <td>13</td>\n",
              "      <td>[Entertainment]</td>\n",
              "      <td>3-Jun-15</td>\n",
              "      <td>1.3.1</td>\n",
              "      <td>3.0 and up</td>\n",
              "    </tr>\n",
              "    <tr>\n",
              "      <th>10815</th>\n",
              "      <td>Golden Dictionary (FR-AR)</td>\n",
              "      <td>BOOKS_AND_REFERENCE</td>\n",
              "      <td>4.2</td>\n",
              "      <td>5775</td>\n",
              "      <td>4900000.0</td>\n",
              "      <td>500000</td>\n",
              "      <td>Free</td>\n",
              "      <td>0.0</td>\n",
              "      <td>0</td>\n",
              "      <td>[Books &amp; Reference]</td>\n",
              "      <td>19-Jul-18</td>\n",
              "      <td>7.0.4.6</td>\n",
              "      <td>4.2 and up</td>\n",
              "    </tr>\n",
              "    <tr>\n",
              "      <th>10817</th>\n",
              "      <td>HTC Sense Input - FR</td>\n",
              "      <td>TOOLS</td>\n",
              "      <td>4.0</td>\n",
              "      <td>885</td>\n",
              "      <td>8000000.0</td>\n",
              "      <td>100000</td>\n",
              "      <td>Free</td>\n",
              "      <td>0.0</td>\n",
              "      <td>0</td>\n",
              "      <td>[Tools]</td>\n",
              "      <td>30-Oct-15</td>\n",
              "      <td>1.0.612928</td>\n",
              "      <td>5.0 and up</td>\n",
              "    </tr>\n",
              "    <tr>\n",
              "      <th>10819</th>\n",
              "      <td>Fanfic-FR</td>\n",
              "      <td>BOOKS_AND_REFERENCE</td>\n",
              "      <td>3.3</td>\n",
              "      <td>52</td>\n",
              "      <td>3600000.0</td>\n",
              "      <td>5000</td>\n",
              "      <td>Free</td>\n",
              "      <td>0.0</td>\n",
              "      <td>13</td>\n",
              "      <td>[Books &amp; Reference]</td>\n",
              "      <td>5-Aug-17</td>\n",
              "      <td>0.3.4</td>\n",
              "      <td>4.1 and up</td>\n",
              "    </tr>\n",
              "    <tr>\n",
              "      <th>10820</th>\n",
              "      <td>Fr. Daoud Lamei</td>\n",
              "      <td>FAMILY</td>\n",
              "      <td>5.0</td>\n",
              "      <td>22</td>\n",
              "      <td>8600000.0</td>\n",
              "      <td>1000</td>\n",
              "      <td>Free</td>\n",
              "      <td>0.0</td>\n",
              "      <td>13</td>\n",
              "      <td>[Education]</td>\n",
              "      <td>27-Jun-18</td>\n",
              "      <td>3.8.0</td>\n",
              "      <td>4.1 and up</td>\n",
              "    </tr>\n",
              "    <tr>\n",
              "      <th>10826</th>\n",
              "      <td>Frim: get new friends on local chat rooms</td>\n",
              "      <td>SOCIAL</td>\n",
              "      <td>4.0</td>\n",
              "      <td>88486</td>\n",
              "      <td>NaN</td>\n",
              "      <td>5000000</td>\n",
              "      <td>Free</td>\n",
              "      <td>0.0</td>\n",
              "      <td>17</td>\n",
              "      <td>[Social]</td>\n",
              "      <td>23-Mar-18</td>\n",
              "      <td>Varies with device</td>\n",
              "      <td>Varies with device</td>\n",
              "    </tr>\n",
              "    <tr>\n",
              "      <th>10827</th>\n",
              "      <td>Fr Agnel Ambarnath</td>\n",
              "      <td>FAMILY</td>\n",
              "      <td>4.2</td>\n",
              "      <td>117</td>\n",
              "      <td>13000000.0</td>\n",
              "      <td>5000</td>\n",
              "      <td>Free</td>\n",
              "      <td>0.0</td>\n",
              "      <td>0</td>\n",
              "      <td>[Education]</td>\n",
              "      <td>13-Jun-18</td>\n",
              "      <td>2.0.20</td>\n",
              "      <td>4.0.3 and up</td>\n",
              "    </tr>\n",
              "    <tr>\n",
              "      <th>10828</th>\n",
              "      <td>Manga-FR - Anime Vostfr</td>\n",
              "      <td>COMICS</td>\n",
              "      <td>3.4</td>\n",
              "      <td>291</td>\n",
              "      <td>13000000.0</td>\n",
              "      <td>10000</td>\n",
              "      <td>Free</td>\n",
              "      <td>0.0</td>\n",
              "      <td>0</td>\n",
              "      <td>[Comics]</td>\n",
              "      <td>15-May-17</td>\n",
              "      <td>2.0.1</td>\n",
              "      <td>4.0 and up</td>\n",
              "    </tr>\n",
              "    <tr>\n",
              "      <th>10829</th>\n",
              "      <td>Bulgarian French Dictionary Fr</td>\n",
              "      <td>BOOKS_AND_REFERENCE</td>\n",
              "      <td>4.6</td>\n",
              "      <td>603</td>\n",
              "      <td>7400000.0</td>\n",
              "      <td>10000</td>\n",
              "      <td>Free</td>\n",
              "      <td>0.0</td>\n",
              "      <td>0</td>\n",
              "      <td>[Books &amp; Reference]</td>\n",
              "      <td>19-Jun-16</td>\n",
              "      <td>2.96</td>\n",
              "      <td>4.1 and up</td>\n",
              "    </tr>\n",
              "    <tr>\n",
              "      <th>10830</th>\n",
              "      <td>News Minecraft.fr</td>\n",
              "      <td>NEWS_AND_MAGAZINES</td>\n",
              "      <td>3.8</td>\n",
              "      <td>881</td>\n",
              "      <td>2300000.0</td>\n",
              "      <td>100000</td>\n",
              "      <td>Free</td>\n",
              "      <td>0.0</td>\n",
              "      <td>0</td>\n",
              "      <td>[News &amp; Magazines]</td>\n",
              "      <td>20-Jan-14</td>\n",
              "      <td>1.5</td>\n",
              "      <td>1.6 and up</td>\n",
              "    </tr>\n",
              "    <tr>\n",
              "      <th>10832</th>\n",
              "      <td>FR Tides</td>\n",
              "      <td>WEATHER</td>\n",
              "      <td>3.8</td>\n",
              "      <td>1195</td>\n",
              "      <td>582000.0</td>\n",
              "      <td>100000</td>\n",
              "      <td>Free</td>\n",
              "      <td>0.0</td>\n",
              "      <td>0</td>\n",
              "      <td>[Weather]</td>\n",
              "      <td>16-Feb-14</td>\n",
              "      <td>6</td>\n",
              "      <td>2.1 and up</td>\n",
              "    </tr>\n",
              "    <tr>\n",
              "      <th>10833</th>\n",
              "      <td>Chemin (fr)</td>\n",
              "      <td>BOOKS_AND_REFERENCE</td>\n",
              "      <td>4.8</td>\n",
              "      <td>44</td>\n",
              "      <td>619000.0</td>\n",
              "      <td>1000</td>\n",
              "      <td>Free</td>\n",
              "      <td>0.0</td>\n",
              "      <td>0</td>\n",
              "      <td>[Books &amp; Reference]</td>\n",
              "      <td>23-Mar-14</td>\n",
              "      <td>0.8</td>\n",
              "      <td>2.2 and up</td>\n",
              "    </tr>\n",
              "    <tr>\n",
              "      <th>10834</th>\n",
              "      <td>FR Calculator</td>\n",
              "      <td>FAMILY</td>\n",
              "      <td>4.0</td>\n",
              "      <td>7</td>\n",
              "      <td>2600000.0</td>\n",
              "      <td>500</td>\n",
              "      <td>Free</td>\n",
              "      <td>0.0</td>\n",
              "      <td>0</td>\n",
              "      <td>[Education]</td>\n",
              "      <td>18-Jun-17</td>\n",
              "      <td>1.0.0</td>\n",
              "      <td>4.1 and up</td>\n",
              "    </tr>\n",
              "    <tr>\n",
              "      <th>10836</th>\n",
              "      <td>Sya9a Maroc - FR</td>\n",
              "      <td>FAMILY</td>\n",
              "      <td>4.5</td>\n",
              "      <td>38</td>\n",
              "      <td>53000000.0</td>\n",
              "      <td>5000</td>\n",
              "      <td>Free</td>\n",
              "      <td>0.0</td>\n",
              "      <td>0</td>\n",
              "      <td>[Education]</td>\n",
              "      <td>25-Jul-17</td>\n",
              "      <td>1.48</td>\n",
              "      <td>4.1 and up</td>\n",
              "    </tr>\n",
              "    <tr>\n",
              "      <th>10837</th>\n",
              "      <td>Fr. Mike Schmitz Audio Teachings</td>\n",
              "      <td>FAMILY</td>\n",
              "      <td>5.0</td>\n",
              "      <td>4</td>\n",
              "      <td>3600000.0</td>\n",
              "      <td>100</td>\n",
              "      <td>Free</td>\n",
              "      <td>0.0</td>\n",
              "      <td>0</td>\n",
              "      <td>[Education]</td>\n",
              "      <td>6-Jul-18</td>\n",
              "      <td>1</td>\n",
              "      <td>4.1 and up</td>\n",
              "    </tr>\n",
              "    <tr>\n",
              "      <th>10839</th>\n",
              "      <td>The SCP Foundation DB fr nn5n</td>\n",
              "      <td>BOOKS_AND_REFERENCE</td>\n",
              "      <td>4.5</td>\n",
              "      <td>114</td>\n",
              "      <td>NaN</td>\n",
              "      <td>1000</td>\n",
              "      <td>Free</td>\n",
              "      <td>0.0</td>\n",
              "      <td>17</td>\n",
              "      <td>[Books &amp; Reference]</td>\n",
              "      <td>19-Jan-15</td>\n",
              "      <td>Varies with device</td>\n",
              "      <td>Varies with device</td>\n",
              "    </tr>\n",
              "    <tr>\n",
              "      <th>10840</th>\n",
              "      <td>iHoroscope - 2018 Daily Horoscope &amp; Astrology</td>\n",
              "      <td>LIFESTYLE</td>\n",
              "      <td>4.5</td>\n",
              "      <td>398307</td>\n",
              "      <td>19000000.0</td>\n",
              "      <td>10000000</td>\n",
              "      <td>Free</td>\n",
              "      <td>0.0</td>\n",
              "      <td>0</td>\n",
              "      <td>[Lifestyle]</td>\n",
              "      <td>25-Jul-18</td>\n",
              "      <td>Varies with device</td>\n",
              "      <td>Varies with device</td>\n",
              "    </tr>\n",
              "  </tbody>\n",
              "</table>\n",
              "<p>9360 rows × 13 columns</p>\n",
              "</div>"
            ],
            "text/plain": [
              "                                                     app             category  \\\n",
              "0         Photo Editor & Candy Camera & Grid & ScrapBook       ART_AND_DESIGN   \n",
              "1                                    Coloring book moana       ART_AND_DESIGN   \n",
              "2      U Launcher Lite – FREE Live Cool Themes, Hide ...       ART_AND_DESIGN   \n",
              "3                                  Sketch - Draw & Paint       ART_AND_DESIGN   \n",
              "4                  Pixel Draw - Number Art Coloring Book       ART_AND_DESIGN   \n",
              "5                             Paper flowers instructions       ART_AND_DESIGN   \n",
              "6                Smoke Effect Photo Maker - Smoke Editor       ART_AND_DESIGN   \n",
              "7                                       Infinite Painter       ART_AND_DESIGN   \n",
              "8                                   Garden Coloring Book       ART_AND_DESIGN   \n",
              "9                          Kids Paint Free - Drawing Fun       ART_AND_DESIGN   \n",
              "10                               Text on Photo - Fonteee       ART_AND_DESIGN   \n",
              "11               Name Art Photo Editor - Focus n Filters       ART_AND_DESIGN   \n",
              "12                        Tattoo Name On My Photo Editor       ART_AND_DESIGN   \n",
              "13                                 Mandala Coloring Book       ART_AND_DESIGN   \n",
              "14       3D Color Pixel by Number - Sandbox Art Coloring       ART_AND_DESIGN   \n",
              "16          Photo Designer - Write your name with shapes       ART_AND_DESIGN   \n",
              "17                              350 Diy Room Decor Ideas       ART_AND_DESIGN   \n",
              "18                         FlipaClip - Cartoon animation       ART_AND_DESIGN   \n",
              "19                                          ibis Paint X       ART_AND_DESIGN   \n",
              "20                           Logo Maker - Small Business       ART_AND_DESIGN   \n",
              "21             Boys Photo Editor - Six Pack & Men's Suit       ART_AND_DESIGN   \n",
              "22               Superheroes Wallpapers | 4K Backgrounds       ART_AND_DESIGN   \n",
              "24                           HD Mickey Minnie Wallpapers       ART_AND_DESIGN   \n",
              "25                            Harley Quinn wallpapers HD       ART_AND_DESIGN   \n",
              "26                         Colorfit - Drawing & Coloring       ART_AND_DESIGN   \n",
              "27                                 Animated Photo Editor       ART_AND_DESIGN   \n",
              "28                                 Pencil Sketch Drawing       ART_AND_DESIGN   \n",
              "29                       Easy Realistic Drawing Tutorial       ART_AND_DESIGN   \n",
              "30                        Pink Silver Bow Keyboard Theme       ART_AND_DESIGN   \n",
              "31                                     Art Drawing Ideas       ART_AND_DESIGN   \n",
              "...                                                  ...                  ...   \n",
              "10795                           Reindeer VPN - Proxy VPN                TOOLS   \n",
              "10796   Inf VPN - Global Proxy & Unlimited Free WIFI VPN                TOOLS   \n",
              "10797                              Fuel Rewards® program            LIFESTYLE   \n",
              "10799                                     Fr Daoud Lamei               SOCIAL   \n",
              "10800                                          FR Roster                TOOLS   \n",
              "10801                                Fr Ignacio Outreach               FAMILY   \n",
              "10802                                FR: My Famous Lover               FAMILY   \n",
              "10803                       Fatal Raid - No.1 Mobile FPS                 GAME   \n",
              "10804                                       Poker Pro.Fr                 GAME   \n",
              "10805                                      Scoreboard FR            LIFESTYLE   \n",
              "10809              Castle Clash: RPG War and Strategy FR               FAMILY   \n",
              "10810                                  Fr Lupupa Sermons             BUSINESS   \n",
              "10812                                      Fr Agnel Pune               FAMILY   \n",
              "10814                               FR: My Secret Pets!                FAMILY   \n",
              "10815                          Golden Dictionary (FR-AR)  BOOKS_AND_REFERENCE   \n",
              "10817                               HTC Sense Input - FR                TOOLS   \n",
              "10819                                          Fanfic-FR  BOOKS_AND_REFERENCE   \n",
              "10820                                    Fr. Daoud Lamei               FAMILY   \n",
              "10826          Frim: get new friends on local chat rooms               SOCIAL   \n",
              "10827                                 Fr Agnel Ambarnath               FAMILY   \n",
              "10828                            Manga-FR - Anime Vostfr               COMICS   \n",
              "10829                     Bulgarian French Dictionary Fr  BOOKS_AND_REFERENCE   \n",
              "10830                                  News Minecraft.fr   NEWS_AND_MAGAZINES   \n",
              "10832                                           FR Tides              WEATHER   \n",
              "10833                                        Chemin (fr)  BOOKS_AND_REFERENCE   \n",
              "10834                                      FR Calculator               FAMILY   \n",
              "10836                                   Sya9a Maroc - FR               FAMILY   \n",
              "10837                   Fr. Mike Schmitz Audio Teachings               FAMILY   \n",
              "10839                      The SCP Foundation DB fr nn5n  BOOKS_AND_REFERENCE   \n",
              "10840      iHoroscope - 2018 Daily Horoscope & Astrology            LIFESTYLE   \n",
              "\n",
              "       rating  reviews        size  installs  type  price  contentRating  \\\n",
              "0         4.1      159  19000000.0     10000  Free    0.0              0   \n",
              "1         3.9      967  14000000.0    500000  Free    0.0              0   \n",
              "2         4.7    87510   8700000.0   5000000  Free    0.0              0   \n",
              "3         4.5   215644  25000000.0  50000000  Free    0.0             13   \n",
              "4         4.3      967   2800000.0    100000  Free    0.0              0   \n",
              "5         4.4      167   5600000.0     50000  Free    0.0              0   \n",
              "6         3.8      178  19000000.0     50000  Free    0.0              0   \n",
              "7         4.1    36815  29000000.0   1000000  Free    0.0              0   \n",
              "8         4.4    13791  33000000.0   1000000  Free    0.0              0   \n",
              "9         4.7      121   3100000.0     10000  Free    0.0              0   \n",
              "10        4.4    13880  28000000.0   1000000  Free    0.0              0   \n",
              "11        4.4     8788  12000000.0   1000000  Free    0.0              0   \n",
              "12        4.2    44829  20000000.0  10000000  Free    0.0             13   \n",
              "13        4.6     4326  21000000.0    100000  Free    0.0              0   \n",
              "14        4.4     1518  37000000.0    100000  Free    0.0              0   \n",
              "16        4.7     3632   5500000.0    500000  Free    0.0              0   \n",
              "17        4.5       27  17000000.0     10000  Free    0.0              0   \n",
              "18        4.3   194216  39000000.0   5000000  Free    0.0              0   \n",
              "19        4.6   224399  31000000.0  10000000  Free    0.0              0   \n",
              "20        4.0      450  14000000.0    100000  Free    0.0              0   \n",
              "21        4.1      654  12000000.0    100000  Free    0.0              0   \n",
              "22        4.7     7699   4200000.0    500000  Free    0.0             10   \n",
              "24        4.7      118  23000000.0     50000  Free    0.0              0   \n",
              "25        4.8      192   6000000.0     10000  Free    0.0              0   \n",
              "26        4.7    20260  25000000.0    500000  Free    0.0              0   \n",
              "27        4.1      203   6100000.0    100000  Free    0.0              0   \n",
              "28        3.9      136   4600000.0     10000  Free    0.0              0   \n",
              "29        4.1      223   4200000.0    100000  Free    0.0              0   \n",
              "30        4.2     1120   9200000.0    100000  Free    0.0              0   \n",
              "31        4.1      227   5200000.0     50000  Free    0.0              0   \n",
              "...       ...      ...         ...       ...   ...    ...            ...   \n",
              "10795     4.2     7339   4000000.0    100000  Free    0.0              0   \n",
              "10796     4.7    61445   7800000.0   1000000  Free    0.0              0   \n",
              "10797     4.6    32433  46000000.0   1000000  Free    0.0              0   \n",
              "10799     4.7     2036   6800000.0    100000  Free    0.0              0   \n",
              "10800     4.1      174  12000000.0      5000  Free    0.0              0   \n",
              "10801     4.9       52  19000000.0      1000  Free    0.0              0   \n",
              "10802     4.0      185  28000000.0     10000  Free    0.0             13   \n",
              "10803     4.3    56496  81000000.0   1000000  Free    0.0             13   \n",
              "10804     4.2     5442  17000000.0    100000  Free    0.0             13   \n",
              "10805     4.3        3  15000000.0       100  Free    0.0              0   \n",
              "10809     4.7   376223  24000000.0   1000000  Free    0.0              0   \n",
              "10810     4.8       19  21000000.0       100  Free    0.0              0   \n",
              "10812     4.1       80  13000000.0      1000  Free    0.0              0   \n",
              "10814     4.0      785  31000000.0     50000  Free    0.0             13   \n",
              "10815     4.2     5775   4900000.0    500000  Free    0.0              0   \n",
              "10817     4.0      885   8000000.0    100000  Free    0.0              0   \n",
              "10819     3.3       52   3600000.0      5000  Free    0.0             13   \n",
              "10820     5.0       22   8600000.0      1000  Free    0.0             13   \n",
              "10826     4.0    88486         NaN   5000000  Free    0.0             17   \n",
              "10827     4.2      117  13000000.0      5000  Free    0.0              0   \n",
              "10828     3.4      291  13000000.0     10000  Free    0.0              0   \n",
              "10829     4.6      603   7400000.0     10000  Free    0.0              0   \n",
              "10830     3.8      881   2300000.0    100000  Free    0.0              0   \n",
              "10832     3.8     1195    582000.0    100000  Free    0.0              0   \n",
              "10833     4.8       44    619000.0      1000  Free    0.0              0   \n",
              "10834     4.0        7   2600000.0       500  Free    0.0              0   \n",
              "10836     4.5       38  53000000.0      5000  Free    0.0              0   \n",
              "10837     5.0        4   3600000.0       100  Free    0.0              0   \n",
              "10839     4.5      114         NaN      1000  Free    0.0             17   \n",
              "10840     4.5   398307  19000000.0  10000000  Free    0.0              0   \n",
              "\n",
              "                             genres    updated             version  \\\n",
              "0                    [Art & Design]   7-Jan-18               1.0.0   \n",
              "1      [Art & Design, Pretend Play]  15-Jan-18               2.0.0   \n",
              "2                    [Art & Design]   1-Aug-18               1.2.4   \n",
              "3                    [Art & Design]   8-Jun-18  Varies with device   \n",
              "4        [Art & Design, Creativity]  20-Jun-18                 1.1   \n",
              "5                    [Art & Design]  26-Mar-17                   1   \n",
              "6                    [Art & Design]  26-Apr-18                 1.1   \n",
              "7                    [Art & Design]  14-Jun-18            6.1.61.1   \n",
              "8                    [Art & Design]  20-Sep-17               2.9.2   \n",
              "9        [Art & Design, Creativity]   3-Jul-18                 2.8   \n",
              "10                   [Art & Design]  27-Oct-17               1.0.4   \n",
              "11                   [Art & Design]  31-Jul-18              1.0.15   \n",
              "12                   [Art & Design]   2-Apr-18                 3.8   \n",
              "13                   [Art & Design]  26-Jun-18               1.0.4   \n",
              "14                   [Art & Design]   3-Aug-18               1.2.3   \n",
              "16                   [Art & Design]  31-Jul-18                 3.1   \n",
              "17                   [Art & Design]   7-Nov-17                   1   \n",
              "18                   [Art & Design]   3-Aug-18               2.2.5   \n",
              "19                   [Art & Design]  30-Jul-18               5.5.4   \n",
              "20                   [Art & Design]  20-Apr-18                   4   \n",
              "21                   [Art & Design]  20-Mar-18                 1.1   \n",
              "22                   [Art & Design]  12-Jul-18             2.2.6.2   \n",
              "24                   [Art & Design]   7-Jul-18               1.1.3   \n",
              "25                   [Art & Design]  25-Apr-18                 1.5   \n",
              "26       [Art & Design, Creativity]  11-Oct-17               1.0.8   \n",
              "27                   [Art & Design]  21-Mar-18                1.03   \n",
              "28                   [Art & Design]  12-Jul-18                   6   \n",
              "29                   [Art & Design]  22-Aug-17                   1   \n",
              "30                   [Art & Design]  12-Jul-18         6.7.12.2018   \n",
              "31                   [Art & Design]  31-May-18                 1.2   \n",
              "...                             ...        ...                 ...   \n",
              "10795                       [Tools]  10-May-18                1.74   \n",
              "10796                       [Tools]  26-Jul-18             1.9.734   \n",
              "10797                   [Lifestyle]  26-Jun-18               2.9.1   \n",
              "10799                      [Social]  20-May-18                1.72   \n",
              "10800                       [Tools]  30-Jul-18                6.04   \n",
              "10801                   [Education]  19-Jan-18                   1   \n",
              "10802               [Entertainment]   6-Aug-15               1.3.0   \n",
              "10803                      [Action]   7-Aug-18             1.5.447   \n",
              "10804                        [Card]  22-May-18               4.1.3   \n",
              "10805                   [Lifestyle]   7-Aug-18                 2.1   \n",
              "10809                    [Strategy]  18-Jul-18               1.4.2   \n",
              "10810                    [Business]  12-Jun-18                   1   \n",
              "10812                   [Education]  13-Jun-18              2.0.20   \n",
              "10814               [Entertainment]   3-Jun-15               1.3.1   \n",
              "10815           [Books & Reference]  19-Jul-18             7.0.4.6   \n",
              "10817                       [Tools]  30-Oct-15          1.0.612928   \n",
              "10819           [Books & Reference]   5-Aug-17               0.3.4   \n",
              "10820                   [Education]  27-Jun-18               3.8.0   \n",
              "10826                      [Social]  23-Mar-18  Varies with device   \n",
              "10827                   [Education]  13-Jun-18              2.0.20   \n",
              "10828                      [Comics]  15-May-17               2.0.1   \n",
              "10829           [Books & Reference]  19-Jun-16                2.96   \n",
              "10830            [News & Magazines]  20-Jan-14                 1.5   \n",
              "10832                     [Weather]  16-Feb-14                   6   \n",
              "10833           [Books & Reference]  23-Mar-14                 0.8   \n",
              "10834                   [Education]  18-Jun-17               1.0.0   \n",
              "10836                   [Education]  25-Jul-17                1.48   \n",
              "10837                   [Education]   6-Jul-18                   1   \n",
              "10839           [Books & Reference]  19-Jan-15  Varies with device   \n",
              "10840                   [Lifestyle]  25-Jul-18  Varies with device   \n",
              "\n",
              "           androidVersion  \n",
              "0            4.0.3 and up  \n",
              "1            4.0.3 and up  \n",
              "2            4.0.3 and up  \n",
              "3              4.2 and up  \n",
              "4              4.4 and up  \n",
              "5              2.3 and up  \n",
              "6            4.0.3 and up  \n",
              "7              4.2 and up  \n",
              "8              3.0 and up  \n",
              "9            4.0.3 and up  \n",
              "10             4.1 and up  \n",
              "11             4.0 and up  \n",
              "12             4.1 and up  \n",
              "13             4.4 and up  \n",
              "14             2.3 and up  \n",
              "16             4.1 and up  \n",
              "17             2.3 and up  \n",
              "18           4.0.3 and up  \n",
              "19             4.1 and up  \n",
              "20             4.1 and up  \n",
              "21           4.0.3 and up  \n",
              "22           4.0.3 and up  \n",
              "24             4.1 and up  \n",
              "25             3.0 and up  \n",
              "26           4.0.3 and up  \n",
              "27           4.0.3 and up  \n",
              "28             2.3 and up  \n",
              "29             2.3 and up  \n",
              "30           4.0.3 and up  \n",
              "31             2.3 and up  \n",
              "...                   ...  \n",
              "10795          4.1 and up  \n",
              "10796          4.1 and up  \n",
              "10797          5.0 and up  \n",
              "10799        4.0.3 and up  \n",
              "10800          4.4 and up  \n",
              "10801          4.4 and up  \n",
              "10802          3.0 and up  \n",
              "10803          4.0 and up  \n",
              "10804          2.3 and up  \n",
              "10805          4.2 and up  \n",
              "10809          4.1 and up  \n",
              "10810          4.4 and up  \n",
              "10812        4.0.3 and up  \n",
              "10814          3.0 and up  \n",
              "10815          4.2 and up  \n",
              "10817          5.0 and up  \n",
              "10819          4.1 and up  \n",
              "10820          4.1 and up  \n",
              "10826  Varies with device  \n",
              "10827        4.0.3 and up  \n",
              "10828          4.0 and up  \n",
              "10829          4.1 and up  \n",
              "10830          1.6 and up  \n",
              "10832          2.1 and up  \n",
              "10833          2.2 and up  \n",
              "10834          4.1 and up  \n",
              "10836          4.1 and up  \n",
              "10837          4.1 and up  \n",
              "10839  Varies with device  \n",
              "10840  Varies with device  \n",
              "\n",
              "[9360 rows x 13 columns]"
            ]
          },
          "metadata": {
            "tags": []
          },
          "execution_count": 462
        }
      ]
    },
    {
      "metadata": {
        "id": "DcLSH7YKUOZe",
        "colab_type": "code",
        "colab": {}
      },
      "cell_type": "code",
      "source": [
        "# we drop na again because some conversions may result in nan values\n",
        "data.dropna(inplace=True)"
      ],
      "execution_count": 0,
      "outputs": []
    },
    {
      "metadata": {
        "id": "a3mllxFQ1ilO",
        "colab_type": "text"
      },
      "cell_type": "markdown",
      "source": [
        "##DATA EXPLORATION"
      ]
    },
    {
      "metadata": {
        "id": "ABv0d6X_3EjJ",
        "colab_type": "code",
        "colab": {}
      },
      "cell_type": "code",
      "source": [
        "def reject_outliers(data):\n",
        "    u = np.mean(data)\n",
        "    s = np.std(data)\n",
        "    data_filtered = data[(data > u-2*s) & (data < u+2*s)]\n",
        "    return data_filtered"
      ],
      "execution_count": 0,
      "outputs": []
    },
    {
      "metadata": {
        "id": "-4YIWVFf3Jnp",
        "colab_type": "code",
        "colab": {}
      },
      "cell_type": "code",
      "source": [
        "#data.rating = reject_outliers(data.rating)\n",
        "#data.reviews = reject_outliers(data.reviews)\n",
        "#data['size'] = reject_outliers(data['size'])\n",
        "#data.installs = reject_outliers(data.installs)\n",
        "#data.price = reject_outliers(data.price)"
      ],
      "execution_count": 0,
      "outputs": []
    },
    {
      "metadata": {
        "id": "n7eNUXNCIup8",
        "colab_type": "code",
        "outputId": "d4f99b39-a5b6-4833-a696-e122727c8b5f",
        "colab": {
          "base_uri": "https://localhost:8080/",
          "height": 170
        }
      },
      "cell_type": "code",
      "source": [
        "data.rating.describe()"
      ],
      "execution_count": 466,
      "outputs": [
        {
          "output_type": "execute_result",
          "data": {
            "text/plain": [
              "count    7723.000000\n",
              "mean        4.173935\n",
              "std         0.544638\n",
              "min         1.000000\n",
              "25%         4.000000\n",
              "50%         4.300000\n",
              "75%         4.500000\n",
              "max         5.000000\n",
              "Name: rating, dtype: float64"
            ]
          },
          "metadata": {
            "tags": []
          },
          "execution_count": 466
        }
      ]
    },
    {
      "metadata": {
        "id": "3Wxg6J80Ta41",
        "colab_type": "code",
        "outputId": "829f844f-6a6e-461c-ad72-01fc3f48fdc0",
        "colab": {
          "base_uri": "https://localhost:8080/",
          "height": 389
        }
      },
      "cell_type": "code",
      "source": [
        "x = data.rating\n",
        "plt.figure(figsize = (8, 6))\n",
        "plt.ylabel('Rating')\n",
        "plt.title('Playstore Apps Ratings Boxplot')\n",
        "plt.boxplot(x, sym=\"k.\")\n",
        "plt.show()"
      ],
      "execution_count": 467,
      "outputs": [
        {
          "output_type": "display_data",
          "data": {
            "image/png": "[encoded data removed]",
            "text/plain": [
              "<matplotlib.figure.Figure at 0x7f632a1f2898>"
            ]
          },
          "metadata": {
            "tags": []
          }
        }
      ]
    },
    {
      "metadata": {
        "id": "lqqpvB_h2cK1",
        "colab_type": "code",
        "outputId": "6d4e925d-7ae3-4222-c302-d938eca79a2d",
        "colab": {
          "base_uri": "https://localhost:8080/",
          "height": 170
        }
      },
      "cell_type": "code",
      "source": [
        "data.reviews.describe()"
      ],
      "execution_count": 468,
      "outputs": [
        {
          "output_type": "execute_result",
          "data": {
            "text/plain": [
              "count    7.723000e+03\n",
              "mean     2.948983e+05\n",
              "std      1.863933e+06\n",
              "min      1.000000e+00\n",
              "25%      1.075000e+02\n",
              "50%      2.332000e+03\n",
              "75%      3.905300e+04\n",
              "max      4.489389e+07\n",
              "Name: reviews, dtype: float64"
            ]
          },
          "metadata": {
            "tags": []
          },
          "execution_count": 468
        }
      ]
    },
    {
      "metadata": {
        "id": "AtE28rPcYIyq",
        "colab_type": "code",
        "outputId": "1ccb309a-a83a-4c15-f163-a6d737c4153f",
        "colab": {
          "base_uri": "https://localhost:8080/",
          "height": 389
        }
      },
      "cell_type": "code",
      "source": [
        "x = data.reviews\n",
        "plt.figure(figsize = (8, 6))\n",
        "plt.ylabel('Reviews')\n",
        "plt.title('Playstore Apps Reviews Boxplot')\n",
        "plt.boxplot(x, sym=\"k.\")\n",
        "plt.show()"
      ],
      "execution_count": 469,
      "outputs": [
        {
          "output_type": "display_data",
          "data": {
            "image/png": "[encoded data removed]",
            "text/plain": [
              "<matplotlib.figure.Figure at 0x7f632af23fd0>"
            ]
          },
          "metadata": {
            "tags": []
          }
        }
      ]
    },
    {
      "metadata": {
        "id": "yuYj1_rGvvi1",
        "colab_type": "text"
      },
      "cell_type": "markdown",
      "source": [
        "The boxplot obtained is what one would expect out of a large [long tailed distribution](https://en.wikipedia.org/wiki/Long_tail). We use a histogram here to show it. \n",
        "\n",
        "https://python-graph-gallery.com/20-basic-histogram-seaborn/"
      ]
    },
    {
      "metadata": {
        "id": "uNXXhorgwgl0",
        "colab_type": "code",
        "outputId": "dfb143a1-daf9-417b-873a-e4b884b2ca9b",
        "colab": {
          "base_uri": "https://localhost:8080/",
          "height": 378
        }
      },
      "cell_type": "code",
      "source": [
        "# Import library and dataset\n",
        "import seaborn as sns\n",
        "\n",
        " \n",
        "sns.distplot( data[\"reviews\"] )\n",
        "#sns.plt.show()\n",
        " \n",
        "# Control the number of bins\n",
        "#sns.distplot( data[\"reviews\"], bins=20 )\n",
        "#sns.plt.show()\n"
      ],
      "execution_count": 470,
      "outputs": [
        {
          "output_type": "execute_result",
          "data": {
            "text/plain": [
              "<matplotlib.axes._subplots.AxesSubplot at 0x7f632a3b0f60>"
            ]
          },
          "metadata": {
            "tags": []
          },
          "execution_count": 470
        },
        {
          "output_type": "display_data",
          "data": {
            "image/png": "[encoded data removed]",
            "text/plain": [
              "<matplotlib.figure.Figure at 0x7f632a203f28>"
            ]
          },
          "metadata": {
            "tags": []
          }
        }
      ]
    },
    {
      "metadata": {
        "id": "5dQ91UpCvPSx",
        "colab_type": "code",
        "outputId": "49e9ff87-61ec-4397-a3b0-e1c3e5822923",
        "colab": {
          "base_uri": "https://localhost:8080/",
          "height": 34
        }
      },
      "cell_type": "code",
      "source": [
        "# we have apps in the range of 1 reviews up to 44 million reviews \n",
        "np.sort(data.reviews.unique())"
      ],
      "execution_count": 471,
      "outputs": [
        {
          "output_type": "execute_result",
          "data": {
            "text/plain": [
              "array([       1,        2,        3, ..., 44881447, 44891723, 44893888])"
            ]
          },
          "metadata": {
            "tags": []
          },
          "execution_count": 471
        }
      ]
    },
    {
      "metadata": {
        "id": "kKyvhEJb03nN",
        "colab_type": "code",
        "outputId": "2fd69dc8-480c-4773-edf3-69d96c7281dc",
        "colab": {
          "base_uri": "https://localhost:8080/",
          "height": 68
        }
      },
      "cell_type": "code",
      "source": [
        "data['rating'].unique()"
      ],
      "execution_count": 472,
      "outputs": [
        {
          "output_type": "execute_result",
          "data": {
            "text/plain": [
              "array([4.1, 3.9, 4.7, 4.5, 4.3, 4.4, 3.8, 4.2, 4.6, 4. , 4.8, 4.9, 3.6,\n",
              "       3.7, 3.2, 3.3, 3.4, 3.5, 3.1, 5. , 2.6, 3. , 1.9, 2.5, 2.8, 2.7,\n",
              "       1. , 2.9, 2.3, 2.2, 1.7, 2. , 1.8, 2.4, 1.6, 2.1, 1.4, 1.5, 1.2])"
            ]
          },
          "metadata": {
            "tags": []
          },
          "execution_count": 472
        }
      ]
    },
    {
      "metadata": {
        "id": "t6nuN6I20gvX",
        "colab_type": "text"
      },
      "cell_type": "markdown",
      "source": [
        "4.4 is the most frequent rating. "
      ]
    },
    {
      "metadata": {
        "id": "lCsVPl-ryZvS",
        "colab_type": "code",
        "outputId": "794f6c9a-a900-4603-bf5d-813bcb4c0d7d",
        "colab": {
          "base_uri": "https://localhost:8080/",
          "height": 1258
        }
      },
      "cell_type": "code",
      "source": [
        "\n",
        "# https://stackoverflow.com/a/39787748/45963\n",
        "ratings, counts = np.unique(data['rating'], return_counts=True)\n",
        "\n",
        "d = {'ratings': ratings, 'counts': counts}\n",
        "\n",
        "pd.DataFrame(data=d)"
      ],
      "execution_count": 473,
      "outputs": [
        {
          "output_type": "execute_result",
          "data": {
            "text/html": [
              "<div>\n",
              "<style scoped>\n",
              "    .dataframe tbody tr th:only-of-type {\n",
              "        vertical-align: middle;\n",
              "    }\n",
              "\n",
              "    .dataframe tbody tr th {\n",
              "        vertical-align: top;\n",
              "    }\n",
              "\n",
              "    .dataframe thead th {\n",
              "        text-align: right;\n",
              "    }\n",
              "</style>\n",
              "<table border=\"1\" class=\"dataframe\">\n",
              "  <thead>\n",
              "    <tr style=\"text-align: right;\">\n",
              "      <th></th>\n",
              "      <th>counts</th>\n",
              "      <th>ratings</th>\n",
              "    </tr>\n",
              "  </thead>\n",
              "  <tbody>\n",
              "    <tr>\n",
              "      <th>0</th>\n",
              "      <td>16</td>\n",
              "      <td>1.0</td>\n",
              "    </tr>\n",
              "    <tr>\n",
              "      <th>1</th>\n",
              "      <td>1</td>\n",
              "      <td>1.2</td>\n",
              "    </tr>\n",
              "    <tr>\n",
              "      <th>2</th>\n",
              "      <td>3</td>\n",
              "      <td>1.4</td>\n",
              "    </tr>\n",
              "    <tr>\n",
              "      <th>3</th>\n",
              "      <td>3</td>\n",
              "      <td>1.5</td>\n",
              "    </tr>\n",
              "    <tr>\n",
              "      <th>4</th>\n",
              "      <td>4</td>\n",
              "      <td>1.6</td>\n",
              "    </tr>\n",
              "    <tr>\n",
              "      <th>5</th>\n",
              "      <td>8</td>\n",
              "      <td>1.7</td>\n",
              "    </tr>\n",
              "    <tr>\n",
              "      <th>6</th>\n",
              "      <td>8</td>\n",
              "      <td>1.8</td>\n",
              "    </tr>\n",
              "    <tr>\n",
              "      <th>7</th>\n",
              "      <td>12</td>\n",
              "      <td>1.9</td>\n",
              "    </tr>\n",
              "    <tr>\n",
              "      <th>8</th>\n",
              "      <td>11</td>\n",
              "      <td>2.0</td>\n",
              "    </tr>\n",
              "    <tr>\n",
              "      <th>9</th>\n",
              "      <td>8</td>\n",
              "      <td>2.1</td>\n",
              "    </tr>\n",
              "    <tr>\n",
              "      <th>10</th>\n",
              "      <td>14</td>\n",
              "      <td>2.2</td>\n",
              "    </tr>\n",
              "    <tr>\n",
              "      <th>11</th>\n",
              "      <td>20</td>\n",
              "      <td>2.3</td>\n",
              "    </tr>\n",
              "    <tr>\n",
              "      <th>12</th>\n",
              "      <td>19</td>\n",
              "      <td>2.4</td>\n",
              "    </tr>\n",
              "    <tr>\n",
              "      <th>13</th>\n",
              "      <td>19</td>\n",
              "      <td>2.5</td>\n",
              "    </tr>\n",
              "    <tr>\n",
              "      <th>14</th>\n",
              "      <td>24</td>\n",
              "      <td>2.6</td>\n",
              "    </tr>\n",
              "    <tr>\n",
              "      <th>15</th>\n",
              "      <td>23</td>\n",
              "      <td>2.7</td>\n",
              "    </tr>\n",
              "    <tr>\n",
              "      <th>16</th>\n",
              "      <td>42</td>\n",
              "      <td>2.8</td>\n",
              "    </tr>\n",
              "    <tr>\n",
              "      <th>17</th>\n",
              "      <td>43</td>\n",
              "      <td>2.9</td>\n",
              "    </tr>\n",
              "    <tr>\n",
              "      <th>18</th>\n",
              "      <td>74</td>\n",
              "      <td>3.0</td>\n",
              "    </tr>\n",
              "    <tr>\n",
              "      <th>19</th>\n",
              "      <td>62</td>\n",
              "      <td>3.1</td>\n",
              "    </tr>\n",
              "    <tr>\n",
              "      <th>20</th>\n",
              "      <td>59</td>\n",
              "      <td>3.2</td>\n",
              "    </tr>\n",
              "    <tr>\n",
              "      <th>21</th>\n",
              "      <td>98</td>\n",
              "      <td>3.3</td>\n",
              "    </tr>\n",
              "    <tr>\n",
              "      <th>22</th>\n",
              "      <td>115</td>\n",
              "      <td>3.4</td>\n",
              "    </tr>\n",
              "    <tr>\n",
              "      <th>23</th>\n",
              "      <td>153</td>\n",
              "      <td>3.5</td>\n",
              "    </tr>\n",
              "    <tr>\n",
              "      <th>24</th>\n",
              "      <td>158</td>\n",
              "      <td>3.6</td>\n",
              "    </tr>\n",
              "    <tr>\n",
              "      <th>25</th>\n",
              "      <td>198</td>\n",
              "      <td>3.7</td>\n",
              "    </tr>\n",
              "    <tr>\n",
              "      <th>26</th>\n",
              "      <td>272</td>\n",
              "      <td>3.8</td>\n",
              "    </tr>\n",
              "    <tr>\n",
              "      <th>27</th>\n",
              "      <td>333</td>\n",
              "      <td>3.9</td>\n",
              "    </tr>\n",
              "    <tr>\n",
              "      <th>28</th>\n",
              "      <td>480</td>\n",
              "      <td>4.0</td>\n",
              "    </tr>\n",
              "    <tr>\n",
              "      <th>29</th>\n",
              "      <td>593</td>\n",
              "      <td>4.1</td>\n",
              "    </tr>\n",
              "    <tr>\n",
              "      <th>30</th>\n",
              "      <td>739</td>\n",
              "      <td>4.2</td>\n",
              "    </tr>\n",
              "    <tr>\n",
              "      <th>31</th>\n",
              "      <td>818</td>\n",
              "      <td>4.3</td>\n",
              "    </tr>\n",
              "    <tr>\n",
              "      <th>32</th>\n",
              "      <td>834</td>\n",
              "      <td>4.4</td>\n",
              "    </tr>\n",
              "    <tr>\n",
              "      <th>33</th>\n",
              "      <td>821</td>\n",
              "      <td>4.5</td>\n",
              "    </tr>\n",
              "    <tr>\n",
              "      <th>34</th>\n",
              "      <td>646</td>\n",
              "      <td>4.6</td>\n",
              "    </tr>\n",
              "    <tr>\n",
              "      <th>35</th>\n",
              "      <td>421</td>\n",
              "      <td>4.7</td>\n",
              "    </tr>\n",
              "    <tr>\n",
              "      <th>36</th>\n",
              "      <td>216</td>\n",
              "      <td>4.8</td>\n",
              "    </tr>\n",
              "    <tr>\n",
              "      <th>37</th>\n",
              "      <td>86</td>\n",
              "      <td>4.9</td>\n",
              "    </tr>\n",
              "    <tr>\n",
              "      <th>38</th>\n",
              "      <td>269</td>\n",
              "      <td>5.0</td>\n",
              "    </tr>\n",
              "  </tbody>\n",
              "</table>\n",
              "</div>"
            ],
            "text/plain": [
              "    counts  ratings\n",
              "0       16      1.0\n",
              "1        1      1.2\n",
              "2        3      1.4\n",
              "3        3      1.5\n",
              "4        4      1.6\n",
              "5        8      1.7\n",
              "6        8      1.8\n",
              "7       12      1.9\n",
              "8       11      2.0\n",
              "9        8      2.1\n",
              "10      14      2.2\n",
              "11      20      2.3\n",
              "12      19      2.4\n",
              "13      19      2.5\n",
              "14      24      2.6\n",
              "15      23      2.7\n",
              "16      42      2.8\n",
              "17      43      2.9\n",
              "18      74      3.0\n",
              "19      62      3.1\n",
              "20      59      3.2\n",
              "21      98      3.3\n",
              "22     115      3.4\n",
              "23     153      3.5\n",
              "24     158      3.6\n",
              "25     198      3.7\n",
              "26     272      3.8\n",
              "27     333      3.9\n",
              "28     480      4.0\n",
              "29     593      4.1\n",
              "30     739      4.2\n",
              "31     818      4.3\n",
              "32     834      4.4\n",
              "33     821      4.5\n",
              "34     646      4.6\n",
              "35     421      4.7\n",
              "36     216      4.8\n",
              "37      86      4.9\n",
              "38     269      5.0"
            ]
          },
          "metadata": {
            "tags": []
          },
          "execution_count": 473
        }
      ]
    },
    {
      "metadata": {
        "id": "n5UH_1iJ0seF",
        "colab_type": "text"
      },
      "cell_type": "markdown",
      "source": [
        "The scatterplot shows that apps that have higher ratings tend to be more popular, as they have a higher number of reviews. "
      ]
    },
    {
      "metadata": {
        "id": "bowPhzQwsaBh",
        "colab_type": "code",
        "outputId": "0ffb91da-a2eb-4159-840b-c02a9a4682e5",
        "colab": {
          "base_uri": "https://localhost:8080/",
          "height": 376
        }
      },
      "cell_type": "code",
      "source": [
        "plt.scatter(data.reviews, data.rating)\n",
        "plt.xlabel('reviews')\n",
        "plt.ylabel('rating')\n",
        "plt.axhline(y=0)\n",
        "plt.title('Reviews vs. Rating')\n",
        "plt.show()\n"
      ],
      "execution_count": 474,
      "outputs": [
        {
          "output_type": "display_data",
          "data": {
            "image/png": "[encoded data removed]",
            "text/plain": [
              "<matplotlib.figure.Figure at 0x7f632a6d12e8>"
            ]
          },
          "metadata": {
            "tags": []
          }
        }
      ]
    },
    {
      "metadata": {
        "id": "w9v2W0JS2GpG",
        "colab_type": "text"
      },
      "cell_type": "markdown",
      "source": [
        "We seem to have a long tailed distribution, which has its own sets of challenges/considerations for regression analysis. \n",
        "\n",
        "http://mockinterview.co/index.php/question/explain-what-a-long-tailed-distribution-is-and-provide-three-examples-of-relevant-phenomena-that-have-long-tails-why-are-they-important-in-classification-and-regression-problems/\n",
        "\n",
        "idea: use the log of reviews vs the log of ratings for regression analysis \n",
        "\n",
        "https://stats.stackexchange.com/questions/111385/how-to-best-plot-a-heavy-vs-light-tailed-distribution-in-r"
      ]
    },
    {
      "metadata": {
        "id": "dleM0GG77Gip",
        "colab_type": "code",
        "colab": {}
      },
      "cell_type": "code",
      "source": [
        "data['logReviews'] = np.asarray([np.log10(x) for x in data.reviews])\n",
        "data['logRating'] = np.asarray([np.log10(x) for x in data.rating])"
      ],
      "execution_count": 0,
      "outputs": []
    },
    {
      "metadata": {
        "id": "mR31AMJz7_2T",
        "colab_type": "code",
        "colab": {
          "base_uri": "https://localhost:8080/",
          "height": 376
        },
        "outputId": "80f2146d-7a42-4bb8-afb4-e48e80372cc1"
      },
      "cell_type": "code",
      "source": [
        "plt.scatter(data.logReviews, data.logRating)\n",
        "plt.xlabel('reviews')\n",
        "plt.ylabel('rating')\n",
        "plt.axhline(y=0)\n",
        "plt.title('Reviews vs. Rating')\n",
        "plt.show()"
      ],
      "execution_count": 476,
      "outputs": [
        {
          "output_type": "display_data",
          "data": {
            "image/png": "[encoded data removed]",
            "text/plain": [
              "<matplotlib.figure.Figure at 0x7f632a568c88>"
            ]
          },
          "metadata": {
            "tags": []
          }
        }
      ]
    },
    {
      "metadata": {
        "id": "k4XYaENmSNdQ",
        "colab_type": "code",
        "outputId": "926c5d75-488d-47b5-858c-8adb22e2fefc",
        "colab": {
          "base_uri": "https://localhost:8080/",
          "height": 376
        }
      },
      "cell_type": "code",
      "source": [
        "plt.scatter(data['size'], data.rating)\n",
        "plt.xlabel('Size')\n",
        "plt.ylabel('rating')\n",
        "plt.axhline(y=0)\n",
        "plt.title('Size vs. Rating')\n",
        "plt.show()"
      ],
      "execution_count": 477,
      "outputs": [
        {
          "output_type": "display_data",
          "data": {
            "image/png": "[encoded data removed]",
            "text/plain": [
              "<matplotlib.figure.Figure at 0x7f632a430d68>"
            ]
          },
          "metadata": {
            "tags": []
          }
        }
      ]
    },
    {
      "metadata": {
        "id": "KsspVKeL47w1",
        "colab_type": "text"
      },
      "cell_type": "markdown",
      "source": [
        "Idea: we calculate the Spearman correlation on these features \n",
        "\n",
        "https://en.wikipedia.org/wiki/Spearman%27s_rank_correlation_coefficient\n",
        "\n",
        "https://docs.scipy.org/doc/scipy-0.14.0/reference/generated/scipy.stats.spearmanr.html\n",
        "\n",
        "https://www.youtube.com/watch?v=2SCg8Kuh0tE\n",
        "\n",
        "https://www.youtube.com/watch?v=0qLKfMm45-4"
      ]
    },
    {
      "metadata": {
        "id": "jvnELo8mSUkM",
        "colab_type": "code",
        "outputId": "2a007ad0-95a1-47c4-f3c8-c4c46215b8aa",
        "colab": {
          "base_uri": "https://localhost:8080/",
          "height": 376
        }
      },
      "cell_type": "code",
      "source": [
        "plt.scatter(data.installs, data.rating)\n",
        "plt.xlabel('Installs')\n",
        "plt.ylabel('Rating')\n",
        "plt.axhline(y=0)\n",
        "plt.title('Installs vs. Rating')\n",
        "plt.show()"
      ],
      "execution_count": 478,
      "outputs": [
        {
          "output_type": "display_data",
          "data": {
            "image/png": "[encoded data removed]",
            "text/plain": [
              "<matplotlib.figure.Figure at 0x7f632b4a8da0>"
            ]
          },
          "metadata": {
            "tags": []
          }
        }
      ]
    },
    {
      "metadata": {
        "id": "9gD76zsOSem5",
        "colab_type": "code",
        "outputId": "624c0748-f1fe-4973-a406-01e7b5ab7142",
        "colab": {
          "base_uri": "https://localhost:8080/",
          "height": 376
        }
      },
      "cell_type": "code",
      "source": [
        "plt.scatter(data.price, data.rating)\n",
        "plt.xlabel('Price')\n",
        "plt.ylabel('Rating')\n",
        "plt.axhline(y=0)\n",
        "plt.title('Price vs. Rating')\n",
        "plt.show()"
      ],
      "execution_count": 479,
      "outputs": [
        {
          "output_type": "display_data",
          "data": {
            "image/png": "[encoded data removed]",
            "text/plain": [
              "<matplotlib.figure.Figure at 0x7f6329726160>"
            ]
          },
          "metadata": {
            "tags": []
          }
        }
      ]
    },
    {
      "metadata": {
        "id": "XiWsxGNvS2Ms",
        "colab_type": "text"
      },
      "cell_type": "markdown",
      "source": [
        "# to do: plot normalized price vs normalized rating (use output of MinMaxScaler)"
      ]
    },
    {
      "metadata": {
        "id": "qVOs2cgMTSeu",
        "colab_type": "code",
        "colab": {
          "base_uri": "https://localhost:8080/",
          "height": 68
        },
        "outputId": "2863dde0-9654-46af-9baa-5573b03d554e"
      },
      "cell_type": "code",
      "source": [
        "import math\n",
        "import numpy as np\n",
        "\n",
        "#math.log(0.0)\n",
        "np.log2(0.0)\n",
        "\n",
        "np.log10(100000000)"
      ],
      "execution_count": 480,
      "outputs": [
        {
          "output_type": "stream",
          "text": [
            "/usr/local/lib/python3.6/dist-packages/ipykernel_launcher.py:5: RuntimeWarning: divide by zero encountered in log2\n",
            "  \"\"\"\n"
          ],
          "name": "stderr"
        },
        {
          "output_type": "execute_result",
          "data": {
            "text/plain": [
              "8.0"
            ]
          },
          "metadata": {
            "tags": []
          },
          "execution_count": 480
        }
      ]
    },
    {
      "metadata": {
        "id": "k6nILznSANGo",
        "colab_type": "code",
        "outputId": "78448de3-1a0c-43f2-ff0c-1a2d88e8b8a9",
        "colab": {
          "base_uri": "https://localhost:8080/",
          "height": 34
        }
      },
      "cell_type": "code",
      "source": [
        "from scipy.stats import spearmanr\n",
        "spearmanr(data.price, data.rating)"
      ],
      "execution_count": 481,
      "outputs": [
        {
          "output_type": "execute_result",
          "data": {
            "text/plain": [
              "SpearmanrResult(correlation=0.06099488912563197, pvalue=8.122111252011464e-08)"
            ]
          },
          "metadata": {
            "tags": []
          },
          "execution_count": 481
        }
      ]
    },
    {
      "metadata": {
        "id": "T5-Px5SZIwby",
        "colab_type": "code",
        "colab": {
          "base_uri": "https://localhost:8080/",
          "height": 378
        },
        "outputId": "bd7b403a-f545-4477-b332-1f60d15cd768"
      },
      "cell_type": "code",
      "source": [
        "# Import library and dataset\n",
        "import seaborn as sns\n",
        "\n",
        " \n",
        "sns.distplot( data[\"price\"] )"
      ],
      "execution_count": 482,
      "outputs": [
        {
          "output_type": "execute_result",
          "data": {
            "text/plain": [
              "<matplotlib.axes._subplots.AxesSubplot at 0x7f6329e2d160>"
            ]
          },
          "metadata": {
            "tags": []
          },
          "execution_count": 482
        },
        {
          "output_type": "display_data",
          "data": {
            "image/png": "[encoded data removed]",
            "text/plain": [
              "<matplotlib.figure.Figure at 0x7f6329c58d68>"
            ]
          },
          "metadata": {
            "tags": []
          }
        }
      ]
    },
    {
      "metadata": {
        "id": "UsLNu2vkI9mU",
        "colab_type": "code",
        "colab": {
          "base_uri": "https://localhost:8080/",
          "height": 378
        },
        "outputId": "eb847466-647e-45db-c397-162fb68c5e9c"
      },
      "cell_type": "code",
      "source": [
        "# Import library and dataset\n",
        "import seaborn as sns\n",
        "\n",
        " \n",
        "sns.distplot( data[\"rating\"] )"
      ],
      "execution_count": 483,
      "outputs": [
        {
          "output_type": "execute_result",
          "data": {
            "text/plain": [
              "<matplotlib.axes._subplots.AxesSubplot at 0x7f63293e1208>"
            ]
          },
          "metadata": {
            "tags": []
          },
          "execution_count": 483
        },
        {
          "output_type": "display_data",
          "data": {
            "image/png": "[encoded data removed]",
            "text/plain": [
              "<matplotlib.figure.Figure at 0x7f632945e710>"
            ]
          },
          "metadata": {
            "tags": []
          }
        }
      ]
    },
    {
      "metadata": {
        "id": "Pza6mRFBA0Lh",
        "colab_type": "code",
        "outputId": "5526168d-d4b1-4242-ce1a-f3277675c950",
        "colab": {
          "base_uri": "https://localhost:8080/",
          "height": 34
        }
      },
      "cell_type": "code",
      "source": [
        "spearmanr(data.installs,data.rating)"
      ],
      "execution_count": 484,
      "outputs": [
        {
          "output_type": "execute_result",
          "data": {
            "text/plain": [
              "SpearmanrResult(correlation=0.030545300526528554, pvalue=0.007263160102855046)"
            ]
          },
          "metadata": {
            "tags": []
          },
          "execution_count": 484
        }
      ]
    },
    {
      "metadata": {
        "id": "s0P8mUxrH6Zl",
        "colab_type": "code",
        "colab": {
          "base_uri": "https://localhost:8080/",
          "height": 34
        },
        "outputId": "9c8053c9-2dac-463f-c6f1-6738e1106cc9"
      },
      "cell_type": "code",
      "source": [
        "#as the data.price and data.\n",
        "\n",
        "from scipy.stats import pearsonr\n",
        "\n",
        "pearsonr(data.price, data.rating)\n"
      ],
      "execution_count": 485,
      "outputs": [
        {
          "output_type": "execute_result",
          "data": {
            "text/plain": [
              "(-0.021320384654006957, 0.060991388927049264)"
            ]
          },
          "metadata": {
            "tags": []
          },
          "execution_count": 485
        }
      ]
    },
    {
      "metadata": {
        "id": "-6syCXRR8Odj",
        "colab_type": "text"
      },
      "cell_type": "markdown",
      "source": [
        "A comparison of Pearson vs Spearman correlation is interesting here. For Pearson correlation analysis, the variables should be normally distributed, which is not the case for these distributions: the distribution of price has a long tail and the distribution of rating is skewed to the left. The Pearson correlation value is derived from the fitting of a regular linear regression, as the distributions here are not normally distributed and highly disimilar the correlation appears to be low, negative and not statistically significant (the p-value > 0.5). The P-value is the probability that we would have found the current result if the correlation coefficient were $= 0$(null hypothesis). If this probability is lower than the conventional $5\\%$ ($\\textit{p-value}<0.05$) the correlation coefficient is called statistically significant.\n",
        "\n",
        "Spearman's rank correlation only cares about the agreement of the rankings in price and rating. It's low value and its low p-value indicate that there is low agreement between increases or decreases in price and rating.  Spearman's rank correlation is more appropriate for testing non-linear relationships between variables than Pearson's correlation. "
      ]
    },
    {
      "metadata": {
        "id": "wmCLdSIfMM2b",
        "colab_type": "code",
        "colab": {
          "base_uri": "https://localhost:8080/",
          "height": 187
        },
        "outputId": "06d7f24c-4092-424a-fd7d-1ea749100c36"
      },
      "cell_type": "code",
      "source": [
        "# Import library and dataset\n",
        "import seaborn as sns\n",
        "import numpy as np\n",
        " \n",
        "#sns.distplot(np.log10(data[\"price\"]) )\n",
        "\n",
        "#np.log10(data['price'])\n",
        "print('mode of price is = ' + str(data['price'].mode()[0]))\n",
        "data['price'].describe()\n"
      ],
      "execution_count": 486,
      "outputs": [
        {
          "output_type": "stream",
          "text": [
            "mode of price is = 0.0\n"
          ],
          "name": "stdout"
        },
        {
          "output_type": "execute_result",
          "data": {
            "text/plain": [
              "count    7723.000000\n",
              "mean        1.128169\n",
              "std        17.408036\n",
              "min         0.000000\n",
              "25%         0.000000\n",
              "50%         0.000000\n",
              "75%         0.000000\n",
              "max       400.000000\n",
              "Name: price, dtype: float64"
            ]
          },
          "metadata": {
            "tags": []
          },
          "execution_count": 486
        }
      ]
    },
    {
      "metadata": {
        "id": "9u4NLzziPZvW",
        "colab_type": "text"
      },
      "cell_type": "markdown",
      "source": [
        "Befor applying a log transformation, we have to filter the values that have a logarithm equal to zero. "
      ]
    },
    {
      "metadata": {
        "id": "q6M7ZybTOBE4",
        "colab_type": "code",
        "colab": {
          "base_uri": "https://localhost:8080/",
          "height": 51
        },
        "outputId": "615920b7-6485-4436-9a6e-25af90e6fe9c"
      },
      "cell_type": "code",
      "source": [
        "data['price'].mode()"
      ],
      "execution_count": 487,
      "outputs": [
        {
          "output_type": "execute_result",
          "data": {
            "text/plain": [
              "0    0.0\n",
              "dtype: float64"
            ]
          },
          "metadata": {
            "tags": []
          },
          "execution_count": 487
        }
      ]
    },
    {
      "metadata": {
        "id": "xwZ3MgA3RBvg",
        "colab_type": "code",
        "colab": {}
      },
      "cell_type": "code",
      "source": [
        "data.dropna(inplace=True)"
      ],
      "execution_count": 0,
      "outputs": []
    },
    {
      "metadata": {
        "id": "rPtsI0Qg1rss",
        "colab_type": "text"
      },
      "cell_type": "markdown",
      "source": [
        "##FEATURES"
      ]
    },
    {
      "metadata": {
        "id": "XvqF6yFULZfB",
        "colab_type": "code",
        "colab": {}
      },
      "cell_type": "code",
      "source": [
        "features = data[['rating', 'reviews', 'size','installs', 'price', 'contentRating']]"
      ],
      "execution_count": 0,
      "outputs": []
    },
    {
      "metadata": {
        "id": "cS3gWYRwrNgD",
        "colab_type": "code",
        "colab": {}
      },
      "cell_type": "code",
      "source": [
        "from sklearn.preprocessing import MinMaxScaler\n",
        "\n",
        "scaler = MinMaxScaler()\n",
        "\n",
        "scaledTrainData = scaler.fit(features)\n",
        "\n",
        "scaledTrainData = scaler.transform(features)\n",
        "\n",
        "features = pd.DataFrame(scaledTrainData, columns=['rating', 'reviews', 'size','installs', 'price', 'contentRating'])"
      ],
      "execution_count": 0,
      "outputs": []
    },
    {
      "metadata": {
        "id": "VavIsX1-yHlW",
        "colab_type": "code",
        "colab": {
          "base_uri": "https://localhost:8080/",
          "height": 376
        },
        "outputId": "f7d821f7-9fae-4bc0-a3dd-64fdc55b9e64"
      },
      "cell_type": "code",
      "source": [
        "plt.scatter(features.price, features.rating)\n",
        "plt.xlabel('Price')\n",
        "plt.ylabel('Rating')\n",
        "plt.axhline(y=0)\n",
        "plt.title('Price vs. Rating')\n",
        "plt.show()"
      ],
      "execution_count": 491,
      "outputs": [
        {
          "output_type": "display_data",
          "data": {
            "image/png": "[encoded data removed]",
            "text/plain": [
              "<matplotlib.figure.Figure at 0x7f632af82940>"
            ]
          },
          "metadata": {
            "tags": []
          }
        }
      ]
    },
    {
      "metadata": {
        "id": "V1p9Xhmkixvt",
        "colab_type": "code",
        "colab": {}
      },
      "cell_type": "code",
      "source": [
        "features['reviews2'] = np.asarray([x**(1/2) for x in features.reviews])\n",
        "features['reviews3'] = np.asarray([x**(3) for x in features.reviews])\n",
        "\n",
        "features['installs2'] = np.asarray([x**(2) for x in features.installs])\n",
        "features['installs3'] = np.asarray([x**(1/3) for x in features.installs])"
      ],
      "execution_count": 0,
      "outputs": []
    },
    {
      "metadata": {
        "id": "JkcL9-ff9E-8",
        "colab_type": "code",
        "colab": {}
      },
      "cell_type": "code",
      "source": [
        "#features['logReviews'] = np.asarray([np.log10(x) for x in features.reviews])\n",
        "#features['logRating'] = np.asarray([np.log10(x) for x in features.rating])"
      ],
      "execution_count": 0,
      "outputs": []
    },
    {
      "metadata": {
        "id": "x2k_RCoEOSRf",
        "colab_type": "code",
        "colab": {}
      },
      "cell_type": "code",
      "source": [
        "# we add a binary feature that evaluates to true\n",
        "# when rating is above the median (useful for logistic regression)\n",
        "features['positiveRating'] = np.where(data['rating']>=4.3, 1, 0)"
      ],
      "execution_count": 0,
      "outputs": []
    },
    {
      "metadata": {
        "id": "ze7SKusMeA2-",
        "colab_type": "code",
        "outputId": "b34180c0-e4a8-4d62-bee8-2a0dfacf0fe3",
        "colab": {
          "base_uri": "https://localhost:8080/",
          "height": 34
        }
      },
      "cell_type": "code",
      "source": [
        "type(data.genres)"
      ],
      "execution_count": 553,
      "outputs": [
        {
          "output_type": "execute_result",
          "data": {
            "text/plain": [
              "pandas.core.series.Series"
            ]
          },
          "metadata": {
            "tags": []
          },
          "execution_count": 553
        }
      ]
    },
    {
      "metadata": {
        "id": "UP_j31hseFKi",
        "colab_type": "code",
        "outputId": "9aa1f22f-7b6d-4ef0-e239-4ffe8d35f41b",
        "colab": {
          "base_uri": "https://localhost:8080/",
          "height": 250
        }
      },
      "cell_type": "code",
      "source": [
        "features2 = pd.get_dummies(data['genres'].apply(pd.Series).stack()).sum(level=0)\n",
        "features2.head()"
      ],
      "execution_count": 554,
      "outputs": [
        {
          "output_type": "execute_result",
          "data": {
            "text/html": [
              "<div>\n",
              "<style scoped>\n",
              "    .dataframe tbody tr th:only-of-type {\n",
              "        vertical-align: middle;\n",
              "    }\n",
              "\n",
              "    .dataframe tbody tr th {\n",
              "        vertical-align: top;\n",
              "    }\n",
              "\n",
              "    .dataframe thead th {\n",
              "        text-align: right;\n",
              "    }\n",
              "</style>\n",
              "<table border=\"1\" class=\"dataframe\">\n",
              "  <thead>\n",
              "    <tr style=\"text-align: right;\">\n",
              "      <th></th>\n",
              "      <th>Action</th>\n",
              "      <th>Action &amp; Adventure</th>\n",
              "      <th>Adventure</th>\n",
              "      <th>Arcade</th>\n",
              "      <th>Art &amp; Design</th>\n",
              "      <th>Auto &amp; Vehicles</th>\n",
              "      <th>Beauty</th>\n",
              "      <th>Board</th>\n",
              "      <th>Books &amp; Reference</th>\n",
              "      <th>Brain Games</th>\n",
              "      <th>...</th>\n",
              "      <th>Simulation</th>\n",
              "      <th>Social</th>\n",
              "      <th>Sports</th>\n",
              "      <th>Strategy</th>\n",
              "      <th>Tools</th>\n",
              "      <th>Travel &amp; Local</th>\n",
              "      <th>Trivia</th>\n",
              "      <th>Video Players &amp; Editors</th>\n",
              "      <th>Weather</th>\n",
              "      <th>Word</th>\n",
              "    </tr>\n",
              "  </thead>\n",
              "  <tbody>\n",
              "    <tr>\n",
              "      <th>0</th>\n",
              "      <td>0</td>\n",
              "      <td>0</td>\n",
              "      <td>0</td>\n",
              "      <td>0</td>\n",
              "      <td>1</td>\n",
              "      <td>0</td>\n",
              "      <td>0</td>\n",
              "      <td>0</td>\n",
              "      <td>0</td>\n",
              "      <td>0</td>\n",
              "      <td>...</td>\n",
              "      <td>0</td>\n",
              "      <td>0</td>\n",
              "      <td>0</td>\n",
              "      <td>0</td>\n",
              "      <td>0</td>\n",
              "      <td>0</td>\n",
              "      <td>0</td>\n",
              "      <td>0</td>\n",
              "      <td>0</td>\n",
              "      <td>0</td>\n",
              "    </tr>\n",
              "    <tr>\n",
              "      <th>1</th>\n",
              "      <td>0</td>\n",
              "      <td>0</td>\n",
              "      <td>0</td>\n",
              "      <td>0</td>\n",
              "      <td>1</td>\n",
              "      <td>0</td>\n",
              "      <td>0</td>\n",
              "      <td>0</td>\n",
              "      <td>0</td>\n",
              "      <td>0</td>\n",
              "      <td>...</td>\n",
              "      <td>0</td>\n",
              "      <td>0</td>\n",
              "      <td>0</td>\n",
              "      <td>0</td>\n",
              "      <td>0</td>\n",
              "      <td>0</td>\n",
              "      <td>0</td>\n",
              "      <td>0</td>\n",
              "      <td>0</td>\n",
              "      <td>0</td>\n",
              "    </tr>\n",
              "    <tr>\n",
              "      <th>2</th>\n",
              "      <td>0</td>\n",
              "      <td>0</td>\n",
              "      <td>0</td>\n",
              "      <td>0</td>\n",
              "      <td>1</td>\n",
              "      <td>0</td>\n",
              "      <td>0</td>\n",
              "      <td>0</td>\n",
              "      <td>0</td>\n",
              "      <td>0</td>\n",
              "      <td>...</td>\n",
              "      <td>0</td>\n",
              "      <td>0</td>\n",
              "      <td>0</td>\n",
              "      <td>0</td>\n",
              "      <td>0</td>\n",
              "      <td>0</td>\n",
              "      <td>0</td>\n",
              "      <td>0</td>\n",
              "      <td>0</td>\n",
              "      <td>0</td>\n",
              "    </tr>\n",
              "    <tr>\n",
              "      <th>3</th>\n",
              "      <td>0</td>\n",
              "      <td>0</td>\n",
              "      <td>0</td>\n",
              "      <td>0</td>\n",
              "      <td>1</td>\n",
              "      <td>0</td>\n",
              "      <td>0</td>\n",
              "      <td>0</td>\n",
              "      <td>0</td>\n",
              "      <td>0</td>\n",
              "      <td>...</td>\n",
              "      <td>0</td>\n",
              "      <td>0</td>\n",
              "      <td>0</td>\n",
              "      <td>0</td>\n",
              "      <td>0</td>\n",
              "      <td>0</td>\n",
              "      <td>0</td>\n",
              "      <td>0</td>\n",
              "      <td>0</td>\n",
              "      <td>0</td>\n",
              "    </tr>\n",
              "    <tr>\n",
              "      <th>4</th>\n",
              "      <td>0</td>\n",
              "      <td>0</td>\n",
              "      <td>0</td>\n",
              "      <td>0</td>\n",
              "      <td>1</td>\n",
              "      <td>0</td>\n",
              "      <td>0</td>\n",
              "      <td>0</td>\n",
              "      <td>0</td>\n",
              "      <td>0</td>\n",
              "      <td>...</td>\n",
              "      <td>0</td>\n",
              "      <td>0</td>\n",
              "      <td>0</td>\n",
              "      <td>0</td>\n",
              "      <td>0</td>\n",
              "      <td>0</td>\n",
              "      <td>0</td>\n",
              "      <td>0</td>\n",
              "      <td>0</td>\n",
              "      <td>0</td>\n",
              "    </tr>\n",
              "  </tbody>\n",
              "</table>\n",
              "<p>5 rows × 53 columns</p>\n",
              "</div>"
            ],
            "text/plain": [
              "   Action  Action & Adventure  Adventure  Arcade  Art & Design  \\\n",
              "0       0                   0          0       0             1   \n",
              "1       0                   0          0       0             1   \n",
              "2       0                   0          0       0             1   \n",
              "3       0                   0          0       0             1   \n",
              "4       0                   0          0       0             1   \n",
              "\n",
              "   Auto & Vehicles  Beauty  Board  Books & Reference  Brain Games  ...   \\\n",
              "0                0       0      0                  0            0  ...    \n",
              "1                0       0      0                  0            0  ...    \n",
              "2                0       0      0                  0            0  ...    \n",
              "3                0       0      0                  0            0  ...    \n",
              "4                0       0      0                  0            0  ...    \n",
              "\n",
              "   Simulation  Social  Sports  Strategy  Tools  Travel & Local  Trivia  \\\n",
              "0           0       0       0         0      0               0       0   \n",
              "1           0       0       0         0      0               0       0   \n",
              "2           0       0       0         0      0               0       0   \n",
              "3           0       0       0         0      0               0       0   \n",
              "4           0       0       0         0      0               0       0   \n",
              "\n",
              "   Video Players & Editors  Weather  Word  \n",
              "0                        0        0     0  \n",
              "1                        0        0     0  \n",
              "2                        0        0     0  \n",
              "3                        0        0     0  \n",
              "4                        0        0     0  \n",
              "\n",
              "[5 rows x 53 columns]"
            ]
          },
          "metadata": {
            "tags": []
          },
          "execution_count": 554
        }
      ]
    },
    {
      "metadata": {
        "id": "EFCy0DO4e0Hg",
        "colab_type": "code",
        "colab": {}
      },
      "cell_type": "code",
      "source": [
        "# let's ask this in StackOverflow: why are the features turning into NaN when the datasets are merged? \n",
        "featuresAll = pd.concat([features, features2], axis=1)"
      ],
      "execution_count": 0,
      "outputs": []
    },
    {
      "metadata": {
        "id": "qhwzqZhtViZd",
        "colab_type": "code",
        "colab": {}
      },
      "cell_type": "code",
      "source": [
        "featuresAll.dropna(inplace=True)"
      ],
      "execution_count": 0,
      "outputs": []
    },
    {
      "metadata": {
        "id": "Un9gknOfntlL",
        "colab_type": "code",
        "outputId": "3b68ec95-2e0a-43c8-aa79-6dc3cf774e74",
        "colab": {
          "base_uri": "https://localhost:8080/",
          "height": 233
        }
      },
      "cell_type": "code",
      "source": [
        "featuresAll.head()"
      ],
      "execution_count": 557,
      "outputs": [
        {
          "output_type": "execute_result",
          "data": {
            "text/html": [
              "<div>\n",
              "<style scoped>\n",
              "    .dataframe tbody tr th:only-of-type {\n",
              "        vertical-align: middle;\n",
              "    }\n",
              "\n",
              "    .dataframe tbody tr th {\n",
              "        vertical-align: top;\n",
              "    }\n",
              "\n",
              "    .dataframe thead th {\n",
              "        text-align: right;\n",
              "    }\n",
              "</style>\n",
              "<table border=\"1\" class=\"dataframe\">\n",
              "  <thead>\n",
              "    <tr style=\"text-align: right;\">\n",
              "      <th></th>\n",
              "      <th>rating</th>\n",
              "      <th>reviews</th>\n",
              "      <th>size</th>\n",
              "      <th>installs</th>\n",
              "      <th>price</th>\n",
              "      <th>contentRating</th>\n",
              "      <th>reviews2</th>\n",
              "      <th>positiveRating</th>\n",
              "      <th>reviews3</th>\n",
              "      <th>installs2</th>\n",
              "      <th>...</th>\n",
              "      <th>Simulation</th>\n",
              "      <th>Social</th>\n",
              "      <th>Sports</th>\n",
              "      <th>Strategy</th>\n",
              "      <th>Tools</th>\n",
              "      <th>Travel &amp; Local</th>\n",
              "      <th>Trivia</th>\n",
              "      <th>Video Players &amp; Editors</th>\n",
              "      <th>Weather</th>\n",
              "      <th>Word</th>\n",
              "    </tr>\n",
              "  </thead>\n",
              "  <tbody>\n",
              "    <tr>\n",
              "      <th>0</th>\n",
              "      <td>0.775</td>\n",
              "      <td>0.000004</td>\n",
              "      <td>0.189931</td>\n",
              "      <td>0.00001</td>\n",
              "      <td>0.0</td>\n",
              "      <td>0.000000</td>\n",
              "      <td>0.001876</td>\n",
              "      <td>0.0</td>\n",
              "      <td>4.359228e-17</td>\n",
              "      <td>9.998000e-11</td>\n",
              "      <td>...</td>\n",
              "      <td>0.0</td>\n",
              "      <td>0.0</td>\n",
              "      <td>0.0</td>\n",
              "      <td>0.0</td>\n",
              "      <td>0.0</td>\n",
              "      <td>0.0</td>\n",
              "      <td>0.0</td>\n",
              "      <td>0.0</td>\n",
              "      <td>0.0</td>\n",
              "      <td>0.0</td>\n",
              "    </tr>\n",
              "    <tr>\n",
              "      <th>1</th>\n",
              "      <td>0.725</td>\n",
              "      <td>0.000022</td>\n",
              "      <td>0.139927</td>\n",
              "      <td>0.00050</td>\n",
              "      <td>0.0</td>\n",
              "      <td>0.000000</td>\n",
              "      <td>0.004639</td>\n",
              "      <td>0.0</td>\n",
              "      <td>9.962533e-15</td>\n",
              "      <td>2.499990e-07</td>\n",
              "      <td>...</td>\n",
              "      <td>0.0</td>\n",
              "      <td>0.0</td>\n",
              "      <td>0.0</td>\n",
              "      <td>0.0</td>\n",
              "      <td>0.0</td>\n",
              "      <td>0.0</td>\n",
              "      <td>0.0</td>\n",
              "      <td>0.0</td>\n",
              "      <td>0.0</td>\n",
              "      <td>0.0</td>\n",
              "    </tr>\n",
              "    <tr>\n",
              "      <th>2</th>\n",
              "      <td>0.925</td>\n",
              "      <td>0.001949</td>\n",
              "      <td>0.086922</td>\n",
              "      <td>0.00500</td>\n",
              "      <td>0.0</td>\n",
              "      <td>0.000000</td>\n",
              "      <td>0.044150</td>\n",
              "      <td>1.0</td>\n",
              "      <td>7.406219e-09</td>\n",
              "      <td>2.499999e-05</td>\n",
              "      <td>...</td>\n",
              "      <td>0.0</td>\n",
              "      <td>0.0</td>\n",
              "      <td>0.0</td>\n",
              "      <td>0.0</td>\n",
              "      <td>0.0</td>\n",
              "      <td>0.0</td>\n",
              "      <td>0.0</td>\n",
              "      <td>0.0</td>\n",
              "      <td>0.0</td>\n",
              "      <td>0.0</td>\n",
              "    </tr>\n",
              "    <tr>\n",
              "      <th>3</th>\n",
              "      <td>0.875</td>\n",
              "      <td>0.004803</td>\n",
              "      <td>0.249936</td>\n",
              "      <td>0.05000</td>\n",
              "      <td>0.0</td>\n",
              "      <td>0.722222</td>\n",
              "      <td>0.069307</td>\n",
              "      <td>1.0</td>\n",
              "      <td>1.108267e-07</td>\n",
              "      <td>2.500000e-03</td>\n",
              "      <td>...</td>\n",
              "      <td>0.0</td>\n",
              "      <td>0.0</td>\n",
              "      <td>0.0</td>\n",
              "      <td>0.0</td>\n",
              "      <td>0.0</td>\n",
              "      <td>0.0</td>\n",
              "      <td>0.0</td>\n",
              "      <td>0.0</td>\n",
              "      <td>0.0</td>\n",
              "      <td>0.0</td>\n",
              "    </tr>\n",
              "    <tr>\n",
              "      <th>4</th>\n",
              "      <td>0.825</td>\n",
              "      <td>0.000022</td>\n",
              "      <td>0.027917</td>\n",
              "      <td>0.00010</td>\n",
              "      <td>0.0</td>\n",
              "      <td>0.000000</td>\n",
              "      <td>0.004639</td>\n",
              "      <td>1.0</td>\n",
              "      <td>9.962533e-15</td>\n",
              "      <td>9.999800e-09</td>\n",
              "      <td>...</td>\n",
              "      <td>0.0</td>\n",
              "      <td>0.0</td>\n",
              "      <td>0.0</td>\n",
              "      <td>0.0</td>\n",
              "      <td>0.0</td>\n",
              "      <td>0.0</td>\n",
              "      <td>0.0</td>\n",
              "      <td>0.0</td>\n",
              "      <td>0.0</td>\n",
              "      <td>0.0</td>\n",
              "    </tr>\n",
              "  </tbody>\n",
              "</table>\n",
              "<p>5 rows × 64 columns</p>\n",
              "</div>"
            ],
            "text/plain": [
              "   rating   reviews      size  installs  price  contentRating  reviews2  \\\n",
              "0   0.775  0.000004  0.189931   0.00001    0.0       0.000000  0.001876   \n",
              "1   0.725  0.000022  0.139927   0.00050    0.0       0.000000  0.004639   \n",
              "2   0.925  0.001949  0.086922   0.00500    0.0       0.000000  0.044150   \n",
              "3   0.875  0.004803  0.249936   0.05000    0.0       0.722222  0.069307   \n",
              "4   0.825  0.000022  0.027917   0.00010    0.0       0.000000  0.004639   \n",
              "\n",
              "   positiveRating      reviews3     installs2  ...   Simulation  Social  \\\n",
              "0             0.0  4.359228e-17  9.998000e-11  ...          0.0     0.0   \n",
              "1             0.0  9.962533e-15  2.499990e-07  ...          0.0     0.0   \n",
              "2             1.0  7.406219e-09  2.499999e-05  ...          0.0     0.0   \n",
              "3             1.0  1.108267e-07  2.500000e-03  ...          0.0     0.0   \n",
              "4             1.0  9.962533e-15  9.999800e-09  ...          0.0     0.0   \n",
              "\n",
              "   Sports  Strategy  Tools  Travel & Local  Trivia  Video Players & Editors  \\\n",
              "0     0.0       0.0    0.0             0.0     0.0                      0.0   \n",
              "1     0.0       0.0    0.0             0.0     0.0                      0.0   \n",
              "2     0.0       0.0    0.0             0.0     0.0                      0.0   \n",
              "3     0.0       0.0    0.0             0.0     0.0                      0.0   \n",
              "4     0.0       0.0    0.0             0.0     0.0                      0.0   \n",
              "\n",
              "   Weather  Word  \n",
              "0      0.0   0.0  \n",
              "1      0.0   0.0  \n",
              "2      0.0   0.0  \n",
              "3      0.0   0.0  \n",
              "4      0.0   0.0  \n",
              "\n",
              "[5 rows x 64 columns]"
            ]
          },
          "metadata": {
            "tags": []
          },
          "execution_count": 557
        }
      ]
    },
    {
      "metadata": {
        "id": "4k9S35t01xYo",
        "colab_type": "text"
      },
      "cell_type": "markdown",
      "source": [
        "##DATA MODELING"
      ]
    },
    {
      "metadata": {
        "id": "PEtLZZg2ZdGW",
        "colab_type": "text"
      },
      "cell_type": "markdown",
      "source": [
        "### LOGISTIC REGRESSION"
      ]
    },
    {
      "metadata": {
        "id": "pnzNFNWPo1rN",
        "colab_type": "code",
        "colab": {}
      },
      "cell_type": "code",
      "source": [
        "import statsmodels.api as sm\n",
        "from sklearn.linear_model import LogisticRegression"
      ],
      "execution_count": 0,
      "outputs": []
    },
    {
      "metadata": {
        "id": "6vrlrlxpoMAZ",
        "colab_type": "code",
        "outputId": "1c21174d-0c83-4ec1-e5f6-a6057eb828cb",
        "colab": {
          "base_uri": "https://localhost:8080/",
          "height": 476
        }
      },
      "cell_type": "code",
      "source": [
        "lr = LogisticRegression(C=1.0)\n",
        "X = featuresAll.drop(['rating', 'positiveRating'], axis=1)\n",
        "Y = featuresAll.positiveRating\n",
        "\n",
        "X.fillna(value=0, inplace= True)\n",
        "\n",
        "# Fit the model.\n",
        "fit = lr.fit(X, Y)\n",
        "\n",
        "# Display.\n",
        "print('Coefficients')\n",
        "print(fit.coef_)\n",
        "print(fit.intercept_)\n",
        "pred_y_sklearn = lr.predict(X)\n",
        "\n",
        "print('\\n Confusion matrix')\n",
        "print(pd.crosstab(pred_y_sklearn, Y))\n",
        "\n",
        "print('\\n Percentage accuracy')\n",
        "print(lr.score(X, Y))"
      ],
      "execution_count": 559,
      "outputs": [
        {
          "output_type": "stream",
          "text": [
            "Coefficients\n",
            "[[ 1.37276398e+00  3.11594517e-01  9.53305926e-02 -7.57329742e-01\n",
            "  -2.29831869e-01  7.57198845e+00  2.30479952e-02 -4.67243046e-01\n",
            "  -8.28511776e-01 -4.76463531e-02  1.49532814e-01 -1.64720119e-01\n",
            "   1.34554805e-01  1.74606872e-01  4.60413670e-01  4.72785043e-01\n",
            "   3.55764647e-01 -2.99212877e-02  1.83407462e-01  3.75433329e-02\n",
            "   5.06979968e-02 -9.61630186e-01 -6.30328020e-02 -4.44417968e-02\n",
            "  -1.78663636e-01  9.33076089e-02  3.33071252e-01  1.80340704e-01\n",
            "  -5.26958829e-01  3.89386188e-02  6.64896787e-01  1.99764074e-02\n",
            "   6.24927307e-01  5.49930063e-01  7.57407476e-01  1.38041158e-01\n",
            "   6.19453473e-02 -8.89106761e-02  5.48847197e-02  1.67323281e-01\n",
            "  -3.29054218e-01 -3.87095424e-01  3.37343177e-01 -3.20125138e-01\n",
            "   1.01877742e-01 -1.02404509e-01 -1.57111756e-02 -1.74865835e-01\n",
            "  -1.27070763e-01 -9.58522986e-02  4.58869650e-01 -9.04472134e-02\n",
            "  -2.46946906e-01  2.38078927e-01  2.66840307e-01  5.05023732e-01\n",
            "  -4.32704200e-02 -1.90260258e-01 -1.45719615e-03 -4.59772633e-01\n",
            "  -4.20914264e-01 -2.88827561e-01]]\n",
            "[-0.09743194]\n",
            "\n",
            " Confusion matrix\n",
            "positiveRating   0.0   1.0\n",
            "row_0                     \n",
            "0.0             1360  1022\n",
            "1.0             1188  1897\n",
            "\n",
            " Percentage accuracy\n",
            "0.5957563563197366\n"
          ],
          "name": "stdout"
        }
      ]
    },
    {
      "metadata": {
        "id": "V9ihSB7GZmHl",
        "colab_type": "text"
      },
      "cell_type": "markdown",
      "source": [
        "### RIDGE REGRESSION"
      ]
    },
    {
      "metadata": {
        "id": "mU2-atYwpPE8",
        "colab_type": "code",
        "outputId": "c99d9e2f-0c04-4de9-cb35-4a5ecff4d306",
        "colab": {
          "base_uri": "https://localhost:8080/",
          "height": 51
        }
      },
      "cell_type": "code",
      "source": [
        "from sklearn import linear_model\n",
        "\n",
        "ridgeregr = linear_model.Ridge(alpha=.05, fit_intercept=True) \n",
        "ridgeregr.fit(X, Y)\n",
        "print(ridgeregr.score(X, Y))\n",
        "origparams = ridgeregr.coef_[0]\n",
        "print(origparams)"
      ],
      "execution_count": 560,
      "outputs": [
        {
          "output_type": "stream",
          "text": [
            "0.08926572928762333\n",
            "-8.095906368925027\n"
          ],
          "name": "stdout"
        }
      ]
    },
    {
      "metadata": {
        "id": "3euo1KSfpei3",
        "colab_type": "code",
        "outputId": "b3f7bd21-4a50-4a8c-b05b-f5a8a9e02d5e",
        "colab": {
          "base_uri": "https://localhost:8080/",
          "height": 34
        }
      },
      "cell_type": "code",
      "source": [
        "print(ridgeregr.score(X, Y))"
      ],
      "execution_count": 561,
      "outputs": [
        {
          "output_type": "stream",
          "text": [
            "0.08926572928762333\n"
          ],
          "name": "stdout"
        }
      ]
    },
    {
      "metadata": {
        "id": "nw047loP7leM",
        "colab_type": "text"
      },
      "cell_type": "markdown",
      "source": [
        "We're getting a negative $R^2$ value, [which implies that the prediction is doing a worse job than using the mean value as a prediction](http://www.fairlynerdy.com/what-is-r-squared/). The question now is why do we obtain this.  \n",
        "\n"
      ]
    },
    {
      "metadata": {
        "id": "5hjxynEMZsu2",
        "colab_type": "text"
      },
      "cell_type": "markdown",
      "source": [
        "### LASSO REGRESSION"
      ]
    },
    {
      "metadata": {
        "id": "1nFUqeWi98Wn",
        "colab_type": "text"
      },
      "cell_type": "markdown",
      "source": [
        "**TODO: add powers of the features that we have to the data column in order to fit a higher order polynomial.**  \n",
        "\n",
        "https://stats.stackexchange.com/a/58747/13406"
      ]
    },
    {
      "metadata": {
        "id": "SZePaFRoprcc",
        "colab_type": "code",
        "colab": {}
      },
      "cell_type": "code",
      "source": [
        "from sklearn.metrics import r2_score\n",
        "\n",
        "lass = linear_model.Lasso(alpha=.05)\n",
        "lassfit = lass.fit(X, Y)\n",
        "# http://scikit-learn.org/stable/modules/generated/sklearn.metrics.r2_score.html\n",
        "#print('R² for the model with few features:')"
      ],
      "execution_count": 0,
      "outputs": []
    },
    {
      "metadata": {
        "id": "vLl3aUWL6VCp",
        "colab_type": "code",
        "outputId": "68a073d5-80e9-4adb-eb13-51216872f81c",
        "colab": {
          "base_uri": "https://localhost:8080/",
          "height": 34
        }
      },
      "cell_type": "code",
      "source": [
        "from sklearn.metrics import r2_score\n",
        "\n",
        "y_pred = lassfit.predict(X)\n",
        "print(r2_score(Y, y_pred))  \n"
      ],
      "execution_count": 563,
      "outputs": [
        {
          "output_type": "stream",
          "text": [
            "0.0\n"
          ],
          "name": "stdout"
        }
      ]
    },
    {
      "metadata": {
        "id": "zm9bdGWx6sUl",
        "colab_type": "code",
        "outputId": "4c39d1dc-8dbe-4ff9-c723-7198c4a2e7c1",
        "colab": {
          "base_uri": "https://localhost:8080/",
          "height": 255
        }
      },
      "cell_type": "code",
      "source": [
        "print(r2_score(Y, y_pred))\n",
        "origparams = np.append(lassfit.coef_, lassfit.intercept_)\n",
        "print('\\nParameter estimates for the model with few features:')\n",
        "print(origparams)"
      ],
      "execution_count": 564,
      "outputs": [
        {
          "output_type": "stream",
          "text": [
            "0.0\n",
            "\n",
            "Parameter estimates for the model with few features:\n",
            "[ 0.          0.          0.         -0.         -0.          0.\n",
            "  0.          0.          0.         -0.          0.         -0.\n",
            "  0.          0.          0.          0.          0.         -0.\n",
            "  0.         -0.         -0.         -0.         -0.         -0.\n",
            " -0.          0.          0.          0.         -0.         -0.\n",
            "  0.          0.          0.          0.          0.          0.\n",
            " -0.         -0.          0.          0.         -0.         -0.\n",
            "  0.         -0.          0.         -0.         -0.         -0.\n",
            " -0.         -0.          0.          0.         -0.          0.\n",
            "  0.          0.         -0.         -0.          0.         -0.\n",
            " -0.         -0.          0.53393086]\n"
          ],
          "name": "stdout"
        }
      ]
    },
    {
      "metadata": {
        "id": "9hQKuxP7Zz89",
        "colab_type": "text"
      },
      "cell_type": "markdown",
      "source": [
        "### RANDOM FOREST"
      ]
    },
    {
      "metadata": {
        "id": "u7v5Pi7ht1Wf",
        "colab_type": "code",
        "outputId": "3ffd33f6-5d1e-41a2-8ff2-3a47b6a64539",
        "colab": {
          "base_uri": "https://localhost:8080/",
          "height": 51
        }
      },
      "cell_type": "code",
      "source": [
        "from sklearn import ensemble\n",
        "from sklearn.model_selection import cross_val_score\n",
        "\n",
        "rfc = ensemble.RandomForestClassifier()\n",
        "X = featuresAll.drop(['rating', 'positiveRating'], axis=1)\n",
        "Y = featuresAll['positiveRating']\n",
        "X = X.dropna(axis=1)\n",
        "\n",
        "cross_val_score(rfc, X, Y, cv=10)"
      ],
      "execution_count": 565,
      "outputs": [
        {
          "output_type": "execute_result",
          "data": {
            "text/plain": [
              "array([0.6179159 , 0.55575868, 0.40585009, 0.32541133, 0.50091408,\n",
              "       0.55393053, 0.55758684, 0.55210238, 0.61355311, 0.59266055])"
            ]
          },
          "metadata": {
            "tags": []
          },
          "execution_count": 565
        }
      ]
    },
    {
      "metadata": {
        "id": "lwhRDs0WZ75w",
        "colab_type": "text"
      },
      "cell_type": "markdown",
      "source": [
        "### LINEAR REGRESSION"
      ]
    },
    {
      "metadata": {
        "id": "D9xVQCBMqVNw",
        "colab_type": "code",
        "outputId": "6e902f9f-4429-4ba5-a933-1cd48e0719f8",
        "colab": {
          "base_uri": "https://localhost:8080/",
          "height": 425
        }
      },
      "cell_type": "code",
      "source": [
        "from sklearn import linear_model\n",
        "\n",
        "regr = linear_model.LinearRegression()\n",
        "Y2 = featuresAll['rating'].values.reshape(-1, 1)\n",
        "X2 = featuresAll.drop(['rating', 'positiveRating'], axis=1)\n",
        "\n",
        "# impute 0 to nans\n",
        "X2.fillna(value=0, inplace= True)\n",
        "\n",
        "# https://docs.scipy.org/doc/numpy/reference/generated/numpy.nan_to_num.html\n",
        "np.nan_to_num(Y2, copy=False)\n",
        "\n",
        "\n",
        "regr.fit(X2,Y2)\n",
        "\n",
        "# Inspect the results.\n",
        "print('\\nCoefficients: \\n', regr.coef_)\n",
        "print('\\nIntercept: \\n', regr.intercept_)\n",
        "print('\\nR-squared:')\n",
        "print(regr.score(X2, Y2))"
      ],
      "execution_count": 566,
      "outputs": [
        {
          "output_type": "stream",
          "text": [
            "\n",
            "Coefficients: \n",
            " [[-2.06682790e+00  4.79510936e-03 -2.62036184e-01 -3.80525747e-02\n",
            "  -2.88707734e-03  1.50025592e+00  8.77203438e-01  4.94282756e-01\n",
            "  -2.91214932e-01  1.62359029e-02  1.03186455e-02 -9.53715252e-03\n",
            "   2.34738883e-02  6.06841772e-02  6.67430677e-02  5.14734608e-02\n",
            "   4.92165701e-02  2.49790100e-02  2.39831892e-02  2.07060509e-02\n",
            "  -4.21649080e-03 -4.41247875e-02  2.09091566e-02  1.45333975e-02\n",
            "   1.53961833e-03  1.84384183e-02  5.53735837e-02  2.95381519e-02\n",
            "  -2.72707641e-02  1.69382812e-02  5.97525349e-02  1.75208321e-02\n",
            "   5.30809015e-02  3.76955860e-02  7.15905867e-02  4.85121833e-02\n",
            "   1.97993384e-02 -1.34035587e-02  4.18375306e-02  3.43174317e-02\n",
            "  -6.39536564e-03 -2.06090721e-02  4.80530356e-02  7.85322434e-03\n",
            "   1.49047191e-02  8.22406928e-03  1.40017408e-02 -5.75465915e-03\n",
            "   1.80044785e-02 -7.32293982e-03  3.95404358e-02  1.30567956e-02\n",
            "   6.36682173e-03  2.95811532e-02  3.21143053e-02  2.15582116e-02\n",
            "   7.39697949e-03  7.41688450e-03 -1.61522713e-02 -8.40347529e-03\n",
            "  -6.97726641e-03  4.71029212e-02]]\n",
            "\n",
            "Intercept: \n",
            " [0.7634878]\n",
            "\n",
            "R-squared:\n",
            "0.0648353017102038\n"
          ],
          "name": "stdout"
        }
      ]
    },
    {
      "metadata": {
        "id": "UkxOJ2IQ9Gtz",
        "colab_type": "text"
      },
      "cell_type": "markdown",
      "source": [
        "**TO DO: add a RandomForestRegressor**\n",
        "\n",
        "http://scikit-learn.org/stable/modules/generated/sklearn.ensemble.RandomForestRegressor.html"
      ]
    },
    {
      "metadata": {
        "id": "937g-fw0CFwq",
        "colab_type": "code",
        "outputId": "03755b62-6657-42e8-caf8-8bd581ba4cc0",
        "colab": {
          "base_uri": "https://localhost:8080/",
          "height": 775
        }
      },
      "cell_type": "code",
      "source": [
        "from sklearn.ensemble import RandomForestRegressor\n",
        "from sklearn.datasets import make_regression\n",
        "\n",
        "regr = RandomForestRegressor(max_depth=2, random_state=0, n_estimators=100)\n",
        "regr.fit(X2, Y2)\n",
        "RandomForestRegressor(bootstrap=True, criterion='mse', max_depth=2,\n",
        "           max_features='auto', max_leaf_nodes=None,\n",
        "           min_impurity_decrease=0.0, min_impurity_split=None,\n",
        "           min_samples_leaf=1, min_samples_split=2,\n",
        "           min_weight_fraction_leaf=0.0, n_estimators=100, n_jobs=None,\n",
        "           oob_score=False, random_state=0, verbose=0, warm_start=False)\n",
        "print(regr.feature_importances_)\n",
        "print(regr.predict([[0, 0, 0, 0]]))"
      ],
      "execution_count": 567,
      "outputs": [
        {
          "output_type": "stream",
          "text": [
            "/usr/local/lib/python3.6/dist-packages/ipykernel_launcher.py:5: DataConversionWarning: A column-vector y was passed when a 1d array was expected. Please change the shape of y to (n_samples,), for example using ravel().\n",
            "  \"\"\"\n"
          ],
          "name": "stderr"
        },
        {
          "output_type": "stream",
          "text": [
            "[0.29383834 0.         0.1790327  0.         0.         0.34717804\n",
            " 0.         0.         0.17995092 0.         0.         0.\n",
            " 0.         0.         0.         0.         0.         0.\n",
            " 0.         0.         0.         0.         0.         0.\n",
            " 0.         0.         0.         0.         0.         0.\n",
            " 0.         0.         0.         0.         0.         0.\n",
            " 0.         0.         0.         0.         0.         0.\n",
            " 0.         0.         0.         0.         0.         0.\n",
            " 0.         0.         0.         0.         0.         0.\n",
            " 0.         0.         0.         0.         0.         0.\n",
            " 0.         0.        ]\n"
          ],
          "name": "stdout"
        },
        {
          "output_type": "error",
          "ename": "ValueError",
          "evalue": "ignored",
          "traceback": [
            "\u001b[0;31m---------------------------------------------------------------------------\u001b[0m",
            "\u001b[0;31mValueError\u001b[0m                                Traceback (most recent call last)",
            "\u001b[0;32m<ipython-input-567-bbd2a91aab1d>\u001b[0m in \u001b[0;36m<module>\u001b[0;34m()\u001b[0m\n\u001b[1;32m     11\u001b[0m            oob_score=False, random_state=0, verbose=0, warm_start=False)\n\u001b[1;32m     12\u001b[0m \u001b[0mprint\u001b[0m\u001b[0;34m(\u001b[0m\u001b[0mregr\u001b[0m\u001b[0;34m.\u001b[0m\u001b[0mfeature_importances_\u001b[0m\u001b[0;34m)\u001b[0m\u001b[0;34m\u001b[0m\u001b[0m\n\u001b[0;32m---> 13\u001b[0;31m \u001b[0mprint\u001b[0m\u001b[0;34m(\u001b[0m\u001b[0mregr\u001b[0m\u001b[0;34m.\u001b[0m\u001b[0mpredict\u001b[0m\u001b[0;34m(\u001b[0m\u001b[0;34m[\u001b[0m\u001b[0;34m[\u001b[0m\u001b[0;36m0\u001b[0m\u001b[0;34m,\u001b[0m \u001b[0;36m0\u001b[0m\u001b[0;34m,\u001b[0m \u001b[0;36m0\u001b[0m\u001b[0;34m,\u001b[0m \u001b[0;36m0\u001b[0m\u001b[0;34m]\u001b[0m\u001b[0;34m]\u001b[0m\u001b[0;34m)\u001b[0m\u001b[0;34m)\u001b[0m\u001b[0;34m\u001b[0m\u001b[0m\n\u001b[0m",
            "\u001b[0;32m/usr/local/lib/python3.6/dist-packages/sklearn/ensemble/forest.py\u001b[0m in \u001b[0;36mpredict\u001b[0;34m(self, X)\u001b[0m\n\u001b[1;32m    679\u001b[0m         \u001b[0mcheck_is_fitted\u001b[0m\u001b[0;34m(\u001b[0m\u001b[0mself\u001b[0m\u001b[0;34m,\u001b[0m \u001b[0;34m'estimators_'\u001b[0m\u001b[0;34m)\u001b[0m\u001b[0;34m\u001b[0m\u001b[0m\n\u001b[1;32m    680\u001b[0m         \u001b[0;31m# Check data\u001b[0m\u001b[0;34m\u001b[0m\u001b[0;34m\u001b[0m\u001b[0m\n\u001b[0;32m--> 681\u001b[0;31m         \u001b[0mX\u001b[0m \u001b[0;34m=\u001b[0m \u001b[0mself\u001b[0m\u001b[0;34m.\u001b[0m\u001b[0m_validate_X_predict\u001b[0m\u001b[0;34m(\u001b[0m\u001b[0mX\u001b[0m\u001b[0;34m)\u001b[0m\u001b[0;34m\u001b[0m\u001b[0m\n\u001b[0m\u001b[1;32m    682\u001b[0m \u001b[0;34m\u001b[0m\u001b[0m\n\u001b[1;32m    683\u001b[0m         \u001b[0;31m# Assign chunk of trees to jobs\u001b[0m\u001b[0;34m\u001b[0m\u001b[0;34m\u001b[0m\u001b[0m\n",
            "\u001b[0;32m/usr/local/lib/python3.6/dist-packages/sklearn/ensemble/forest.py\u001b[0m in \u001b[0;36m_validate_X_predict\u001b[0;34m(self, X)\u001b[0m\n\u001b[1;32m    355\u001b[0m                                  \"call `fit` before exploiting the model.\")\n\u001b[1;32m    356\u001b[0m \u001b[0;34m\u001b[0m\u001b[0m\n\u001b[0;32m--> 357\u001b[0;31m         \u001b[0;32mreturn\u001b[0m \u001b[0mself\u001b[0m\u001b[0;34m.\u001b[0m\u001b[0mestimators_\u001b[0m\u001b[0;34m[\u001b[0m\u001b[0;36m0\u001b[0m\u001b[0;34m]\u001b[0m\u001b[0;34m.\u001b[0m\u001b[0m_validate_X_predict\u001b[0m\u001b[0;34m(\u001b[0m\u001b[0mX\u001b[0m\u001b[0;34m,\u001b[0m \u001b[0mcheck_input\u001b[0m\u001b[0;34m=\u001b[0m\u001b[0;32mTrue\u001b[0m\u001b[0;34m)\u001b[0m\u001b[0;34m\u001b[0m\u001b[0m\n\u001b[0m\u001b[1;32m    358\u001b[0m \u001b[0;34m\u001b[0m\u001b[0m\n\u001b[1;32m    359\u001b[0m     \u001b[0;34m@\u001b[0m\u001b[0mproperty\u001b[0m\u001b[0;34m\u001b[0m\u001b[0m\n",
            "\u001b[0;32m/usr/local/lib/python3.6/dist-packages/sklearn/tree/tree.py\u001b[0m in \u001b[0;36m_validate_X_predict\u001b[0;34m(self, X, check_input)\u001b[0m\n\u001b[1;32m    382\u001b[0m                              \u001b[0;34m\"match the input. Model n_features is %s and \"\u001b[0m\u001b[0;34m\u001b[0m\u001b[0m\n\u001b[1;32m    383\u001b[0m                              \u001b[0;34m\"input n_features is %s \"\u001b[0m\u001b[0;34m\u001b[0m\u001b[0m\n\u001b[0;32m--> 384\u001b[0;31m                              % (self.n_features_, n_features))\n\u001b[0m\u001b[1;32m    385\u001b[0m \u001b[0;34m\u001b[0m\u001b[0m\n\u001b[1;32m    386\u001b[0m         \u001b[0;32mreturn\u001b[0m \u001b[0mX\u001b[0m\u001b[0;34m\u001b[0m\u001b[0m\n",
            "\u001b[0;31mValueError\u001b[0m: Number of features of the model must match the input. Model n_features is 62 and input n_features is 4 "
          ]
        }
      ]
    },
    {
      "metadata": {
        "id": "eZyR9g9Divgq",
        "colab_type": "text"
      },
      "cell_type": "markdown",
      "source": [
        "## Ideas for Analysis\n",
        "\n",
        "+ We can do regression analysis of ratings using the following models:\n",
        "  * K-nn\n",
        "  * Random forest\n",
        "  * Ridge regression\n",
        "  * Lasso regression\n",
        "  \n",
        "  ***\"Make sure to think about explanatory versus predictive power and experiment with both.\"\"***\n",
        "\n",
        "+ We can write a binary classifier that will predict whether a particular app will have a rating above or below the population's median.  \n",
        "\n",
        "  * Logistic regression\n",
        "  * Random forest \n",
        "  * K-nn \n",
        "\n",
        "+ We are gonna compare the performance of the different classifiers and finetune their performance using GridSearchCV (which is search for optimal hyperparameters in a cross validated grid search) and StochasticSearchCV\n",
        "\n",
        "### References\n",
        "+ http://scikit-learn.org/stable/modules/grid_search.html\n",
        "+ http://scikit-learn.org/stable/modules/generated/sklearn.model_selection.RandomizedSearchCV.html\n",
        "+ http://scikit-learn.org/0.15/modules/generated/sklearn.grid_search.GridSearchCV.html\n",
        "\n",
        "### Homework\n",
        "\n",
        "+ Explain the differences between GridSearchCV and RandomizedSearchCV:\n",
        "  * Which of these methods is more exhaustive?\n",
        "  - GridSearch CV, considers all possible parameter combinations\n",
        "  \n",
        "  * Which of these methods is faster?\n",
        "  - RandomizedSearchCV, fixed number of parameter settings are sampled, does not consider all combinations\n",
        "  \n",
        "  * How do we make the results of RandomizedSearchCV reproducible?\n",
        "  - random_state\n",
        "  \n",
        "+ Learn a bit of Google Slides (it's easy!):\n",
        "  + https://www.google.com/slides/about/\n",
        "  \n",
        "## Prepare a slide deck and 15 minute presentation that guides viewers through your model. Be sure to cover a few specific things:\n",
        "\n",
        "+ A specified research question your model addresses\n",
        "+ How you chose your model specification and what alternatives you compared it to\n",
        "+ The practical uses of your model for an audience of interest\n",
        "+ Any weak points or shortcomings of your model"
      ]
    },
    {
      "metadata": {
        "id": "hJB_lenBlIIj",
        "colab_type": "code",
        "colab": {}
      },
      "cell_type": "code",
      "source": [
        ""
      ],
      "execution_count": 0,
      "outputs": []
    }
  ]
}